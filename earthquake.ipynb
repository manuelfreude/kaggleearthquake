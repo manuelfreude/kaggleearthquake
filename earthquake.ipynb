{
 "cells": [
  {
   "cell_type": "markdown",
   "metadata": {},
   "source": [
    "# LANL Earthquake Prediction Challenge\n",
    "https://www.kaggle.com/c/LANL-Earthquake-Prediction\n",
    "\n",
    "## Data description"
   ]
  },
  {
   "cell_type": "markdown",
   "metadata": {},
   "source": [
    "### File descriptions\n",
    "\n",
    "    train.csv - A single, continuous training segment of experimental data.\n",
    "    test - A folder containing many small segments of test data.\n",
    "    sample_sumbission.csv - A sample submission file in the correct format.\n",
    "\n",
    "### Data fields\n",
    "\n",
    "    acoustic_data - the seismic signal [int16]\n",
    "    time_to_failure - the time (in seconds) until the next laboratory earthquake [float64]\n",
    "    seg_id - the test segment ids for which predictions should be made (one prediction per segment)\n",
    "    \n",
    "### Science\n",
    "\n",
    "    https://doi.org/10.1002/2017GL074677\n",
    "    https://doi.org/10.1002/2017GL076708\n",
    "    https://rdcu.be/bdG8Y\n",
    "    https://rdcu.be/bdG9r\n"
   ]
  },
  {
   "cell_type": "markdown",
   "metadata": {},
   "source": [
    "### Library import"
   ]
  },
  {
   "cell_type": "code",
   "execution_count": 2,
   "metadata": {},
   "outputs": [
    {
     "name": "stderr",
     "output_type": "stream",
     "text": [
      "/Users/manuelfreude/anaconda3/envs/tensorflow/lib/python3.6/site-packages/lightgbm/__init__.py:46: UserWarning: Starting from version 2.2.1, the library file in distribution wheels for macOS is built by the Apple Clang (Xcode_8.3.1) compiler.\n",
      "This means that in case of installing LightGBM from PyPI via the ``pip install lightgbm`` command, you don't need to install the gcc compiler anymore.\n",
      "Instead of that, you need to install the OpenMP library, which is required for running LightGBM on the system with the Apple Clang compiler.\n",
      "You can install the OpenMP library by the following command: ``brew install libomp``.\n",
      "  \"You can install the OpenMP library by the following command: ``brew install libomp``.\", UserWarning)\n"
     ]
    }
   ],
   "source": [
    "# Library import \n",
    "import gc\n",
    "import os\n",
    "import time\n",
    "import logging\n",
    "import datetime\n",
    "import warnings\n",
    "import numpy as np\n",
    "import pandas as pd\n",
    "import seaborn as sns\n",
    "import xgboost as xgb\n",
    "import lightgbm as lgb\n",
    "from pandas import Series\n",
    "from scipy import stats\n",
    "from scipy.signal import hann\n",
    "from datetime import datetime\n",
    "from tqdm import tqdm_notebook\n",
    "import matplotlib.pyplot as plt\n",
    "from scipy.signal import hilbert\n",
    "from scipy.signal import convolve\n",
    "from sklearn.svm import NuSVR, SVR\n",
    "from catboost import CatBoostRegressor\n",
    "from sklearn.kernel_ridge import KernelRidge\n",
    "from sklearn.metrics import mean_squared_error\n",
    "from sklearn.preprocessing import LabelEncoder\n",
    "from sklearn.metrics import mean_absolute_error\n",
    "from sklearn.preprocessing import StandardScaler\n",
    "from sklearn.linear_model import LinearRegression\n",
    "from sklearn.model_selection import KFold,StratifiedKFold, RepeatedKFold\n",
    "warnings.filterwarnings(\"ignore\")"
   ]
  },
  {
   "cell_type": "code",
   "execution_count": 3,
   "metadata": {},
   "outputs": [
    {
     "data": {
      "text/plain": [
       "\"\\nfrom zipfile import ZipFile\\n\\nos.makedirs('LANL-Earthquake-Prediction')\\ntrain_zf = ZipFile('LANL-Earthquake-Prediction.zip', 'r')\\ntrain_zf.extractall('LANL-Earthquake-Prediction')\\ntrain_zf.close()\\ntotals_train = 0\\nfor root, dirs, files in os.walk('LANL-Earthquake-Prediction'): \\n    totals_train += len(files)\\nprint('There are %d total files.' % totals_train)\""
      ]
     },
     "execution_count": 3,
     "metadata": {},
     "output_type": "execute_result"
    }
   ],
   "source": [
    "# Unzipping the relevant files\n",
    "# ONE-TIME EXERCISE ONLY\n",
    "\"\"\"\n",
    "from zipfile import ZipFile\n",
    "\n",
    "os.makedirs('LANL-Earthquake-Prediction')\n",
    "train_zf = ZipFile('LANL-Earthquake-Prediction.zip', 'r')\n",
    "train_zf.extractall('LANL-Earthquake-Prediction')\n",
    "train_zf.close()\n",
    "totals_train = 0\n",
    "for root, dirs, files in os.walk('LANL-Earthquake-Prediction'): \n",
    "    totals_train += len(files)\n",
    "print('There are %d total files.' % totals_train)\"\"\""
   ]
  },
  {
   "cell_type": "code",
   "execution_count": 4,
   "metadata": {},
   "outputs": [
    {
     "data": {
      "text/plain": [
       "\"\\nos.makedirs('LANL-Earthquake-Prediction/test')\\ntest_zf = ZipFile('LANL-Earthquake-Prediction/test.zip', 'r')\\ntest_zf.extractall('LANL-Earthquake-Prediction/test')\\ntest_zf.close()\\ntotals_test = 0\\nfor root, dirs, files in os.walk('LANL-Earthquake-Prediction/test'): \\n    totals_test += len(files)\\nprint('There are %d total files.' % totals_test)\""
      ]
     },
     "execution_count": 4,
     "metadata": {},
     "output_type": "execute_result"
    }
   ],
   "source": [
    "# Unzipping the relevant files\n",
    "# ONE-TIME EXERCISE ONLY\n",
    "\"\"\"\n",
    "os.makedirs('LANL-Earthquake-Prediction/test')\n",
    "test_zf = ZipFile('LANL-Earthquake-Prediction/test.zip', 'r')\n",
    "test_zf.extractall('LANL-Earthquake-Prediction/test')\n",
    "test_zf.close()\n",
    "totals_test = 0\n",
    "for root, dirs, files in os.walk('LANL-Earthquake-Prediction/test'): \n",
    "    totals_test += len(files)\n",
    "print('There are %d total files.' % totals_test)\"\"\""
   ]
  },
  {
   "cell_type": "markdown",
   "metadata": {},
   "source": [
    "### First look at the data\n",
    "\n",
    "Source: https://www.kaggle.com/gpreda/lanl-earthquake-eda-and-prediction"
   ]
  },
  {
   "cell_type": "code",
   "execution_count": null,
   "metadata": {},
   "outputs": [],
   "source": [
    "train_df = pd.read_csv('LANL-Earthquake-Prediction/train.csv', \n",
    "                       dtype={'acoustic_data': np.int16, 'time_to_failure': np.float32})\n",
    "\n",
    "pd.options.display.precision = 15\n",
    "train_df.head()"
   ]
  },
  {
   "cell_type": "code",
   "execution_count": null,
   "metadata": {},
   "outputs": [],
   "source": [
    "train_df.info()"
   ]
  },
  {
   "cell_type": "code",
   "execution_count": null,
   "metadata": {},
   "outputs": [],
   "source": [
    "pd.options.display.precision = 15\n",
    "train_df.head(10)"
   ]
  },
  {
   "cell_type": "code",
   "execution_count": null,
   "metadata": {},
   "outputs": [],
   "source": [
    "train_ad_sample_df = train_df['acoustic_data'].values[::100]\n",
    "train_ttf_sample_df = train_df['time_to_failure'].values[::100]\n",
    "\n",
    "def plot_acc_ttf_data(train_ad_sample_df, train_ttf_sample_df, title=\"Acoustic data and time to failure: 1% sampled data\"):\n",
    "    fig, ax1 = plt.subplots(figsize=(12, 8))\n",
    "    plt.title(title)\n",
    "    plt.plot(train_ad_sample_df, color='r')\n",
    "    ax1.set_ylabel('acoustic data', color='r')\n",
    "    plt.legend(['acoustic data'], loc=(0.01, 0.95))\n",
    "    ax2 = ax1.twinx()\n",
    "    plt.plot(train_ttf_sample_df, color='b')\n",
    "    ax2.set_ylabel('time to failure', color='b')\n",
    "    plt.legend(['time to failure'], loc=(0.01, 0.9))\n",
    "    plt.grid(True)\n",
    "\n",
    "plot_acc_ttf_data(train_ad_sample_df, train_ttf_sample_df)\n",
    "del train_ad_sample_df\n",
    "del train_ttf_sample_df"
   ]
  },
  {
   "cell_type": "code",
   "execution_count": null,
   "metadata": {},
   "outputs": [],
   "source": [
    "train_ad_sample_df = train_df['acoustic_data'].values[:6291455]\n",
    "train_ttf_sample_df = train_df['time_to_failure'].values[:6291455]\n",
    "plot_acc_ttf_data(train_ad_sample_df, train_ttf_sample_df, title=\"Acoustic data and time to failure: 1% of data\")\n",
    "del train_ad_sample_df\n",
    "del train_ttf_sample_df"
   ]
  },
  {
   "cell_type": "markdown",
   "metadata": {},
   "source": [
    "### Feature engineering\n",
    "\n",
    "Source: https://www.kaggle.com/gpreda/lanl-earthquake-eda-and-prediction\n",
    "\n",
    "Further ideas along papers: \n",
    "\n",
    "- Kurtosis (https://en.wikipedia.org/wiki/Kurtosis)\n",
    "- Autocorrelation (https://en.wikipedia.org/wiki/Autocorrelation)"
   ]
  },
  {
   "cell_type": "code",
   "execution_count": null,
   "metadata": {},
   "outputs": [],
   "source": [
    "# The test segments are 150,000 each.\n",
    "# We split the train data in segments of the same dimmension with the test sets.\n",
    "# We will create additional aggregation features, calculated on the segments.\n",
    "\n",
    "rows = 150000\n",
    "segments = int(np.floor(train_df.shape[0] / rows))\n",
    "print(\"Number of segments: \", segments)"
   ]
  },
  {
   "cell_type": "code",
   "execution_count": null,
   "metadata": {},
   "outputs": [],
   "source": [
    "# Let's define some computation helper functions.\n",
    "\n",
    "def add_trend_feature(arr, abs_values=False):\n",
    "    idx = np.array(range(len(arr)))\n",
    "    if abs_values:\n",
    "        arr = np.abs(arr)\n",
    "    lr = LinearRegression()\n",
    "    lr.fit(idx.reshape(-1, 1), arr)\n",
    "    return lr.coef_[0]\n",
    "\n",
    "def classic_sta_lta(x, length_sta, length_lta):\n",
    "    sta = np.cumsum(x ** 2)\n",
    "    # Convert to float\n",
    "    sta = np.require(sta, dtype=np.float)\n",
    "    # Copy for LTA\n",
    "    lta = sta.copy()\n",
    "    # Compute the STA and the LTA\n",
    "    sta[length_sta:] = sta[length_sta:] - sta[:-length_sta]\n",
    "    sta /= length_sta\n",
    "    lta[length_lta:] = lta[length_lta:] - lta[:-length_lta]\n",
    "    lta /= length_lta\n",
    "    # Pad zeros\n",
    "    sta[:length_lta - 1] = 0\n",
    "    # Avoid division by zero by setting zero values to tiny float\n",
    "    dtiny = np.finfo(0.0).tiny\n",
    "    idx = lta < dtiny\n",
    "    lta[idx] = dtiny\n",
    "    return sta / lta"
   ]
  },
  {
   "cell_type": "code",
   "execution_count": null,
   "metadata": {},
   "outputs": [],
   "source": [
    "# Based on source\n",
    "\n",
    "def create_features(seg_id, seg, X):\n",
    "    xc = pd.Series(seg['acoustic_data'].values)\n",
    "    zc = np.fft.fft(xc)\n",
    "    \n",
    "    X.loc[seg_id, 'mean'] = xc.mean()\n",
    "    X.loc[seg_id, 'std'] = xc.std()\n",
    "    X.loc[seg_id, 'max'] = xc.max()\n",
    "    X.loc[seg_id, 'min'] = xc.min()\n",
    "    \n",
    "    #FFT transform values\n",
    "    realFFT = np.real(zc)\n",
    "    imagFFT = np.imag(zc)\n",
    "    X.loc[seg_id, 'Rmean'] = realFFT.mean()\n",
    "    X.loc[seg_id, 'Rstd'] = realFFT.std()\n",
    "    X.loc[seg_id, 'Rmax'] = realFFT.max()\n",
    "    X.loc[seg_id, 'Rmin'] = realFFT.min()\n",
    "    X.loc[seg_id, 'Imean'] = imagFFT.mean()\n",
    "    X.loc[seg_id, 'Istd'] = imagFFT.std()\n",
    "    X.loc[seg_id, 'Imax'] = imagFFT.max()\n",
    "    X.loc[seg_id, 'Imin'] = imagFFT.min()\n",
    "    X.loc[seg_id, 'Rmean_last_5000'] = realFFT[-5000:].mean()\n",
    "    X.loc[seg_id, 'Rstd__last_5000'] = realFFT[-5000:].std()\n",
    "    X.loc[seg_id, 'Rmax_last_5000'] = realFFT[-5000:].max()\n",
    "    X.loc[seg_id, 'Rmin_last_5000'] = realFFT[-5000:].min()\n",
    "    X.loc[seg_id, 'Rmean_last_15000'] = realFFT[-15000:].mean()\n",
    "    X.loc[seg_id, 'Rstd_last_15000'] = realFFT[-15000:].std()\n",
    "    X.loc[seg_id, 'Rmax_last_15000'] = realFFT[-15000:].max()\n",
    "    X.loc[seg_id, 'Rmin_last_15000'] = realFFT[-15000:].min()\n",
    "    \n",
    "    X.loc[seg_id, 'mean_change_abs'] = np.mean(np.diff(xc))\n",
    "    X.loc[seg_id, 'mean_change_rate'] = np.mean(np.nonzero((np.diff(xc) / xc[:-1]))[0])\n",
    "    X.loc[seg_id, 'abs_max'] = np.abs(xc).max()\n",
    "    X.loc[seg_id, 'abs_min'] = np.abs(xc).min()\n",
    "    \n",
    "    X.loc[seg_id, 'std_first_50000'] = xc[:50000].std()\n",
    "    X.loc[seg_id, 'std_last_50000'] = xc[-50000:].std()\n",
    "    X.loc[seg_id, 'std_first_10000'] = xc[:10000].std()\n",
    "    X.loc[seg_id, 'std_last_10000'] = xc[-10000:].std()\n",
    "    \n",
    "    X.loc[seg_id, 'avg_first_50000'] = xc[:50000].mean()\n",
    "    X.loc[seg_id, 'avg_last_50000'] = xc[-50000:].mean()\n",
    "    X.loc[seg_id, 'avg_first_10000'] = xc[:10000].mean()\n",
    "    X.loc[seg_id, 'avg_last_10000'] = xc[-10000:].mean()\n",
    "    \n",
    "    X.loc[seg_id, 'min_first_50000'] = xc[:50000].min()\n",
    "    X.loc[seg_id, 'min_last_50000'] = xc[-50000:].min()\n",
    "    X.loc[seg_id, 'min_first_10000'] = xc[:10000].min()\n",
    "    X.loc[seg_id, 'min_last_10000'] = xc[-10000:].min()\n",
    "    \n",
    "    X.loc[seg_id, 'max_first_50000'] = xc[:50000].max()\n",
    "    X.loc[seg_id, 'max_last_50000'] = xc[-50000:].max()\n",
    "    X.loc[seg_id, 'max_first_10000'] = xc[:10000].max()\n",
    "    X.loc[seg_id, 'max_last_10000'] = xc[-10000:].max()\n",
    "    \n",
    "    X.loc[seg_id, 'max_to_min'] = xc.max() / np.abs(xc.min())\n",
    "    X.loc[seg_id, 'max_to_min_diff'] = xc.max() - np.abs(xc.min())\n",
    "    X.loc[seg_id, 'count_big'] = len(xc[np.abs(xc) > 500])\n",
    "    X.loc[seg_id, 'sum'] = xc.sum()\n",
    "    \n",
    "    X.loc[seg_id, 'mean_change_rate_first_50000'] = np.mean(np.nonzero((np.diff(xc[:50000]) / xc[:50000][:-1]))[0])\n",
    "    X.loc[seg_id, 'mean_change_rate_last_50000'] = np.mean(np.nonzero((np.diff(xc[-50000:]) / xc[-50000:][:-1]))[0])\n",
    "    X.loc[seg_id, 'mean_change_rate_first_10000'] = np.mean(np.nonzero((np.diff(xc[:10000]) / xc[:10000][:-1]))[0])\n",
    "    X.loc[seg_id, 'mean_change_rate_last_10000'] = np.mean(np.nonzero((np.diff(xc[-10000:]) / xc[-10000:][:-1]))[0])\n",
    "    \n",
    "    X.loc[seg_id, 'q95'] = np.quantile(xc, 0.95)\n",
    "    X.loc[seg_id, 'q99'] = np.quantile(xc, 0.99)\n",
    "    X.loc[seg_id, 'q05'] = np.quantile(xc, 0.05)\n",
    "    X.loc[seg_id, 'q01'] = np.quantile(xc, 0.01)\n",
    "    \n",
    "    X.loc[seg_id, 'abs_q95'] = np.quantile(np.abs(xc), 0.95)\n",
    "    X.loc[seg_id, 'abs_q99'] = np.quantile(np.abs(xc), 0.99)\n",
    "    X.loc[seg_id, 'abs_q05'] = np.quantile(np.abs(xc), 0.05)\n",
    "    X.loc[seg_id, 'abs_q01'] = np.quantile(np.abs(xc), 0.01)\n",
    "    \n",
    "    X.loc[seg_id, 'trend'] = add_trend_feature(xc)\n",
    "    X.loc[seg_id, 'abs_trend'] = add_trend_feature(xc, abs_values=True)\n",
    "    X.loc[seg_id, 'abs_mean'] = np.abs(xc).mean()\n",
    "    X.loc[seg_id, 'abs_std'] = np.abs(xc).std()\n",
    "    \n",
    "    X.loc[seg_id, 'mad'] = xc.mad()\n",
    "    X.loc[seg_id, 'kurt'] = xc.kurtosis()\n",
    "    X.loc[seg_id, 'skew'] = xc.skew()\n",
    "    X.loc[seg_id, 'med'] = xc.median()\n",
    "    \n",
    "    X.loc[seg_id, 'Hilbert_mean'] = np.abs(hilbert(xc)).mean()\n",
    "    X.loc[seg_id, 'Hann_window_mean'] = (convolve(xc, hann(150), mode='same') / sum(hann(150))).mean()\n",
    "    X.loc[seg_id, 'classic_sta_lta1_mean'] = classic_sta_lta(xc, 500, 10000).mean()\n",
    "    X.loc[seg_id, 'classic_sta_lta2_mean'] = classic_sta_lta(xc, 5000, 100000).mean()\n",
    "    X.loc[seg_id, 'classic_sta_lta3_mean'] = classic_sta_lta(xc, 3333, 6666).mean()\n",
    "    X.loc[seg_id, 'classic_sta_lta4_mean'] = classic_sta_lta(xc, 10000, 25000).mean()\n",
    "    X.loc[seg_id, 'Moving_average_700_mean'] = xc.rolling(window=700).mean().mean(skipna=True)\n",
    "    X.loc[seg_id, 'Moving_average_1500_mean'] = xc.rolling(window=1500).mean().mean(skipna=True)\n",
    "    X.loc[seg_id, 'Moving_average_3000_mean'] = xc.rolling(window=3000).mean().mean(skipna=True)\n",
    "    X.loc[seg_id, 'Moving_average_6000_mean'] = xc.rolling(window=6000).mean().mean(skipna=True)\n",
    "    ewma = pd.Series.ewm\n",
    "    X.loc[seg_id, 'exp_Moving_average_300_mean'] = (ewma(xc, span=300).mean()).mean(skipna=True)\n",
    "    X.loc[seg_id, 'exp_Moving_average_3000_mean'] = ewma(xc, span=3000).mean().mean(skipna=True)\n",
    "    X.loc[seg_id, 'exp_Moving_average_30000_mean'] = ewma(xc, span=6000).mean().mean(skipna=True)\n",
    "    no_of_std = 2\n",
    "    X.loc[seg_id, 'MA_700MA_std_mean'] = xc.rolling(window=700).std().mean()\n",
    "    X.loc[seg_id,'MA_700MA_BB_high_mean'] = (X.loc[seg_id, 'Moving_average_700_mean'] + no_of_std * X.loc[seg_id, 'MA_700MA_std_mean']).mean()\n",
    "    X.loc[seg_id,'MA_700MA_BB_low_mean'] = (X.loc[seg_id, 'Moving_average_700_mean'] - no_of_std * X.loc[seg_id, 'MA_700MA_std_mean']).mean()\n",
    "    X.loc[seg_id, 'MA_400MA_std_mean'] = xc.rolling(window=400).std().mean()\n",
    "    X.loc[seg_id,'MA_400MA_BB_high_mean'] = (X.loc[seg_id, 'Moving_average_700_mean'] + no_of_std * X.loc[seg_id, 'MA_400MA_std_mean']).mean()\n",
    "    X.loc[seg_id,'MA_400MA_BB_low_mean'] = (X.loc[seg_id, 'Moving_average_700_mean'] - no_of_std * X.loc[seg_id, 'MA_400MA_std_mean']).mean()\n",
    "    X.loc[seg_id, 'MA_1000MA_std_mean'] = xc.rolling(window=1000).std().mean()\n",
    "    \n",
    "    X.loc[seg_id, 'iqr'] = np.subtract(*np.percentile(xc, [75, 25]))\n",
    "    X.loc[seg_id, 'q999'] = np.quantile(xc,0.999)\n",
    "    X.loc[seg_id, 'q001'] = np.quantile(xc,0.001)\n",
    "    X.loc[seg_id, 'ave10'] = stats.trim_mean(xc, 0.1)\n",
    "    \n",
    "    for windows in [10, 100, 1000]:\n",
    "        x_roll_std = xc.rolling(windows).std().dropna().values\n",
    "        x_roll_mean = xc.rolling(windows).mean().dropna().values\n",
    "        \n",
    "        X.loc[seg_id, 'ave_roll_std_' + str(windows)] = x_roll_std.mean()\n",
    "        X.loc[seg_id, 'std_roll_std_' + str(windows)] = x_roll_std.std()\n",
    "        X.loc[seg_id, 'max_roll_std_' + str(windows)] = x_roll_std.max()\n",
    "        X.loc[seg_id, 'min_roll_std_' + str(windows)] = x_roll_std.min()\n",
    "        X.loc[seg_id, 'q01_roll_std_' + str(windows)] = np.quantile(x_roll_std, 0.01)\n",
    "        X.loc[seg_id, 'q05_roll_std_' + str(windows)] = np.quantile(x_roll_std, 0.05)\n",
    "        X.loc[seg_id, 'q95_roll_std_' + str(windows)] = np.quantile(x_roll_std, 0.95)\n",
    "        X.loc[seg_id, 'q99_roll_std_' + str(windows)] = np.quantile(x_roll_std, 0.99)\n",
    "        X.loc[seg_id, 'av_change_abs_roll_std_' + str(windows)] = np.mean(np.diff(x_roll_std))\n",
    "        X.loc[seg_id, 'av_change_rate_roll_std_' + str(windows)] = np.mean(np.nonzero((np.diff(x_roll_std) / x_roll_std[:-1]))[0])\n",
    "        X.loc[seg_id, 'abs_max_roll_std_' + str(windows)] = np.abs(x_roll_std).max()\n",
    "        \n",
    "        X.loc[seg_id, 'ave_roll_mean_' + str(windows)] = x_roll_mean.mean()\n",
    "        X.loc[seg_id, 'std_roll_mean_' + str(windows)] = x_roll_mean.std()\n",
    "        X.loc[seg_id, 'max_roll_mean_' + str(windows)] = x_roll_mean.max()\n",
    "        X.loc[seg_id, 'min_roll_mean_' + str(windows)] = x_roll_mean.min()\n",
    "        X.loc[seg_id, 'q01_roll_mean_' + str(windows)] = np.quantile(x_roll_mean, 0.01)\n",
    "        X.loc[seg_id, 'q05_roll_mean_' + str(windows)] = np.quantile(x_roll_mean, 0.05)\n",
    "        X.loc[seg_id, 'q95_roll_mean_' + str(windows)] = np.quantile(x_roll_mean, 0.95)\n",
    "        X.loc[seg_id, 'q99_roll_mean_' + str(windows)] = np.quantile(x_roll_mean, 0.99)\n",
    "        X.loc[seg_id, 'av_change_abs_roll_mean_' + str(windows)] = np.mean(np.diff(x_roll_mean))\n",
    "        X.loc[seg_id, 'av_change_rate_roll_mean_' + str(windows)] = np.mean(np.nonzero((np.diff(x_roll_mean) / x_roll_mean[:-1]))[0])\n",
    "        X.loc[seg_id, 'abs_max_roll_mean_' + str(windows)] = np.abs(x_roll_mean).max()"
   ]
  },
  {
   "cell_type": "markdown",
   "metadata": {},
   "source": [
    "##### Train data processing"
   ]
  },
  {
   "cell_type": "code",
   "execution_count": null,
   "metadata": {},
   "outputs": [],
   "source": [
    "# Processing the train data\n",
    "\n",
    "train_X = pd.DataFrame(index=range(segments), dtype=np.float64)\n",
    "train_y = pd.DataFrame(index=range(segments), dtype=np.float64, columns=['time_to_failure'])\n",
    "total_mean = train_df['acoustic_data'].mean()\n",
    "total_std = train_df['acoustic_data'].std()\n",
    "total_max = train_df['acoustic_data'].max()\n",
    "total_min = train_df['acoustic_data'].min()\n",
    "total_sum = train_df['acoustic_data'].sum()\n",
    "total_abs_sum = np.abs(train_df['acoustic_data']).sum()"
   ]
  },
  {
   "cell_type": "code",
   "execution_count": null,
   "metadata": {},
   "outputs": [],
   "source": [
    "# Iterate over all segments\n",
    "# Takes about 45 min with local machine\n",
    "\n",
    "for seg_id in range(segments):\n",
    "    seg = train_df.iloc[seg_id*rows:seg_id*rows+rows]\n",
    "    create_features(seg_id, seg, train_X)\n",
    "    train_y.loc[seg_id, 'time_to_failure'] = seg['time_to_failure'].values[-1]\n",
    "\n",
    "train_X.shape"
   ]
  },
  {
   "cell_type": "code",
   "execution_count": null,
   "metadata": {},
   "outputs": [],
   "source": [
    "train_X.info()"
   ]
  },
  {
   "cell_type": "code",
   "execution_count": null,
   "metadata": {},
   "outputs": [],
   "source": [
    "# Scaling the data\n",
    "\n",
    "scaler = StandardScaler()\n",
    "scaler.fit(train_X)\n",
    "scaled_train_X = pd.DataFrame(scaler.transform(train_X), columns=train_X.columns)\n",
    "\n",
    "scaled_train_X.head(10)"
   ]
  },
  {
   "cell_type": "markdown",
   "metadata": {},
   "source": [
    "##### Test data processing"
   ]
  },
  {
   "cell_type": "code",
   "execution_count": null,
   "metadata": {},
   "outputs": [],
   "source": [
    "submission = pd.read_csv('LANL-Earthquake-Prediction/sample_submission.csv', index_col='seg_id')\n",
    "test_X = pd.DataFrame(columns=train_X.columns, dtype=np.float64, index=submission.index)\n",
    "\n",
    "submission.shape, test_X.shape"
   ]
  },
  {
   "cell_type": "code",
   "execution_count": null,
   "metadata": {},
   "outputs": [],
   "source": [
    "# Iterate over all segments\n",
    "# Takes about XX min with local machine\n",
    "\n",
    "for seg_id in test_X.index:\n",
    "    seg = pd.read_csv('LANL-Earthquake-Prediction//test/' + seg_id + '.csv')\n",
    "    create_features(seg_id, seg, test_X)\n",
    "    \n",
    "test_X.shape"
   ]
  },
  {
   "cell_type": "code",
   "execution_count": null,
   "metadata": {},
   "outputs": [],
   "source": [
    "test_X.info()"
   ]
  },
  {
   "cell_type": "code",
   "execution_count": null,
   "metadata": {},
   "outputs": [],
   "source": [
    "scaled_test_X = pd.DataFrame(scaler.transform(test_X), columns=test_X.columns)\n",
    "\n",
    "scaled_test_X.shape"
   ]
  },
  {
   "cell_type": "code",
   "execution_count": null,
   "metadata": {},
   "outputs": [],
   "source": [
    "scaled_test_X.tail(10)"
   ]
  },
  {
   "cell_type": "markdown",
   "metadata": {},
   "source": [
    "### Scoring"
   ]
  },
  {
   "cell_type": "markdown",
   "metadata": {},
   "source": [
    "Submissions are evaluated using the mean absolute error between the predicted time remaining before the next lab earthquake and the act remaining time.\n",
    "\n",
    "https://scikit-learn.org/stable/modules/generated/sklearn.metrics.mean_absolute_error.html"
   ]
  },
  {
   "cell_type": "code",
   "execution_count": null,
   "metadata": {},
   "outputs": [],
   "source": [
    "from sklearn.metrics import mean_absolute_error\n",
    "\n",
    "scores = pd.DataFrame(columns=['Regressor', 'MAE'])"
   ]
  },
  {
   "cell_type": "markdown",
   "metadata": {},
   "source": [
    "### Run first model and feature importance along source\n",
    "\n",
    "Source: https://www.kaggle.com/gpreda/lanl-earthquake-eda-and-prediction"
   ]
  },
  {
   "cell_type": "code",
   "execution_count": null,
   "metadata": {},
   "outputs": [],
   "source": [
    "# We define the folds for cross-validation.\n",
    "\n",
    "n_fold = 3\n",
    "folds = KFold(n_splits=n_fold, shuffle=True, random_state=42)\n",
    "train_columns = scaled_train_X.columns.values"
   ]
  },
  {
   "cell_type": "code",
   "execution_count": null,
   "metadata": {},
   "outputs": [],
   "source": [
    "# We define the model parameters.\n",
    "\n",
    "params = {'num_leaves': 51,\n",
    "         'min_data_in_leaf': 10, \n",
    "         'objective':'regression',\n",
    "         'max_depth': -1,\n",
    "         'learning_rate': 0.001,\n",
    "         \"boosting\": \"gbdt\",\n",
    "         \"feature_fraction\": 0.91,\n",
    "         \"bagging_freq\": 1,\n",
    "         \"bagging_fraction\": 0.91,\n",
    "         \"bagging_seed\": 42,\n",
    "         \"metric\": 'mae',\n",
    "         \"lambda_l1\": 0.1,\n",
    "         \"verbosity\": -1,\n",
    "         \"nthread\": -1,\n",
    "         \"random_state\": 42}"
   ]
  },
  {
   "cell_type": "code",
   "execution_count": null,
   "metadata": {},
   "outputs": [],
   "source": [
    "# LightGBM https://lightgbm.readthedocs.io/en/latest/_modules/lightgbm/sklearn.html\n",
    "\n",
    "# We run the model. During training for each fold, we validate using the validation set \n",
    "# and also we predict using the current model for test set. The final result will be the \n",
    "# average over the all folds for the predictions done at each fold training.\n",
    "\n",
    "oof = np.zeros(len(scaled_train_X))\n",
    "predictions = np.zeros(len(scaled_test_X))\n",
    "feature_importance_df = pd.DataFrame()\n",
    "# Run model\n",
    "for fold_, (trn_idx, val_idx) in enumerate(folds.split(scaled_train_X,train_y.values)):\n",
    "    strLog = \"fold {}\".format(fold_)\n",
    "    print(strLog)\n",
    "    \n",
    "    X_tr, X_val = scaled_train_X.iloc[trn_idx], scaled_train_X.iloc[val_idx]\n",
    "    y_tr, y_val = train_y.iloc[trn_idx], train_y.iloc[val_idx]\n",
    "\n",
    "    model = lgb.LGBMRegressor(**params, n_estimators = 20000, n_jobs = -1)\n",
    "    model.fit(X_tr, y_tr, \n",
    "                    eval_set=[(X_tr, y_tr), (X_val, y_val)], eval_metric='mae',\n",
    "                    verbose=1000, early_stopping_rounds=200)\n",
    "    oof[val_idx] = model.predict(X_val, num_iteration=model.best_iteration_)\n",
    "    #feature importance\n",
    "    fold_importance_df = pd.DataFrame()\n",
    "    fold_importance_df[\"Feature\"] = train_columns\n",
    "    fold_importance_df[\"importance\"] = model.feature_importances_[:len(train_columns)]\n",
    "    fold_importance_df[\"fold\"] = fold_ + 1\n",
    "    feature_importance_df = pd.concat([feature_importance_df, fold_importance_df], axis=0)\n",
    "    #predictions\n",
    "    predictions += model.predict(scaled_test_X, num_iteration=model.best_iteration_) / folds.n_splits"
   ]
  },
  {
   "cell_type": "code",
   "execution_count": null,
   "metadata": {},
   "outputs": [],
   "source": [
    "# Let's print features importance.\n",
    "\n",
    "cols = (feature_importance_df[[\"Feature\", \"importance\"]]\n",
    "        .groupby(\"Feature\")\n",
    "        .mean()\n",
    "        .sort_values(by=\"importance\", ascending=False)[:200].index)\n",
    "best_features = feature_importance_df.loc[feature_importance_df.Feature.isin(cols)]\n",
    "\n",
    "plt.figure(figsize=(14,26))\n",
    "sns.barplot(x=\"importance\", y=\"Feature\", data=best_features.sort_values(by=\"importance\",ascending=False))\n",
    "plt.title('LightGBM Features (averaged over folds)')\n",
    "plt.tight_layout()\n",
    "plt.savefig('lgbm_importances.png')"
   ]
  },
  {
   "cell_type": "markdown",
   "metadata": {},
   "source": [
    "### Model selection and hyperparameter optimization"
   ]
  },
  {
   "cell_type": "markdown",
   "metadata": {},
   "source": [
    "The following algorithms will be applied for the model selection: \n",
    "\n",
    "- LightGBM https://lightgbm.readthedocs.io/en/latest/_modules/lightgbm/sklearn.html\n",
    "- SVR https://scikit-learn.org/stable/modules/generated/sklearn.svm.SVR.html\n",
    "- Linear SVR http://scikit-learn.org/stable/modules/generated/sklearn.svm.LinearSVR.html#sklearn.svm.LinearSVR\n",
    "- ElasticNet http://scikit-learn.org/stable/modules/linear_model.html#elastic-net\n",
    "- Lasso http://scikit-learn.org/stable/modules/linear_model.html#lasso\n",
    "- SGD https://scikit-learn.org/stable/modules/generated/sklearn.linear_model.SGDRegressor.html\n",
    "- Decision tree https://scikit-learn.org/stable/modules/generated/sklearn.tree.DecisionTreeRegressor.html\n",
    "- Random forest https://scikit-learn.org/stable/modules/generated/sklearn.ensemble.RandomForestRegressor.html\n",
    "- Bagging https://scikit-learn.org/stable/modules/generated/sklearn.ensemble.BaggingRegressor.html\n",
    "- Gradient boosting https://scikit-learn.org/stable/modules/generated/sklearn.ensemble.GradientBoostingRegressor.html\n",
    "- MLP http://scikit-learn.org/stable/modules/generated/sklearn.neural_network.MLPRegressor.html\n",
    "- AdaBoost http://scikit-learn.org/stable/modules/generated/sklearn.ensemble.AdaBoostRegressor.html\n",
    "- XGBoost https://machinelearningmastery.com/develop-first-xgboost-model-python-scikit-learn/"
   ]
  },
  {
   "cell_type": "code",
   "execution_count": null,
   "metadata": {},
   "outputs": [],
   "source": [
    "# Train test split\n",
    "\n",
    "from sklearn.cross_validation import train_test_split\n",
    "\n",
    "# Train size: 0.6 3rd best, 0.7 1st best, 0.8 2nd best, 0.9 much off\n",
    "\n",
    "train_variables, valid_variables, train_targets, valid_targets = train_test_split(train_X, train_y, train_size=.7, random_state=25)\n",
    "\n",
    "print('Observations: %d' % (len(train_X)))\n",
    "print('Training Observations: %d' % (len(train_variables)))\n",
    "print('Validation Observations: %d' % (len(valid_variables)))"
   ]
  },
  {
   "cell_type": "markdown",
   "metadata": {},
   "source": [
    "#### Scoring"
   ]
  },
  {
   "cell_type": "markdown",
   "metadata": {},
   "source": [
    "Submissions are evaluated using the mean absolute error between the predicted time remaining before the next lab earthquake and the act remaining time.\n",
    "\n",
    "https://scikit-learn.org/stable/modules/generated/sklearn.metrics.mean_absolute_error.html"
   ]
  },
  {
   "cell_type": "code",
   "execution_count": null,
   "metadata": {},
   "outputs": [],
   "source": [
    "from sklearn.metrics import mean_absolute_error\n",
    "\n",
    "scores = pd.DataFrame(columns=['Regressor', 'MAE'])"
   ]
  },
  {
   "cell_type": "code",
   "execution_count": null,
   "metadata": {},
   "outputs": [],
   "source": [
    "# Defining number of cross-validations\n",
    "\n",
    "n_fold = 5\n",
    "folds = KFold(n_splits=n_fold, shuffle=True, random_state=42)\n",
    "train_columns = scaled_train_X.columns.values"
   ]
  },
  {
   "cell_type": "markdown",
   "metadata": {},
   "source": [
    "##### LightGBM"
   ]
  },
  {
   "cell_type": "code",
   "execution_count": 29,
   "metadata": {},
   "outputs": [
    {
     "name": "stdout",
     "output_type": "stream",
     "text": [
      "fold 0\n",
      "Training until validation scores don't improve for 200 rounds.\n",
      "[1000]\ttraining's l1: 1.95662\tvalid_1's l1: 2.25816\n",
      "[2000]\ttraining's l1: 1.56609\tvalid_1's l1: 2.1319\n",
      "[3000]\ttraining's l1: 1.33658\tvalid_1's l1: 2.1101\n",
      "Early stopping, best iteration is:\n",
      "[3483]\ttraining's l1: 1.24737\tvalid_1's l1: 2.10738\n",
      "fold 1\n",
      "Training until validation scores don't improve for 200 rounds.\n",
      "[1000]\ttraining's l1: 1.94985\tvalid_1's l1: 2.27454\n",
      "[2000]\ttraining's l1: 1.55936\tvalid_1's l1: 2.14583\n",
      "[3000]\ttraining's l1: 1.33423\tvalid_1's l1: 2.12445\n",
      "[4000]\ttraining's l1: 1.15998\tvalid_1's l1: 2.11988\n",
      "Early stopping, best iteration is:\n",
      "[4415]\ttraining's l1: 1.09734\tvalid_1's l1: 2.11845\n",
      "fold 2\n",
      "Training until validation scores don't improve for 200 rounds.\n",
      "[1000]\ttraining's l1: 1.95781\tvalid_1's l1: 2.2821\n",
      "[2000]\ttraining's l1: 1.57186\tvalid_1's l1: 2.11934\n",
      "[3000]\ttraining's l1: 1.34378\tvalid_1's l1: 2.08596\n",
      "[4000]\ttraining's l1: 1.16716\tvalid_1's l1: 2.0791\n",
      "Early stopping, best iteration is:\n",
      "[4561]\ttraining's l1: 1.08248\tvalid_1's l1: 2.0783\n",
      "fold 3\n",
      "Training until validation scores don't improve for 200 rounds.\n",
      "[1000]\ttraining's l1: 1.97594\tvalid_1's l1: 2.1368\n",
      "[2000]\ttraining's l1: 1.57908\tvalid_1's l1: 2.03263\n",
      "[3000]\ttraining's l1: 1.34578\tvalid_1's l1: 2.02608\n",
      "Early stopping, best iteration is:\n",
      "[3039]\ttraining's l1: 1.33811\tvalid_1's l1: 2.02598\n",
      "fold 4\n",
      "Training until validation scores don't improve for 200 rounds.\n",
      "[1000]\ttraining's l1: 1.94623\tvalid_1's l1: 2.26259\n",
      "[2000]\ttraining's l1: 1.55928\tvalid_1's l1: 2.11696\n",
      "[3000]\ttraining's l1: 1.33114\tvalid_1's l1: 2.09207\n",
      "[4000]\ttraining's l1: 1.15703\tvalid_1's l1: 2.08739\n",
      "Early stopping, best iteration is:\n",
      "[4252]\ttraining's l1: 1.11787\tvalid_1's l1: 2.08716\n"
     ]
    }
   ],
   "source": [
    "# https://lightgbm.readthedocs.io/en/latest/_modules/lightgbm/sklearn.html\n",
    "\n",
    "oof = np.zeros(len(scaled_train_X))\n",
    "feature_importance_df = pd.DataFrame()\n",
    "\n",
    "# Run model\n",
    "\n",
    "for fold_, (trn_idx, val_idx) in enumerate(folds.split(scaled_train_X,train_y.values)):\n",
    "    strLog = \"fold {}\".format(fold_)\n",
    "    print(strLog)\n",
    "    \n",
    "    X_tr, X_val = scaled_train_X.iloc[trn_idx], scaled_train_X.iloc[val_idx]\n",
    "    y_tr, y_val = train_y.iloc[trn_idx], train_y.iloc[val_idx]\n",
    "\n",
    "    model = lgb.LGBMRegressor(**params, n_estimators = 20000, n_jobs = -1)\n",
    "    model.fit(X_tr, y_tr, \n",
    "                    eval_set=[(X_tr, y_tr), (X_val, y_val)], eval_metric='mae',\n",
    "                    verbose=1000, early_stopping_rounds=200)\n",
    "    oof[val_idx] = model.predict(X_val, num_iteration=model.best_iteration_)\n",
    "    \n",
    "    # Feature importance\n",
    "    \n",
    "    fold_importance_df = pd.DataFrame()\n",
    "    fold_importance_df[\"Feature\"] = train_columns\n",
    "    fold_importance_df[\"importance\"] = model.feature_importances_[:len(train_columns)]\n",
    "    fold_importance_df[\"fold\"] = fold_ + 1\n",
    "    feature_importance_df = pd.concat([feature_importance_df, fold_importance_df], axis=0)\n",
    "    \n",
    "# Scoring\n",
    "\n",
    "regressor = 'LightGBM'\n",
    "\n",
    "MAE = mean_absolute_error(train_y, oof)\n",
    "\n",
    "scores = scores.append(pd.Series([regressor, MAE], index=scores.columns), ignore_index=True)"
   ]
  },
  {
   "cell_type": "markdown",
   "metadata": {},
   "source": [
    "##### SVR"
   ]
  },
  {
   "cell_type": "code",
   "execution_count": 37,
   "metadata": {},
   "outputs": [
    {
     "name": "stdout",
     "output_type": "stream",
     "text": [
      "Mean absolute error: 3.05\n"
     ]
    }
   ],
   "source": [
    "# https://scikit-learn.org/stable/modules/generated/sklearn.svm.SVR.html\n",
    "\n",
    "from sklearn.svm import SVR\n",
    "\n",
    "SVR = SVR()\n",
    "\n",
    "SVR.fit(train_variables, train_targets)\n",
    "\n",
    "SVR_preds = SVR.predict(valid_variables)\n",
    "\n",
    "regressor = 'SVR'\n",
    "\n",
    "MAE = mean_absolute_error(valid_targets, SVR_preds)\n",
    "\n",
    "scores = scores.append(pd.Series([regressor, MAE], index=scores.columns), ignore_index=True)\n",
    "\n",
    "# ROC\n",
    "print('Mean absolute error: %.2f' % MAE)"
   ]
  },
  {
   "cell_type": "markdown",
   "metadata": {},
   "source": [
    "##### LinearSVR"
   ]
  },
  {
   "cell_type": "code",
   "execution_count": 38,
   "metadata": {},
   "outputs": [
    {
     "name": "stdout",
     "output_type": "stream",
     "text": [
      "Mean absolute error: 3.37\n"
     ]
    }
   ],
   "source": [
    "# http://scikit-learn.org/stable/modules/generated/sklearn.svm.LinearSVR.html#sklearn.svm.LinearSVR\n",
    "\n",
    "from sklearn.svm import LinearSVR\n",
    "\n",
    "LinSVR = LinearSVR()\n",
    "\n",
    "LinSVR.fit(train_variables, train_targets)\n",
    "\n",
    "LinSVR_preds = LinSVR.predict(valid_variables)\n",
    "\n",
    "regressor = 'LinSVR'\n",
    "\n",
    "MAE = mean_absolute_error(valid_targets, LinSVR_preds)\n",
    "\n",
    "scores = scores.append(pd.Series([regressor, MAE], index=scores.columns), ignore_index=True)\n",
    "\n",
    "# ROC\n",
    "print('Mean absolute error: %.2f' % MAE)"
   ]
  },
  {
   "cell_type": "markdown",
   "metadata": {},
   "source": [
    "##### ElasticNet"
   ]
  },
  {
   "cell_type": "code",
   "execution_count": 39,
   "metadata": {},
   "outputs": [
    {
     "name": "stdout",
     "output_type": "stream",
     "text": [
      "Mean absolute error: 2.43\n"
     ]
    }
   ],
   "source": [
    "# http://scikit-learn.org/stable/modules/linear_model.html#elastic-net\n",
    "\n",
    "from sklearn.linear_model import ElasticNet\n",
    "\n",
    "Elastic = ElasticNet(random_state=25)\n",
    "\n",
    "Elastic.fit(train_variables, train_targets)\n",
    "\n",
    "Elastic_preds = Elastic.predict(valid_variables)\n",
    "\n",
    "regressor = 'Elastic'\n",
    "\n",
    "MAE = mean_absolute_error(valid_targets, Elastic_preds)\n",
    "\n",
    "scores = scores.append(pd.Series([regressor, MAE], index=scores.columns), ignore_index=True)\n",
    "\n",
    "# ROC\n",
    "print('Mean absolute error: %.2f' % MAE)"
   ]
  },
  {
   "cell_type": "markdown",
   "metadata": {},
   "source": [
    "##### Lasso"
   ]
  },
  {
   "cell_type": "code",
   "execution_count": 40,
   "metadata": {},
   "outputs": [
    {
     "name": "stdout",
     "output_type": "stream",
     "text": [
      "Mean absolute error: 2.44\n"
     ]
    }
   ],
   "source": [
    "# http://scikit-learn.org/stable/modules/linear_model.html#lasso\n",
    "\n",
    "from sklearn import linear_model\n",
    "\n",
    "Lasso = linear_model.Lasso(random_state=25)\n",
    "\n",
    "Lasso.fit(train_variables, train_targets)\n",
    "\n",
    "Lasso_preds = Lasso.predict(valid_variables)\n",
    "\n",
    "regressor = 'Lasso'\n",
    "\n",
    "MAE = mean_absolute_error(valid_targets, Lasso_preds)\n",
    "\n",
    "scores = scores.append(pd.Series([regressor, MAE], index=scores.columns), ignore_index=True)\n",
    "\n",
    "# ROC\n",
    "print('Mean absolute error: %.2f' % MAE)"
   ]
  },
  {
   "cell_type": "markdown",
   "metadata": {},
   "source": [
    "##### Decision Tree"
   ]
  },
  {
   "cell_type": "code",
   "execution_count": 42,
   "metadata": {},
   "outputs": [
    {
     "name": "stdout",
     "output_type": "stream",
     "text": [
      "Mean absolute error: 2.83\n"
     ]
    }
   ],
   "source": [
    "# https://scikit-learn.org/stable/modules/generated/sklearn.tree.DecisionTreeRegressor.html\n",
    "\n",
    "from sklearn.tree import DecisionTreeRegressor\n",
    "\n",
    "DecTree = DecisionTreeRegressor(random_state=25)\n",
    "\n",
    "DecTree.fit(train_variables, train_targets)\n",
    "\n",
    "DecTree_preds = DecTree.predict(valid_variables)\n",
    "\n",
    "regressor = 'DecTree'\n",
    "\n",
    "MAE = mean_absolute_error(valid_targets, DecTree_preds)\n",
    "\n",
    "scores = scores.append(pd.Series([regressor, MAE], index=scores.columns), ignore_index=True)\n",
    "\n",
    "# ROC\n",
    "print('Mean absolute error: %.2f' % MAE)"
   ]
  },
  {
   "cell_type": "markdown",
   "metadata": {},
   "source": [
    "##### Random Forest (top-performing in their first paper)"
   ]
  },
  {
   "cell_type": "code",
   "execution_count": 67,
   "metadata": {},
   "outputs": [
    {
     "name": "stdout",
     "output_type": "stream",
     "text": [
      "Mean absolute error: 2.13\n"
     ]
    }
   ],
   "source": [
    "# https://scikit-learn.org/stable/modules/generated/sklearn.ensemble.RandomForestRegressor.html\n",
    "\n",
    "from sklearn.ensemble import RandomForestRegressor\n",
    "\n",
    "RndmForest = RandomForestRegressor(random_state=25)\n",
    "\n",
    "RndmForest.fit(train_variables, train_targets)\n",
    "\n",
    "RndmForest_preds = RndmForest.predict(valid_variables)\n",
    "\n",
    "regressor = 'RndmForest'\n",
    "\n",
    "MAE = mean_absolute_error(valid_targets, RndmForest_preds)\n",
    "\n",
    "scores = scores.append(pd.Series([regressor, MAE], index=scores.columns), ignore_index=True)\n",
    "\n",
    "# ROC\n",
    "print('Mean absolute error: %.2f' % MAE)"
   ]
  },
  {
   "cell_type": "markdown",
   "metadata": {},
   "source": [
    "##### Bagging"
   ]
  },
  {
   "cell_type": "code",
   "execution_count": 44,
   "metadata": {},
   "outputs": [
    {
     "name": "stdout",
     "output_type": "stream",
     "text": [
      "Mean absolute error: 2.07\n"
     ]
    }
   ],
   "source": [
    "# https://scikit-learn.org/stable/modules/generated/sklearn.ensemble.BaggingRegressor.html\n",
    "\n",
    "from sklearn.ensemble import BaggingRegressor\n",
    "\n",
    "base_estimator = RandomForestRegressor(random_state=25)\n",
    "\n",
    "Bagging = BaggingRegressor(base_estimator=base_estimator, random_state=25)\n",
    "\n",
    "Bagging.fit(train_variables, train_targets)\n",
    "\n",
    "Bagging_preds = Bagging.predict(valid_variables)\n",
    "\n",
    "regressor = 'Bagging'\n",
    "\n",
    "MAE = mean_absolute_error(valid_targets, Bagging_preds)\n",
    "\n",
    "scores = scores.append(pd.Series([regressor, MAE], index=scores.columns), ignore_index=True)\n",
    "\n",
    "# ROC\n",
    "print('Mean absolute error: %.2f' % MAE)"
   ]
  },
  {
   "cell_type": "markdown",
   "metadata": {},
   "source": [
    "##### Gradient Boosting"
   ]
  },
  {
   "cell_type": "code",
   "execution_count": 45,
   "metadata": {},
   "outputs": [
    {
     "name": "stdout",
     "output_type": "stream",
     "text": [
      "Mean absolute error: 2.10\n"
     ]
    }
   ],
   "source": [
    "# https://scikit-learn.org/stable/modules/generated/sklearn.ensemble.GradientBoostingRegressor.html\n",
    "\n",
    "from sklearn.ensemble import GradientBoostingRegressor\n",
    "\n",
    "GradBoost = GradientBoostingRegressor(random_state=25)\n",
    "\n",
    "GradBoost.fit(train_variables, train_targets)\n",
    "\n",
    "GradBoost_preds = GradBoost.predict(valid_variables)\n",
    "\n",
    "regressor = 'GradBoost'\n",
    "\n",
    "MAE = mean_absolute_error(valid_targets, GradBoost_preds)\n",
    "\n",
    "scores = scores.append(pd.Series([regressor, MAE], index=scores.columns), ignore_index=True)\n",
    "\n",
    "# ROC\n",
    "print('Mean absolute error: %.2f' % MAE)"
   ]
  },
  {
   "cell_type": "markdown",
   "metadata": {},
   "source": [
    "##### AdaBoost"
   ]
  },
  {
   "cell_type": "code",
   "execution_count": 47,
   "metadata": {},
   "outputs": [
    {
     "name": "stdout",
     "output_type": "stream",
     "text": [
      "Mean absolute error: 2.12\n"
     ]
    }
   ],
   "source": [
    "# http://scikit-learn.org/stable/modules/generated/sklearn.ensemble.AdaBoostRegressor.html\n",
    "\n",
    "from sklearn.ensemble import AdaBoostRegressor\n",
    "\n",
    "base_estimator = RandomForestRegressor(random_state=25)\n",
    "\n",
    "AdaBoost = AdaBoostRegressor(base_estimator=base_estimator, random_state=25)\n",
    "\n",
    "AdaBoost.fit(train_variables, train_targets)\n",
    "\n",
    "AdaBoost_preds = AdaBoost.predict(valid_variables)\n",
    "\n",
    "regressor = 'AdaBoost'\n",
    "\n",
    "MAE = mean_absolute_error(valid_targets, AdaBoost_preds)\n",
    "\n",
    "scores = scores.append(pd.Series([regressor, MAE], index=scores.columns), ignore_index=True)\n",
    "\n",
    "# ROC\n",
    "print('Mean absolute error: %.2f' % MAE)"
   ]
  },
  {
   "cell_type": "markdown",
   "metadata": {},
   "source": [
    "##### XGBoost (top-performing in their second paper)"
   ]
  },
  {
   "cell_type": "code",
   "execution_count": 53,
   "metadata": {},
   "outputs": [
    {
     "name": "stdout",
     "output_type": "stream",
     "text": [
      "Mean absolute error: 2.10\n"
     ]
    }
   ],
   "source": [
    "# https://machinelearningmastery.com/develop-first-xgboost-model-python-scikit-learn/\n",
    "\n",
    "from xgboost import XGBRegressor\n",
    "\n",
    "XGBoost = XGBRegressor(random_state=25)\n",
    "\n",
    "XGBoost.fit(train_variables, train_targets)\n",
    "\n",
    "XGBoost_preds = XGBoost.predict(valid_variables)\n",
    "\n",
    "regressor = 'XGBoost'\n",
    "\n",
    "MAE = mean_absolute_error(valid_targets, XGBoost_preds)\n",
    "\n",
    "scores = scores.append(pd.Series([regressor, MAE], index=scores.columns), ignore_index=True)\n",
    "\n",
    "# ROC\n",
    "print('Mean absolute error: %.2f' % MAE)"
   ]
  },
  {
   "cell_type": "markdown",
   "metadata": {},
   "source": [
    "#### Performance comparison basic models"
   ]
  },
  {
   "cell_type": "code",
   "execution_count": 56,
   "metadata": {},
   "outputs": [
    {
     "name": "stdout",
     "output_type": "stream",
     "text": [
      "     Regressor                    MAE\n",
      "0     LightGBM  2.083452676549180e+00\n",
      "1          SVR  3.054608539901138e+00\n",
      "2       LinSVR  3.370004341934972e+00\n",
      "3      Elastic  2.430195999102078e+00\n",
      "4        Lasso  2.439707136054480e+00\n",
      "5          SGD  1.793030765001460e+20\n",
      "6      DecTree  2.826092664069686e+00\n",
      "7   RndmForest  2.128104772723613e+00\n",
      "8      Bagging  2.069499283569524e+00\n",
      "9    GradBoost  2.097255004109392e+00\n",
      "10         MLP  2.541102661329900e+02\n",
      "11    AdaBoost  2.124212148197167e+00\n",
      "12     XGBoost  2.096314416187610e+00\n",
      "13     XGBoost  2.096314416187610e+00\n",
      "14     XGBoost  2.369465087483281e+00\n",
      "15     XGBoost  2.096314402050155e+00\n",
      "16     XGBoost  2.096314416187610e+00\n",
      "17     XGBoost  2.096314416187610e+00\n"
     ]
    }
   ],
   "source": [
    "# Looking at performance scores\n",
    "\n",
    "print(scores)"
   ]
  },
  {
   "cell_type": "code",
   "execution_count": null,
   "metadata": {},
   "outputs": [],
   "source": [
    "# Plotting ROC curve area comparison\n",
    "\n",
    "plt.bar(scores['Regressor'], scores['MAE'], color='C2')\n",
    "plt.xticks(rotation=90)\n",
    "plt.ylabel('Mean Absolute Error')\n",
    "plt.xlabel('Regressors');"
   ]
  },
  {
   "cell_type": "markdown",
   "metadata": {},
   "source": [
    "##### Grid search LGBM"
   ]
  },
  {
   "cell_type": "code",
   "execution_count": 59,
   "metadata": {},
   "outputs": [
    {
     "name": "stdout",
     "output_type": "stream",
     "text": [
      "Best: 3.007486 using {'learning_rate': 0.001, 'max_depth': 1, 'n_estimators': 25, 'num_leaves': 10}\n",
      "3.007486 (0.085463) with: {'learning_rate': 0.001, 'max_depth': 1, 'n_estimators': 25, 'num_leaves': 10}\n",
      "3.007486 (0.085463) with: {'learning_rate': 0.001, 'max_depth': 1, 'n_estimators': 25, 'num_leaves': 20}\n",
      "3.007486 (0.085463) with: {'learning_rate': 0.001, 'max_depth': 1, 'n_estimators': 25, 'num_leaves': 30}\n",
      "3.007486 (0.085463) with: {'learning_rate': 0.001, 'max_depth': 1, 'n_estimators': 25, 'num_leaves': 40}\n",
      "3.007486 (0.085463) with: {'learning_rate': 0.001, 'max_depth': 1, 'n_estimators': 25, 'num_leaves': 50}\n",
      "2.977395 (0.084968) with: {'learning_rate': 0.001, 'max_depth': 1, 'n_estimators': 50, 'num_leaves': 10}\n",
      "2.977395 (0.084968) with: {'learning_rate': 0.001, 'max_depth': 1, 'n_estimators': 50, 'num_leaves': 20}\n",
      "2.977395 (0.084968) with: {'learning_rate': 0.001, 'max_depth': 1, 'n_estimators': 50, 'num_leaves': 30}\n",
      "2.977395 (0.084968) with: {'learning_rate': 0.001, 'max_depth': 1, 'n_estimators': 50, 'num_leaves': 40}\n",
      "2.977395 (0.084968) with: {'learning_rate': 0.001, 'max_depth': 1, 'n_estimators': 50, 'num_leaves': 50}\n",
      "2.920503 (0.084245) with: {'learning_rate': 0.001, 'max_depth': 1, 'n_estimators': 100, 'num_leaves': 10}\n",
      "2.920503 (0.084245) with: {'learning_rate': 0.001, 'max_depth': 1, 'n_estimators': 100, 'num_leaves': 20}\n",
      "2.920503 (0.084245) with: {'learning_rate': 0.001, 'max_depth': 1, 'n_estimators': 100, 'num_leaves': 30}\n",
      "2.920503 (0.084245) with: {'learning_rate': 0.001, 'max_depth': 1, 'n_estimators': 100, 'num_leaves': 40}\n",
      "2.920503 (0.084245) with: {'learning_rate': 0.001, 'max_depth': 1, 'n_estimators': 100, 'num_leaves': 50}\n",
      "2.819095 (0.081824) with: {'learning_rate': 0.001, 'max_depth': 1, 'n_estimators': 200, 'num_leaves': 10}\n",
      "2.819095 (0.081824) with: {'learning_rate': 0.001, 'max_depth': 1, 'n_estimators': 200, 'num_leaves': 20}\n",
      "2.819095 (0.081824) with: {'learning_rate': 0.001, 'max_depth': 1, 'n_estimators': 200, 'num_leaves': 30}\n",
      "2.819095 (0.081824) with: {'learning_rate': 0.001, 'max_depth': 1, 'n_estimators': 200, 'num_leaves': 40}\n",
      "2.819095 (0.081824) with: {'learning_rate': 0.001, 'max_depth': 1, 'n_estimators': 200, 'num_leaves': 50}\n",
      "3.001012 (0.086193) with: {'learning_rate': 0.001, 'max_depth': 2, 'n_estimators': 25, 'num_leaves': 10}\n",
      "3.001012 (0.086193) with: {'learning_rate': 0.001, 'max_depth': 2, 'n_estimators': 25, 'num_leaves': 20}\n",
      "3.001012 (0.086193) with: {'learning_rate': 0.001, 'max_depth': 2, 'n_estimators': 25, 'num_leaves': 30}\n",
      "3.001012 (0.086193) with: {'learning_rate': 0.001, 'max_depth': 2, 'n_estimators': 25, 'num_leaves': 40}\n",
      "3.001012 (0.086193) with: {'learning_rate': 0.001, 'max_depth': 2, 'n_estimators': 25, 'num_leaves': 50}\n",
      "2.964518 (0.086294) with: {'learning_rate': 0.001, 'max_depth': 2, 'n_estimators': 50, 'num_leaves': 10}\n",
      "2.964518 (0.086294) with: {'learning_rate': 0.001, 'max_depth': 2, 'n_estimators': 50, 'num_leaves': 20}\n",
      "2.964518 (0.086294) with: {'learning_rate': 0.001, 'max_depth': 2, 'n_estimators': 50, 'num_leaves': 30}\n",
      "2.964518 (0.086294) with: {'learning_rate': 0.001, 'max_depth': 2, 'n_estimators': 50, 'num_leaves': 40}\n",
      "2.964518 (0.086294) with: {'learning_rate': 0.001, 'max_depth': 2, 'n_estimators': 50, 'num_leaves': 50}\n",
      "2.895660 (0.086358) with: {'learning_rate': 0.001, 'max_depth': 2, 'n_estimators': 100, 'num_leaves': 10}\n",
      "2.895660 (0.086358) with: {'learning_rate': 0.001, 'max_depth': 2, 'n_estimators': 100, 'num_leaves': 20}\n",
      "2.895660 (0.086358) with: {'learning_rate': 0.001, 'max_depth': 2, 'n_estimators': 100, 'num_leaves': 30}\n",
      "2.895660 (0.086358) with: {'learning_rate': 0.001, 'max_depth': 2, 'n_estimators': 100, 'num_leaves': 40}\n",
      "2.895660 (0.086358) with: {'learning_rate': 0.001, 'max_depth': 2, 'n_estimators': 100, 'num_leaves': 50}\n",
      "2.773417 (0.085572) with: {'learning_rate': 0.001, 'max_depth': 2, 'n_estimators': 200, 'num_leaves': 10}\n",
      "2.773417 (0.085572) with: {'learning_rate': 0.001, 'max_depth': 2, 'n_estimators': 200, 'num_leaves': 20}\n",
      "2.773417 (0.085572) with: {'learning_rate': 0.001, 'max_depth': 2, 'n_estimators': 200, 'num_leaves': 30}\n",
      "2.773417 (0.085572) with: {'learning_rate': 0.001, 'max_depth': 2, 'n_estimators': 200, 'num_leaves': 40}\n",
      "2.773417 (0.085572) with: {'learning_rate': 0.001, 'max_depth': 2, 'n_estimators': 200, 'num_leaves': 50}\n",
      "2.999326 (0.086504) with: {'learning_rate': 0.001, 'max_depth': 5, 'n_estimators': 25, 'num_leaves': 10}\n",
      "2.998983 (0.086508) with: {'learning_rate': 0.001, 'max_depth': 5, 'n_estimators': 25, 'num_leaves': 20}\n",
      "2.999314 (0.086434) with: {'learning_rate': 0.001, 'max_depth': 5, 'n_estimators': 25, 'num_leaves': 30}\n",
      "2.999314 (0.086434) with: {'learning_rate': 0.001, 'max_depth': 5, 'n_estimators': 25, 'num_leaves': 40}\n",
      "2.999314 (0.086434) with: {'learning_rate': 0.001, 'max_depth': 5, 'n_estimators': 25, 'num_leaves': 50}\n",
      "2.961195 (0.086828) with: {'learning_rate': 0.001, 'max_depth': 5, 'n_estimators': 50, 'num_leaves': 10}\n",
      "2.960427 (0.086719) with: {'learning_rate': 0.001, 'max_depth': 5, 'n_estimators': 50, 'num_leaves': 20}\n",
      "2.960917 (0.086529) with: {'learning_rate': 0.001, 'max_depth': 5, 'n_estimators': 50, 'num_leaves': 30}\n",
      "2.960920 (0.086532) with: {'learning_rate': 0.001, 'max_depth': 5, 'n_estimators': 50, 'num_leaves': 40}\n",
      "2.960920 (0.086532) with: {'learning_rate': 0.001, 'max_depth': 5, 'n_estimators': 50, 'num_leaves': 50}\n",
      "2.888969 (0.086803) with: {'learning_rate': 0.001, 'max_depth': 5, 'n_estimators': 100, 'num_leaves': 10}\n",
      "2.887127 (0.086817) with: {'learning_rate': 0.001, 'max_depth': 5, 'n_estimators': 100, 'num_leaves': 20}\n",
      "2.887638 (0.086502) with: {'learning_rate': 0.001, 'max_depth': 5, 'n_estimators': 100, 'num_leaves': 30}\n",
      "2.887645 (0.086507) with: {'learning_rate': 0.001, 'max_depth': 5, 'n_estimators': 100, 'num_leaves': 40}\n",
      "2.887645 (0.086507) with: {'learning_rate': 0.001, 'max_depth': 5, 'n_estimators': 100, 'num_leaves': 50}\n",
      "2.760457 (0.086224) with: {'learning_rate': 0.001, 'max_depth': 5, 'n_estimators': 200, 'num_leaves': 10}\n",
      "2.757308 (0.085750) with: {'learning_rate': 0.001, 'max_depth': 5, 'n_estimators': 200, 'num_leaves': 20}\n",
      "2.757999 (0.085829) with: {'learning_rate': 0.001, 'max_depth': 5, 'n_estimators': 200, 'num_leaves': 30}\n",
      "2.758013 (0.085835) with: {'learning_rate': 0.001, 'max_depth': 5, 'n_estimators': 200, 'num_leaves': 40}\n",
      "2.758013 (0.085835) with: {'learning_rate': 0.001, 'max_depth': 5, 'n_estimators': 200, 'num_leaves': 50}\n",
      "2.999326 (0.086504) with: {'learning_rate': 0.001, 'max_depth': 7, 'n_estimators': 25, 'num_leaves': 10}\n",
      "2.999291 (0.086125) with: {'learning_rate': 0.001, 'max_depth': 7, 'n_estimators': 25, 'num_leaves': 20}\n",
      "2.999104 (0.086085) with: {'learning_rate': 0.001, 'max_depth': 7, 'n_estimators': 25, 'num_leaves': 30}\n",
      "2.999365 (0.085760) with: {'learning_rate': 0.001, 'max_depth': 7, 'n_estimators': 25, 'num_leaves': 40}\n",
      "2.999105 (0.085549) with: {'learning_rate': 0.001, 'max_depth': 7, 'n_estimators': 25, 'num_leaves': 50}\n",
      "2.961242 (0.086754) with: {'learning_rate': 0.001, 'max_depth': 7, 'n_estimators': 50, 'num_leaves': 10}\n",
      "2.960986 (0.086151) with: {'learning_rate': 0.001, 'max_depth': 7, 'n_estimators': 50, 'num_leaves': 20}\n",
      "2.960674 (0.085978) with: {'learning_rate': 0.001, 'max_depth': 7, 'n_estimators': 50, 'num_leaves': 30}\n",
      "2.961145 (0.085290) with: {'learning_rate': 0.001, 'max_depth': 7, 'n_estimators': 50, 'num_leaves': 40}\n",
      "2.960824 (0.085033) with: {'learning_rate': 0.001, 'max_depth': 7, 'n_estimators': 50, 'num_leaves': 50}\n",
      "2.889023 (0.086794) with: {'learning_rate': 0.001, 'max_depth': 7, 'n_estimators': 100, 'num_leaves': 10}\n",
      "2.888141 (0.085865) with: {'learning_rate': 0.001, 'max_depth': 7, 'n_estimators': 100, 'num_leaves': 20}\n",
      "2.887715 (0.085614) with: {'learning_rate': 0.001, 'max_depth': 7, 'n_estimators': 100, 'num_leaves': 30}\n",
      "2.888351 (0.084270) with: {'learning_rate': 0.001, 'max_depth': 7, 'n_estimators': 100, 'num_leaves': 40}\n",
      "2.887653 (0.083665) with: {'learning_rate': 0.001, 'max_depth': 7, 'n_estimators': 100, 'num_leaves': 50}\n",
      "2.760576 (0.086120) with: {'learning_rate': 0.001, 'max_depth': 7, 'n_estimators': 200, 'num_leaves': 10}\n",
      "2.758917 (0.085430) with: {'learning_rate': 0.001, 'max_depth': 7, 'n_estimators': 200, 'num_leaves': 20}\n",
      "2.758344 (0.085442) with: {'learning_rate': 0.001, 'max_depth': 7, 'n_estimators': 200, 'num_leaves': 30}\n",
      "2.759170 (0.084395) with: {'learning_rate': 0.001, 'max_depth': 7, 'n_estimators': 200, 'num_leaves': 40}\n",
      "2.757295 (0.083728) with: {'learning_rate': 0.001, 'max_depth': 7, 'n_estimators': 200, 'num_leaves': 50}\n",
      "2.999326 (0.086504) with: {'learning_rate': 0.001, 'max_depth': 10, 'n_estimators': 25, 'num_leaves': 10}\n",
      "2.999435 (0.086048) with: {'learning_rate': 0.001, 'max_depth': 10, 'n_estimators': 25, 'num_leaves': 20}\n",
      "2.999188 (0.086066) with: {'learning_rate': 0.001, 'max_depth': 10, 'n_estimators': 25, 'num_leaves': 30}\n",
      "2.999597 (0.085741) with: {'learning_rate': 0.001, 'max_depth': 10, 'n_estimators': 25, 'num_leaves': 40}\n",
      "2.999588 (0.085491) with: {'learning_rate': 0.001, 'max_depth': 10, 'n_estimators': 25, 'num_leaves': 50}\n",
      "2.961242 (0.086754) with: {'learning_rate': 0.001, 'max_depth': 10, 'n_estimators': 50, 'num_leaves': 10}\n",
      "2.961231 (0.085964) with: {'learning_rate': 0.001, 'max_depth': 10, 'n_estimators': 50, 'num_leaves': 20}\n",
      "2.960862 (0.085738) with: {'learning_rate': 0.001, 'max_depth': 10, 'n_estimators': 50, 'num_leaves': 30}\n",
      "2.961409 (0.085097) with: {'learning_rate': 0.001, 'max_depth': 10, 'n_estimators': 50, 'num_leaves': 40}\n",
      "2.961549 (0.084804) with: {'learning_rate': 0.001, 'max_depth': 10, 'n_estimators': 50, 'num_leaves': 50}\n",
      "2.889023 (0.086794) with: {'learning_rate': 0.001, 'max_depth': 10, 'n_estimators': 100, 'num_leaves': 10}\n",
      "2.888438 (0.085663) with: {'learning_rate': 0.001, 'max_depth': 10, 'n_estimators': 100, 'num_leaves': 20}\n",
      "2.888258 (0.085293) with: {'learning_rate': 0.001, 'max_depth': 10, 'n_estimators': 100, 'num_leaves': 30}\n",
      "2.889175 (0.084376) with: {'learning_rate': 0.001, 'max_depth': 10, 'n_estimators': 100, 'num_leaves': 40}\n",
      "2.889286 (0.083780) with: {'learning_rate': 0.001, 'max_depth': 10, 'n_estimators': 100, 'num_leaves': 50}\n",
      "2.760576 (0.086120) with: {'learning_rate': 0.001, 'max_depth': 10, 'n_estimators': 200, 'num_leaves': 10}\n",
      "2.759275 (0.084807) with: {'learning_rate': 0.001, 'max_depth': 10, 'n_estimators': 200, 'num_leaves': 20}\n",
      "2.759410 (0.084119) with: {'learning_rate': 0.001, 'max_depth': 10, 'n_estimators': 200, 'num_leaves': 30}\n",
      "2.760762 (0.083378) with: {'learning_rate': 0.001, 'max_depth': 10, 'n_estimators': 200, 'num_leaves': 40}\n",
      "2.760594 (0.083003) with: {'learning_rate': 0.001, 'max_depth': 10, 'n_estimators': 200, 'num_leaves': 50}\n",
      "2.773086 (0.080802) with: {'learning_rate': 0.01, 'max_depth': 1, 'n_estimators': 25, 'num_leaves': 10}\n",
      "2.773086 (0.080802) with: {'learning_rate': 0.01, 'max_depth': 1, 'n_estimators': 25, 'num_leaves': 20}\n",
      "2.773086 (0.080802) with: {'learning_rate': 0.01, 'max_depth': 1, 'n_estimators': 25, 'num_leaves': 30}\n",
      "2.773086 (0.080802) with: {'learning_rate': 0.01, 'max_depth': 1, 'n_estimators': 25, 'num_leaves': 40}\n",
      "2.773086 (0.080802) with: {'learning_rate': 0.01, 'max_depth': 1, 'n_estimators': 25, 'num_leaves': 50}\n",
      "2.591055 (0.076280) with: {'learning_rate': 0.01, 'max_depth': 1, 'n_estimators': 50, 'num_leaves': 10}\n",
      "2.591055 (0.076280) with: {'learning_rate': 0.01, 'max_depth': 1, 'n_estimators': 50, 'num_leaves': 20}\n",
      "2.591055 (0.076280) with: {'learning_rate': 0.01, 'max_depth': 1, 'n_estimators': 50, 'num_leaves': 30}\n",
      "2.591055 (0.076280) with: {'learning_rate': 0.01, 'max_depth': 1, 'n_estimators': 50, 'num_leaves': 40}\n",
      "2.591055 (0.076280) with: {'learning_rate': 0.01, 'max_depth': 1, 'n_estimators': 50, 'num_leaves': 50}\n",
      "2.368961 (0.072999) with: {'learning_rate': 0.01, 'max_depth': 1, 'n_estimators': 100, 'num_leaves': 10}\n",
      "2.368961 (0.072999) with: {'learning_rate': 0.01, 'max_depth': 1, 'n_estimators': 100, 'num_leaves': 20}\n",
      "2.368961 (0.072999) with: {'learning_rate': 0.01, 'max_depth': 1, 'n_estimators': 100, 'num_leaves': 30}\n",
      "2.368961 (0.072999) with: {'learning_rate': 0.01, 'max_depth': 1, 'n_estimators': 100, 'num_leaves': 40}\n",
      "2.368961 (0.072999) with: {'learning_rate': 0.01, 'max_depth': 1, 'n_estimators': 100, 'num_leaves': 50}\n",
      "2.195776 (0.053892) with: {'learning_rate': 0.01, 'max_depth': 1, 'n_estimators': 200, 'num_leaves': 10}\n",
      "2.195776 (0.053892) with: {'learning_rate': 0.01, 'max_depth': 1, 'n_estimators': 200, 'num_leaves': 20}\n",
      "2.195776 (0.053892) with: {'learning_rate': 0.01, 'max_depth': 1, 'n_estimators': 200, 'num_leaves': 30}\n",
      "2.195776 (0.053892) with: {'learning_rate': 0.01, 'max_depth': 1, 'n_estimators': 200, 'num_leaves': 40}\n",
      "2.195776 (0.053892) with: {'learning_rate': 0.01, 'max_depth': 1, 'n_estimators': 200, 'num_leaves': 50}\n",
      "2.718041 (0.085257) with: {'learning_rate': 0.01, 'max_depth': 2, 'n_estimators': 25, 'num_leaves': 10}\n",
      "2.718041 (0.085257) with: {'learning_rate': 0.01, 'max_depth': 2, 'n_estimators': 25, 'num_leaves': 20}\n",
      "2.718041 (0.085257) with: {'learning_rate': 0.01, 'max_depth': 2, 'n_estimators': 25, 'num_leaves': 30}\n",
      "2.718041 (0.085257) with: {'learning_rate': 0.01, 'max_depth': 2, 'n_estimators': 25, 'num_leaves': 40}\n",
      "2.718041 (0.085257) with: {'learning_rate': 0.01, 'max_depth': 2, 'n_estimators': 25, 'num_leaves': 50}\n",
      "2.502940 (0.084181) with: {'learning_rate': 0.01, 'max_depth': 2, 'n_estimators': 50, 'num_leaves': 10}\n",
      "2.502940 (0.084181) with: {'learning_rate': 0.01, 'max_depth': 2, 'n_estimators': 50, 'num_leaves': 20}\n",
      "2.502940 (0.084181) with: {'learning_rate': 0.01, 'max_depth': 2, 'n_estimators': 50, 'num_leaves': 30}\n",
      "2.502940 (0.084181) with: {'learning_rate': 0.01, 'max_depth': 2, 'n_estimators': 50, 'num_leaves': 40}\n",
      "2.502940 (0.084181) with: {'learning_rate': 0.01, 'max_depth': 2, 'n_estimators': 50, 'num_leaves': 50}\n",
      "2.265821 (0.069024) with: {'learning_rate': 0.01, 'max_depth': 2, 'n_estimators': 100, 'num_leaves': 10}\n",
      "2.265821 (0.069024) with: {'learning_rate': 0.01, 'max_depth': 2, 'n_estimators': 100, 'num_leaves': 20}\n",
      "2.265821 (0.069024) with: {'learning_rate': 0.01, 'max_depth': 2, 'n_estimators': 100, 'num_leaves': 30}\n",
      "2.265821 (0.069024) with: {'learning_rate': 0.01, 'max_depth': 2, 'n_estimators': 100, 'num_leaves': 40}\n",
      "2.265821 (0.069024) with: {'learning_rate': 0.01, 'max_depth': 2, 'n_estimators': 100, 'num_leaves': 50}\n",
      "2.125129 (0.043235) with: {'learning_rate': 0.01, 'max_depth': 2, 'n_estimators': 200, 'num_leaves': 10}\n",
      "2.125129 (0.043235) with: {'learning_rate': 0.01, 'max_depth': 2, 'n_estimators': 200, 'num_leaves': 20}\n",
      "2.125129 (0.043235) with: {'learning_rate': 0.01, 'max_depth': 2, 'n_estimators': 200, 'num_leaves': 30}\n",
      "2.125129 (0.043235) with: {'learning_rate': 0.01, 'max_depth': 2, 'n_estimators': 200, 'num_leaves': 40}\n",
      "2.125129 (0.043235) with: {'learning_rate': 0.01, 'max_depth': 2, 'n_estimators': 200, 'num_leaves': 50}\n",
      "2.702508 (0.086398) with: {'learning_rate': 0.01, 'max_depth': 5, 'n_estimators': 25, 'num_leaves': 10}\n",
      "2.698949 (0.085588) with: {'learning_rate': 0.01, 'max_depth': 5, 'n_estimators': 25, 'num_leaves': 20}\n",
      "2.699748 (0.085600) with: {'learning_rate': 0.01, 'max_depth': 5, 'n_estimators': 25, 'num_leaves': 30}\n",
      "2.699770 (0.085567) with: {'learning_rate': 0.01, 'max_depth': 5, 'n_estimators': 25, 'num_leaves': 40}\n",
      "2.699770 (0.085567) with: {'learning_rate': 0.01, 'max_depth': 5, 'n_estimators': 25, 'num_leaves': 50}\n",
      "2.479820 (0.085787) with: {'learning_rate': 0.01, 'max_depth': 5, 'n_estimators': 50, 'num_leaves': 10}\n",
      "2.477766 (0.084576) with: {'learning_rate': 0.01, 'max_depth': 5, 'n_estimators': 50, 'num_leaves': 20}\n",
      "2.479997 (0.083603) with: {'learning_rate': 0.01, 'max_depth': 5, 'n_estimators': 50, 'num_leaves': 30}\n",
      "2.479898 (0.083821) with: {'learning_rate': 0.01, 'max_depth': 5, 'n_estimators': 50, 'num_leaves': 40}\n",
      "2.479898 (0.083821) with: {'learning_rate': 0.01, 'max_depth': 5, 'n_estimators': 50, 'num_leaves': 50}\n",
      "2.249140 (0.066915) with: {'learning_rate': 0.01, 'max_depth': 5, 'n_estimators': 100, 'num_leaves': 10}\n",
      "2.244295 (0.065061) with: {'learning_rate': 0.01, 'max_depth': 5, 'n_estimators': 100, 'num_leaves': 20}\n",
      "2.249156 (0.065535) with: {'learning_rate': 0.01, 'max_depth': 5, 'n_estimators': 100, 'num_leaves': 30}\n",
      "2.249059 (0.065651) with: {'learning_rate': 0.01, 'max_depth': 5, 'n_estimators': 100, 'num_leaves': 40}\n",
      "2.249059 (0.065651) with: {'learning_rate': 0.01, 'max_depth': 5, 'n_estimators': 100, 'num_leaves': 50}\n",
      "2.121319 (0.039184) with: {'learning_rate': 0.01, 'max_depth': 5, 'n_estimators': 200, 'num_leaves': 10}\n",
      "2.121253 (0.043024) with: {'learning_rate': 0.01, 'max_depth': 5, 'n_estimators': 200, 'num_leaves': 20}\n",
      "2.127250 (0.042410) with: {'learning_rate': 0.01, 'max_depth': 5, 'n_estimators': 200, 'num_leaves': 30}\n",
      "2.126913 (0.041980) with: {'learning_rate': 0.01, 'max_depth': 5, 'n_estimators': 200, 'num_leaves': 40}\n",
      "2.126913 (0.041980) with: {'learning_rate': 0.01, 'max_depth': 5, 'n_estimators': 200, 'num_leaves': 50}\n",
      "2.702827 (0.086213) with: {'learning_rate': 0.01, 'max_depth': 7, 'n_estimators': 25, 'num_leaves': 10}\n",
      "2.700808 (0.084953) with: {'learning_rate': 0.01, 'max_depth': 7, 'n_estimators': 25, 'num_leaves': 20}\n",
      "2.700005 (0.084994) with: {'learning_rate': 0.01, 'max_depth': 7, 'n_estimators': 25, 'num_leaves': 30}\n",
      "2.700828 (0.084907) with: {'learning_rate': 0.01, 'max_depth': 7, 'n_estimators': 25, 'num_leaves': 40}\n",
      "2.699902 (0.084127) with: {'learning_rate': 0.01, 'max_depth': 7, 'n_estimators': 25, 'num_leaves': 50}\n",
      "2.480036 (0.084775) with: {'learning_rate': 0.01, 'max_depth': 7, 'n_estimators': 50, 'num_leaves': 10}\n",
      "2.478817 (0.085914) with: {'learning_rate': 0.01, 'max_depth': 7, 'n_estimators': 50, 'num_leaves': 20}\n",
      "2.480074 (0.086030) with: {'learning_rate': 0.01, 'max_depth': 7, 'n_estimators': 50, 'num_leaves': 30}\n",
      "2.481515 (0.086882) with: {'learning_rate': 0.01, 'max_depth': 7, 'n_estimators': 50, 'num_leaves': 40}\n",
      "2.479378 (0.083460) with: {'learning_rate': 0.01, 'max_depth': 7, 'n_estimators': 50, 'num_leaves': 50}\n",
      "2.250050 (0.066981) with: {'learning_rate': 0.01, 'max_depth': 7, 'n_estimators': 100, 'num_leaves': 10}\n",
      "2.250493 (0.067813) with: {'learning_rate': 0.01, 'max_depth': 7, 'n_estimators': 100, 'num_leaves': 20}\n",
      "2.252606 (0.067118) with: {'learning_rate': 0.01, 'max_depth': 7, 'n_estimators': 100, 'num_leaves': 30}\n",
      "2.256277 (0.064480) with: {'learning_rate': 0.01, 'max_depth': 7, 'n_estimators': 100, 'num_leaves': 40}\n",
      "2.257614 (0.065281) with: {'learning_rate': 0.01, 'max_depth': 7, 'n_estimators': 100, 'num_leaves': 50}\n",
      "2.123319 (0.041361) with: {'learning_rate': 0.01, 'max_depth': 7, 'n_estimators': 200, 'num_leaves': 10}\n",
      "2.121748 (0.040178) with: {'learning_rate': 0.01, 'max_depth': 7, 'n_estimators': 200, 'num_leaves': 20}\n",
      "2.131484 (0.042494) with: {'learning_rate': 0.01, 'max_depth': 7, 'n_estimators': 200, 'num_leaves': 30}\n",
      "2.138349 (0.045034) with: {'learning_rate': 0.01, 'max_depth': 7, 'n_estimators': 200, 'num_leaves': 40}\n",
      "2.140128 (0.050767) with: {'learning_rate': 0.01, 'max_depth': 7, 'n_estimators': 200, 'num_leaves': 50}\n",
      "2.702827 (0.086213) with: {'learning_rate': 0.01, 'max_depth': 10, 'n_estimators': 25, 'num_leaves': 10}\n",
      "2.700865 (0.084550) with: {'learning_rate': 0.01, 'max_depth': 10, 'n_estimators': 25, 'num_leaves': 20}\n",
      "2.700408 (0.083824) with: {'learning_rate': 0.01, 'max_depth': 10, 'n_estimators': 25, 'num_leaves': 30}\n",
      "2.702370 (0.083521) with: {'learning_rate': 0.01, 'max_depth': 10, 'n_estimators': 25, 'num_leaves': 40}\n",
      "2.701447 (0.082655) with: {'learning_rate': 0.01, 'max_depth': 10, 'n_estimators': 25, 'num_leaves': 50}\n",
      "2.480008 (0.084762) with: {'learning_rate': 0.01, 'max_depth': 10, 'n_estimators': 50, 'num_leaves': 10}\n",
      "2.480442 (0.086831) with: {'learning_rate': 0.01, 'max_depth': 10, 'n_estimators': 50, 'num_leaves': 20}\n",
      "2.481499 (0.086447) with: {'learning_rate': 0.01, 'max_depth': 10, 'n_estimators': 50, 'num_leaves': 30}\n",
      "2.482463 (0.084386) with: {'learning_rate': 0.01, 'max_depth': 10, 'n_estimators': 50, 'num_leaves': 40}\n",
      "2.482120 (0.083335) with: {'learning_rate': 0.01, 'max_depth': 10, 'n_estimators': 50, 'num_leaves': 50}\n",
      "2.250214 (0.067039) with: {'learning_rate': 0.01, 'max_depth': 10, 'n_estimators': 100, 'num_leaves': 10}\n",
      "2.249922 (0.068246) with: {'learning_rate': 0.01, 'max_depth': 10, 'n_estimators': 100, 'num_leaves': 20}\n",
      "2.253810 (0.066576) with: {'learning_rate': 0.01, 'max_depth': 10, 'n_estimators': 100, 'num_leaves': 30}\n",
      "2.257133 (0.064805) with: {'learning_rate': 0.01, 'max_depth': 10, 'n_estimators': 100, 'num_leaves': 40}\n",
      "2.256669 (0.063864) with: {'learning_rate': 0.01, 'max_depth': 10, 'n_estimators': 100, 'num_leaves': 50}\n",
      "2.123131 (0.040752) with: {'learning_rate': 0.01, 'max_depth': 10, 'n_estimators': 200, 'num_leaves': 10}\n",
      "2.120942 (0.043517) with: {'learning_rate': 0.01, 'max_depth': 10, 'n_estimators': 200, 'num_leaves': 20}\n",
      "2.127772 (0.041190) with: {'learning_rate': 0.01, 'max_depth': 10, 'n_estimators': 200, 'num_leaves': 30}\n",
      "2.134946 (0.045871) with: {'learning_rate': 0.01, 'max_depth': 10, 'n_estimators': 200, 'num_leaves': 40}\n",
      "2.138945 (0.048012) with: {'learning_rate': 0.01, 'max_depth': 10, 'n_estimators': 200, 'num_leaves': 50}\n",
      "2.152016 (0.046258) with: {'learning_rate': 0.1, 'max_depth': 1, 'n_estimators': 25, 'num_leaves': 10}\n",
      "2.152016 (0.046258) with: {'learning_rate': 0.1, 'max_depth': 1, 'n_estimators': 25, 'num_leaves': 20}\n",
      "2.152016 (0.046258) with: {'learning_rate': 0.1, 'max_depth': 1, 'n_estimators': 25, 'num_leaves': 30}\n",
      "2.152016 (0.046258) with: {'learning_rate': 0.1, 'max_depth': 1, 'n_estimators': 25, 'num_leaves': 40}\n",
      "2.152016 (0.046258) with: {'learning_rate': 0.1, 'max_depth': 1, 'n_estimators': 25, 'num_leaves': 50}\n",
      "2.106268 (0.041813) with: {'learning_rate': 0.1, 'max_depth': 1, 'n_estimators': 50, 'num_leaves': 10}\n",
      "2.106268 (0.041813) with: {'learning_rate': 0.1, 'max_depth': 1, 'n_estimators': 50, 'num_leaves': 20}\n",
      "2.106268 (0.041813) with: {'learning_rate': 0.1, 'max_depth': 1, 'n_estimators': 50, 'num_leaves': 30}\n",
      "2.106268 (0.041813) with: {'learning_rate': 0.1, 'max_depth': 1, 'n_estimators': 50, 'num_leaves': 40}\n",
      "2.106268 (0.041813) with: {'learning_rate': 0.1, 'max_depth': 1, 'n_estimators': 50, 'num_leaves': 50}\n",
      "2.097680 (0.041848) with: {'learning_rate': 0.1, 'max_depth': 1, 'n_estimators': 100, 'num_leaves': 10}\n",
      "2.097680 (0.041848) with: {'learning_rate': 0.1, 'max_depth': 1, 'n_estimators': 100, 'num_leaves': 20}\n",
      "2.097680 (0.041848) with: {'learning_rate': 0.1, 'max_depth': 1, 'n_estimators': 100, 'num_leaves': 30}\n",
      "2.097680 (0.041848) with: {'learning_rate': 0.1, 'max_depth': 1, 'n_estimators': 100, 'num_leaves': 40}\n",
      "2.097680 (0.041848) with: {'learning_rate': 0.1, 'max_depth': 1, 'n_estimators': 100, 'num_leaves': 50}\n",
      "2.096217 (0.039276) with: {'learning_rate': 0.1, 'max_depth': 1, 'n_estimators': 200, 'num_leaves': 10}\n",
      "2.096217 (0.039276) with: {'learning_rate': 0.1, 'max_depth': 1, 'n_estimators': 200, 'num_leaves': 20}\n",
      "2.096217 (0.039276) with: {'learning_rate': 0.1, 'max_depth': 1, 'n_estimators': 200, 'num_leaves': 30}\n",
      "2.096217 (0.039276) with: {'learning_rate': 0.1, 'max_depth': 1, 'n_estimators': 200, 'num_leaves': 40}\n",
      "2.096217 (0.039276) with: {'learning_rate': 0.1, 'max_depth': 1, 'n_estimators': 200, 'num_leaves': 50}\n",
      "2.103968 (0.039006) with: {'learning_rate': 0.1, 'max_depth': 2, 'n_estimators': 25, 'num_leaves': 10}\n",
      "2.103968 (0.039006) with: {'learning_rate': 0.1, 'max_depth': 2, 'n_estimators': 25, 'num_leaves': 20}\n",
      "2.103968 (0.039006) with: {'learning_rate': 0.1, 'max_depth': 2, 'n_estimators': 25, 'num_leaves': 30}\n",
      "2.103968 (0.039006) with: {'learning_rate': 0.1, 'max_depth': 2, 'n_estimators': 25, 'num_leaves': 40}\n",
      "2.103968 (0.039006) with: {'learning_rate': 0.1, 'max_depth': 2, 'n_estimators': 25, 'num_leaves': 50}\n",
      "2.087225 (0.040405) with: {'learning_rate': 0.1, 'max_depth': 2, 'n_estimators': 50, 'num_leaves': 10}\n",
      "2.087225 (0.040405) with: {'learning_rate': 0.1, 'max_depth': 2, 'n_estimators': 50, 'num_leaves': 20}\n",
      "2.087225 (0.040405) with: {'learning_rate': 0.1, 'max_depth': 2, 'n_estimators': 50, 'num_leaves': 30}\n",
      "2.087225 (0.040405) with: {'learning_rate': 0.1, 'max_depth': 2, 'n_estimators': 50, 'num_leaves': 40}\n",
      "2.087225 (0.040405) with: {'learning_rate': 0.1, 'max_depth': 2, 'n_estimators': 50, 'num_leaves': 50}\n",
      "2.086718 (0.045107) with: {'learning_rate': 0.1, 'max_depth': 2, 'n_estimators': 100, 'num_leaves': 10}\n",
      "2.086718 (0.045107) with: {'learning_rate': 0.1, 'max_depth': 2, 'n_estimators': 100, 'num_leaves': 20}\n",
      "2.086718 (0.045107) with: {'learning_rate': 0.1, 'max_depth': 2, 'n_estimators': 100, 'num_leaves': 30}\n",
      "2.086718 (0.045107) with: {'learning_rate': 0.1, 'max_depth': 2, 'n_estimators': 100, 'num_leaves': 40}\n",
      "2.086718 (0.045107) with: {'learning_rate': 0.1, 'max_depth': 2, 'n_estimators': 100, 'num_leaves': 50}\n",
      "2.101657 (0.038796) with: {'learning_rate': 0.1, 'max_depth': 2, 'n_estimators': 200, 'num_leaves': 10}\n",
      "2.101657 (0.038796) with: {'learning_rate': 0.1, 'max_depth': 2, 'n_estimators': 200, 'num_leaves': 20}\n",
      "2.101657 (0.038796) with: {'learning_rate': 0.1, 'max_depth': 2, 'n_estimators': 200, 'num_leaves': 30}\n",
      "2.101657 (0.038796) with: {'learning_rate': 0.1, 'max_depth': 2, 'n_estimators': 200, 'num_leaves': 40}\n",
      "2.101657 (0.038796) with: {'learning_rate': 0.1, 'max_depth': 2, 'n_estimators': 200, 'num_leaves': 50}\n",
      "2.097513 (0.041848) with: {'learning_rate': 0.1, 'max_depth': 5, 'n_estimators': 25, 'num_leaves': 10}\n",
      "2.107506 (0.046331) with: {'learning_rate': 0.1, 'max_depth': 5, 'n_estimators': 25, 'num_leaves': 20}\n",
      "2.108587 (0.051547) with: {'learning_rate': 0.1, 'max_depth': 5, 'n_estimators': 25, 'num_leaves': 30}\n",
      "2.110115 (0.053029) with: {'learning_rate': 0.1, 'max_depth': 5, 'n_estimators': 25, 'num_leaves': 40}\n",
      "2.110115 (0.053029) with: {'learning_rate': 0.1, 'max_depth': 5, 'n_estimators': 25, 'num_leaves': 50}\n",
      "2.095246 (0.047786) with: {'learning_rate': 0.1, 'max_depth': 5, 'n_estimators': 50, 'num_leaves': 10}\n",
      "2.112386 (0.049603) with: {'learning_rate': 0.1, 'max_depth': 5, 'n_estimators': 50, 'num_leaves': 20}\n",
      "2.109599 (0.054663) with: {'learning_rate': 0.1, 'max_depth': 5, 'n_estimators': 50, 'num_leaves': 30}\n",
      "2.111090 (0.057022) with: {'learning_rate': 0.1, 'max_depth': 5, 'n_estimators': 50, 'num_leaves': 40}\n",
      "2.111090 (0.057022) with: {'learning_rate': 0.1, 'max_depth': 5, 'n_estimators': 50, 'num_leaves': 50}\n",
      "2.105095 (0.041294) with: {'learning_rate': 0.1, 'max_depth': 5, 'n_estimators': 100, 'num_leaves': 10}\n",
      "2.127432 (0.051291) with: {'learning_rate': 0.1, 'max_depth': 5, 'n_estimators': 100, 'num_leaves': 20}\n",
      "2.123173 (0.044790) with: {'learning_rate': 0.1, 'max_depth': 5, 'n_estimators': 100, 'num_leaves': 30}\n",
      "2.127216 (0.050160) with: {'learning_rate': 0.1, 'max_depth': 5, 'n_estimators': 100, 'num_leaves': 40}\n",
      "2.127216 (0.050160) with: {'learning_rate': 0.1, 'max_depth': 5, 'n_estimators': 100, 'num_leaves': 50}\n",
      "2.126775 (0.043288) with: {'learning_rate': 0.1, 'max_depth': 5, 'n_estimators': 200, 'num_leaves': 10}\n",
      "2.148359 (0.056303) with: {'learning_rate': 0.1, 'max_depth': 5, 'n_estimators': 200, 'num_leaves': 20}\n",
      "2.147496 (0.044841) with: {'learning_rate': 0.1, 'max_depth': 5, 'n_estimators': 200, 'num_leaves': 30}\n",
      "2.151697 (0.049788) with: {'learning_rate': 0.1, 'max_depth': 5, 'n_estimators': 200, 'num_leaves': 40}\n",
      "2.151697 (0.049788) with: {'learning_rate': 0.1, 'max_depth': 5, 'n_estimators': 200, 'num_leaves': 50}\n",
      "2.107510 (0.041764) with: {'learning_rate': 0.1, 'max_depth': 7, 'n_estimators': 25, 'num_leaves': 10}\n",
      "2.098314 (0.041780) with: {'learning_rate': 0.1, 'max_depth': 7, 'n_estimators': 25, 'num_leaves': 20}\n",
      "2.119717 (0.047906) with: {'learning_rate': 0.1, 'max_depth': 7, 'n_estimators': 25, 'num_leaves': 30}\n",
      "2.118981 (0.061045) with: {'learning_rate': 0.1, 'max_depth': 7, 'n_estimators': 25, 'num_leaves': 40}\n",
      "2.127749 (0.059403) with: {'learning_rate': 0.1, 'max_depth': 7, 'n_estimators': 25, 'num_leaves': 50}\n",
      "2.097719 (0.044153) with: {'learning_rate': 0.1, 'max_depth': 7, 'n_estimators': 50, 'num_leaves': 10}\n",
      "2.094444 (0.047638) with: {'learning_rate': 0.1, 'max_depth': 7, 'n_estimators': 50, 'num_leaves': 20}\n",
      "2.112490 (0.043940) with: {'learning_rate': 0.1, 'max_depth': 7, 'n_estimators': 50, 'num_leaves': 30}\n",
      "2.119980 (0.058879) with: {'learning_rate': 0.1, 'max_depth': 7, 'n_estimators': 50, 'num_leaves': 40}\n",
      "2.137363 (0.051852) with: {'learning_rate': 0.1, 'max_depth': 7, 'n_estimators': 50, 'num_leaves': 50}\n",
      "2.107957 (0.033583) with: {'learning_rate': 0.1, 'max_depth': 7, 'n_estimators': 100, 'num_leaves': 10}\n",
      "2.104040 (0.058426) with: {'learning_rate': 0.1, 'max_depth': 7, 'n_estimators': 100, 'num_leaves': 20}\n",
      "2.121357 (0.040237) with: {'learning_rate': 0.1, 'max_depth': 7, 'n_estimators': 100, 'num_leaves': 30}\n",
      "2.132312 (0.066007) with: {'learning_rate': 0.1, 'max_depth': 7, 'n_estimators': 100, 'num_leaves': 40}\n",
      "2.149955 (0.053409) with: {'learning_rate': 0.1, 'max_depth': 7, 'n_estimators': 100, 'num_leaves': 50}\n",
      "2.128732 (0.034958) with: {'learning_rate': 0.1, 'max_depth': 7, 'n_estimators': 200, 'num_leaves': 10}\n",
      "2.124789 (0.046269) with: {'learning_rate': 0.1, 'max_depth': 7, 'n_estimators': 200, 'num_leaves': 20}\n",
      "2.132339 (0.045967) with: {'learning_rate': 0.1, 'max_depth': 7, 'n_estimators': 200, 'num_leaves': 30}\n",
      "2.143319 (0.065905) with: {'learning_rate': 0.1, 'max_depth': 7, 'n_estimators': 200, 'num_leaves': 40}\n",
      "2.159197 (0.050831) with: {'learning_rate': 0.1, 'max_depth': 7, 'n_estimators': 200, 'num_leaves': 50}\n",
      "2.108664 (0.043530) with: {'learning_rate': 0.1, 'max_depth': 10, 'n_estimators': 25, 'num_leaves': 10}\n",
      "2.106813 (0.040041) with: {'learning_rate': 0.1, 'max_depth': 10, 'n_estimators': 25, 'num_leaves': 20}\n",
      "2.117567 (0.049455) with: {'learning_rate': 0.1, 'max_depth': 10, 'n_estimators': 25, 'num_leaves': 30}\n",
      "2.121874 (0.057071) with: {'learning_rate': 0.1, 'max_depth': 10, 'n_estimators': 25, 'num_leaves': 40}\n",
      "2.134113 (0.061699) with: {'learning_rate': 0.1, 'max_depth': 10, 'n_estimators': 25, 'num_leaves': 50}\n",
      "2.106082 (0.050312) with: {'learning_rate': 0.1, 'max_depth': 10, 'n_estimators': 50, 'num_leaves': 10}\n",
      "2.102225 (0.041701) with: {'learning_rate': 0.1, 'max_depth': 10, 'n_estimators': 50, 'num_leaves': 20}\n",
      "2.123246 (0.044883) with: {'learning_rate': 0.1, 'max_depth': 10, 'n_estimators': 50, 'num_leaves': 30}\n",
      "2.122409 (0.060232) with: {'learning_rate': 0.1, 'max_depth': 10, 'n_estimators': 50, 'num_leaves': 40}\n",
      "2.140577 (0.053353) with: {'learning_rate': 0.1, 'max_depth': 10, 'n_estimators': 50, 'num_leaves': 50}\n",
      "2.116402 (0.045494) with: {'learning_rate': 0.1, 'max_depth': 10, 'n_estimators': 100, 'num_leaves': 10}\n",
      "2.124222 (0.035849) with: {'learning_rate': 0.1, 'max_depth': 10, 'n_estimators': 100, 'num_leaves': 20}\n",
      "2.147958 (0.043049) with: {'learning_rate': 0.1, 'max_depth': 10, 'n_estimators': 100, 'num_leaves': 30}\n",
      "2.139848 (0.057752) with: {'learning_rate': 0.1, 'max_depth': 10, 'n_estimators': 100, 'num_leaves': 40}\n",
      "2.154645 (0.051211) with: {'learning_rate': 0.1, 'max_depth': 10, 'n_estimators': 100, 'num_leaves': 50}\n",
      "2.126496 (0.049336) with: {'learning_rate': 0.1, 'max_depth': 10, 'n_estimators': 200, 'num_leaves': 10}\n",
      "2.144507 (0.034693) with: {'learning_rate': 0.1, 'max_depth': 10, 'n_estimators': 200, 'num_leaves': 20}\n",
      "2.161992 (0.040788) with: {'learning_rate': 0.1, 'max_depth': 10, 'n_estimators': 200, 'num_leaves': 30}\n",
      "2.150401 (0.057721) with: {'learning_rate': 0.1, 'max_depth': 10, 'n_estimators': 200, 'num_leaves': 40}\n",
      "2.165195 (0.050424) with: {'learning_rate': 0.1, 'max_depth': 10, 'n_estimators': 200, 'num_leaves': 50}\n"
     ]
    }
   ],
   "source": [
    "# Use grid search for https://lightgbm.readthedocs.io/en/latest/_modules/lightgbm/sklearn.html\n",
    "# Params useful for grid search in LGB: num_leaves, max_depth, n_estimators and learning rate\n",
    "\n",
    "from sklearn.model_selection import GridSearchCV\n",
    "from sklearn.metrics import mean_absolute_error\n",
    "from sklearn.metrics import make_scorer\n",
    "\n",
    "start_time = datetime.now() \n",
    "\n",
    "train_data = lgb.Dataset(train_variables, label=train_targets)\n",
    "\n",
    "lgb_simple = lgb.LGBMRegressor(boosting_type='gbdt')\n",
    "\n",
    "mae_scorer = make_scorer(mean_absolute_error, greater_is_better=False)\n",
    "\n",
    "num_leaves = [10, 20, 30, 40, 50]\n",
    "\n",
    "max_depth = [1, 2, 5, 7, 10]\n",
    "\n",
    "n_estimators = [25, 50, 100, 200]\n",
    "\n",
    "learning_rate = [0.001, 0.01, 0.1]\n",
    "\n",
    "param_grid = dict(num_leaves= num_leaves, max_depth=max_depth, learning_rate=learning_rate, n_estimators=n_estimators)\n",
    "\n",
    "grid_search = GridSearchCV(lgb_simple, param_grid, scoring=mae_scorer, n_jobs=-1, cv=5, return_train_score=True)\n",
    "grid_result = grid_search.fit(train_variables, train_targets)\n",
    "\n",
    "# Summarize results\n",
    "print(\"Best: %f using %s\" % (grid_result.best_score_, grid_result.best_params_))\n",
    "means = grid_result.cv_results_['mean_test_score']\n",
    "stds = grid_result.cv_results_['std_test_score']\n",
    "params = grid_result.cv_results_['params']\n",
    "for mean, stdev, param in zip(means, stds, params):\n",
    "    print(\"%f (%f) with: %r\" % (mean, stdev, param))\n",
    "    \n",
    "time_elapsed = datetime.now() - start_time \n",
    "\n",
    "print('Time elapsed (hh:mm:ss.ms) {}'.format(time_elapsed))"
   ]
  },
  {
   "cell_type": "markdown",
   "metadata": {},
   "source": [
    "##### Grid search Random Forest"
   ]
  },
  {
   "cell_type": "code",
   "execution_count": 119,
   "metadata": {},
   "outputs": [
    {
     "name": "stdout",
     "output_type": "stream",
     "text": [
      "Best: -2.096747 using {'criterion': 'mse', 'n_estimators': 500}\n",
      "-2.126929 (0.028756) with: {'criterion': 'mse', 'n_estimators': 25}\n",
      "-2.116978 (0.037893) with: {'criterion': 'mse', 'n_estimators': 50}\n",
      "-2.103385 (0.037614) with: {'criterion': 'mse', 'n_estimators': 100}\n",
      "-2.103086 (0.029806) with: {'criterion': 'mse', 'n_estimators': 250}\n",
      "-2.096747 (0.039855) with: {'criterion': 'mse', 'n_estimators': 500}\n",
      "-2.133949 (0.027706) with: {'criterion': 'mae', 'n_estimators': 25}\n",
      "-2.124240 (0.032810) with: {'criterion': 'mae', 'n_estimators': 50}\n",
      "-2.126735 (0.034393) with: {'criterion': 'mae', 'n_estimators': 100}\n",
      "-2.109362 (0.034916) with: {'criterion': 'mae', 'n_estimators': 250}\n",
      "-2.107988 (0.032639) with: {'criterion': 'mae', 'n_estimators': 500}\n"
     ]
    },
    {
     "ename": "NameError",
     "evalue": "name 'n_estimates' is not defined",
     "output_type": "error",
     "traceback": [
      "\u001b[0;31m---------------------------------------------------------------------------\u001b[0m",
      "\u001b[0;31mNameError\u001b[0m                                 Traceback (most recent call last)",
      "\u001b[0;32m<ipython-input-119-a0c2a1424dc2>\u001b[0m in \u001b[0;36m<module>\u001b[0;34m()\u001b[0m\n\u001b[1;32m     32\u001b[0m \u001b[0mresults\u001b[0m \u001b[0;34m=\u001b[0m \u001b[0mnp\u001b[0m\u001b[0;34m.\u001b[0m\u001b[0marray\u001b[0m\u001b[0;34m(\u001b[0m\u001b[0mmeans\u001b[0m\u001b[0;34m)\u001b[0m\u001b[0;34m.\u001b[0m\u001b[0mreshape\u001b[0m\u001b[0;34m(\u001b[0m\u001b[0mlen\u001b[0m\u001b[0;34m(\u001b[0m\u001b[0mcriterion\u001b[0m\u001b[0;34m)\u001b[0m\u001b[0;34m,\u001b[0m \u001b[0mlen\u001b[0m\u001b[0;34m(\u001b[0m\u001b[0mn_estimators\u001b[0m\u001b[0;34m)\u001b[0m\u001b[0;34m)\u001b[0m\u001b[0;34m\u001b[0m\u001b[0;34m\u001b[0m\u001b[0m\n\u001b[1;32m     33\u001b[0m \u001b[0;32mfor\u001b[0m \u001b[0mi\u001b[0m\u001b[0;34m,\u001b[0m \u001b[0mvalue\u001b[0m \u001b[0;32min\u001b[0m \u001b[0menumerate\u001b[0m\u001b[0;34m(\u001b[0m\u001b[0mcriterion\u001b[0m\u001b[0;34m)\u001b[0m\u001b[0;34m:\u001b[0m\u001b[0;34m\u001b[0m\u001b[0;34m\u001b[0m\u001b[0m\n\u001b[0;32m---> 34\u001b[0;31m     \u001b[0mplt\u001b[0m\u001b[0;34m.\u001b[0m\u001b[0mplot\u001b[0m\u001b[0;34m(\u001b[0m\u001b[0mn_estimates\u001b[0m\u001b[0;34m,\u001b[0m \u001b[0mresults\u001b[0m\u001b[0;34m[\u001b[0m\u001b[0mi\u001b[0m\u001b[0;34m]\u001b[0m\u001b[0;34m,\u001b[0m \u001b[0mlabel\u001b[0m\u001b[0;34m=\u001b[0m\u001b[0;34m'Criterion: '\u001b[0m \u001b[0;34m+\u001b[0m \u001b[0mstr\u001b[0m\u001b[0;34m(\u001b[0m\u001b[0mvalue\u001b[0m\u001b[0;34m)\u001b[0m\u001b[0;34m)\u001b[0m\u001b[0;34m\u001b[0m\u001b[0;34m\u001b[0m\u001b[0m\n\u001b[0m\u001b[1;32m     35\u001b[0m \u001b[0mplt\u001b[0m\u001b[0;34m.\u001b[0m\u001b[0mlegend\u001b[0m\u001b[0;34m(\u001b[0m\u001b[0;34m)\u001b[0m\u001b[0;34m\u001b[0m\u001b[0;34m\u001b[0m\u001b[0m\n\u001b[1;32m     36\u001b[0m \u001b[0mplt\u001b[0m\u001b[0;34m.\u001b[0m\u001b[0mtitle\u001b[0m\u001b[0;34m(\u001b[0m\u001b[0;34m\"RndmForest n_estimators / criterion / MAE\"\u001b[0m\u001b[0;34m)\u001b[0m\u001b[0;34m\u001b[0m\u001b[0;34m\u001b[0m\u001b[0m\n",
      "\u001b[0;31mNameError\u001b[0m: name 'n_estimates' is not defined"
     ]
    }
   ],
   "source": [
    "# Using grid search for https://scikit-learn.org/stable/modules/generated/sklearn.ensemble.RandomForestRegressor.html\n",
    "# Params useful for grid search in random forest: n_estimators, criterion\n",
    "\n",
    "from sklearn.model_selection import GridSearchCV\n",
    "from sklearn.metrics import mean_absolute_error\n",
    "from sklearn.metrics import make_scorer\n",
    "\n",
    "start_time = datetime.now() \n",
    "\n",
    "RndmForest_simple = RandomForestRegressor()\n",
    "\n",
    "mae_scorer = make_scorer(mean_absolute_error, greater_is_better=False)\n",
    "\n",
    "n_estimators = [25, 50, 100, 250, 500]\n",
    "\n",
    "criterion = ['mse', 'mae']\n",
    "\n",
    "param_grid = dict(n_estimators=n_estimators, criterion=criterion)\n",
    "\n",
    "grid_search = GridSearchCV(RndmForest_simple, param_grid, scoring=mae_scorer, n_jobs=-1, cv=5, return_train_score=True)\n",
    "grid_result = grid_search.fit(train_variables, train_targets)\n",
    "\n",
    "# Summarize results\n",
    "print(\"Best: %f using %s\" % (grid_result.best_score_, grid_result.best_params_))\n",
    "means = grid_result.cv_results_['mean_test_score']\n",
    "stds = grid_result.cv_results_['std_test_score']\n",
    "params = grid_result.cv_results_['params']\n",
    "for mean, stdev, param in zip(means, stds, params):\n",
    "    print(\"%f (%f) with: %r\" % (mean, stdev, param))\n",
    "\n",
    "# Plot\n",
    "results = np.array(means).reshape(len(criterion), len(n_estimators))\n",
    "for i, value in enumerate(criterion):\n",
    "    plt.plot(n_estimates, results[i], label='Criterion: ' + str(value))\n",
    "plt.legend()\n",
    "plt.title(\"RndmForest n_estimators / criterion / MAE\")\n",
    "plt.xlabel('n_estimators')\n",
    "plt.ylabel(\"Mean Absolute Error\")\n",
    "plt.savefig('Earthquake_rforest_grid.png')\n",
    "\n",
    "time_elapsed = datetime.now() - start_time \n",
    "\n",
    "print('Time elapsed (hh:mm:ss.ms) {}'.format(time_elapsed))"
   ]
  },
  {
   "cell_type": "code",
   "execution_count": 120,
   "metadata": {},
   "outputs": [
    {
     "name": "stdout",
     "output_type": "stream",
     "text": [
      "Time elapsed (hh:mm:ss.ms) 1:46:21.309054\n"
     ]
    },
    {
     "data": {
      "image/png": "[encoded data removed]",
      "text/plain": [
       "<Figure size 432x288 with 1 Axes>"
      ]
     },
     "metadata": {},
     "output_type": "display_data"
    }
   ],
   "source": [
    "# Plot\n",
    "results = np.array(means).reshape(len(criterion), len(n_estimators))\n",
    "for i, value in enumerate(criterion):\n",
    "    plt.plot(n_estimators, results[i], label='Criterion: ' + str(value))\n",
    "plt.legend()\n",
    "plt.title(\"RndmForest n_estimators / criterion / MAE\")\n",
    "plt.xlabel('n_estimators')\n",
    "plt.ylabel(\"Mean Absolute Error\")\n",
    "plt.savefig('Earthquake_rforest_grid.png')\n",
    "\n",
    "time_elapsed = datetime.now() - start_time \n",
    "\n",
    "print('Time elapsed (hh:mm:ss.ms) {}'.format(time_elapsed))"
   ]
  },
  {
   "cell_type": "markdown",
   "metadata": {},
   "source": [
    "##### Grid search Bagging"
   ]
  },
  {
   "cell_type": "code",
   "execution_count": 66,
   "metadata": {},
   "outputs": [
    {
     "name": "stdout",
     "output_type": "stream",
     "text": [
      "Best: -2.099723 using {'n_estimators': 250}\n",
      "-2.133212 (0.066879) with: {'n_estimators': 25}\n",
      "-2.122850 (0.049349) with: {'n_estimators': 50}\n",
      "-2.103075 (0.042039) with: {'n_estimators': 100}\n",
      "-2.099723 (0.045947) with: {'n_estimators': 250}\n",
      "Time elapsed (hh:mm:ss.ms) 0:03:25.175046\n"
     ]
    },
    {
     "data": {
      "image/png": "[encoded data removed]",
      "text/plain": [
       "<Figure size 432x288 with 1 Axes>"
      ]
     },
     "metadata": {},
     "output_type": "display_data"
    }
   ],
   "source": [
    "# Using grid search for https://scikit-learn.org/stable/modules/generated/sklearn.ensemble.BaggingRegressor.html\n",
    "# Params useful for grid search in bagging: n_estimators\n",
    "\n",
    "from sklearn.model_selection import GridSearchCV\n",
    "from sklearn.metrics import mean_absolute_error\n",
    "from sklearn.metrics import make_scorer\n",
    "\n",
    "start_time = datetime.now()\n",
    "\n",
    "Bagging_simple = BaggingRegressor()\n",
    "\n",
    "mae_scorer = make_scorer(mean_absolute_error, greater_is_better=False)\n",
    "\n",
    "n_estimators = [25, 50, 100, 250]\n",
    "\n",
    "param_grid = dict(n_estimators=n_estimators)\n",
    "\n",
    "grid_search = GridSearchCV(Bagging_simple, param_grid, scoring=mae_scorer, n_jobs=-1, cv=5, return_train_score=True)\n",
    "grid_result = grid_search.fit(train_variables, train_targets)\n",
    "\n",
    "# Summarize results\n",
    "print(\"Best: %f using %s\" % (grid_result.best_score_, grid_result.best_params_))\n",
    "means = grid_result.cv_results_['mean_test_score']\n",
    "stds = grid_result.cv_results_['std_test_score']\n",
    "params = grid_result.cv_results_['params']\n",
    "for mean, stdev, param in zip(means, stds, params):\n",
    "    print(\"%f (%f) with: %r\" % (mean, stdev, param))\n",
    "\n",
    "# Plot\n",
    "plt.errorbar(n_estimators, means, yerr=stds)\n",
    "plt.title(\"Bagging n_estimators vs MAE\")\n",
    "plt.xlabel('n_estimators')\n",
    "plt.ylabel(\"Mean Absolute Error\")\n",
    "plt.savefig('Earthquake_bagging_grid.png')\n",
    "\n",
    "time_elapsed = datetime.now() - start_time \n",
    "\n",
    "print('Time elapsed (hh:mm:ss.ms) {}'.format(time_elapsed))"
   ]
  },
  {
   "cell_type": "markdown",
   "metadata": {},
   "source": [
    "##### Grid search Gradient Boosting"
   ]
  },
  {
   "cell_type": "code",
   "execution_count": 68,
   "metadata": {},
   "outputs": [
    {
     "name": "stdout",
     "output_type": "stream",
     "text": [
      "Best: -2.099464 using {'learning_rate': 0.1, 'n_estimators': 50}\n",
      "-3.000246 (0.086359) with: {'learning_rate': 0.001, 'n_estimators': 25}\n",
      "-2.962913 (0.086561) with: {'learning_rate': 0.001, 'n_estimators': 50}\n",
      "-2.891856 (0.086781) with: {'learning_rate': 0.001, 'n_estimators': 100}\n",
      "-2.708398 (0.087124) with: {'learning_rate': 0.001, 'n_estimators': 250}\n",
      "-2.707170 (0.087274) with: {'learning_rate': 0.01, 'n_estimators': 25}\n",
      "-2.486532 (0.088170) with: {'learning_rate': 0.01, 'n_estimators': 50}\n",
      "-2.254908 (0.070022) with: {'learning_rate': 0.01, 'n_estimators': 100}\n",
      "-2.114707 (0.033966) with: {'learning_rate': 0.01, 'n_estimators': 250}\n",
      "-2.109414 (0.036071) with: {'learning_rate': 0.1, 'n_estimators': 25}\n",
      "-2.099464 (0.035319) with: {'learning_rate': 0.1, 'n_estimators': 50}\n",
      "-2.125033 (0.037821) with: {'learning_rate': 0.1, 'n_estimators': 100}\n",
      "-2.153037 (0.044392) with: {'learning_rate': 0.1, 'n_estimators': 250}\n",
      "Time elapsed (hh:mm:ss.ms) 0:01:01.786869\n"
     ]
    },
    {
     "data": {
      "image/png": "[encoded data removed]",
      "text/plain": [
       "<Figure size 432x288 with 1 Axes>"
      ]
     },
     "metadata": {},
     "output_type": "display_data"
    }
   ],
   "source": [
    "# Using grid search for https://scikit-learn.org/stable/modules/generated/sklearn.ensemble.GradientBoostingRegressor.html\n",
    "# Params useful for grid search in gradient boosting: n_estimators and learning rate\n",
    "\n",
    "from sklearn.model_selection import GridSearchCV\n",
    "from sklearn.metrics import mean_absolute_error\n",
    "from sklearn.metrics import make_scorer\n",
    "\n",
    "start_time = datetime.now()\n",
    "\n",
    "GradBoost_simple = GradientBoostingRegressor()\n",
    "\n",
    "mae_scorer = make_scorer(mean_absolute_error, greater_is_better=False)\n",
    "\n",
    "n_estimators = [25, 50, 100, 250]\n",
    "\n",
    "learning_rate = [0.001, 0.01, 0.1]\n",
    "\n",
    "param_grid = dict(learning_rate=learning_rate, n_estimators=n_estimators)\n",
    "\n",
    "grid_search = GridSearchCV(GradBoost_simple, param_grid, scoring=mae_scorer, n_jobs=-1, cv=5, return_train_score=True)\n",
    "grid_result = grid_search.fit(train_variables, train_targets)\n",
    "\n",
    "# Summarize results\n",
    "print(\"Best: %f using %s\" % (grid_result.best_score_, grid_result.best_params_))\n",
    "means = grid_result.cv_results_['mean_test_score']\n",
    "stds = grid_result.cv_results_['std_test_score']\n",
    "params = grid_result.cv_results_['params']\n",
    "for mean, stdev, param in zip(means, stds, params):\n",
    "    print(\"%f (%f) with: %r\" % (mean, stdev, param))\n",
    "\n",
    "# Plot results\n",
    "results = np.array(means).reshape(len(learning_rate), len(n_estimators))\n",
    "for i, value in enumerate(learning_rate):\n",
    "    plt.plot(n_estimators, results[i], label='Learning rate: ' + str(value))\n",
    "plt.legend()\n",
    "plt.title(\"Gradient boosting learning rate / n_estimators / MAE\")\n",
    "plt.xlabel('n_estimators')\n",
    "plt.ylabel(\"Mean Absolute Error\")\n",
    "plt.savefig('Earthquake_gradboost_grid.png')\n",
    "\n",
    "time_elapsed = datetime.now() - start_time \n",
    "\n",
    "print('Time elapsed (hh:mm:ss.ms) {}'.format(time_elapsed))"
   ]
  },
  {
   "cell_type": "markdown",
   "metadata": {},
   "source": [
    "##### Grid search AdaBoost"
   ]
  },
  {
   "cell_type": "code",
   "execution_count": 69,
   "metadata": {},
   "outputs": [
    {
     "name": "stdout",
     "output_type": "stream",
     "text": [
      "Best: -2.102515 using {'learning_rate': 0.01, 'n_estimators': 50}\n",
      "-2.117021 (0.055356) with: {'learning_rate': 0.001, 'n_estimators': 25}\n",
      "-2.107210 (0.051038) with: {'learning_rate': 0.001, 'n_estimators': 50}\n",
      "-2.106537 (0.057307) with: {'learning_rate': 0.001, 'n_estimators': 100}\n",
      "-2.105409 (0.051133) with: {'learning_rate': 0.001, 'n_estimators': 250}\n",
      "-2.105684 (0.054196) with: {'learning_rate': 0.01, 'n_estimators': 25}\n",
      "-2.102515 (0.042745) with: {'learning_rate': 0.01, 'n_estimators': 50}\n",
      "-2.108077 (0.052218) with: {'learning_rate': 0.01, 'n_estimators': 100}\n",
      "-2.118039 (0.044381) with: {'learning_rate': 0.01, 'n_estimators': 250}\n",
      "-2.119845 (0.046299) with: {'learning_rate': 0.1, 'n_estimators': 25}\n",
      "-2.137768 (0.041249) with: {'learning_rate': 0.1, 'n_estimators': 50}\n",
      "-2.168843 (0.055070) with: {'learning_rate': 0.1, 'n_estimators': 100}\n",
      "-2.315236 (0.101530) with: {'learning_rate': 0.1, 'n_estimators': 250}\n",
      "Time elapsed (hh:mm:ss.ms) 0:02:23.910861\n"
     ]
    },
    {
     "data": {
      "image/png": "[encoded data removed]",
      "text/plain": [
       "<Figure size 432x288 with 1 Axes>"
      ]
     },
     "metadata": {},
     "output_type": "display_data"
    }
   ],
   "source": [
    "# Use grid search http://scikit-learn.org/stable/modules/generated/sklearn.ensemble.AdaBoostRegressor.html\n",
    "# Params useful for grid search in adaboost: learning rate and n_estimators\n",
    "\n",
    "from sklearn.model_selection import GridSearchCV\n",
    "from sklearn.metrics import mean_absolute_error\n",
    "from sklearn.metrics import make_scorer\n",
    "\n",
    "start_time = datetime.now()\n",
    "\n",
    "AdaBoost_simple = AdaBoostRegressor()\n",
    "\n",
    "mae_scorer = make_scorer(mean_absolute_error, greater_is_better=False)\n",
    "\n",
    "n_estimators = [25, 50, 100, 250]\n",
    "\n",
    "learning_rate = [0.001, 0.01, 0.1]\n",
    "\n",
    "param_grid = dict(learning_rate=learning_rate, n_estimators=n_estimators)\n",
    "\n",
    "grid_search = GridSearchCV(AdaBoost_simple, param_grid, scoring=mae_scorer, n_jobs=-1, cv=5, return_train_score=True)\n",
    "grid_result = grid_search.fit(train_variables, train_targets)\n",
    "\n",
    "# Summarize results\n",
    "print(\"Best: %f using %s\" % (grid_result.best_score_, grid_result.best_params_))\n",
    "means = grid_result.cv_results_['mean_test_score']\n",
    "stds = grid_result.cv_results_['std_test_score']\n",
    "params = grid_result.cv_results_['params']\n",
    "for mean, stdev, param in zip(means, stds, params):\n",
    "    print(\"%f (%f) with: %r\" % (mean, stdev, param))\n",
    "\n",
    "# Plot results\n",
    "results = np.array(means).reshape(len(learning_rate), len(n_estimators))\n",
    "for i, value in enumerate(learning_rate):\n",
    "    plt.plot(n_estimators, results[i], label='Learning rate: ' + str(value))\n",
    "plt.legend()\n",
    "plt.title(\"AdaBoost learning rate / n_estimators / MAE\")\n",
    "plt.xlabel('n_estimators')\n",
    "plt.ylabel(\"Mean Absolute Error\")\n",
    "plt.savefig('Earthquake_adaboost_gridsearch.png')\n",
    "\n",
    "time_elapsed = datetime.now() - start_time \n",
    "\n",
    "print('Time elapsed (hh:mm:ss.ms) {}'.format(time_elapsed))"
   ]
  },
  {
   "cell_type": "markdown",
   "metadata": {},
   "source": [
    "##### Grid search XGBoost"
   ]
  },
  {
   "cell_type": "code",
   "execution_count": 74,
   "metadata": {},
   "outputs": [
    {
     "name": "stdout",
     "output_type": "stream",
     "text": [
      "Best: -2.103335 using {'learning_rate': 0.1, 'max_depth': 1}\n",
      "-4.734449 (0.151479) with: {'learning_rate': 0.001, 'max_depth': 1}\n",
      "-4.748664 (0.150347) with: {'learning_rate': 0.001, 'max_depth': 10}\n",
      "-4.769540 (0.151130) with: {'learning_rate': 0.001, 'max_depth': 20}\n",
      "-2.643893 (0.070845) with: {'learning_rate': 0.01, 'max_depth': 1}\n",
      "-2.621711 (0.057737) with: {'learning_rate': 0.01, 'max_depth': 10}\n",
      "-2.716350 (0.066042) with: {'learning_rate': 0.01, 'max_depth': 20}\n",
      "-2.103335 (0.038150) with: {'learning_rate': 0.1, 'max_depth': 1}\n",
      "-2.164977 (0.034764) with: {'learning_rate': 0.1, 'max_depth': 10}\n",
      "-2.207600 (0.053834) with: {'learning_rate': 0.1, 'max_depth': 20}\n",
      "Time elapsed (hh:mm:ss.ms) 0:01:40.370038\n"
     ]
    },
    {
     "data": {
      "image/png": "[encoded data removed]",
      "text/plain": [
       "<Figure size 432x288 with 1 Axes>"
      ]
     },
     "metadata": {},
     "output_type": "display_data"
    }
   ],
   "source": [
    "# Using grid search for https://xgboost.readthedocs.io/en/latest/parameter.html\n",
    "# Params useful for grid search in XGBoost: eta (learning rate), max_depth, alpha L1 regularization, tree_method\n",
    "\n",
    "from sklearn.model_selection import GridSearchCV\n",
    "from sklearn.metrics import mean_absolute_error\n",
    "from sklearn.metrics import make_scorer\n",
    "\n",
    "start_time = datetime.now()\n",
    "\n",
    "XGBoost_simple = XGBRegressor()\n",
    "\n",
    "mae_scorer = make_scorer(mean_absolute_error, greater_is_better=False)\n",
    "\n",
    "eta = [0.001, 0.01, 0.1]\n",
    "\n",
    "max_depth = [1, 10, 20]\n",
    "\n",
    "alpha = [0, 0.33, 0.66]\n",
    "\n",
    "tree_method = ['approx', 'hist']\n",
    "\n",
    "#param_grid = dict(learning_rate=eta, max_depth=max_depth, alpha=alpha, tree_method=tree_method)\n",
    "param_grid = dict(learning_rate=eta, max_depth=max_depth)\n",
    "\n",
    "grid_search = GridSearchCV(XGBoost_simple, param_grid, scoring=mae_scorer, n_jobs=-1, cv=5, return_train_score=True)\n",
    "grid_result = grid_search.fit(train_variables, train_targets)\n",
    "\n",
    "# Summarize results\n",
    "print(\"Best: %f using %s\" % (grid_result.best_score_, grid_result.best_params_))\n",
    "means = grid_result.cv_results_['mean_test_score']\n",
    "stds = grid_result.cv_results_['std_test_score']\n",
    "params = grid_result.cv_results_['params']\n",
    "for mean, stdev, param in zip(means, stds, params):\n",
    "    print(\"%f (%f) with: %r\" % (mean, stdev, param))\n",
    "\n",
    "# Plot results\n",
    "results = np.array(means).reshape(len(eta), len(max_depth))\n",
    "for i, value in enumerate(eta):\n",
    "    plt.plot(max_depth, results[i], label='Learning rate: ' + str(value))\n",
    "plt.legend()\n",
    "plt.title(\"XGBoost learning rate / max_depth / MAE\")\n",
    "plt.xlabel('max_depth')\n",
    "plt.ylabel(\"Mean Absolute Error\")\n",
    "plt.savefig('Earthquake_xgboost_gridsearch.png')    \n",
    "\n",
    "time_elapsed = datetime.now() - start_time \n",
    "\n",
    "print('Time elapsed (hh:mm:ss.ms) {}'.format(time_elapsed))"
   ]
  },
  {
   "cell_type": "markdown",
   "metadata": {},
   "source": [
    "##### Fine-tuned LGBM"
   ]
  },
  {
   "cell_type": "code",
   "execution_count": 114,
   "metadata": {},
   "outputs": [
    {
     "name": "stdout",
     "output_type": "stream",
     "text": [
      "Mean absolute error: 2.06\n"
     ]
    }
   ],
   "source": [
    "# https://lightgbm.readthedocs.io/en/latest/_modules/lightgbm/sklearn.html\n",
    "# Grid search results: 2.096217 (0.039276) with: {'learning_rate': 0.1, 'max_depth': 1, 'n_estimators': 200, 'num_leaves': 10}\n",
    "\n",
    "train_data = lgb.Dataset(train_variables, label=train_targets)\n",
    "\n",
    "lgb_tuned = lgb.LGBMRegressor(boosting_type='gbdt', learning_rate=0.1, max_depth=1, n_estimators=200, num_leaves=10)\n",
    "\n",
    "lgb_tuned.fit(train_variables, train_targets)\n",
    "\n",
    "lgb_preds = lgb_tuned.predict(valid_variables)\n",
    "\n",
    "regressor = 'LGBM (tuned)'\n",
    "\n",
    "MAE = mean_absolute_error(valid_targets, lgb_preds)\n",
    "\n",
    "scores = scores.append(pd.Series([regressor, MAE], index=scores.columns), ignore_index=True)\n",
    "\n",
    "# ROC\n",
    "print('Mean absolute error: %.2f' % MAE)"
   ]
  },
  {
   "cell_type": "markdown",
   "metadata": {},
   "source": [
    "##### Fine-tuned Random Forest"
   ]
  },
  {
   "cell_type": "code",
   "execution_count": 121,
   "metadata": {},
   "outputs": [
    {
     "name": "stdout",
     "output_type": "stream",
     "text": [
      "Mean absolute error: 2.06\n"
     ]
    }
   ],
   "source": [
    "# Random Forest https://scikit-learn.org/stable/modules/generated/sklearn.ensemble.RandomForestRegressor.html\n",
    "# Grid search results: -2.096747 using {'criterion': 'mse', 'n_estimators': 500}\n",
    "# Try bootstrap=True and bootstrap=False\n",
    "# Try max_depth=1, max_depth=10, max_depth=20\n",
    "\n",
    "RndmForest = RandomForestRegressor(criterion='mse', n_estimators=500, bootstrap=True, random_state=25)\n",
    "\n",
    "RndmForest.fit(train_variables, train_targets)\n",
    "\n",
    "RndmForest_preds = RndmForest.predict(valid_variables)\n",
    "\n",
    "regressor = 'RndmForest (tuned)'\n",
    "\n",
    "MAE = mean_absolute_error(valid_targets, RndmForest_preds)\n",
    "\n",
    "scores = scores.append(pd.Series([regressor, MAE], index=scores.columns), ignore_index=True)\n",
    "\n",
    "# ROC\n",
    "print('Mean absolute error: %.2f' % MAE)"
   ]
  },
  {
   "cell_type": "code",
   "execution_count": 122,
   "metadata": {},
   "outputs": [
    {
     "name": "stdout",
     "output_type": "stream",
     "text": [
      "Mean absolute error: 2.79\n"
     ]
    }
   ],
   "source": [
    "# Random Forest https://scikit-learn.org/stable/modules/generated/sklearn.ensemble.RandomForestRegressor.html\n",
    "# Grid search results: -2.096747 using {'criterion': 'mse', 'n_estimators': 500}\n",
    "# Try bootstrap=True and bootstrap=False\n",
    "# Try max_depth=1, max_depth=10, max_depth=20\n",
    "\n",
    "RndmForest = RandomForestRegressor(criterion='mse', n_estimators=500, bootstrap=False, random_state=25)\n",
    "\n",
    "RndmForest.fit(train_variables, train_targets)\n",
    "\n",
    "RndmForest_preds = RndmForest.predict(valid_variables)\n",
    "\n",
    "regressor = 'RndmForest (tuned)'\n",
    "\n",
    "MAE = mean_absolute_error(valid_targets, RndmForest_preds)\n",
    "\n",
    "scores = scores.append(pd.Series([regressor, MAE], index=scores.columns), ignore_index=True)\n",
    "\n",
    "# ROC\n",
    "print('Mean absolute error: %.2f' % MAE)"
   ]
  },
  {
   "cell_type": "code",
   "execution_count": 123,
   "metadata": {},
   "outputs": [
    {
     "name": "stdout",
     "output_type": "stream",
     "text": [
      "Mean absolute error: 2.19\n"
     ]
    }
   ],
   "source": [
    "# Random Forest https://scikit-learn.org/stable/modules/generated/sklearn.ensemble.RandomForestRegressor.html\n",
    "# Grid search results: -2.096747 using {'criterion': 'mse', 'n_estimators': 500}\n",
    "# Try bootstrap=True and bootstrap=False\n",
    "# Try max_depth=1, max_depth=10, max_depth=20\n",
    "\n",
    "RndmForest = RandomForestRegressor(criterion='mse', n_estimators=500, bootstrap=True, max_depth=1, random_state=25)\n",
    "\n",
    "RndmForest.fit(train_variables, train_targets)\n",
    "\n",
    "RndmForest_preds = RndmForest.predict(valid_variables)\n",
    "\n",
    "regressor = 'RndmForest (tuned)'\n",
    "\n",
    "MAE = mean_absolute_error(valid_targets, RndmForest_preds)\n",
    "\n",
    "scores = scores.append(pd.Series([regressor, MAE], index=scores.columns), ignore_index=True)\n",
    "\n",
    "# ROC\n",
    "print('Mean absolute error: %.2f' % MAE)"
   ]
  },
  {
   "cell_type": "code",
   "execution_count": 125,
   "metadata": {},
   "outputs": [
    {
     "name": "stdout",
     "output_type": "stream",
     "text": [
      "Mean absolute error: 2.06\n"
     ]
    }
   ],
   "source": [
    "# Random Forest https://scikit-learn.org/stable/modules/generated/sklearn.ensemble.RandomForestRegressor.html\n",
    "# Grid search results: -2.096747 using {'criterion': 'mse', 'n_estimators': 500}\n",
    "# Try bootstrap=True and bootstrap=False\n",
    "# Try max_depth=1, max_depth=10, max_depth=20\n",
    "\n",
    "RndmForest = RandomForestRegressor(criterion='mse', n_estimators=500, bootstrap=True, max_depth=20, random_state=25)\n",
    "\n",
    "RndmForest.fit(train_variables, train_targets)\n",
    "\n",
    "RndmForest_preds = RndmForest.predict(valid_variables)\n",
    "\n",
    "regressor = 'RndmForest (tuned)'\n",
    "\n",
    "MAE = mean_absolute_error(valid_targets, RndmForest_preds)\n",
    "\n",
    "scores = scores.append(pd.Series([regressor, MAE], index=scores.columns), ignore_index=True)\n",
    "\n",
    "# ROC\n",
    "print('Mean absolute error: %.2f' % MAE)"
   ]
  },
  {
   "cell_type": "code",
   "execution_count": 127,
   "metadata": {},
   "outputs": [
    {
     "name": "stdout",
     "output_type": "stream",
     "text": [
      "Mean absolute error: 2.05\n"
     ]
    }
   ],
   "source": [
    "# Random Forest https://scikit-learn.org/stable/modules/generated/sklearn.ensemble.RandomForestRegressor.html\n",
    "# Grid search results: -2.096747 using {'criterion': 'mse', 'n_estimators': 500}\n",
    "# Try bootstrap=True and bootstrap=False\n",
    "# Try max_depth=1, max_depth=10, max_depth=20\n",
    "\n",
    "RndmForest = RandomForestRegressor(criterion='mse', n_estimators=500, bootstrap=True, max_depth=10, random_state=25)\n",
    "\n",
    "RndmForest.fit(train_variables, train_targets)\n",
    "\n",
    "RndmForest_preds = RndmForest.predict(valid_variables)\n",
    "\n",
    "regressor = 'RndmForest (tuned)'\n",
    "\n",
    "MAE = mean_absolute_error(valid_targets, RndmForest_preds)\n",
    "\n",
    "scores = scores.append(pd.Series([regressor, MAE], index=scores.columns), ignore_index=True)\n",
    "\n",
    "# ROC\n",
    "print('Mean absolute error: %.2f' % MAE)"
   ]
  },
  {
   "cell_type": "markdown",
   "metadata": {},
   "source": [
    "##### Fine-tuned Bagging"
   ]
  },
  {
   "cell_type": "code",
   "execution_count": 128,
   "metadata": {},
   "outputs": [
    {
     "name": "stdout",
     "output_type": "stream",
     "text": [
      "Mean absolute error: 2.05\n"
     ]
    }
   ],
   "source": [
    "# Bagging https://scikit-learn.org/stable/modules/generated/sklearn.ensemble.BaggingRegressor.html\n",
    "# Grid search results: -2.099723 using {'n_estimators': 250}\n",
    "# TAKES THREE HOURS TO COMPUTE\n",
    "\n",
    "#base_estimator = lgb.LGBMRegressor(boosting_type='gbdt', learning_rate=0.1, max_depth=1, n_estimators=200, num_leaves=10)\n",
    "base_estimator = RandomForestRegressor(criterion='mse', n_estimators=500, bootstrap=True, max_depth=10, random_state=25)\n",
    "\n",
    "Bagging = BaggingRegressor(base_estimator=base_estimator, n_estimators=250, random_state=25)\n",
    "\n",
    "Bagging.fit(train_variables, train_targets)\n",
    "\n",
    "Bagging_preds = Bagging.predict(valid_variables)\n",
    "\n",
    "regressor = 'Bagging (tuned)'\n",
    "\n",
    "MAE = mean_absolute_error(valid_targets, Bagging_preds)\n",
    "\n",
    "scores = scores.append(pd.Series([regressor, MAE], index=scores.columns), ignore_index=True)\n",
    "\n",
    "# ROC\n",
    "print('Mean absolute error: %.2f' % MAE)"
   ]
  },
  {
   "cell_type": "markdown",
   "metadata": {},
   "source": [
    "##### Fine-tuned AdaBoost"
   ]
  },
  {
   "cell_type": "code",
   "execution_count": 129,
   "metadata": {},
   "outputs": [
    {
     "name": "stdout",
     "output_type": "stream",
     "text": [
      "Mean absolute error: 2.05\n"
     ]
    }
   ],
   "source": [
    "# AdaBoost http://scikit-learn.org/stable/modules/generated/sklearn.ensemble.AdaBoostRegressor.html\n",
    "# Grid search results: -2.102515 using {'learning_rate': 0.01, 'n_estimators': 50}\n",
    "\n",
    "#base_estimator = lgb.LGBMRegressor(boosting_type='gbdt', learning_rate=0.1, max_depth=1, n_estimators=200, num_leaves=10)\n",
    "base_estimator = RandomForestRegressor(criterion='mse', n_estimators=500, bootstrap=True, max_depth=10, random_state=25)\n",
    "\n",
    "AdaBoost = AdaBoostRegressor(base_estimator=base_estimator, learning_rate=0.01, n_estimators=50, random_state=25)\n",
    "\n",
    "AdaBoost.fit(train_variables, train_targets)\n",
    "\n",
    "AdaBoost_preds = AdaBoost.predict(valid_variables)\n",
    "\n",
    "regressor = 'AdaBoost (tuned)'\n",
    "\n",
    "MAE = mean_absolute_error(valid_targets, AdaBoost_preds)\n",
    "\n",
    "scores = scores.append(pd.Series([regressor, MAE], index=scores.columns), ignore_index=True)\n",
    "\n",
    "# ROC\n",
    "print('Mean absolute error: %.2f' % MAE)"
   ]
  },
  {
   "cell_type": "markdown",
   "metadata": {},
   "source": [
    "##### Fine-tuned XGBoost"
   ]
  },
  {
   "cell_type": "code",
   "execution_count": 117,
   "metadata": {},
   "outputs": [
    {
     "name": "stdout",
     "output_type": "stream",
     "text": [
      "Mean absolute error: 2.07\n"
     ]
    }
   ],
   "source": [
    "# https://machinelearningmastery.com/develop-first-xgboost-model-python-scikit-learn/\n",
    "# Grid search result: -2.103335 using {'learning_rate': 0.1, 'max_depth': 1}\n",
    "\n",
    "from xgboost import XGBRegressor\n",
    "\n",
    "XGBoost = XGBRegressor(learning_rate=0.1, max_depth=1, random_state=25)\n",
    "\n",
    "XGBoost.fit(train_variables, train_targets)\n",
    "\n",
    "XGBoost_preds = XGBoost.predict(valid_variables)\n",
    "\n",
    "regressor = 'XGBoost (tuned)'\n",
    "\n",
    "MAE = mean_absolute_error(valid_targets, XGBoost_preds)\n",
    "\n",
    "scores = scores.append(pd.Series([regressor, MAE], index=scores.columns), ignore_index=True)\n",
    "\n",
    "# ROC\n",
    "print('Mean absolute error: %.2f' % MAE)"
   ]
  },
  {
   "cell_type": "code",
   "execution_count": 130,
   "metadata": {},
   "outputs": [
    {
     "name": "stdout",
     "output_type": "stream",
     "text": [
      "             Regressor                    MAE\n",
      "0             LightGBM  2.083452676549180e+00\n",
      "1                  SVR  3.054608539901138e+00\n",
      "2               LinSVR  3.370004341934972e+00\n",
      "3              Elastic  2.430195999102078e+00\n",
      "4                Lasso  2.439707136054480e+00\n",
      "5                  SGD  1.793030765001460e+20\n",
      "6              DecTree  2.826092664069686e+00\n",
      "7           RndmForest  2.128104772723613e+00\n",
      "8              Bagging  2.069499283569524e+00\n",
      "9            GradBoost  2.097255004109392e+00\n",
      "10                 MLP  2.541102661329900e+02\n",
      "11            AdaBoost  2.124212148197167e+00\n",
      "12             XGBoost  2.096314416187610e+00\n",
      "13             XGBoost  2.096314416187610e+00\n",
      "14             XGBoost  2.369465087483281e+00\n",
      "15             XGBoost  2.096314402050155e+00\n",
      "16             XGBoost  2.096314416187610e+00\n",
      "17             XGBoost  2.096314416187610e+00\n",
      "18          RndmForest  2.160701230452041e+00\n",
      "19          RndmForest  2.128104772723613e+00\n",
      "20     XGBoost (tuned)  2.092903376069071e+00\n",
      "21        LGBM (tuned)  2.077150420588735e+00\n",
      "22        LGBM (tuned)  2.077150420588735e+00\n",
      "23        LGBM (tuned)  2.077150420588735e+00\n",
      "24    AdaBoost (tuned)  2.082275268033622e+00\n",
      "25     Bagging (tuned)  2.074098015858506e+00\n",
      "26    AdaBoost (tuned)  2.078946440579281e+00\n",
      "27     Bagging (tuned)  2.070506316411885e+00\n",
      "28        LGBM (tuned)  2.088599557599847e+00\n",
      "29     Bagging (tuned)  2.061115523620044e+00\n",
      "30    AdaBoost (tuned)  2.057086559571523e+00\n",
      "31     XGBoost (tuned)  2.103089971108200e+00\n",
      "32        LGBM (tuned)  2.146925590414051e+00\n",
      "33    AdaBoost (tuned)  2.106267973476334e+00\n",
      "34     Bagging (tuned)  2.118994433398147e+00\n",
      "35     XGBoost (tuned)  2.147185986732975e+00\n",
      "36        LGBM (tuned)  2.059515930968946e+00\n",
      "37     Bagging (tuned)  2.055071875663562e+00\n",
      "38    AdaBoost (tuned)  2.070201503108126e+00\n",
      "39     XGBoost (tuned)  2.074830439442516e+00\n",
      "40  RndmForest (tuned)  2.060878200183468e+00\n",
      "41  RndmForest (tuned)  2.787893063436527e+00\n",
      "42  RndmForest (tuned)  2.191275002470004e+00\n",
      "43  RndmForest (tuned)  2.051528772903736e+00\n",
      "44  RndmForest (tuned)  2.062616371603235e+00\n",
      "45  RndmForest (tuned)  2.051528772903736e+00\n",
      "46     Bagging (tuned)  2.049817489805816e+00\n",
      "47    AdaBoost (tuned)  2.052822106026742e+00\n"
     ]
    }
   ],
   "source": [
    "print(scores)"
   ]
  },
  {
   "cell_type": "markdown",
   "metadata": {},
   "source": [
    "##### Hyperparameter optimization with Bayesian probabilities\n",
    "\n",
    "Further hyperparameter optimization can be tried with e.g. hyperopt or h2o on distributed systems, which are not available for this notebook.\n",
    "\n",
    "Hyperopt was not successful due to kernel dying, h2o not as there are no distributed systems in use for this code.\n",
    "\n",
    "Sources:\n",
    "- https://towardsdatascience.com/a-conceptual-explanation-of-bayesian-model-based-hyperparameter-optimization-for-machine-learning-b8172278050f\n",
    "- https://towardsdatascience.com/automated-machine-learning-hyperparameter-tuning-in-python-dfda59b72f8a\n",
    "- http://h2o-release.s3.amazonaws.com/h2o/master/3574/docs-website/h2o-py/docs/intro.html"
   ]
  },
  {
   "cell_type": "code",
   "execution_count": null,
   "metadata": {},
   "outputs": [],
   "source": [
    "# Objective function LGB implementation\n",
    "\n",
    "from hyperopt import STATUS_OK\n",
    "\n",
    "N_FOLDS = 5\n",
    "\n",
    "train_data = lgb.Dataset(train_variables, label=train_targets)\n",
    "\n",
    "def objective(params, n_folds = N_FOLDS):\n",
    "    \"\"\"Objective function for LGB Hyperparameter Tuning\"\"\"\n",
    "    \n",
    "    # Perform n_fold cross validation with hyperparameters\n",
    "    # Use early stopping and evalute based on MAE\n",
    "    cv_results = lgb.cv(params, train_data, nfold = n_folds, num_boost_round = 10000, \n",
    "                        early_stopping_rounds = 100, metrics = 'mae', seed = 50)\n",
    "  \n",
    "    # Extract the best score\n",
    "    best_score = min(cv_results['mae'])\n",
    "    \n",
    "    # Dictionary with information for evaluation\n",
    "    return {'loss': best_score, 'params': params, 'status': STATUS_OK}"
   ]
  },
  {
   "cell_type": "code",
   "execution_count": null,
   "metadata": {},
   "outputs": [],
   "source": [
    "# Domain space LGB\n",
    "\n",
    "from hyperopt import hp\n",
    "\n",
    "space = {\n",
    "    'class_weight': hp.choice('class_weight', [None, 'balanced']),\n",
    "    'boosting_type': hp.choice('boosting_type', ['gbdt', 'dart']),\n",
    "    'num_leaves': hp.quniform('num_leaves', 30, 150, 1),\n",
    "    'learning_rate': hp.loguniform('learning_rate', np.log(0.01), np.log(0.2)),\n",
    "    'subsample_for_bin': hp.quniform('subsample_for_bin', 20000, 300000, 20000),\n",
    "    'min_child_samples': hp.quniform('min_child_samples', 20, 500, 5),\n",
    "    'reg_alpha': hp.uniform('reg_alpha', 0.0, 1.0),\n",
    "    'reg_lambda': hp.uniform('reg_lambda', 0.0, 1.0),\n",
    "    'colsample_bytree': hp.uniform('colsample_by_tree', 0.6, 1.0)\n",
    "}"
   ]
  },
  {
   "cell_type": "code",
   "execution_count": null,
   "metadata": {},
   "outputs": [],
   "source": [
    "# Optimzation algorithm\n",
    "\n",
    "from hyperopt import tpe\n",
    "\n",
    "tpe_algorithm = tpe.suggest"
   ]
  },
  {
   "cell_type": "code",
   "execution_count": null,
   "metadata": {},
   "outputs": [],
   "source": [
    "# Trials object to track progress\n",
    "\n",
    "from hyperopt import Trials\n",
    "\n",
    "bayes_trials = Trials()"
   ]
  },
  {
   "cell_type": "code",
   "execution_count": null,
   "metadata": {},
   "outputs": [],
   "source": [
    "# Finding best hyperparameters\n",
    "\n",
    "from hyperopt import fmin\n",
    "\n",
    "MAX_EVALS = 1\n",
    "\n",
    "# Optimize\n",
    "best = fmin(fn = objective, space = space, algo = tpe.suggest, max_evals = MAX_EVALS, trials = bayes_trials)"
   ]
  },
  {
   "cell_type": "markdown",
   "metadata": {},
   "source": [
    "### Predicton and submission"
   ]
  },
  {
   "cell_type": "code",
   "execution_count": 133,
   "metadata": {},
   "outputs": [],
   "source": [
    "# LGB predictions\n",
    "\n",
    "LGB_preds = lgb_tuned.predict(test_X)"
   ]
  },
  {
   "cell_type": "code",
   "execution_count": 134,
   "metadata": {},
   "outputs": [],
   "source": [
    "# LGB submission\n",
    "\n",
    "submission = pd.read_csv('LANL-Earthquake-Prediction/sample_submission.csv', index_col='seg_id')\n",
    "submission.time_to_failure = LGB_preds\n",
    "submission.to_csv('lgb_submission.csv',index=True)"
   ]
  },
  {
   "cell_type": "code",
   "execution_count": 136,
   "metadata": {},
   "outputs": [],
   "source": [
    "# Random Forest predictions\n",
    "\n",
    "RndmForest_preds = RndmForest.predict(test_X)"
   ]
  },
  {
   "cell_type": "code",
   "execution_count": 137,
   "metadata": {},
   "outputs": [],
   "source": [
    "# Random Forest submission\n",
    "\n",
    "submission = pd.read_csv('LANL-Earthquake-Prediction/sample_submission.csv', index_col='seg_id')\n",
    "submission.time_to_failure = RndmForest_preds\n",
    "submission.to_csv('forest_submission.csv',index=True)"
   ]
  },
  {
   "cell_type": "code",
   "execution_count": 139,
   "metadata": {},
   "outputs": [],
   "source": [
    "# Bagging predictions\n",
    "\n",
    "Bagging_preds = Bagging.predict(test_X)"
   ]
  },
  {
   "cell_type": "code",
   "execution_count": 140,
   "metadata": {},
   "outputs": [],
   "source": [
    "# Bagging submission\n",
    "\n",
    "submission = pd.read_csv('LANL-Earthquake-Prediction/sample_submission.csv', index_col='seg_id')\n",
    "submission.time_to_failure = Bagging_preds\n",
    "submission.to_csv('bagging_submission.csv',index=True)"
   ]
  },
  {
   "cell_type": "code",
   "execution_count": 141,
   "metadata": {},
   "outputs": [],
   "source": [
    "# AdaBoost predictions\n",
    "\n",
    "AdaBoost_preds = AdaBoost.predict(test_X)"
   ]
  },
  {
   "cell_type": "code",
   "execution_count": 142,
   "metadata": {},
   "outputs": [],
   "source": [
    "# AdaBoost submission\n",
    "\n",
    "submission = pd.read_csv('LANL-Earthquake-Prediction/sample_submission.csv', index_col='seg_id')\n",
    "submission.time_to_failure = AdaBoost_preds\n",
    "submission.to_csv('ada_submission.csv',index=True)"
   ]
  },
  {
   "cell_type": "code",
   "execution_count": 144,
   "metadata": {},
   "outputs": [],
   "source": [
    "# XGBoost predictions\n",
    "\n",
    "XGBoost_preds = XGBoost.predict(test_X)"
   ]
  },
  {
   "cell_type": "code",
   "execution_count": 145,
   "metadata": {},
   "outputs": [],
   "source": [
    "# XGBoost submission\n",
    "\n",
    "submission = pd.read_csv('LANL-Earthquake-Prediction/sample_submission.csv', index_col='seg_id')\n",
    "submission.time_to_failure = XGBoost_preds\n",
    "submission.to_csv('xgb_submission.csv',index=True)"
   ]
  },
  {
   "cell_type": "code",
   "execution_count": null,
   "metadata": {},
   "outputs": [],
   "source": []
  }
 ],
 "metadata": {
  "kernelspec": {
   "display_name": "Python 3",
   "language": "python",
   "name": "python3"
  },
  "language_info": {
   "codemirror_mode": {
    "name": "ipython",
    "version": 3
   },
   "file_extension": ".py",
   "mimetype": "text/x-python",
   "name": "python",
   "nbconvert_exporter": "python",
   "pygments_lexer": "ipython3",
   "version": "3.6.8"
  }
 },
 "nbformat": 4,
 "nbformat_minor": 2
}
