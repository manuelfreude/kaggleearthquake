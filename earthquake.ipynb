{
 "cells": [
  {
   "cell_type": "markdown",
   "metadata": {},
   "source": [
    "# LANL Earthquake Prediction Challenge\n",
    "https://www.kaggle.com/c/LANL-Earthquake-Prediction\n",
    "\n",
    "## Data description"
   ]
  },
  {
   "cell_type": "markdown",
   "metadata": {},
   "source": [
    "### File descriptions\n",
    "\n",
    "    train.csv - A single, continuous training segment of experimental data.\n",
    "    test - A folder containing many small segments of test data.\n",
    "    sample_sumbission.csv - A sample submission file in the correct format.\n",
    "\n",
    "### Data fields\n",
    "\n",
    "    acoustic_data - the seismic signal [int16]\n",
    "    time_to_failure - the time (in seconds) until the next laboratory earthquake [float64]\n",
    "    seg_id - the test segment ids for which predictions should be made (one prediction per segment)\n",
    "    \n",
    "### Science\n",
    "\n",
    "    https://doi.org/10.1002/2017GL074677\n",
    "    https://doi.org/10.1002/2017GL076708\n",
    "    https://rdcu.be/bdG8Y\n",
    "    https://rdcu.be/bdG9r\n"
   ]
  },
  {
   "cell_type": "markdown",
   "metadata": {},
   "source": [
    "### Library import"
   ]
  },
  {
   "cell_type": "code",
   "execution_count": 1,
   "metadata": {},
   "outputs": [
    {
     "name": "stderr",
     "output_type": "stream",
     "text": [
      "/Users/manuelfreude/anaconda3/envs/tensorflow/lib/python3.6/site-packages/lightgbm/__init__.py:46: UserWarning: Starting from version 2.2.1, the library file in distribution wheels for macOS is built by the Apple Clang (Xcode_8.3.1) compiler.\n",
      "This means that in case of installing LightGBM from PyPI via the ``pip install lightgbm`` command, you don't need to install the gcc compiler anymore.\n",
      "Instead of that, you need to install the OpenMP library, which is required for running LightGBM on the system with the Apple Clang compiler.\n",
      "You can install the OpenMP library by the following command: ``brew install libomp``.\n",
      "  \"You can install the OpenMP library by the following command: ``brew install libomp``.\", UserWarning)\n"
     ]
    }
   ],
   "source": [
    "# Library import \n",
    "import gc\n",
    "import os\n",
    "import time\n",
    "import logging\n",
    "import datetime\n",
    "import warnings\n",
    "import numpy as np\n",
    "import pandas as pd\n",
    "import seaborn as sns\n",
    "import xgboost as xgb\n",
    "import lightgbm as lgb\n",
    "from pandas import Series\n",
    "from scipy import stats\n",
    "from scipy.signal import hann\n",
    "from datetime import datetime\n",
    "from tqdm import tqdm_notebook\n",
    "import matplotlib.pyplot as plt\n",
    "from scipy.signal import hilbert\n",
    "from scipy.signal import convolve\n",
    "from sklearn.svm import NuSVR, SVR\n",
    "from catboost import CatBoostRegressor\n",
    "from sklearn.kernel_ridge import KernelRidge\n",
    "from sklearn.metrics import mean_squared_error\n",
    "from sklearn.preprocessing import LabelEncoder\n",
    "from sklearn.metrics import mean_absolute_error\n",
    "from sklearn.preprocessing import StandardScaler\n",
    "from sklearn.linear_model import LinearRegression\n",
    "from sklearn.model_selection import KFold,StratifiedKFold, RepeatedKFold\n",
    "warnings.filterwarnings(\"ignore\")"
   ]
  },
  {
   "cell_type": "code",
   "execution_count": 2,
   "metadata": {},
   "outputs": [
    {
     "data": {
      "text/plain": [
       "\"\\nfrom zipfile import ZipFile\\n\\nos.makedirs('LANL-Earthquake-Prediction')\\ntrain_zf = ZipFile('LANL-Earthquake-Prediction.zip', 'r')\\ntrain_zf.extractall('LANL-Earthquake-Prediction')\\ntrain_zf.close()\\ntotals_train = 0\\nfor root, dirs, files in os.walk('LANL-Earthquake-Prediction'): \\n    totals_train += len(files)\\nprint('There are %d total files.' % totals_train)\""
      ]
     },
     "execution_count": 2,
     "metadata": {},
     "output_type": "execute_result"
    }
   ],
   "source": [
    "# Unzipping the relevant files\n",
    "# ONE-TIME EXERCISE ONLY\n",
    "\"\"\"\n",
    "from zipfile import ZipFile\n",
    "\n",
    "os.makedirs('LANL-Earthquake-Prediction')\n",
    "train_zf = ZipFile('LANL-Earthquake-Prediction.zip', 'r')\n",
    "train_zf.extractall('LANL-Earthquake-Prediction')\n",
    "train_zf.close()\n",
    "totals_train = 0\n",
    "for root, dirs, files in os.walk('LANL-Earthquake-Prediction'): \n",
    "    totals_train += len(files)\n",
    "print('There are %d total files.' % totals_train)\"\"\""
   ]
  },
  {
   "cell_type": "code",
   "execution_count": 3,
   "metadata": {},
   "outputs": [
    {
     "data": {
      "text/plain": [
       "\"\\nos.makedirs('LANL-Earthquake-Prediction/test')\\ntest_zf = ZipFile('LANL-Earthquake-Prediction/test.zip', 'r')\\ntest_zf.extractall('LANL-Earthquake-Prediction/test')\\ntest_zf.close()\\ntotals_test = 0\\nfor root, dirs, files in os.walk('LANL-Earthquake-Prediction/test'): \\n    totals_test += len(files)\\nprint('There are %d total files.' % totals_test)\""
      ]
     },
     "execution_count": 3,
     "metadata": {},
     "output_type": "execute_result"
    }
   ],
   "source": [
    "# Unzipping the relevant files\n",
    "# ONE-TIME EXERCISE ONLY\n",
    "\"\"\"\n",
    "os.makedirs('LANL-Earthquake-Prediction/test')\n",
    "test_zf = ZipFile('LANL-Earthquake-Prediction/test.zip', 'r')\n",
    "test_zf.extractall('LANL-Earthquake-Prediction/test')\n",
    "test_zf.close()\n",
    "totals_test = 0\n",
    "for root, dirs, files in os.walk('LANL-Earthquake-Prediction/test'): \n",
    "    totals_test += len(files)\n",
    "print('There are %d total files.' % totals_test)\"\"\""
   ]
  },
  {
   "cell_type": "markdown",
   "metadata": {},
   "source": [
    "### First look at the data\n",
    "\n",
    "Source: https://www.kaggle.com/gpreda/lanl-earthquake-eda-and-prediction"
   ]
  },
  {
   "cell_type": "code",
   "execution_count": 4,
   "metadata": {},
   "outputs": [
    {
     "data": {
      "text/html": [
       "<div>\n",
       "<style scoped>\n",
       "    .dataframe tbody tr th:only-of-type {\n",
       "        vertical-align: middle;\n",
       "    }\n",
       "\n",
       "    .dataframe tbody tr th {\n",
       "        vertical-align: top;\n",
       "    }\n",
       "\n",
       "    .dataframe thead th {\n",
       "        text-align: right;\n",
       "    }\n",
       "</style>\n",
       "<table border=\"1\" class=\"dataframe\">\n",
       "  <thead>\n",
       "    <tr style=\"text-align: right;\">\n",
       "      <th></th>\n",
       "      <th>acoustic_data</th>\n",
       "      <th>time_to_failure</th>\n",
       "    </tr>\n",
       "  </thead>\n",
       "  <tbody>\n",
       "    <tr>\n",
       "      <th>0</th>\n",
       "      <td>12</td>\n",
       "      <td>1.469099998474121</td>\n",
       "    </tr>\n",
       "    <tr>\n",
       "      <th>1</th>\n",
       "      <td>6</td>\n",
       "      <td>1.469099998474121</td>\n",
       "    </tr>\n",
       "    <tr>\n",
       "      <th>2</th>\n",
       "      <td>8</td>\n",
       "      <td>1.469099998474121</td>\n",
       "    </tr>\n",
       "    <tr>\n",
       "      <th>3</th>\n",
       "      <td>5</td>\n",
       "      <td>1.469099998474121</td>\n",
       "    </tr>\n",
       "    <tr>\n",
       "      <th>4</th>\n",
       "      <td>8</td>\n",
       "      <td>1.469099998474121</td>\n",
       "    </tr>\n",
       "  </tbody>\n",
       "</table>\n",
       "</div>"
      ],
      "text/plain": [
       "   acoustic_data    time_to_failure\n",
       "0             12  1.469099998474121\n",
       "1              6  1.469099998474121\n",
       "2              8  1.469099998474121\n",
       "3              5  1.469099998474121\n",
       "4              8  1.469099998474121"
      ]
     },
     "execution_count": 4,
     "metadata": {},
     "output_type": "execute_result"
    }
   ],
   "source": [
    "train_df = pd.read_csv('LANL-Earthquake-Prediction/train.csv', \n",
    "                       dtype={'acoustic_data': np.int16, 'time_to_failure': np.float32})\n",
    "\n",
    "pd.options.display.precision = 15\n",
    "train_df.head()"
   ]
  },
  {
   "cell_type": "code",
   "execution_count": 5,
   "metadata": {},
   "outputs": [
    {
     "name": "stdout",
     "output_type": "stream",
     "text": [
      "<class 'pandas.core.frame.DataFrame'>\n",
      "RangeIndex: 629145480 entries, 0 to 629145479\n",
      "Data columns (total 2 columns):\n",
      "acoustic_data      int16\n",
      "time_to_failure    float32\n",
      "dtypes: float32(1), int16(1)\n",
      "memory usage: 3.5 GB\n"
     ]
    }
   ],
   "source": [
    "train_df.info()"
   ]
  },
  {
   "cell_type": "code",
   "execution_count": 6,
   "metadata": {},
   "outputs": [
    {
     "data": {
      "text/html": [
       "<div>\n",
       "<style scoped>\n",
       "    .dataframe tbody tr th:only-of-type {\n",
       "        vertical-align: middle;\n",
       "    }\n",
       "\n",
       "    .dataframe tbody tr th {\n",
       "        vertical-align: top;\n",
       "    }\n",
       "\n",
       "    .dataframe thead th {\n",
       "        text-align: right;\n",
       "    }\n",
       "</style>\n",
       "<table border=\"1\" class=\"dataframe\">\n",
       "  <thead>\n",
       "    <tr style=\"text-align: right;\">\n",
       "      <th></th>\n",
       "      <th>acoustic_data</th>\n",
       "      <th>time_to_failure</th>\n",
       "    </tr>\n",
       "  </thead>\n",
       "  <tbody>\n",
       "    <tr>\n",
       "      <th>0</th>\n",
       "      <td>12</td>\n",
       "      <td>1.469099998474121</td>\n",
       "    </tr>\n",
       "    <tr>\n",
       "      <th>1</th>\n",
       "      <td>6</td>\n",
       "      <td>1.469099998474121</td>\n",
       "    </tr>\n",
       "    <tr>\n",
       "      <th>2</th>\n",
       "      <td>8</td>\n",
       "      <td>1.469099998474121</td>\n",
       "    </tr>\n",
       "    <tr>\n",
       "      <th>3</th>\n",
       "      <td>5</td>\n",
       "      <td>1.469099998474121</td>\n",
       "    </tr>\n",
       "    <tr>\n",
       "      <th>4</th>\n",
       "      <td>8</td>\n",
       "      <td>1.469099998474121</td>\n",
       "    </tr>\n",
       "    <tr>\n",
       "      <th>5</th>\n",
       "      <td>8</td>\n",
       "      <td>1.469099998474121</td>\n",
       "    </tr>\n",
       "    <tr>\n",
       "      <th>6</th>\n",
       "      <td>9</td>\n",
       "      <td>1.469099998474121</td>\n",
       "    </tr>\n",
       "    <tr>\n",
       "      <th>7</th>\n",
       "      <td>7</td>\n",
       "      <td>1.469099998474121</td>\n",
       "    </tr>\n",
       "    <tr>\n",
       "      <th>8</th>\n",
       "      <td>-5</td>\n",
       "      <td>1.469099998474121</td>\n",
       "    </tr>\n",
       "    <tr>\n",
       "      <th>9</th>\n",
       "      <td>3</td>\n",
       "      <td>1.469099998474121</td>\n",
       "    </tr>\n",
       "  </tbody>\n",
       "</table>\n",
       "</div>"
      ],
      "text/plain": [
       "   acoustic_data    time_to_failure\n",
       "0             12  1.469099998474121\n",
       "1              6  1.469099998474121\n",
       "2              8  1.469099998474121\n",
       "3              5  1.469099998474121\n",
       "4              8  1.469099998474121\n",
       "5              8  1.469099998474121\n",
       "6              9  1.469099998474121\n",
       "7              7  1.469099998474121\n",
       "8             -5  1.469099998474121\n",
       "9              3  1.469099998474121"
      ]
     },
     "execution_count": 6,
     "metadata": {},
     "output_type": "execute_result"
    }
   ],
   "source": [
    "pd.options.display.precision = 15\n",
    "train_df.head(10)"
   ]
  },
  {
   "cell_type": "code",
   "execution_count": 7,
   "metadata": {},
   "outputs": [
    {
     "data": {
      "image/png": "[encoded data removed]",
      "text/plain": [
       "<Figure size 864x576 with 2 Axes>"
      ]
     },
     "metadata": {},
     "output_type": "display_data"
    }
   ],
   "source": [
    "train_ad_sample_df = train_df['acoustic_data'].values[::100]\n",
    "train_ttf_sample_df = train_df['time_to_failure'].values[::100]\n",
    "\n",
    "def plot_acc_ttf_data(train_ad_sample_df, train_ttf_sample_df, title=\"Acoustic data and time to failure: 1% sampled data\"):\n",
    "    fig, ax1 = plt.subplots(figsize=(12, 8))\n",
    "    plt.title(title)\n",
    "    plt.plot(train_ad_sample_df, color='r')\n",
    "    ax1.set_ylabel('acoustic data', color='r')\n",
    "    plt.legend(['acoustic data'], loc=(0.01, 0.95))\n",
    "    ax2 = ax1.twinx()\n",
    "    plt.plot(train_ttf_sample_df, color='b')\n",
    "    ax2.set_ylabel('time to failure', color='b')\n",
    "    plt.legend(['time to failure'], loc=(0.01, 0.9))\n",
    "    plt.grid(True)\n",
    "\n",
    "plot_acc_ttf_data(train_ad_sample_df, train_ttf_sample_df)\n",
    "del train_ad_sample_df\n",
    "del train_ttf_sample_df"
   ]
  },
  {
   "cell_type": "code",
   "execution_count": 8,
   "metadata": {},
   "outputs": [
    {
     "data": {
      "image/png": "[encoded data removed]",
      "text/plain": [
       "<Figure size 864x576 with 2 Axes>"
      ]
     },
     "metadata": {},
     "output_type": "display_data"
    }
   ],
   "source": [
    "train_ad_sample_df = train_df['acoustic_data'].values[:6291455]\n",
    "train_ttf_sample_df = train_df['time_to_failure'].values[:6291455]\n",
    "plot_acc_ttf_data(train_ad_sample_df, train_ttf_sample_df, title=\"Acoustic data and time to failure: 1% of data\")\n",
    "del train_ad_sample_df\n",
    "del train_ttf_sample_df"
   ]
  },
  {
   "cell_type": "markdown",
   "metadata": {},
   "source": [
    "### Feature engineering\n",
    "\n",
    "Source: https://www.kaggle.com/gpreda/lanl-earthquake-eda-and-prediction\n",
    "\n",
    "Further ideas along papers: \n",
    "\n",
    "- Kurtosis (https://en.wikipedia.org/wiki/Kurtosis)\n",
    "- Autocorrelation (https://en.wikipedia.org/wiki/Autocorrelation)"
   ]
  },
  {
   "cell_type": "code",
   "execution_count": 9,
   "metadata": {},
   "outputs": [
    {
     "name": "stdout",
     "output_type": "stream",
     "text": [
      "Number of segments:  4194\n"
     ]
    }
   ],
   "source": [
    "# The test segments are 150,000 each.\n",
    "# We split the train data in segments of the same dimmension with the test sets.\n",
    "# We will create additional aggregation features, calculated on the segments.\n",
    "\n",
    "rows = 150000\n",
    "segments = int(np.floor(train_df.shape[0] / rows))\n",
    "print(\"Number of segments: \", segments)"
   ]
  },
  {
   "cell_type": "code",
   "execution_count": 10,
   "metadata": {},
   "outputs": [],
   "source": [
    "# Let's define some computation helper functions.\n",
    "\n",
    "def add_trend_feature(arr, abs_values=False):\n",
    "    idx = np.array(range(len(arr)))\n",
    "    if abs_values:\n",
    "        arr = np.abs(arr)\n",
    "    lr = LinearRegression()\n",
    "    lr.fit(idx.reshape(-1, 1), arr)\n",
    "    return lr.coef_[0]\n",
    "\n",
    "def classic_sta_lta(x, length_sta, length_lta):\n",
    "    sta = np.cumsum(x ** 2)\n",
    "    # Convert to float\n",
    "    sta = np.require(sta, dtype=np.float)\n",
    "    # Copy for LTA\n",
    "    lta = sta.copy()\n",
    "    # Compute the STA and the LTA\n",
    "    sta[length_sta:] = sta[length_sta:] - sta[:-length_sta]\n",
    "    sta /= length_sta\n",
    "    lta[length_lta:] = lta[length_lta:] - lta[:-length_lta]\n",
    "    lta /= length_lta\n",
    "    # Pad zeros\n",
    "    sta[:length_lta - 1] = 0\n",
    "    # Avoid division by zero by setting zero values to tiny float\n",
    "    dtiny = np.finfo(0.0).tiny\n",
    "    idx = lta < dtiny\n",
    "    lta[idx] = dtiny\n",
    "    return sta / lta"
   ]
  },
  {
   "cell_type": "code",
   "execution_count": 11,
   "metadata": {},
   "outputs": [],
   "source": [
    "# Based on source with some additions\n",
    "\n",
    "def create_features(seg_id, seg, X):\n",
    "    xc = pd.Series(seg['acoustic_data'].values)\n",
    "    zc = np.fft.fft(xc)\n",
    "    \n",
    "    X.loc[seg_id, 'mean'] = xc.mean()\n",
    "    X.loc[seg_id, 'std'] = xc.std()\n",
    "    X.loc[seg_id, 'max'] = xc.max()\n",
    "    X.loc[seg_id, 'min'] = xc.min()\n",
    "    \n",
    "    #FFT transform values\n",
    "    realFFT = np.real(zc)\n",
    "    imagFFT = np.imag(zc)\n",
    "    X.loc[seg_id, 'Rmean'] = realFFT.mean()\n",
    "    X.loc[seg_id, 'Rstd'] = realFFT.std()\n",
    "    X.loc[seg_id, 'Rmax'] = realFFT.max()\n",
    "    X.loc[seg_id, 'Rmin'] = realFFT.min()\n",
    "    X.loc[seg_id, 'Imean'] = imagFFT.mean()\n",
    "    X.loc[seg_id, 'Istd'] = imagFFT.std()\n",
    "    X.loc[seg_id, 'Imax'] = imagFFT.max()\n",
    "    X.loc[seg_id, 'Imin'] = imagFFT.min()\n",
    "    X.loc[seg_id, 'Rmean_last_5000'] = realFFT[-5000:].mean()\n",
    "    X.loc[seg_id, 'Rstd__last_5000'] = realFFT[-5000:].std()\n",
    "    X.loc[seg_id, 'Rmax_last_5000'] = realFFT[-5000:].max()\n",
    "    X.loc[seg_id, 'Rmin_last_5000'] = realFFT[-5000:].min()\n",
    "    X.loc[seg_id, 'Rmean_last_15000'] = realFFT[-15000:].mean()\n",
    "    X.loc[seg_id, 'Rstd_last_15000'] = realFFT[-15000:].std()\n",
    "    X.loc[seg_id, 'Rmax_last_15000'] = realFFT[-15000:].max()\n",
    "    X.loc[seg_id, 'Rmin_last_15000'] = realFFT[-15000:].min()\n",
    "    \n",
    "    X.loc[seg_id, 'mean_change_abs'] = np.mean(np.diff(xc))\n",
    "    X.loc[seg_id, 'mean_change_rate'] = np.mean(np.nonzero((np.diff(xc) / xc[:-1]))[0])\n",
    "    X.loc[seg_id, 'abs_max'] = np.abs(xc).max()\n",
    "    X.loc[seg_id, 'abs_min'] = np.abs(xc).min()\n",
    "    \n",
    "    X.loc[seg_id, 'std_first_50000'] = xc[:50000].std()\n",
    "    X.loc[seg_id, 'std_last_50000'] = xc[-50000:].std()\n",
    "    X.loc[seg_id, 'std_first_10000'] = xc[:10000].std()\n",
    "    X.loc[seg_id, 'std_last_10000'] = xc[-10000:].std()\n",
    "    \n",
    "    X.loc[seg_id, 'avg_first_50000'] = xc[:50000].mean()\n",
    "    X.loc[seg_id, 'avg_last_50000'] = xc[-50000:].mean()\n",
    "    X.loc[seg_id, 'avg_first_10000'] = xc[:10000].mean()\n",
    "    X.loc[seg_id, 'avg_last_10000'] = xc[-10000:].mean()\n",
    "    \n",
    "    X.loc[seg_id, 'min_first_50000'] = xc[:50000].min()\n",
    "    X.loc[seg_id, 'min_last_50000'] = xc[-50000:].min()\n",
    "    X.loc[seg_id, 'min_first_10000'] = xc[:10000].min()\n",
    "    X.loc[seg_id, 'min_last_10000'] = xc[-10000:].min()\n",
    "    \n",
    "    X.loc[seg_id, 'max_first_50000'] = xc[:50000].max()\n",
    "    X.loc[seg_id, 'max_last_50000'] = xc[-50000:].max()\n",
    "    X.loc[seg_id, 'max_first_10000'] = xc[:10000].max()\n",
    "    X.loc[seg_id, 'max_last_10000'] = xc[-10000:].max()\n",
    "    \n",
    "    X.loc[seg_id, 'max_to_min'] = xc.max() / np.abs(xc.min())\n",
    "    X.loc[seg_id, 'max_to_min_diff'] = xc.max() - np.abs(xc.min())\n",
    "    X.loc[seg_id, 'count_big'] = len(xc[np.abs(xc) > 500])\n",
    "    X.loc[seg_id, 'sum'] = xc.sum()\n",
    "    \n",
    "    X.loc[seg_id, 'mean_change_rate_first_50000'] = np.mean(np.nonzero((np.diff(xc[:50000]) / xc[:50000][:-1]))[0])\n",
    "    X.loc[seg_id, 'mean_change_rate_last_50000'] = np.mean(np.nonzero((np.diff(xc[-50000:]) / xc[-50000:][:-1]))[0])\n",
    "    X.loc[seg_id, 'mean_change_rate_first_10000'] = np.mean(np.nonzero((np.diff(xc[:10000]) / xc[:10000][:-1]))[0])\n",
    "    X.loc[seg_id, 'mean_change_rate_last_10000'] = np.mean(np.nonzero((np.diff(xc[-10000:]) / xc[-10000:][:-1]))[0])\n",
    "    \n",
    "    X.loc[seg_id, 'q01'] = np.quantile(xc, 0.01)\n",
    "    X.loc[seg_id, 'q05'] = np.quantile(xc, 0.05)\n",
    "    X.loc[seg_id, 'q10'] = np.quantile(xc, 0.10)\n",
    "    X.loc[seg_id, 'q25'] = np.quantile(xc, 0.25)\n",
    "    X.loc[seg_id, 'q50'] = np.quantile(xc, 0.40)\n",
    "    X.loc[seg_id, 'q75'] = np.quantile(xc, 0.75)\n",
    "    X.loc[seg_id, 'q90'] = np.quantile(xc, 0.90)\n",
    "    X.loc[seg_id, 'q95'] = np.quantile(xc, 0.95)\n",
    "    X.loc[seg_id, 'q99'] = np.quantile(xc, 0.99)\n",
    "    \n",
    "    X.loc[seg_id, 'abs_q01'] = np.quantile(np.abs(xc), 0.01)\n",
    "    X.loc[seg_id, 'abs_q05'] = np.quantile(np.abs(xc), 0.05)\n",
    "    X.loc[seg_id, 'abs_q10'] = np.quantile(np.abs(xc), 0.10)\n",
    "    X.loc[seg_id, 'abs_q25'] = np.quantile(np.abs(xc), 0.25)\n",
    "    X.loc[seg_id, 'abs_q50'] = np.quantile(np.abs(xc), 0.50)\n",
    "    X.loc[seg_id, 'abs_q75'] = np.quantile(np.abs(xc), 0.75)\n",
    "    X.loc[seg_id, 'abs_q90'] = np.quantile(np.abs(xc), 0.90)\n",
    "    X.loc[seg_id, 'abs_q95'] = np.quantile(np.abs(xc), 0.95)\n",
    "    X.loc[seg_id, 'abs_q99'] = np.quantile(np.abs(xc), 0.99)\n",
    "    \n",
    "    X.loc[seg_id, 'trend'] = add_trend_feature(xc)\n",
    "    X.loc[seg_id, 'abs_trend'] = add_trend_feature(xc, abs_values=True)\n",
    "    X.loc[seg_id, 'abs_mean'] = np.abs(xc).mean()\n",
    "    X.loc[seg_id, 'abs_std'] = np.abs(xc).std()\n",
    "    \n",
    "    X.loc[seg_id, 'mad'] = xc.mad()\n",
    "    X.loc[seg_id, 'kurt'] = xc.kurtosis()\n",
    "    X.loc[seg_id, 'skew'] = xc.skew()\n",
    "    X.loc[seg_id, 'med'] = xc.median()\n",
    "    \n",
    "    X.loc[seg_id, 'Hilbert_mean'] = np.abs(hilbert(xc)).mean()\n",
    "    X.loc[seg_id, 'Hann_window_mean'] = (convolve(xc, hann(150), mode='same') / sum(hann(150))).mean()\n",
    "    X.loc[seg_id, 'classic_sta_lta1_mean'] = classic_sta_lta(xc, 500, 10000).mean()\n",
    "    X.loc[seg_id, 'classic_sta_lta2_mean'] = classic_sta_lta(xc, 5000, 100000).mean()\n",
    "    X.loc[seg_id, 'classic_sta_lta3_mean'] = classic_sta_lta(xc, 3333, 6666).mean()\n",
    "    X.loc[seg_id, 'classic_sta_lta4_mean'] = classic_sta_lta(xc, 10000, 25000).mean()\n",
    "    X.loc[seg_id, 'Moving_average_700_mean'] = xc.rolling(window=700).mean().mean(skipna=True)\n",
    "    X.loc[seg_id, 'Moving_average_1500_mean'] = xc.rolling(window=1500).mean().mean(skipna=True)\n",
    "    X.loc[seg_id, 'Moving_average_3000_mean'] = xc.rolling(window=3000).mean().mean(skipna=True)\n",
    "    X.loc[seg_id, 'Moving_average_6000_mean'] = xc.rolling(window=6000).mean().mean(skipna=True)\n",
    "    ewma = pd.Series.ewm\n",
    "    X.loc[seg_id, 'exp_Moving_average_300_mean'] = (ewma(xc, span=300).mean()).mean(skipna=True)\n",
    "    X.loc[seg_id, 'exp_Moving_average_3000_mean'] = ewma(xc, span=3000).mean().mean(skipna=True)\n",
    "    X.loc[seg_id, 'exp_Moving_average_30000_mean'] = ewma(xc, span=6000).mean().mean(skipna=True)\n",
    "    no_of_std = 2\n",
    "    X.loc[seg_id, 'MA_700MA_std_mean'] = xc.rolling(window=700).std().mean()\n",
    "    X.loc[seg_id,'MA_700MA_BB_high_mean'] = (X.loc[seg_id, 'Moving_average_700_mean'] + no_of_std * X.loc[seg_id, 'MA_700MA_std_mean']).mean()\n",
    "    X.loc[seg_id,'MA_700MA_BB_low_mean'] = (X.loc[seg_id, 'Moving_average_700_mean'] - no_of_std * X.loc[seg_id, 'MA_700MA_std_mean']).mean()\n",
    "    X.loc[seg_id, 'MA_400MA_std_mean'] = xc.rolling(window=400).std().mean()\n",
    "    X.loc[seg_id,'MA_400MA_BB_high_mean'] = (X.loc[seg_id, 'Moving_average_700_mean'] + no_of_std * X.loc[seg_id, 'MA_400MA_std_mean']).mean()\n",
    "    X.loc[seg_id,'MA_400MA_BB_low_mean'] = (X.loc[seg_id, 'Moving_average_700_mean'] - no_of_std * X.loc[seg_id, 'MA_400MA_std_mean']).mean()\n",
    "    X.loc[seg_id, 'MA_1000MA_std_mean'] = xc.rolling(window=1000).std().mean()\n",
    "    \n",
    "    X.loc[seg_id, 'iqr'] = np.subtract(*np.percentile(xc, [75, 25]))\n",
    "    X.loc[seg_id, 'q999'] = np.quantile(xc,0.999)\n",
    "    X.loc[seg_id, 'q001'] = np.quantile(xc,0.001)\n",
    "    X.loc[seg_id, 'ave10'] = stats.trim_mean(xc, 0.1)\n",
    "    \n",
    "    for windows in [10, 100, 1000]:\n",
    "        x_roll_std = xc.rolling(windows).std().dropna().values\n",
    "        x_roll_mean = xc.rolling(windows).mean().dropna().values\n",
    "        \n",
    "        X.loc[seg_id, 'ave_roll_std_' + str(windows)] = x_roll_std.mean()\n",
    "        X.loc[seg_id, 'std_roll_std_' + str(windows)] = x_roll_std.std()\n",
    "        X.loc[seg_id, 'max_roll_std_' + str(windows)] = x_roll_std.max()\n",
    "        X.loc[seg_id, 'min_roll_std_' + str(windows)] = x_roll_std.min()\n",
    "        X.loc[seg_id, 'q01_roll_std_' + str(windows)] = np.quantile(x_roll_std, 0.01)\n",
    "        X.loc[seg_id, 'q05_roll_std_' + str(windows)] = np.quantile(x_roll_std, 0.05)\n",
    "        X.loc[seg_id, 'q10_roll_std_' + str(windows)] = np.quantile(x_roll_std, 0.10)\n",
    "        X.loc[seg_id, 'q25_roll_std_' + str(windows)] = np.quantile(x_roll_std, 0.25)\n",
    "        X.loc[seg_id, 'q50_roll_std_' + str(windows)] = np.quantile(x_roll_std, 0.50)\n",
    "        X.loc[seg_id, 'q75_roll_std_' + str(windows)] = np.quantile(x_roll_std, 0.75)\n",
    "        X.loc[seg_id, 'q90_roll_std_' + str(windows)] = np.quantile(x_roll_std, 0.90)\n",
    "        X.loc[seg_id, 'q95_roll_std_' + str(windows)] = np.quantile(x_roll_std, 0.95)\n",
    "        X.loc[seg_id, 'q99_roll_std_' + str(windows)] = np.quantile(x_roll_std, 0.99)\n",
    "        X.loc[seg_id, 'av_change_abs_roll_std_' + str(windows)] = np.mean(np.diff(x_roll_std))\n",
    "        X.loc[seg_id, 'av_change_rate_roll_std_' + str(windows)] = np.mean(np.nonzero((np.diff(x_roll_std) / x_roll_std[:-1]))[0])\n",
    "        X.loc[seg_id, 'abs_max_roll_std_' + str(windows)] = np.abs(x_roll_std).max()\n",
    "        \n",
    "        X.loc[seg_id, 'ave_roll_mean_' + str(windows)] = x_roll_mean.mean()\n",
    "        X.loc[seg_id, 'std_roll_mean_' + str(windows)] = x_roll_mean.std()\n",
    "        X.loc[seg_id, 'max_roll_mean_' + str(windows)] = x_roll_mean.max()\n",
    "        X.loc[seg_id, 'min_roll_mean_' + str(windows)] = x_roll_mean.min()\n",
    "        X.loc[seg_id, 'q01_roll_mean_' + str(windows)] = np.quantile(x_roll_mean, 0.01)\n",
    "        X.loc[seg_id, 'q05_roll_mean_' + str(windows)] = np.quantile(x_roll_mean, 0.05)\n",
    "        X.loc[seg_id, 'q10_roll_mean_' + str(windows)] = np.quantile(x_roll_mean, 0.10)\n",
    "        X.loc[seg_id, 'q25_roll_mean_' + str(windows)] = np.quantile(x_roll_mean, 0.25)\n",
    "        X.loc[seg_id, 'q50_roll_mean_' + str(windows)] = np.quantile(x_roll_mean, 0.50)\n",
    "        X.loc[seg_id, 'q75_roll_mean_' + str(windows)] = np.quantile(x_roll_mean, 0.75)\n",
    "        X.loc[seg_id, 'q90_roll_mean_' + str(windows)] = np.quantile(x_roll_mean, 0.90)\n",
    "        X.loc[seg_id, 'q95_roll_mean_' + str(windows)] = np.quantile(x_roll_mean, 0.95)\n",
    "        X.loc[seg_id, 'q99_roll_mean_' + str(windows)] = np.quantile(x_roll_mean, 0.99)\n",
    "        X.loc[seg_id, 'av_change_abs_roll_mean_' + str(windows)] = np.mean(np.diff(x_roll_mean))\n",
    "        X.loc[seg_id, 'av_change_rate_roll_mean_' + str(windows)] = np.mean(np.nonzero((np.diff(x_roll_mean) / x_roll_mean[:-1]))[0])\n",
    "        X.loc[seg_id, 'abs_max_roll_mean_' + str(windows)] = np.abs(x_roll_mean).max()"
   ]
  },
  {
   "cell_type": "markdown",
   "metadata": {},
   "source": [
    "##### Train data processing"
   ]
  },
  {
   "cell_type": "code",
   "execution_count": 12,
   "metadata": {},
   "outputs": [],
   "source": [
    "# Processing the train data\n",
    "\n",
    "train_X = pd.DataFrame(index=range(segments), dtype=np.float64)\n",
    "train_y = pd.DataFrame(index=range(segments), dtype=np.float64, columns=['time_to_failure'])\n",
    "total_mean = train_df['acoustic_data'].mean()\n",
    "total_std = train_df['acoustic_data'].std()\n",
    "total_max = train_df['acoustic_data'].max()\n",
    "total_min = train_df['acoustic_data'].min()\n",
    "total_sum = train_df['acoustic_data'].sum()\n",
    "total_abs_sum = np.abs(train_df['acoustic_data']).sum()"
   ]
  },
  {
   "cell_type": "code",
   "execution_count": 13,
   "metadata": {},
   "outputs": [
    {
     "data": {
      "text/plain": [
       "(4194, 194)"
      ]
     },
     "execution_count": 13,
     "metadata": {},
     "output_type": "execute_result"
    }
   ],
   "source": [
    "# Iterate over all segments\n",
    "# Takes about 45 min with local machine\n",
    "\n",
    "for seg_id in range(segments):\n",
    "    seg = train_df.iloc[seg_id*rows:seg_id*rows+rows]\n",
    "    create_features(seg_id, seg, train_X)\n",
    "    train_y.loc[seg_id, 'time_to_failure'] = seg['time_to_failure'].values[-1]\n",
    "\n",
    "train_X.shape"
   ]
  },
  {
   "cell_type": "code",
   "execution_count": 14,
   "metadata": {},
   "outputs": [
    {
     "name": "stdout",
     "output_type": "stream",
     "text": [
      "<class 'pandas.core.frame.DataFrame'>\n",
      "RangeIndex: 4194 entries, 0 to 4193\n",
      "Columns: 194 entries, mean to abs_max_roll_mean_1000\n",
      "dtypes: float64(194)\n",
      "memory usage: 6.2 MB\n"
     ]
    }
   ],
   "source": [
    "train_X.info()"
   ]
  },
  {
   "cell_type": "code",
   "execution_count": 15,
   "metadata": {},
   "outputs": [
    {
     "data": {
      "text/html": [
       "<div>\n",
       "<style scoped>\n",
       "    .dataframe tbody tr th:only-of-type {\n",
       "        vertical-align: middle;\n",
       "    }\n",
       "\n",
       "    .dataframe tbody tr th {\n",
       "        vertical-align: top;\n",
       "    }\n",
       "\n",
       "    .dataframe thead th {\n",
       "        text-align: right;\n",
       "    }\n",
       "</style>\n",
       "<table border=\"1\" class=\"dataframe\">\n",
       "  <thead>\n",
       "    <tr style=\"text-align: right;\">\n",
       "      <th></th>\n",
       "      <th>mean</th>\n",
       "      <th>std</th>\n",
       "      <th>max</th>\n",
       "      <th>min</th>\n",
       "      <th>Rmean</th>\n",
       "      <th>Rstd</th>\n",
       "      <th>Rmax</th>\n",
       "      <th>Rmin</th>\n",
       "      <th>Imean</th>\n",
       "      <th>Istd</th>\n",
       "      <th>...</th>\n",
       "      <th>q10_roll_mean_1000</th>\n",
       "      <th>q25_roll_mean_1000</th>\n",
       "      <th>q50_roll_mean_1000</th>\n",
       "      <th>q75_roll_mean_1000</th>\n",
       "      <th>q90_roll_mean_1000</th>\n",
       "      <th>q95_roll_mean_1000</th>\n",
       "      <th>q99_roll_mean_1000</th>\n",
       "      <th>av_change_abs_roll_mean_1000</th>\n",
       "      <th>av_change_rate_roll_mean_1000</th>\n",
       "      <th>abs_max_roll_mean_1000</th>\n",
       "    </tr>\n",
       "  </thead>\n",
       "  <tbody>\n",
       "    <tr>\n",
       "      <th>0</th>\n",
       "      <td>1.424140499795022</td>\n",
       "      <td>-0.170213582943171</td>\n",
       "      <td>-0.218193508692627</td>\n",
       "      <td>0.193218185209325</td>\n",
       "      <td>1.199316205489369</td>\n",
       "      <td>-0.105006593381723</td>\n",
       "      <td>1.424140499795018</td>\n",
       "      <td>0.156736086729651</td>\n",
       "      <td>-0.567194588224215</td>\n",
       "      <td>-0.169052005333305</td>\n",
       "      <td>...</td>\n",
       "      <td>0.965457528760674</td>\n",
       "      <td>1.355543630307086</td>\n",
       "      <td>1.484626392621775</td>\n",
       "      <td>1.576678338041653</td>\n",
       "      <td>1.615077095751950</td>\n",
       "      <td>1.509153430549683</td>\n",
       "      <td>0.885262121712506</td>\n",
       "      <td>-0.631300343511894</td>\n",
       "      <td>-1.832422175860377</td>\n",
       "      <td>-0.004741890462161</td>\n",
       "    </tr>\n",
       "    <tr>\n",
       "      <th>1</th>\n",
       "      <td>0.805716032556442</td>\n",
       "      <td>0.004734017014316</td>\n",
       "      <td>0.063936007992510</td>\n",
       "      <td>-0.018037271219829</td>\n",
       "      <td>0.078885810556771</td>\n",
       "      <td>-0.008598597346281</td>\n",
       "      <td>0.805716032556438</td>\n",
       "      <td>-0.222117948425051</td>\n",
       "      <td>-0.485093757384045</td>\n",
       "      <td>0.007211752080005</td>\n",
       "      <td>...</td>\n",
       "      <td>0.813989841781850</td>\n",
       "      <td>0.766512523290728</td>\n",
       "      <td>0.821627064439891</td>\n",
       "      <td>0.866676455933138</td>\n",
       "      <td>0.682085943199904</td>\n",
       "      <td>0.522427542165818</td>\n",
       "      <td>0.294356817530996</td>\n",
       "      <td>-0.912053970881953</td>\n",
       "      <td>-0.890022480697742</td>\n",
       "      <td>0.007341389309125</td>\n",
       "    </tr>\n",
       "    <tr>\n",
       "      <th>2</th>\n",
       "      <td>1.511155259373638</td>\n",
       "      <td>0.049252196732055</td>\n",
       "      <td>-0.086288799593083</td>\n",
       "      <td>0.163038834290874</td>\n",
       "      <td>0.078885810556770</td>\n",
       "      <td>0.043799511533280</td>\n",
       "      <td>1.511155259373636</td>\n",
       "      <td>-0.104253774698728</td>\n",
       "      <td>0.220973387841424</td>\n",
       "      <td>0.054839360725539</td>\n",
       "      <td>...</td>\n",
       "      <td>1.400927128824792</td>\n",
       "      <td>1.460174155895519</td>\n",
       "      <td>1.570426305680608</td>\n",
       "      <td>1.495202712225922</td>\n",
       "      <td>1.603699154867169</td>\n",
       "      <td>1.530919442793446</td>\n",
       "      <td>0.889790131706233</td>\n",
       "      <td>0.441127926802558</td>\n",
       "      <td>0.639209280695772</td>\n",
       "      <td>0.099555892826834</td>\n",
       "    </tr>\n",
       "    <tr>\n",
       "      <th>3</th>\n",
       "      <td>1.494934375107487</td>\n",
       "      <td>0.043949637951170</td>\n",
       "      <td>0.122560323147863</td>\n",
       "      <td>-0.187796120136112</td>\n",
       "      <td>0.078885810556771</td>\n",
       "      <td>0.044798043493984</td>\n",
       "      <td>1.494934375107485</td>\n",
       "      <td>-0.033850788412464</td>\n",
       "      <td>0.516536378866038</td>\n",
       "      <td>0.042216538302113</td>\n",
       "      <td>...</td>\n",
       "      <td>1.260819518369380</td>\n",
       "      <td>1.363294039609932</td>\n",
       "      <td>1.578226297776864</td>\n",
       "      <td>1.599957088274720</td>\n",
       "      <td>1.486127099057766</td>\n",
       "      <td>1.432972387696517</td>\n",
       "      <td>0.815077966809722</td>\n",
       "      <td>-0.949993650256284</td>\n",
       "      <td>-1.097513494373596</td>\n",
       "      <td>0.068075769212167</td>\n",
       "    </tr>\n",
       "    <tr>\n",
       "      <th>4</th>\n",
       "      <td>1.520242078970568</td>\n",
       "      <td>0.088495070341074</td>\n",
       "      <td>-0.067968701107035</td>\n",
       "      <td>0.087590456994748</td>\n",
       "      <td>1.199316205489368</td>\n",
       "      <td>0.078652301654897</td>\n",
       "      <td>1.520242078970566</td>\n",
       "      <td>-0.056323939067857</td>\n",
       "      <td>0.204553221673390</td>\n",
       "      <td>0.086841682459309</td>\n",
       "      <td>...</td>\n",
       "      <td>1.575114968850440</td>\n",
       "      <td>1.541553453575410</td>\n",
       "      <td>1.531426345199321</td>\n",
       "      <td>1.421486669821213</td>\n",
       "      <td>1.368555043248362</td>\n",
       "      <td>1.393068031916287</td>\n",
       "      <td>0.901110156690553</td>\n",
       "      <td>0.595415956258175</td>\n",
       "      <td>-0.465464227208672</td>\n",
       "      <td>0.138031599466982</td>\n",
       "    </tr>\n",
       "    <tr>\n",
       "      <th>5</th>\n",
       "      <td>1.538962489544185</td>\n",
       "      <td>-0.131053986788160</td>\n",
       "      <td>-0.078960760198664</td>\n",
       "      <td>0.019686917428235</td>\n",
       "      <td>1.519439175470111</td>\n",
       "      <td>-0.073279455182016</td>\n",
       "      <td>1.538962489544182</td>\n",
       "      <td>0.016520649604222</td>\n",
       "      <td>0.089612058497151</td>\n",
       "      <td>-0.134763478369498</td>\n",
       "      <td>...</td>\n",
       "      <td>1.294899747939614</td>\n",
       "      <td>1.378794858215624</td>\n",
       "      <td>1.547026329391834</td>\n",
       "      <td>1.700831672618006</td>\n",
       "      <td>1.706100622830199</td>\n",
       "      <td>1.741324227816475</td>\n",
       "      <td>1.193166801286013</td>\n",
       "      <td>-1.382505995123670</td>\n",
       "      <td>0.273910179965897</td>\n",
       "      <td>0.061716148279912</td>\n",
       "    </tr>\n",
       "    <tr>\n",
       "      <th>6</th>\n",
       "      <td>1.313015726042317</td>\n",
       "      <td>-0.101218785996422</td>\n",
       "      <td>-0.159569193537274</td>\n",
       "      <td>0.268666562505451</td>\n",
       "      <td>-0.721421614395085</td>\n",
       "      <td>-0.065897706573636</td>\n",
       "      <td>1.313015726042313</td>\n",
       "      <td>0.026620944137275</td>\n",
       "      <td>-0.304471929535669</td>\n",
       "      <td>-0.098334074796606</td>\n",
       "      <td>...</td>\n",
       "      <td>1.484234356663146</td>\n",
       "      <td>1.351668425655662</td>\n",
       "      <td>1.340326538841012</td>\n",
       "      <td>1.250775834778729</td>\n",
       "      <td>1.091691815052021</td>\n",
       "      <td>1.059322510845276</td>\n",
       "      <td>0.627165552070007</td>\n",
       "      <td>-0.031853409397449</td>\n",
       "      <td>0.021835030421887</td>\n",
       "      <td>-0.031134317331023</td>\n",
       "    </tr>\n",
       "    <tr>\n",
       "      <th>7</th>\n",
       "      <td>-0.054824008985421</td>\n",
       "      <td>-0.081617152532347</td>\n",
       "      <td>-0.089952819290292</td>\n",
       "      <td>0.057411106076298</td>\n",
       "      <td>-0.241237159423971</td>\n",
       "      <td>-0.099902265987057</td>\n",
       "      <td>-0.054824008985424</td>\n",
       "      <td>-0.027098806829572</td>\n",
       "      <td>0.262023803261509</td>\n",
       "      <td>-0.076354258709420</td>\n",
       "      <td>...</td>\n",
       "      <td>0.049078022538792</td>\n",
       "      <td>-0.039530044205341</td>\n",
       "      <td>-0.067572034533458</td>\n",
       "      <td>-0.060593761683994</td>\n",
       "      <td>-0.171259623158679</td>\n",
       "      <td>-0.213989205414785</td>\n",
       "      <td>-0.316924531622290</td>\n",
       "      <td>-0.514951993430610</td>\n",
       "      <td>0.114835774764259</td>\n",
       "      <td>-0.147515380391304</td>\n",
       "    </tr>\n",
       "    <tr>\n",
       "      <th>8</th>\n",
       "      <td>0.774732321036825</td>\n",
       "      <td>0.145943916470089</td>\n",
       "      <td>0.016303751928785</td>\n",
       "      <td>-0.025582108949441</td>\n",
       "      <td>-0.561360129404713</td>\n",
       "      <td>0.098087075492250</td>\n",
       "      <td>0.774732321036822</td>\n",
       "      <td>-0.342872656184990</td>\n",
       "      <td>-0.238791264863532</td>\n",
       "      <td>0.147895339130580</td>\n",
       "      <td>...</td>\n",
       "      <td>0.776122920037145</td>\n",
       "      <td>0.782013341896420</td>\n",
       "      <td>0.794327092102991</td>\n",
       "      <td>0.750282704767807</td>\n",
       "      <td>0.701049178007872</td>\n",
       "      <td>0.660278953042976</td>\n",
       "      <td>0.552453387173494</td>\n",
       "      <td>0.848347152087057</td>\n",
       "      <td>-0.227912239275442</td>\n",
       "      <td>0.023240441639764</td>\n",
       "    </tr>\n",
       "    <tr>\n",
       "      <th>9</th>\n",
       "      <td>0.825998647072221</td>\n",
       "      <td>0.040204715451199</td>\n",
       "      <td>-0.042320563226568</td>\n",
       "      <td>0.087590456994748</td>\n",
       "      <td>0.078885810556771</td>\n",
       "      <td>0.015541887002806</td>\n",
       "      <td>0.825998647072220</td>\n",
       "      <td>0.050997446880598</td>\n",
       "      <td>-0.008908938511054</td>\n",
       "      <td>0.046142156416401</td>\n",
       "      <td>...</td>\n",
       "      <td>0.643588693930674</td>\n",
       "      <td>0.716134862822224</td>\n",
       "      <td>0.880127005161824</td>\n",
       "      <td>0.952031873454381</td>\n",
       "      <td>0.845169762548433</td>\n",
       "      <td>0.747343002018023</td>\n",
       "      <td>0.380389007411829</td>\n",
       "      <td>1.943539230026109</td>\n",
       "      <td>-1.024070155238219</td>\n",
       "      <td>-0.070245986064396</td>\n",
       "    </tr>\n",
       "  </tbody>\n",
       "</table>\n",
       "<p>10 rows × 194 columns</p>\n",
       "</div>"
      ],
      "text/plain": [
       "                mean                std                max                min  \\\n",
       "0  1.424140499795022 -0.170213582943171 -0.218193508692627  0.193218185209325   \n",
       "1  0.805716032556442  0.004734017014316  0.063936007992510 -0.018037271219829   \n",
       "2  1.511155259373638  0.049252196732055 -0.086288799593083  0.163038834290874   \n",
       "3  1.494934375107487  0.043949637951170  0.122560323147863 -0.187796120136112   \n",
       "4  1.520242078970568  0.088495070341074 -0.067968701107035  0.087590456994748   \n",
       "5  1.538962489544185 -0.131053986788160 -0.078960760198664  0.019686917428235   \n",
       "6  1.313015726042317 -0.101218785996422 -0.159569193537274  0.268666562505451   \n",
       "7 -0.054824008985421 -0.081617152532347 -0.089952819290292  0.057411106076298   \n",
       "8  0.774732321036825  0.145943916470089  0.016303751928785 -0.025582108949441   \n",
       "9  0.825998647072221  0.040204715451199 -0.042320563226568  0.087590456994748   \n",
       "\n",
       "               Rmean               Rstd               Rmax               Rmin  \\\n",
       "0  1.199316205489369 -0.105006593381723  1.424140499795018  0.156736086729651   \n",
       "1  0.078885810556771 -0.008598597346281  0.805716032556438 -0.222117948425051   \n",
       "2  0.078885810556770  0.043799511533280  1.511155259373636 -0.104253774698728   \n",
       "3  0.078885810556771  0.044798043493984  1.494934375107485 -0.033850788412464   \n",
       "4  1.199316205489368  0.078652301654897  1.520242078970566 -0.056323939067857   \n",
       "5  1.519439175470111 -0.073279455182016  1.538962489544182  0.016520649604222   \n",
       "6 -0.721421614395085 -0.065897706573636  1.313015726042313  0.026620944137275   \n",
       "7 -0.241237159423971 -0.099902265987057 -0.054824008985424 -0.027098806829572   \n",
       "8 -0.561360129404713  0.098087075492250  0.774732321036822 -0.342872656184990   \n",
       "9  0.078885810556771  0.015541887002806  0.825998647072220  0.050997446880598   \n",
       "\n",
       "               Imean               Istd           ...            \\\n",
       "0 -0.567194588224215 -0.169052005333305           ...             \n",
       "1 -0.485093757384045  0.007211752080005           ...             \n",
       "2  0.220973387841424  0.054839360725539           ...             \n",
       "3  0.516536378866038  0.042216538302113           ...             \n",
       "4  0.204553221673390  0.086841682459309           ...             \n",
       "5  0.089612058497151 -0.134763478369498           ...             \n",
       "6 -0.304471929535669 -0.098334074796606           ...             \n",
       "7  0.262023803261509 -0.076354258709420           ...             \n",
       "8 -0.238791264863532  0.147895339130580           ...             \n",
       "9 -0.008908938511054  0.046142156416401           ...             \n",
       "\n",
       "   q10_roll_mean_1000  q25_roll_mean_1000  q50_roll_mean_1000  \\\n",
       "0   0.965457528760674   1.355543630307086   1.484626392621775   \n",
       "1   0.813989841781850   0.766512523290728   0.821627064439891   \n",
       "2   1.400927128824792   1.460174155895519   1.570426305680608   \n",
       "3   1.260819518369380   1.363294039609932   1.578226297776864   \n",
       "4   1.575114968850440   1.541553453575410   1.531426345199321   \n",
       "5   1.294899747939614   1.378794858215624   1.547026329391834   \n",
       "6   1.484234356663146   1.351668425655662   1.340326538841012   \n",
       "7   0.049078022538792  -0.039530044205341  -0.067572034533458   \n",
       "8   0.776122920037145   0.782013341896420   0.794327092102991   \n",
       "9   0.643588693930674   0.716134862822224   0.880127005161824   \n",
       "\n",
       "   q75_roll_mean_1000  q90_roll_mean_1000  q95_roll_mean_1000  \\\n",
       "0   1.576678338041653   1.615077095751950   1.509153430549683   \n",
       "1   0.866676455933138   0.682085943199904   0.522427542165818   \n",
       "2   1.495202712225922   1.603699154867169   1.530919442793446   \n",
       "3   1.599957088274720   1.486127099057766   1.432972387696517   \n",
       "4   1.421486669821213   1.368555043248362   1.393068031916287   \n",
       "5   1.700831672618006   1.706100622830199   1.741324227816475   \n",
       "6   1.250775834778729   1.091691815052021   1.059322510845276   \n",
       "7  -0.060593761683994  -0.171259623158679  -0.213989205414785   \n",
       "8   0.750282704767807   0.701049178007872   0.660278953042976   \n",
       "9   0.952031873454381   0.845169762548433   0.747343002018023   \n",
       "\n",
       "   q99_roll_mean_1000  av_change_abs_roll_mean_1000  \\\n",
       "0   0.885262121712506            -0.631300343511894   \n",
       "1   0.294356817530996            -0.912053970881953   \n",
       "2   0.889790131706233             0.441127926802558   \n",
       "3   0.815077966809722            -0.949993650256284   \n",
       "4   0.901110156690553             0.595415956258175   \n",
       "5   1.193166801286013            -1.382505995123670   \n",
       "6   0.627165552070007            -0.031853409397449   \n",
       "7  -0.316924531622290            -0.514951993430610   \n",
       "8   0.552453387173494             0.848347152087057   \n",
       "9   0.380389007411829             1.943539230026109   \n",
       "\n",
       "   av_change_rate_roll_mean_1000  abs_max_roll_mean_1000  \n",
       "0             -1.832422175860377      -0.004741890462161  \n",
       "1             -0.890022480697742       0.007341389309125  \n",
       "2              0.639209280695772       0.099555892826834  \n",
       "3             -1.097513494373596       0.068075769212167  \n",
       "4             -0.465464227208672       0.138031599466982  \n",
       "5              0.273910179965897       0.061716148279912  \n",
       "6              0.021835030421887      -0.031134317331023  \n",
       "7              0.114835774764259      -0.147515380391304  \n",
       "8             -0.227912239275442       0.023240441639764  \n",
       "9             -1.024070155238219      -0.070245986064396  \n",
       "\n",
       "[10 rows x 194 columns]"
      ]
     },
     "execution_count": 15,
     "metadata": {},
     "output_type": "execute_result"
    }
   ],
   "source": [
    "# Scaling the data\n",
    "\n",
    "scaler = StandardScaler()\n",
    "scaler.fit(train_X)\n",
    "scaled_train_X = pd.DataFrame(scaler.transform(train_X), columns=train_X.columns)\n",
    "\n",
    "scaled_train_X.head(10)"
   ]
  },
  {
   "cell_type": "markdown",
   "metadata": {},
   "source": [
    "##### Test data processing"
   ]
  },
  {
   "cell_type": "code",
   "execution_count": 16,
   "metadata": {},
   "outputs": [
    {
     "data": {
      "text/plain": [
       "((2624, 1), (2624, 194))"
      ]
     },
     "execution_count": 16,
     "metadata": {},
     "output_type": "execute_result"
    }
   ],
   "source": [
    "submission = pd.read_csv('LANL-Earthquake-Prediction/sample_submission.csv', index_col='seg_id')\n",
    "test_X = pd.DataFrame(columns=train_X.columns, dtype=np.float64, index=submission.index)\n",
    "\n",
    "submission.shape, test_X.shape"
   ]
  },
  {
   "cell_type": "code",
   "execution_count": 17,
   "metadata": {},
   "outputs": [
    {
     "data": {
      "text/plain": [
       "(2624, 194)"
      ]
     },
     "execution_count": 17,
     "metadata": {},
     "output_type": "execute_result"
    }
   ],
   "source": [
    "# Iterate over all segments\n",
    "# Takes about XX min with local machine\n",
    "\n",
    "for seg_id in test_X.index:\n",
    "    seg = pd.read_csv('LANL-Earthquake-Prediction//test/' + seg_id + '.csv')\n",
    "    create_features(seg_id, seg, test_X)\n",
    "    \n",
    "test_X.shape"
   ]
  },
  {
   "cell_type": "code",
   "execution_count": 18,
   "metadata": {},
   "outputs": [
    {
     "name": "stdout",
     "output_type": "stream",
     "text": [
      "<class 'pandas.core.frame.DataFrame'>\n",
      "Index: 2624 entries, seg_00030f to seg_ffe7cc\n",
      "Columns: 194 entries, mean to abs_max_roll_mean_1000\n",
      "dtypes: float64(194)\n",
      "memory usage: 4.0+ MB\n"
     ]
    }
   ],
   "source": [
    "test_X.info()"
   ]
  },
  {
   "cell_type": "code",
   "execution_count": 19,
   "metadata": {},
   "outputs": [
    {
     "data": {
      "text/plain": [
       "(2624, 194)"
      ]
     },
     "execution_count": 19,
     "metadata": {},
     "output_type": "execute_result"
    }
   ],
   "source": [
    "scaled_test_X = pd.DataFrame(scaler.transform(test_X), columns=test_X.columns)\n",
    "\n",
    "scaled_test_X.shape"
   ]
  },
  {
   "cell_type": "code",
   "execution_count": 20,
   "metadata": {},
   "outputs": [
    {
     "data": {
      "text/html": [
       "<div>\n",
       "<style scoped>\n",
       "    .dataframe tbody tr th:only-of-type {\n",
       "        vertical-align: middle;\n",
       "    }\n",
       "\n",
       "    .dataframe tbody tr th {\n",
       "        vertical-align: top;\n",
       "    }\n",
       "\n",
       "    .dataframe thead th {\n",
       "        text-align: right;\n",
       "    }\n",
       "</style>\n",
       "<table border=\"1\" class=\"dataframe\">\n",
       "  <thead>\n",
       "    <tr style=\"text-align: right;\">\n",
       "      <th></th>\n",
       "      <th>mean</th>\n",
       "      <th>std</th>\n",
       "      <th>max</th>\n",
       "      <th>min</th>\n",
       "      <th>Rmean</th>\n",
       "      <th>Rstd</th>\n",
       "      <th>Rmax</th>\n",
       "      <th>Rmin</th>\n",
       "      <th>Imean</th>\n",
       "      <th>Istd</th>\n",
       "      <th>...</th>\n",
       "      <th>q10_roll_mean_1000</th>\n",
       "      <th>q25_roll_mean_1000</th>\n",
       "      <th>q50_roll_mean_1000</th>\n",
       "      <th>q75_roll_mean_1000</th>\n",
       "      <th>q90_roll_mean_1000</th>\n",
       "      <th>q95_roll_mean_1000</th>\n",
       "      <th>q99_roll_mean_1000</th>\n",
       "      <th>av_change_abs_roll_mean_1000</th>\n",
       "      <th>av_change_rate_roll_mean_1000</th>\n",
       "      <th>abs_max_roll_mean_1000</th>\n",
       "    </tr>\n",
       "  </thead>\n",
       "  <tbody>\n",
       "    <tr>\n",
       "      <th>2614</th>\n",
       "      <td>-1.081634623438432</td>\n",
       "      <td>-0.268601942296902</td>\n",
       "      <td>-0.350098217792172</td>\n",
       "      <td>0.329025264342352</td>\n",
       "      <td>-0.081175674433601</td>\n",
       "      <td>-0.256057804503499</td>\n",
       "      <td>-1.081634623438434</td>\n",
       "      <td>0.296094951842351</td>\n",
       "      <td>-0.074589603183191</td>\n",
       "      <td>-0.265116961140863</td>\n",
       "      <td>...</td>\n",
       "      <td>-0.905168405427796</td>\n",
       "      <td>-1.054833662878272</td>\n",
       "      <td>-1.194670892442660</td>\n",
       "      <td>-1.177973772871168</td>\n",
       "      <td>-0.979093425978135</td>\n",
       "      <td>-0.834320554361995</td>\n",
       "      <td>-0.568229086274198</td>\n",
       "      <td>-0.621183095678739</td>\n",
       "      <td>-0.332742633283314</td>\n",
       "      <td>-0.197756385756125</td>\n",
       "    </tr>\n",
       "    <tr>\n",
       "      <th>2615</th>\n",
       "      <td>-0.734695164615844</td>\n",
       "      <td>-0.320940103312901</td>\n",
       "      <td>-0.390402434461477</td>\n",
       "      <td>0.400701222773672</td>\n",
       "      <td>0.559070265527885</td>\n",
       "      <td>-0.271490841421192</td>\n",
       "      <td>-0.734695164615847</td>\n",
       "      <td>0.457524666141680</td>\n",
       "      <td>0.368754883353731</td>\n",
       "      <td>-0.320648190853422</td>\n",
       "      <td>...</td>\n",
       "      <td>-0.670393490610618</td>\n",
       "      <td>-0.706065244250166</td>\n",
       "      <td>-0.714971378522829</td>\n",
       "      <td>-0.696879601387803</td>\n",
       "      <td>-0.728778726512949</td>\n",
       "      <td>-0.772650186338005</td>\n",
       "      <td>-0.620301201202069</td>\n",
       "      <td>0.066789756975814</td>\n",
       "      <td>0.379958267345616</td>\n",
       "      <td>-0.210475627620636</td>\n",
       "    </tr>\n",
       "    <tr>\n",
       "      <th>2616</th>\n",
       "      <td>-2.073321685925087</td>\n",
       "      <td>0.185999424044961</td>\n",
       "      <td>0.045615909506462</td>\n",
       "      <td>0.027231755157847</td>\n",
       "      <td>0.238947295547141</td>\n",
       "      <td>0.058192651768876</td>\n",
       "      <td>-2.073321685925090</td>\n",
       "      <td>-0.198272835507732</td>\n",
       "      <td>-0.304471929535669</td>\n",
       "      <td>0.182882262889467</td>\n",
       "      <td>...</td>\n",
       "      <td>-1.734453991636854</td>\n",
       "      <td>-1.915129095494270</td>\n",
       "      <td>-2.076069999319754</td>\n",
       "      <td>-2.221637741653632</td>\n",
       "      <td>-2.249630158112022</td>\n",
       "      <td>-2.114887608036642</td>\n",
       "      <td>-1.421758970091934</td>\n",
       "      <td>-0.681886582677671</td>\n",
       "      <td>-0.455029743769391</td>\n",
       "      <td>-0.255310955193040</td>\n",
       "    </tr>\n",
       "    <tr>\n",
       "      <th>2617</th>\n",
       "      <td>-0.427930383839279</td>\n",
       "      <td>-0.291596382506079</td>\n",
       "      <td>-0.196209390509370</td>\n",
       "      <td>0.310163170018320</td>\n",
       "      <td>0.238947295547143</td>\n",
       "      <td>-0.242327244436703</td>\n",
       "      <td>-0.427930383839283</td>\n",
       "      <td>0.412107554533329</td>\n",
       "      <td>0.171712889337321</td>\n",
       "      <td>-0.293675558394082</td>\n",
       "      <td>...</td>\n",
       "      <td>-0.121323125312385</td>\n",
       "      <td>-0.322419983759251</td>\n",
       "      <td>-0.488771607731363</td>\n",
       "      <td>-0.568846475105938</td>\n",
       "      <td>-0.565694907164423</td>\n",
       "      <td>-0.547734726485800</td>\n",
       "      <td>-0.409748736493715</td>\n",
       "      <td>0.491714165968333</td>\n",
       "      <td>0.259853681784336</td>\n",
       "      <td>-0.147833361437917</td>\n",
       "    </tr>\n",
       "    <tr>\n",
       "      <th>2618</th>\n",
       "      <td>-3.374741716678421</td>\n",
       "      <td>-0.152003490043633</td>\n",
       "      <td>-0.298801942031238</td>\n",
       "      <td>0.234714792722194</td>\n",
       "      <td>-0.721421614395085</td>\n",
       "      <td>-0.249113638779983</td>\n",
       "      <td>-3.374741716678424</td>\n",
       "      <td>0.271951919845560</td>\n",
       "      <td>0.007511227656980</td>\n",
       "      <td>-0.156716904848106</td>\n",
       "      <td>...</td>\n",
       "      <td>-3.196117170982501</td>\n",
       "      <td>-3.155194583949759</td>\n",
       "      <td>-3.327968730769078</td>\n",
       "      <td>-3.494209421061244</td>\n",
       "      <td>-3.383631599628534</td>\n",
       "      <td>-3.239464907297666</td>\n",
       "      <td>-2.157560594072741</td>\n",
       "      <td>-0.466895066223123</td>\n",
       "      <td>-0.517982573703920</td>\n",
       "      <td>-0.424476871991044</td>\n",
       "    </tr>\n",
       "    <tr>\n",
       "      <th>2619</th>\n",
       "      <td>-1.654729139621841</td>\n",
       "      <td>-0.172408272635962</td>\n",
       "      <td>-0.339106158700543</td>\n",
       "      <td>0.374294290720027</td>\n",
       "      <td>-1.041544584375828</td>\n",
       "      <td>-0.215590231150948</td>\n",
       "      <td>-1.654729139621846</td>\n",
       "      <td>0.224509483145720</td>\n",
       "      <td>0.532956545034073</td>\n",
       "      <td>-0.166937482945480</td>\n",
       "      <td>...</td>\n",
       "      <td>-1.647360071624031</td>\n",
       "      <td>-1.690367225711713</td>\n",
       "      <td>-1.643170437977465</td>\n",
       "      <td>-1.670707319471066</td>\n",
       "      <td>-1.574538998948345</td>\n",
       "      <td>-1.469162578138378</td>\n",
       "      <td>-0.817269635929239</td>\n",
       "      <td>0.643472883465663</td>\n",
       "      <td>-0.554972820552376</td>\n",
       "      <td>-0.240683827048852</td>\n",
       "    </tr>\n",
       "    <tr>\n",
       "      <th>2620</th>\n",
       "      <td>-1.487885758598570</td>\n",
       "      <td>-0.060792925011241</td>\n",
       "      <td>0.001647673139947</td>\n",
       "      <td>-0.221747889919369</td>\n",
       "      <td>0.238947295547142</td>\n",
       "      <td>-0.124402235161050</td>\n",
       "      <td>-1.487885758598571</td>\n",
       "      <td>0.230258375488919</td>\n",
       "      <td>-0.074589603183191</td>\n",
       "      <td>-0.063658336471214</td>\n",
       "      <td>...</td>\n",
       "      <td>-1.950295445581679</td>\n",
       "      <td>-1.500482197791965</td>\n",
       "      <td>-1.288270797597750</td>\n",
       "      <td>-1.251689815275878</td>\n",
       "      <td>-1.388699297830253</td>\n",
       "      <td>-1.425630553650856</td>\n",
       "      <td>-0.894245805822615</td>\n",
       "      <td>1.559083812366209</td>\n",
       "      <td>-0.820948539836463</td>\n",
       "      <td>-0.128754498641149</td>\n",
       "    </tr>\n",
       "    <tr>\n",
       "      <th>2621</th>\n",
       "      <td>-3.010670087956753</td>\n",
       "      <td>0.343254632011228</td>\n",
       "      <td>0.536594548932544</td>\n",
       "      <td>-0.580127682075968</td>\n",
       "      <td>-0.241237159423971</td>\n",
       "      <td>0.174257853534564</td>\n",
       "      <td>-3.010670087956756</td>\n",
       "      <td>-0.487617919728305</td>\n",
       "      <td>-1.043379407097206</td>\n",
       "      <td>0.340983182941972</td>\n",
       "      <td>...</td>\n",
       "      <td>-2.790941108314149</td>\n",
       "      <td>-2.942058328121473</td>\n",
       "      <td>-2.988669074581877</td>\n",
       "      <td>-3.013115249577878</td>\n",
       "      <td>-3.053671313969883</td>\n",
       "      <td>-2.956506748128763</td>\n",
       "      <td>-1.935688104380066</td>\n",
       "      <td>1.604611427615407</td>\n",
       "      <td>-0.954385032173800</td>\n",
       "      <td>-0.130344403874213</td>\n",
       "    </tr>\n",
       "    <tr>\n",
       "      <th>2622</th>\n",
       "      <td>-0.694312192710866</td>\n",
       "      <td>0.782096807867043</td>\n",
       "      <td>0.727123573187442</td>\n",
       "      <td>-0.640486383912869</td>\n",
       "      <td>-0.241237159423972</td>\n",
       "      <td>0.628381731544477</td>\n",
       "      <td>-0.694312192710869</td>\n",
       "      <td>-1.113687307556833</td>\n",
       "      <td>0.762838871386551</td>\n",
       "      <td>0.778366527088963</td>\n",
       "      <td>...</td>\n",
       "      <td>-0.662820106261678</td>\n",
       "      <td>-0.636311560524546</td>\n",
       "      <td>-0.675971418041539</td>\n",
       "      <td>-0.735677518442913</td>\n",
       "      <td>-0.800839018783229</td>\n",
       "      <td>-0.761767180216124</td>\n",
       "      <td>0.006828182929265</td>\n",
       "      <td>0.916638574960853</td>\n",
       "      <td>1.362109444329824</td>\n",
       "      <td>0.055356527347656</td>\n",
       "    </tr>\n",
       "    <tr>\n",
       "      <th>2623</th>\n",
       "      <td>-1.248764408517769</td>\n",
       "      <td>-0.349888468230894</td>\n",
       "      <td>-0.331778119306124</td>\n",
       "      <td>0.347887358666383</td>\n",
       "      <td>0.238947295547142</td>\n",
       "      <td>-0.306138783032271</td>\n",
       "      <td>-1.248764408517773</td>\n",
       "      <td>0.388179518203963</td>\n",
       "      <td>-0.230581181779515</td>\n",
       "      <td>-0.350400284361962</td>\n",
       "      <td>...</td>\n",
       "      <td>-1.030129247185325</td>\n",
       "      <td>-1.128462551255317</td>\n",
       "      <td>-1.253170833164593</td>\n",
       "      <td>-1.403001691790806</td>\n",
       "      <td>-1.312846358598377</td>\n",
       "      <td>-1.273268467944525</td>\n",
       "      <td>-0.815005630932376</td>\n",
       "      <td>-0.557950296721519</td>\n",
       "      <td>-0.001931900263394</td>\n",
       "      <td>-0.247997391120946</td>\n",
       "    </tr>\n",
       "  </tbody>\n",
       "</table>\n",
       "<p>10 rows × 194 columns</p>\n",
       "</div>"
      ],
      "text/plain": [
       "                   mean                std                max  \\\n",
       "2614 -1.081634623438432 -0.268601942296902 -0.350098217792172   \n",
       "2615 -0.734695164615844 -0.320940103312901 -0.390402434461477   \n",
       "2616 -2.073321685925087  0.185999424044961  0.045615909506462   \n",
       "2617 -0.427930383839279 -0.291596382506079 -0.196209390509370   \n",
       "2618 -3.374741716678421 -0.152003490043633 -0.298801942031238   \n",
       "2619 -1.654729139621841 -0.172408272635962 -0.339106158700543   \n",
       "2620 -1.487885758598570 -0.060792925011241  0.001647673139947   \n",
       "2621 -3.010670087956753  0.343254632011228  0.536594548932544   \n",
       "2622 -0.694312192710866  0.782096807867043  0.727123573187442   \n",
       "2623 -1.248764408517769 -0.349888468230894 -0.331778119306124   \n",
       "\n",
       "                    min              Rmean               Rstd  \\\n",
       "2614  0.329025264342352 -0.081175674433601 -0.256057804503499   \n",
       "2615  0.400701222773672  0.559070265527885 -0.271490841421192   \n",
       "2616  0.027231755157847  0.238947295547141  0.058192651768876   \n",
       "2617  0.310163170018320  0.238947295547143 -0.242327244436703   \n",
       "2618  0.234714792722194 -0.721421614395085 -0.249113638779983   \n",
       "2619  0.374294290720027 -1.041544584375828 -0.215590231150948   \n",
       "2620 -0.221747889919369  0.238947295547142 -0.124402235161050   \n",
       "2621 -0.580127682075968 -0.241237159423971  0.174257853534564   \n",
       "2622 -0.640486383912869 -0.241237159423972  0.628381731544477   \n",
       "2623  0.347887358666383  0.238947295547142 -0.306138783032271   \n",
       "\n",
       "                   Rmax               Rmin              Imean  \\\n",
       "2614 -1.081634623438434  0.296094951842351 -0.074589603183191   \n",
       "2615 -0.734695164615847  0.457524666141680  0.368754883353731   \n",
       "2616 -2.073321685925090 -0.198272835507732 -0.304471929535669   \n",
       "2617 -0.427930383839283  0.412107554533329  0.171712889337321   \n",
       "2618 -3.374741716678424  0.271951919845560  0.007511227656980   \n",
       "2619 -1.654729139621846  0.224509483145720  0.532956545034073   \n",
       "2620 -1.487885758598571  0.230258375488919 -0.074589603183191   \n",
       "2621 -3.010670087956756 -0.487617919728305 -1.043379407097206   \n",
       "2622 -0.694312192710869 -1.113687307556833  0.762838871386551   \n",
       "2623 -1.248764408517773  0.388179518203963 -0.230581181779515   \n",
       "\n",
       "                   Istd           ...            q10_roll_mean_1000  \\\n",
       "2614 -0.265116961140863           ...            -0.905168405427796   \n",
       "2615 -0.320648190853422           ...            -0.670393490610618   \n",
       "2616  0.182882262889467           ...            -1.734453991636854   \n",
       "2617 -0.293675558394082           ...            -0.121323125312385   \n",
       "2618 -0.156716904848106           ...            -3.196117170982501   \n",
       "2619 -0.166937482945480           ...            -1.647360071624031   \n",
       "2620 -0.063658336471214           ...            -1.950295445581679   \n",
       "2621  0.340983182941972           ...            -2.790941108314149   \n",
       "2622  0.778366527088963           ...            -0.662820106261678   \n",
       "2623 -0.350400284361962           ...            -1.030129247185325   \n",
       "\n",
       "      q25_roll_mean_1000  q50_roll_mean_1000  q75_roll_mean_1000  \\\n",
       "2614  -1.054833662878272  -1.194670892442660  -1.177973772871168   \n",
       "2615  -0.706065244250166  -0.714971378522829  -0.696879601387803   \n",
       "2616  -1.915129095494270  -2.076069999319754  -2.221637741653632   \n",
       "2617  -0.322419983759251  -0.488771607731363  -0.568846475105938   \n",
       "2618  -3.155194583949759  -3.327968730769078  -3.494209421061244   \n",
       "2619  -1.690367225711713  -1.643170437977465  -1.670707319471066   \n",
       "2620  -1.500482197791965  -1.288270797597750  -1.251689815275878   \n",
       "2621  -2.942058328121473  -2.988669074581877  -3.013115249577878   \n",
       "2622  -0.636311560524546  -0.675971418041539  -0.735677518442913   \n",
       "2623  -1.128462551255317  -1.253170833164593  -1.403001691790806   \n",
       "\n",
       "      q90_roll_mean_1000  q95_roll_mean_1000  q99_roll_mean_1000  \\\n",
       "2614  -0.979093425978135  -0.834320554361995  -0.568229086274198   \n",
       "2615  -0.728778726512949  -0.772650186338005  -0.620301201202069   \n",
       "2616  -2.249630158112022  -2.114887608036642  -1.421758970091934   \n",
       "2617  -0.565694907164423  -0.547734726485800  -0.409748736493715   \n",
       "2618  -3.383631599628534  -3.239464907297666  -2.157560594072741   \n",
       "2619  -1.574538998948345  -1.469162578138378  -0.817269635929239   \n",
       "2620  -1.388699297830253  -1.425630553650856  -0.894245805822615   \n",
       "2621  -3.053671313969883  -2.956506748128763  -1.935688104380066   \n",
       "2622  -0.800839018783229  -0.761767180216124   0.006828182929265   \n",
       "2623  -1.312846358598377  -1.273268467944525  -0.815005630932376   \n",
       "\n",
       "      av_change_abs_roll_mean_1000  av_change_rate_roll_mean_1000  \\\n",
       "2614            -0.621183095678739             -0.332742633283314   \n",
       "2615             0.066789756975814              0.379958267345616   \n",
       "2616            -0.681886582677671             -0.455029743769391   \n",
       "2617             0.491714165968333              0.259853681784336   \n",
       "2618            -0.466895066223123             -0.517982573703920   \n",
       "2619             0.643472883465663             -0.554972820552376   \n",
       "2620             1.559083812366209             -0.820948539836463   \n",
       "2621             1.604611427615407             -0.954385032173800   \n",
       "2622             0.916638574960853              1.362109444329824   \n",
       "2623            -0.557950296721519             -0.001931900263394   \n",
       "\n",
       "      abs_max_roll_mean_1000  \n",
       "2614      -0.197756385756125  \n",
       "2615      -0.210475627620636  \n",
       "2616      -0.255310955193040  \n",
       "2617      -0.147833361437917  \n",
       "2618      -0.424476871991044  \n",
       "2619      -0.240683827048852  \n",
       "2620      -0.128754498641149  \n",
       "2621      -0.130344403874213  \n",
       "2622       0.055356527347656  \n",
       "2623      -0.247997391120946  \n",
       "\n",
       "[10 rows x 194 columns]"
      ]
     },
     "execution_count": 20,
     "metadata": {},
     "output_type": "execute_result"
    }
   ],
   "source": [
    "scaled_test_X.tail(10)"
   ]
  },
  {
   "cell_type": "markdown",
   "metadata": {},
   "source": [
    "### Scoring"
   ]
  },
  {
   "cell_type": "markdown",
   "metadata": {},
   "source": [
    "Submissions are evaluated using the mean absolute error between the predicted time remaining before the next lab earthquake and the act remaining time.\n",
    "\n",
    "https://scikit-learn.org/stable/modules/generated/sklearn.metrics.mean_absolute_error.html"
   ]
  },
  {
   "cell_type": "code",
   "execution_count": 21,
   "metadata": {},
   "outputs": [],
   "source": [
    "from sklearn.metrics import mean_absolute_error\n",
    "\n",
    "scores = pd.DataFrame(columns=['Regressor', 'MAE'])"
   ]
  },
  {
   "cell_type": "markdown",
   "metadata": {},
   "source": [
    "### Run first model and feature importance along source\n",
    "\n",
    "Source: https://www.kaggle.com/gpreda/lanl-earthquake-eda-and-prediction"
   ]
  },
  {
   "cell_type": "code",
   "execution_count": 22,
   "metadata": {},
   "outputs": [],
   "source": [
    "# We define the folds for cross-validation.\n",
    "\n",
    "n_fold = 3\n",
    "folds = KFold(n_splits=n_fold, shuffle=True, random_state=42)\n",
    "train_columns = scaled_train_X.columns.values"
   ]
  },
  {
   "cell_type": "code",
   "execution_count": 23,
   "metadata": {},
   "outputs": [],
   "source": [
    "# We define the model parameters.\n",
    "\n",
    "params = {'num_leaves': 51,\n",
    "         'min_data_in_leaf': 10, \n",
    "         'objective':'regression',\n",
    "         'max_depth': -1,\n",
    "         'learning_rate': 0.001,\n",
    "         \"boosting\": \"gbdt\",\n",
    "         \"feature_fraction\": 0.91,\n",
    "         \"bagging_freq\": 1,\n",
    "         \"bagging_fraction\": 0.91,\n",
    "         \"bagging_seed\": 42,\n",
    "         \"metric\": 'mae',\n",
    "         \"lambda_l1\": 0.1,\n",
    "         \"verbosity\": -1,\n",
    "         \"nthread\": -1,\n",
    "         \"random_state\": 42}"
   ]
  },
  {
   "cell_type": "code",
   "execution_count": 24,
   "metadata": {},
   "outputs": [
    {
     "name": "stdout",
     "output_type": "stream",
     "text": [
      "fold 0\n",
      "Training until validation scores don't improve for 200 rounds.\n",
      "[1000]\ttraining's l1: 1.90448\tvalid_1's l1: 2.23293\n",
      "[2000]\ttraining's l1: 1.47223\tvalid_1's l1: 2.10488\n",
      "[3000]\ttraining's l1: 1.22322\tvalid_1's l1: 2.08588\n",
      "Early stopping, best iteration is:\n",
      "[3096]\ttraining's l1: 1.20321\tvalid_1's l1: 2.08527\n",
      "fold 1\n",
      "Training until validation scores don't improve for 200 rounds.\n",
      "[1000]\ttraining's l1: 1.89438\tvalid_1's l1: 2.27362\n",
      "[2000]\ttraining's l1: 1.4743\tvalid_1's l1: 2.12232\n",
      "[3000]\ttraining's l1: 1.22817\tvalid_1's l1: 2.09481\n",
      "[4000]\ttraining's l1: 1.04001\tvalid_1's l1: 2.09026\n",
      "Early stopping, best iteration is:\n",
      "[3975]\ttraining's l1: 1.04421\tvalid_1's l1: 2.09013\n",
      "fold 2\n",
      "Training until validation scores don't improve for 200 rounds.\n",
      "[1000]\ttraining's l1: 1.91067\tvalid_1's l1: 2.18376\n",
      "[2000]\ttraining's l1: 1.48249\tvalid_1's l1: 2.05283\n",
      "[3000]\ttraining's l1: 1.2307\tvalid_1's l1: 2.03232\n",
      "Early stopping, best iteration is:\n",
      "[3720]\ttraining's l1: 1.09077\tvalid_1's l1: 2.02975\n"
     ]
    }
   ],
   "source": [
    "# LightGBM https://lightgbm.readthedocs.io/en/latest/_modules/lightgbm/sklearn.html\n",
    "\n",
    "# We run the model. During training for each fold, we validate using the validation set \n",
    "# and also we predict using the current model for test set. The final result will be the \n",
    "# average over the all folds for the predictions done at each fold training.\n",
    "\n",
    "oof = np.zeros(len(scaled_train_X))\n",
    "predictions = np.zeros(len(scaled_test_X))\n",
    "feature_importance_df = pd.DataFrame()\n",
    "# Run model\n",
    "for fold_, (trn_idx, val_idx) in enumerate(folds.split(scaled_train_X,train_y.values)):\n",
    "    strLog = \"fold {}\".format(fold_)\n",
    "    print(strLog)\n",
    "    \n",
    "    X_tr, X_val = scaled_train_X.iloc[trn_idx], scaled_train_X.iloc[val_idx]\n",
    "    y_tr, y_val = train_y.iloc[trn_idx], train_y.iloc[val_idx]\n",
    "\n",
    "    model = lgb.LGBMRegressor(**params, n_estimators = 20000, n_jobs = -1)\n",
    "    model.fit(X_tr, y_tr, \n",
    "                    eval_set=[(X_tr, y_tr), (X_val, y_val)], eval_metric='mae',\n",
    "                    verbose=1000, early_stopping_rounds=200)\n",
    "    oof[val_idx] = model.predict(X_val, num_iteration=model.best_iteration_)\n",
    "    #feature importance\n",
    "    fold_importance_df = pd.DataFrame()\n",
    "    fold_importance_df[\"Feature\"] = train_columns\n",
    "    fold_importance_df[\"importance\"] = model.feature_importances_[:len(train_columns)]\n",
    "    fold_importance_df[\"fold\"] = fold_ + 1\n",
    "    feature_importance_df = pd.concat([feature_importance_df, fold_importance_df], axis=0)\n",
    "    #predictions\n",
    "    predictions += model.predict(scaled_test_X, num_iteration=model.best_iteration_) / folds.n_splits"
   ]
  },
  {
   "cell_type": "code",
   "execution_count": 25,
   "metadata": {},
   "outputs": [
    {
     "data": {
      "image/png": "[encoded data removed]",
      "text/plain": [
       "<Figure size 1008x1872 with 1 Axes>"
      ]
     },
     "metadata": {},
     "output_type": "display_data"
    }
   ],
   "source": [
    "# Let's print features importance.\n",
    "\n",
    "cols = (feature_importance_df[[\"Feature\", \"importance\"]]\n",
    "        .groupby(\"Feature\")\n",
    "        .mean()\n",
    "        .sort_values(by=\"importance\", ascending=False)[:200].index)\n",
    "best_features = feature_importance_df.loc[feature_importance_df.Feature.isin(cols)]\n",
    "\n",
    "plt.figure(figsize=(14,26))\n",
    "sns.barplot(x=\"importance\", y=\"Feature\", data=best_features.sort_values(by=\"importance\",ascending=False))\n",
    "plt.title('LightGBM Features (averaged over folds)')\n",
    "plt.tight_layout()\n",
    "plt.savefig('lgbm_importances.png')"
   ]
  },
  {
   "cell_type": "markdown",
   "metadata": {},
   "source": [
    "### Model selection and hyperparameter optimization"
   ]
  },
  {
   "cell_type": "markdown",
   "metadata": {},
   "source": [
    "The following algorithms will be applied for the model selection: \n",
    "\n",
    "- LightGBM https://lightgbm.readthedocs.io/en/latest/_modules/lightgbm/sklearn.html\n",
    "- SVR https://scikit-learn.org/stable/modules/generated/sklearn.svm.SVR.html\n",
    "- Linear SVR http://scikit-learn.org/stable/modules/generated/sklearn.svm.LinearSVR.html#sklearn.svm.LinearSVR\n",
    "- ElasticNet http://scikit-learn.org/stable/modules/linear_model.html#elastic-net\n",
    "- Lasso http://scikit-learn.org/stable/modules/linear_model.html#lasso\n",
    "- SGD https://scikit-learn.org/stable/modules/generated/sklearn.linear_model.SGDRegressor.html\n",
    "- Decision tree https://scikit-learn.org/stable/modules/generated/sklearn.tree.DecisionTreeRegressor.html\n",
    "- Random forest https://scikit-learn.org/stable/modules/generated/sklearn.ensemble.RandomForestRegressor.html\n",
    "- Bagging https://scikit-learn.org/stable/modules/generated/sklearn.ensemble.BaggingRegressor.html\n",
    "- Gradient boosting https://scikit-learn.org/stable/modules/generated/sklearn.ensemble.GradientBoostingRegressor.html\n",
    "- MLP http://scikit-learn.org/stable/modules/generated/sklearn.neural_network.MLPRegressor.html\n",
    "- AdaBoost http://scikit-learn.org/stable/modules/generated/sklearn.ensemble.AdaBoostRegressor.html\n",
    "- XGBoost https://machinelearningmastery.com/develop-first-xgboost-model-python-scikit-learn/"
   ]
  },
  {
   "cell_type": "code",
   "execution_count": 26,
   "metadata": {},
   "outputs": [
    {
     "name": "stdout",
     "output_type": "stream",
     "text": [
      "Observations: 4194\n",
      "Training Observations: 2935\n",
      "Validation Observations: 1259\n"
     ]
    }
   ],
   "source": [
    "# Train test split\n",
    "\n",
    "from sklearn.cross_validation import train_test_split\n",
    "\n",
    "# Train size: 0.6 3rd best, 0.7 1st best, 0.8 2nd best, 0.9 much off\n",
    "\n",
    "train_variables, valid_variables, train_targets, valid_targets = train_test_split(scaled_train_X, train_y, train_size=.7, random_state=25)\n",
    "\n",
    "print('Observations: %d' % (len(train_X)))\n",
    "print('Training Observations: %d' % (len(train_variables)))\n",
    "print('Validation Observations: %d' % (len(valid_variables)))"
   ]
  },
  {
   "cell_type": "markdown",
   "metadata": {},
   "source": [
    "#### Scoring"
   ]
  },
  {
   "cell_type": "markdown",
   "metadata": {},
   "source": [
    "Submissions are evaluated using the mean absolute error between the predicted time remaining before the next lab earthquake and the act remaining time.\n",
    "\n",
    "https://scikit-learn.org/stable/modules/generated/sklearn.metrics.mean_absolute_error.html"
   ]
  },
  {
   "cell_type": "code",
   "execution_count": 27,
   "metadata": {},
   "outputs": [],
   "source": [
    "from sklearn.metrics import mean_absolute_error\n",
    "\n",
    "scores = pd.DataFrame(columns=['Regressor', 'MAE'])"
   ]
  },
  {
   "cell_type": "code",
   "execution_count": 28,
   "metadata": {},
   "outputs": [],
   "source": [
    "# Defining number of cross-validations\n",
    "\n",
    "n_fold = 5\n",
    "folds = KFold(n_splits=n_fold, shuffle=True, random_state=42)\n",
    "train_columns = scaled_train_X.columns.values"
   ]
  },
  {
   "cell_type": "markdown",
   "metadata": {},
   "source": [
    "##### LightGBM"
   ]
  },
  {
   "cell_type": "code",
   "execution_count": 29,
   "metadata": {},
   "outputs": [
    {
     "name": "stdout",
     "output_type": "stream",
     "text": [
      "fold 0\n",
      "Training until validation scores don't improve for 200 rounds.\n",
      "[1000]\ttraining's l1: 1.94558\tvalid_1's l1: 2.26687\n",
      "[2000]\ttraining's l1: 1.55066\tvalid_1's l1: 2.13144\n",
      "[3000]\ttraining's l1: 1.3205\tvalid_1's l1: 2.1065\n",
      "[4000]\ttraining's l1: 1.14571\tvalid_1's l1: 2.10352\n",
      "Early stopping, best iteration is:\n",
      "[3856]\ttraining's l1: 1.1689\tvalid_1's l1: 2.10334\n",
      "fold 1\n",
      "Training until validation scores don't improve for 200 rounds.\n",
      "[1000]\ttraining's l1: 1.9339\tvalid_1's l1: 2.26336\n",
      "[2000]\ttraining's l1: 1.54103\tvalid_1's l1: 2.13972\n",
      "[3000]\ttraining's l1: 1.31667\tvalid_1's l1: 2.11589\n",
      "[4000]\ttraining's l1: 1.14356\tvalid_1's l1: 2.11207\n",
      "Early stopping, best iteration is:\n",
      "[4402]\ttraining's l1: 1.08337\tvalid_1's l1: 2.11121\n",
      "fold 2\n",
      "Training until validation scores don't improve for 200 rounds.\n",
      "[1000]\ttraining's l1: 1.94603\tvalid_1's l1: 2.26058\n",
      "[2000]\ttraining's l1: 1.55936\tvalid_1's l1: 2.09885\n",
      "[3000]\ttraining's l1: 1.33117\tvalid_1's l1: 2.0667\n",
      "[4000]\ttraining's l1: 1.1555\tvalid_1's l1: 2.05882\n",
      "Early stopping, best iteration is:\n",
      "[4301]\ttraining's l1: 1.1091\tvalid_1's l1: 2.05797\n",
      "fold 3\n",
      "Training until validation scores don't improve for 200 rounds.\n",
      "[1000]\ttraining's l1: 1.95861\tvalid_1's l1: 2.12734\n",
      "[2000]\ttraining's l1: 1.55743\tvalid_1's l1: 2.02021\n",
      "[3000]\ttraining's l1: 1.32606\tvalid_1's l1: 2.01102\n",
      "Early stopping, best iteration is:\n",
      "[2843]\ttraining's l1: 1.35743\tvalid_1's l1: 2.01044\n",
      "fold 4\n",
      "Training until validation scores don't improve for 200 rounds.\n",
      "[1000]\ttraining's l1: 1.93127\tvalid_1's l1: 2.26388\n",
      "[2000]\ttraining's l1: 1.54128\tvalid_1's l1: 2.11663\n",
      "[3000]\ttraining's l1: 1.31351\tvalid_1's l1: 2.09113\n",
      "[4000]\ttraining's l1: 1.13956\tvalid_1's l1: 2.08876\n",
      "Early stopping, best iteration is:\n",
      "[3901]\ttraining's l1: 1.1554\tvalid_1's l1: 2.08853\n"
     ]
    }
   ],
   "source": [
    "# https://lightgbm.readthedocs.io/en/latest/_modules/lightgbm/sklearn.html\n",
    "\n",
    "oof = np.zeros(len(scaled_train_X))\n",
    "feature_importance_df = pd.DataFrame()\n",
    "\n",
    "# Run model\n",
    "\n",
    "for fold_, (trn_idx, val_idx) in enumerate(folds.split(scaled_train_X,train_y.values)):\n",
    "    strLog = \"fold {}\".format(fold_)\n",
    "    print(strLog)\n",
    "    \n",
    "    X_tr, X_val = scaled_train_X.iloc[trn_idx], scaled_train_X.iloc[val_idx]\n",
    "    y_tr, y_val = train_y.iloc[trn_idx], train_y.iloc[val_idx]\n",
    "\n",
    "    model = lgb.LGBMRegressor(**params, n_estimators = 20000, n_jobs = -1)\n",
    "    model.fit(X_tr, y_tr, \n",
    "                    eval_set=[(X_tr, y_tr), (X_val, y_val)], eval_metric='mae',\n",
    "                    verbose=1000, early_stopping_rounds=200)\n",
    "    oof[val_idx] = model.predict(X_val, num_iteration=model.best_iteration_)\n",
    "    \n",
    "    # Feature importance\n",
    "    \n",
    "    fold_importance_df = pd.DataFrame()\n",
    "    fold_importance_df[\"Feature\"] = train_columns\n",
    "    fold_importance_df[\"importance\"] = model.feature_importances_[:len(train_columns)]\n",
    "    fold_importance_df[\"fold\"] = fold_ + 1\n",
    "    feature_importance_df = pd.concat([feature_importance_df, fold_importance_df], axis=0)\n",
    "    \n",
    "# Scoring\n",
    "\n",
    "regressor = 'LightGBM'\n",
    "\n",
    "MAE = mean_absolute_error(train_y, oof)\n",
    "\n",
    "scores = scores.append(pd.Series([regressor, MAE], index=scores.columns), ignore_index=True)"
   ]
  },
  {
   "cell_type": "markdown",
   "metadata": {},
   "source": [
    "##### SVR"
   ]
  },
  {
   "cell_type": "code",
   "execution_count": 30,
   "metadata": {},
   "outputs": [
    {
     "name": "stdout",
     "output_type": "stream",
     "text": [
      "Mean absolute error: 2.05\n"
     ]
    }
   ],
   "source": [
    "# https://scikit-learn.org/stable/modules/generated/sklearn.svm.SVR.html\n",
    "\n",
    "from sklearn.svm import SVR\n",
    "\n",
    "SVR = SVR()\n",
    "\n",
    "SVR.fit(train_variables, train_targets)\n",
    "\n",
    "SVR_preds = SVR.predict(valid_variables)\n",
    "\n",
    "regressor = 'SVR'\n",
    "\n",
    "MAE = mean_absolute_error(valid_targets, SVR_preds)\n",
    "\n",
    "scores = scores.append(pd.Series([regressor, MAE], index=scores.columns), ignore_index=True)\n",
    "\n",
    "# MAE\n",
    "print('Mean absolute error: %.2f' % MAE)"
   ]
  },
  {
   "cell_type": "markdown",
   "metadata": {},
   "source": [
    "##### LinearSVR"
   ]
  },
  {
   "cell_type": "code",
   "execution_count": 31,
   "metadata": {},
   "outputs": [
    {
     "name": "stdout",
     "output_type": "stream",
     "text": [
      "Mean absolute error: 2.14\n"
     ]
    }
   ],
   "source": [
    "# http://scikit-learn.org/stable/modules/generated/sklearn.svm.LinearSVR.html#sklearn.svm.LinearSVR\n",
    "\n",
    "from sklearn.svm import LinearSVR\n",
    "\n",
    "LinSVR = LinearSVR()\n",
    "\n",
    "LinSVR.fit(train_variables, train_targets)\n",
    "\n",
    "LinSVR_preds = LinSVR.predict(valid_variables)\n",
    "\n",
    "regressor = 'LinSVR'\n",
    "\n",
    "MAE = mean_absolute_error(valid_targets, LinSVR_preds)\n",
    "\n",
    "scores = scores.append(pd.Series([regressor, MAE], index=scores.columns), ignore_index=True)\n",
    "\n",
    "# MAE\n",
    "print('Mean absolute error: %.2f' % MAE)"
   ]
  },
  {
   "cell_type": "markdown",
   "metadata": {},
   "source": [
    "##### ElasticNet"
   ]
  },
  {
   "cell_type": "code",
   "execution_count": 32,
   "metadata": {},
   "outputs": [
    {
     "name": "stdout",
     "output_type": "stream",
     "text": [
      "Mean absolute error: 2.28\n"
     ]
    }
   ],
   "source": [
    "# http://scikit-learn.org/stable/modules/linear_model.html#elastic-net\n",
    "\n",
    "from sklearn.linear_model import ElasticNet\n",
    "\n",
    "Elastic = ElasticNet(random_state=25)\n",
    "\n",
    "Elastic.fit(train_variables, train_targets)\n",
    "\n",
    "Elastic_preds = Elastic.predict(valid_variables)\n",
    "\n",
    "regressor = 'Elastic'\n",
    "\n",
    "MAE = mean_absolute_error(valid_targets, Elastic_preds)\n",
    "\n",
    "scores = scores.append(pd.Series([regressor, MAE], index=scores.columns), ignore_index=True)\n",
    "\n",
    "# MAE\n",
    "print('Mean absolute error: %.2f' % MAE)"
   ]
  },
  {
   "cell_type": "markdown",
   "metadata": {},
   "source": [
    "##### Lasso"
   ]
  },
  {
   "cell_type": "code",
   "execution_count": 33,
   "metadata": {},
   "outputs": [
    {
     "name": "stdout",
     "output_type": "stream",
     "text": [
      "Mean absolute error: 2.37\n"
     ]
    }
   ],
   "source": [
    "# http://scikit-learn.org/stable/modules/linear_model.html#lasso\n",
    "\n",
    "from sklearn import linear_model\n",
    "\n",
    "Lasso = linear_model.Lasso(random_state=25)\n",
    "\n",
    "Lasso.fit(train_variables, train_targets)\n",
    "\n",
    "Lasso_preds = Lasso.predict(valid_variables)\n",
    "\n",
    "regressor = 'Lasso'\n",
    "\n",
    "MAE = mean_absolute_error(valid_targets, Lasso_preds)\n",
    "\n",
    "scores = scores.append(pd.Series([regressor, MAE], index=scores.columns), ignore_index=True)\n",
    "\n",
    "# MAE\n",
    "print('Mean absolute error: %.2f' % MAE)"
   ]
  },
  {
   "cell_type": "markdown",
   "metadata": {},
   "source": [
    "##### Decision Tree"
   ]
  },
  {
   "cell_type": "code",
   "execution_count": 34,
   "metadata": {},
   "outputs": [
    {
     "name": "stdout",
     "output_type": "stream",
     "text": [
      "Mean absolute error: 2.95\n"
     ]
    }
   ],
   "source": [
    "# https://scikit-learn.org/stable/modules/generated/sklearn.tree.DecisionTreeRegressor.html\n",
    "\n",
    "from sklearn.tree import DecisionTreeRegressor\n",
    "\n",
    "DecTree = DecisionTreeRegressor(random_state=25)\n",
    "\n",
    "DecTree.fit(train_variables, train_targets)\n",
    "\n",
    "DecTree_preds = DecTree.predict(valid_variables)\n",
    "\n",
    "regressor = 'DecTree'\n",
    "\n",
    "MAE = mean_absolute_error(valid_targets, DecTree_preds)\n",
    "\n",
    "scores = scores.append(pd.Series([regressor, MAE], index=scores.columns), ignore_index=True)\n",
    "\n",
    "# MAE\n",
    "print('Mean absolute error: %.2f' % MAE)"
   ]
  },
  {
   "cell_type": "markdown",
   "metadata": {},
   "source": [
    "##### Random Forest (top-performing in their first paper)"
   ]
  },
  {
   "cell_type": "code",
   "execution_count": 35,
   "metadata": {},
   "outputs": [
    {
     "name": "stdout",
     "output_type": "stream",
     "text": [
      "Mean absolute error: 2.13\n"
     ]
    }
   ],
   "source": [
    "# https://scikit-learn.org/stable/modules/generated/sklearn.ensemble.RandomForestRegressor.html\n",
    "\n",
    "from sklearn.ensemble import RandomForestRegressor\n",
    "\n",
    "RndmForest = RandomForestRegressor(random_state=25)\n",
    "\n",
    "RndmForest.fit(train_variables, train_targets)\n",
    "\n",
    "RndmForest_preds = RndmForest.predict(valid_variables)\n",
    "\n",
    "regressor = 'RndmForest'\n",
    "\n",
    "MAE = mean_absolute_error(valid_targets, RndmForest_preds)\n",
    "\n",
    "scores = scores.append(pd.Series([regressor, MAE], index=scores.columns), ignore_index=True)\n",
    "\n",
    "# MAE\n",
    "print('Mean absolute error: %.2f' % MAE)"
   ]
  },
  {
   "cell_type": "markdown",
   "metadata": {},
   "source": [
    "##### Bagging"
   ]
  },
  {
   "cell_type": "code",
   "execution_count": 36,
   "metadata": {},
   "outputs": [
    {
     "name": "stdout",
     "output_type": "stream",
     "text": [
      "Mean absolute error: 2.06\n"
     ]
    }
   ],
   "source": [
    "# https://scikit-learn.org/stable/modules/generated/sklearn.ensemble.BaggingRegressor.html\n",
    "\n",
    "from sklearn.ensemble import BaggingRegressor\n",
    "\n",
    "base_estimator = RandomForestRegressor(random_state=25)\n",
    "\n",
    "Bagging = BaggingRegressor(base_estimator=base_estimator, random_state=25)\n",
    "\n",
    "Bagging.fit(train_variables, train_targets)\n",
    "\n",
    "Bagging_preds = Bagging.predict(valid_variables)\n",
    "\n",
    "regressor = 'Bagging'\n",
    "\n",
    "MAE = mean_absolute_error(valid_targets, Bagging_preds)\n",
    "\n",
    "scores = scores.append(pd.Series([regressor, MAE], index=scores.columns), ignore_index=True)\n",
    "\n",
    "# MAE\n",
    "print('Mean absolute error: %.2f' % MAE)"
   ]
  },
  {
   "cell_type": "markdown",
   "metadata": {},
   "source": [
    "##### Gradient Boosting"
   ]
  },
  {
   "cell_type": "code",
   "execution_count": 37,
   "metadata": {},
   "outputs": [
    {
     "name": "stdout",
     "output_type": "stream",
     "text": [
      "Mean absolute error: 2.06\n"
     ]
    }
   ],
   "source": [
    "# https://scikit-learn.org/stable/modules/generated/sklearn.ensemble.GradientBoostingRegressor.html\n",
    "\n",
    "from sklearn.ensemble import GradientBoostingRegressor\n",
    "\n",
    "GradBoost = GradientBoostingRegressor(random_state=25)\n",
    "\n",
    "GradBoost.fit(train_variables, train_targets)\n",
    "\n",
    "GradBoost_preds = GradBoost.predict(valid_variables)\n",
    "\n",
    "regressor = 'GradBoost'\n",
    "\n",
    "MAE = mean_absolute_error(valid_targets, GradBoost_preds)\n",
    "\n",
    "scores = scores.append(pd.Series([regressor, MAE], index=scores.columns), ignore_index=True)\n",
    "\n",
    "# MAE\n",
    "print('Mean absolute error: %.2f' % MAE)"
   ]
  },
  {
   "cell_type": "markdown",
   "metadata": {},
   "source": [
    "##### AdaBoost"
   ]
  },
  {
   "cell_type": "code",
   "execution_count": 38,
   "metadata": {},
   "outputs": [
    {
     "name": "stdout",
     "output_type": "stream",
     "text": [
      "Mean absolute error: 2.09\n"
     ]
    }
   ],
   "source": [
    "# http://scikit-learn.org/stable/modules/generated/sklearn.ensemble.AdaBoostRegressor.html\n",
    "\n",
    "from sklearn.ensemble import AdaBoostRegressor\n",
    "\n",
    "base_estimator = RandomForestRegressor(random_state=25)\n",
    "\n",
    "AdaBoost = AdaBoostRegressor(base_estimator=base_estimator, random_state=25)\n",
    "\n",
    "AdaBoost.fit(train_variables, train_targets)\n",
    "\n",
    "AdaBoost_preds = AdaBoost.predict(valid_variables)\n",
    "\n",
    "regressor = 'AdaBoost'\n",
    "\n",
    "MAE = mean_absolute_error(valid_targets, AdaBoost_preds)\n",
    "\n",
    "scores = scores.append(pd.Series([regressor, MAE], index=scores.columns), ignore_index=True)\n",
    "\n",
    "# MAE\n",
    "print('Mean absolute error: %.2f' % MAE)"
   ]
  },
  {
   "cell_type": "markdown",
   "metadata": {},
   "source": [
    "##### XGBoost (top-performing in their second paper)"
   ]
  },
  {
   "cell_type": "code",
   "execution_count": 39,
   "metadata": {},
   "outputs": [
    {
     "name": "stdout",
     "output_type": "stream",
     "text": [
      "Mean absolute error: 2.05\n"
     ]
    }
   ],
   "source": [
    "# https://machinelearningmastery.com/develop-first-xgboost-model-python-scikit-learn/\n",
    "\n",
    "from xgboost import XGBRegressor\n",
    "\n",
    "XGBoost = XGBRegressor(random_state=25)\n",
    "\n",
    "XGBoost.fit(train_variables, train_targets)\n",
    "\n",
    "XGBoost_preds = XGBoost.predict(valid_variables)\n",
    "\n",
    "regressor = 'XGBoost'\n",
    "\n",
    "MAE = mean_absolute_error(valid_targets, XGBoost_preds)\n",
    "\n",
    "scores = scores.append(pd.Series([regressor, MAE], index=scores.columns), ignore_index=True)\n",
    "\n",
    "# MAE\n",
    "print('Mean absolute error: %.2f' % MAE)"
   ]
  },
  {
   "cell_type": "markdown",
   "metadata": {},
   "source": [
    "#### Performance comparison basic models"
   ]
  },
  {
   "cell_type": "code",
   "execution_count": 40,
   "metadata": {},
   "outputs": [
    {
     "data": {
      "text/html": [
       "<div>\n",
       "<style scoped>\n",
       "    .dataframe tbody tr th:only-of-type {\n",
       "        vertical-align: middle;\n",
       "    }\n",
       "\n",
       "    .dataframe tbody tr th {\n",
       "        vertical-align: top;\n",
       "    }\n",
       "\n",
       "    .dataframe thead th {\n",
       "        text-align: right;\n",
       "    }\n",
       "</style>\n",
       "<table border=\"1\" class=\"dataframe\">\n",
       "  <thead>\n",
       "    <tr style=\"text-align: right;\">\n",
       "      <th></th>\n",
       "      <th>Regressor</th>\n",
       "      <th>MAE</th>\n",
       "    </tr>\n",
       "  </thead>\n",
       "  <tbody>\n",
       "    <tr>\n",
       "      <th>0</th>\n",
       "      <td>LightGBM</td>\n",
       "      <td>2.074296161912692</td>\n",
       "    </tr>\n",
       "    <tr>\n",
       "      <th>1</th>\n",
       "      <td>SVR</td>\n",
       "      <td>2.046054044218325</td>\n",
       "    </tr>\n",
       "    <tr>\n",
       "      <th>2</th>\n",
       "      <td>LinSVR</td>\n",
       "      <td>2.141308130470632</td>\n",
       "    </tr>\n",
       "    <tr>\n",
       "      <th>3</th>\n",
       "      <td>Elastic</td>\n",
       "      <td>2.279288416970476</td>\n",
       "    </tr>\n",
       "    <tr>\n",
       "      <th>4</th>\n",
       "      <td>Lasso</td>\n",
       "      <td>2.373345046765726</td>\n",
       "    </tr>\n",
       "    <tr>\n",
       "      <th>5</th>\n",
       "      <td>DecTree</td>\n",
       "      <td>2.947543543994625</td>\n",
       "    </tr>\n",
       "    <tr>\n",
       "      <th>6</th>\n",
       "      <td>RndmForest</td>\n",
       "      <td>2.133414621897705</td>\n",
       "    </tr>\n",
       "    <tr>\n",
       "      <th>7</th>\n",
       "      <td>Bagging</td>\n",
       "      <td>2.058486877265501</td>\n",
       "    </tr>\n",
       "    <tr>\n",
       "      <th>8</th>\n",
       "      <td>GradBoost</td>\n",
       "      <td>2.055248444688900</td>\n",
       "    </tr>\n",
       "    <tr>\n",
       "      <th>9</th>\n",
       "      <td>AdaBoost</td>\n",
       "      <td>2.093689973025512</td>\n",
       "    </tr>\n",
       "    <tr>\n",
       "      <th>10</th>\n",
       "      <td>XGBoost</td>\n",
       "      <td>2.054474358164319</td>\n",
       "    </tr>\n",
       "  </tbody>\n",
       "</table>\n",
       "</div>"
      ],
      "text/plain": [
       "     Regressor                MAE\n",
       "0     LightGBM  2.074296161912692\n",
       "1          SVR  2.046054044218325\n",
       "2       LinSVR  2.141308130470632\n",
       "3      Elastic  2.279288416970476\n",
       "4        Lasso  2.373345046765726\n",
       "5      DecTree  2.947543543994625\n",
       "6   RndmForest  2.133414621897705\n",
       "7      Bagging  2.058486877265501\n",
       "8    GradBoost  2.055248444688900\n",
       "9     AdaBoost  2.093689973025512\n",
       "10     XGBoost  2.054474358164319"
      ]
     },
     "execution_count": 40,
     "metadata": {},
     "output_type": "execute_result"
    }
   ],
   "source": [
    "# Looking at performance scores\n",
    "\n",
    "pd.options.display.max_colwidth = 200\n",
    "\n",
    "scores"
   ]
  },
  {
   "cell_type": "code",
   "execution_count": 41,
   "metadata": {},
   "outputs": [
    {
     "data": {
      "image/png": "[encoded data removed]",
      "text/plain": [
       "<Figure size 432x288 with 1 Axes>"
      ]
     },
     "metadata": {},
     "output_type": "display_data"
    }
   ],
   "source": [
    "# Plotting MAE curve area comparison\n",
    "\n",
    "plt.bar(scores['Regressor'], scores['MAE'], color='C2')\n",
    "plt.xticks(rotation=90)\n",
    "plt.ylabel('Mean Absolute Error')\n",
    "plt.xlabel('Regressors');"
   ]
  },
  {
   "cell_type": "markdown",
   "metadata": {},
   "source": [
    "##### Grid search LGBM"
   ]
  },
  {
   "cell_type": "code",
   "execution_count": 59,
   "metadata": {},
   "outputs": [
    {
     "name": "stdout",
     "output_type": "stream",
     "text": [
      "Best: 3.007486 using {'learning_rate': 0.001, 'max_depth': 1, 'n_estimators': 25, 'num_leaves': 10}\n",
      "3.007486 (0.085463) with: {'learning_rate': 0.001, 'max_depth': 1, 'n_estimators': 25, 'num_leaves': 10}\n",
      "3.007486 (0.085463) with: {'learning_rate': 0.001, 'max_depth': 1, 'n_estimators': 25, 'num_leaves': 20}\n",
      "3.007486 (0.085463) with: {'learning_rate': 0.001, 'max_depth': 1, 'n_estimators': 25, 'num_leaves': 30}\n",
      "3.007486 (0.085463) with: {'learning_rate': 0.001, 'max_depth': 1, 'n_estimators': 25, 'num_leaves': 40}\n",
      "3.007486 (0.085463) with: {'learning_rate': 0.001, 'max_depth': 1, 'n_estimators': 25, 'num_leaves': 50}\n",
      "2.977395 (0.084968) with: {'learning_rate': 0.001, 'max_depth': 1, 'n_estimators': 50, 'num_leaves': 10}\n",
      "2.977395 (0.084968) with: {'learning_rate': 0.001, 'max_depth': 1, 'n_estimators': 50, 'num_leaves': 20}\n",
      "2.977395 (0.084968) with: {'learning_rate': 0.001, 'max_depth': 1, 'n_estimators': 50, 'num_leaves': 30}\n",
      "2.977395 (0.084968) with: {'learning_rate': 0.001, 'max_depth': 1, 'n_estimators': 50, 'num_leaves': 40}\n",
      "2.977395 (0.084968) with: {'learning_rate': 0.001, 'max_depth': 1, 'n_estimators': 50, 'num_leaves': 50}\n",
      "2.920503 (0.084245) with: {'learning_rate': 0.001, 'max_depth': 1, 'n_estimators': 100, 'num_leaves': 10}\n",
      "2.920503 (0.084245) with: {'learning_rate': 0.001, 'max_depth': 1, 'n_estimators': 100, 'num_leaves': 20}\n",
      "2.920503 (0.084245) with: {'learning_rate': 0.001, 'max_depth': 1, 'n_estimators': 100, 'num_leaves': 30}\n",
      "2.920503 (0.084245) with: {'learning_rate': 0.001, 'max_depth': 1, 'n_estimators': 100, 'num_leaves': 40}\n",
      "2.920503 (0.084245) with: {'learning_rate': 0.001, 'max_depth': 1, 'n_estimators': 100, 'num_leaves': 50}\n",
      "2.819095 (0.081824) with: {'learning_rate': 0.001, 'max_depth': 1, 'n_estimators': 200, 'num_leaves': 10}\n",
      "2.819095 (0.081824) with: {'learning_rate': 0.001, 'max_depth': 1, 'n_estimators': 200, 'num_leaves': 20}\n",
      "2.819095 (0.081824) with: {'learning_rate': 0.001, 'max_depth': 1, 'n_estimators': 200, 'num_leaves': 30}\n",
      "2.819095 (0.081824) with: {'learning_rate': 0.001, 'max_depth': 1, 'n_estimators': 200, 'num_leaves': 40}\n",
      "2.819095 (0.081824) with: {'learning_rate': 0.001, 'max_depth': 1, 'n_estimators': 200, 'num_leaves': 50}\n",
      "3.001012 (0.086193) with: {'learning_rate': 0.001, 'max_depth': 2, 'n_estimators': 25, 'num_leaves': 10}\n",
      "3.001012 (0.086193) with: {'learning_rate': 0.001, 'max_depth': 2, 'n_estimators': 25, 'num_leaves': 20}\n",
      "3.001012 (0.086193) with: {'learning_rate': 0.001, 'max_depth': 2, 'n_estimators': 25, 'num_leaves': 30}\n",
      "3.001012 (0.086193) with: {'learning_rate': 0.001, 'max_depth': 2, 'n_estimators': 25, 'num_leaves': 40}\n",
      "3.001012 (0.086193) with: {'learning_rate': 0.001, 'max_depth': 2, 'n_estimators': 25, 'num_leaves': 50}\n",
      "2.964518 (0.086294) with: {'learning_rate': 0.001, 'max_depth': 2, 'n_estimators': 50, 'num_leaves': 10}\n",
      "2.964518 (0.086294) with: {'learning_rate': 0.001, 'max_depth': 2, 'n_estimators': 50, 'num_leaves': 20}\n",
      "2.964518 (0.086294) with: {'learning_rate': 0.001, 'max_depth': 2, 'n_estimators': 50, 'num_leaves': 30}\n",
      "2.964518 (0.086294) with: {'learning_rate': 0.001, 'max_depth': 2, 'n_estimators': 50, 'num_leaves': 40}\n",
      "2.964518 (0.086294) with: {'learning_rate': 0.001, 'max_depth': 2, 'n_estimators': 50, 'num_leaves': 50}\n",
      "2.895660 (0.086358) with: {'learning_rate': 0.001, 'max_depth': 2, 'n_estimators': 100, 'num_leaves': 10}\n",
      "2.895660 (0.086358) with: {'learning_rate': 0.001, 'max_depth': 2, 'n_estimators': 100, 'num_leaves': 20}\n",
      "2.895660 (0.086358) with: {'learning_rate': 0.001, 'max_depth': 2, 'n_estimators': 100, 'num_leaves': 30}\n",
      "2.895660 (0.086358) with: {'learning_rate': 0.001, 'max_depth': 2, 'n_estimators': 100, 'num_leaves': 40}\n",
      "2.895660 (0.086358) with: {'learning_rate': 0.001, 'max_depth': 2, 'n_estimators': 100, 'num_leaves': 50}\n",
      "2.773417 (0.085572) with: {'learning_rate': 0.001, 'max_depth': 2, 'n_estimators': 200, 'num_leaves': 10}\n",
      "2.773417 (0.085572) with: {'learning_rate': 0.001, 'max_depth': 2, 'n_estimators': 200, 'num_leaves': 20}\n",
      "2.773417 (0.085572) with: {'learning_rate': 0.001, 'max_depth': 2, 'n_estimators': 200, 'num_leaves': 30}\n",
      "2.773417 (0.085572) with: {'learning_rate': 0.001, 'max_depth': 2, 'n_estimators': 200, 'num_leaves': 40}\n",
      "2.773417 (0.085572) with: {'learning_rate': 0.001, 'max_depth': 2, 'n_estimators': 200, 'num_leaves': 50}\n",
      "2.999326 (0.086504) with: {'learning_rate': 0.001, 'max_depth': 5, 'n_estimators': 25, 'num_leaves': 10}\n",
      "2.998983 (0.086508) with: {'learning_rate': 0.001, 'max_depth': 5, 'n_estimators': 25, 'num_leaves': 20}\n",
      "2.999314 (0.086434) with: {'learning_rate': 0.001, 'max_depth': 5, 'n_estimators': 25, 'num_leaves': 30}\n",
      "2.999314 (0.086434) with: {'learning_rate': 0.001, 'max_depth': 5, 'n_estimators': 25, 'num_leaves': 40}\n",
      "2.999314 (0.086434) with: {'learning_rate': 0.001, 'max_depth': 5, 'n_estimators': 25, 'num_leaves': 50}\n",
      "2.961195 (0.086828) with: {'learning_rate': 0.001, 'max_depth': 5, 'n_estimators': 50, 'num_leaves': 10}\n",
      "2.960427 (0.086719) with: {'learning_rate': 0.001, 'max_depth': 5, 'n_estimators': 50, 'num_leaves': 20}\n",
      "2.960917 (0.086529) with: {'learning_rate': 0.001, 'max_depth': 5, 'n_estimators': 50, 'num_leaves': 30}\n",
      "2.960920 (0.086532) with: {'learning_rate': 0.001, 'max_depth': 5, 'n_estimators': 50, 'num_leaves': 40}\n",
      "2.960920 (0.086532) with: {'learning_rate': 0.001, 'max_depth': 5, 'n_estimators': 50, 'num_leaves': 50}\n",
      "2.888969 (0.086803) with: {'learning_rate': 0.001, 'max_depth': 5, 'n_estimators': 100, 'num_leaves': 10}\n",
      "2.887127 (0.086817) with: {'learning_rate': 0.001, 'max_depth': 5, 'n_estimators': 100, 'num_leaves': 20}\n",
      "2.887638 (0.086502) with: {'learning_rate': 0.001, 'max_depth': 5, 'n_estimators': 100, 'num_leaves': 30}\n",
      "2.887645 (0.086507) with: {'learning_rate': 0.001, 'max_depth': 5, 'n_estimators': 100, 'num_leaves': 40}\n",
      "2.887645 (0.086507) with: {'learning_rate': 0.001, 'max_depth': 5, 'n_estimators': 100, 'num_leaves': 50}\n",
      "2.760457 (0.086224) with: {'learning_rate': 0.001, 'max_depth': 5, 'n_estimators': 200, 'num_leaves': 10}\n",
      "2.757308 (0.085750) with: {'learning_rate': 0.001, 'max_depth': 5, 'n_estimators': 200, 'num_leaves': 20}\n",
      "2.757999 (0.085829) with: {'learning_rate': 0.001, 'max_depth': 5, 'n_estimators': 200, 'num_leaves': 30}\n",
      "2.758013 (0.085835) with: {'learning_rate': 0.001, 'max_depth': 5, 'n_estimators': 200, 'num_leaves': 40}\n",
      "2.758013 (0.085835) with: {'learning_rate': 0.001, 'max_depth': 5, 'n_estimators': 200, 'num_leaves': 50}\n",
      "2.999326 (0.086504) with: {'learning_rate': 0.001, 'max_depth': 7, 'n_estimators': 25, 'num_leaves': 10}\n",
      "2.999291 (0.086125) with: {'learning_rate': 0.001, 'max_depth': 7, 'n_estimators': 25, 'num_leaves': 20}\n",
      "2.999104 (0.086085) with: {'learning_rate': 0.001, 'max_depth': 7, 'n_estimators': 25, 'num_leaves': 30}\n",
      "2.999365 (0.085760) with: {'learning_rate': 0.001, 'max_depth': 7, 'n_estimators': 25, 'num_leaves': 40}\n",
      "2.999105 (0.085549) with: {'learning_rate': 0.001, 'max_depth': 7, 'n_estimators': 25, 'num_leaves': 50}\n",
      "2.961242 (0.086754) with: {'learning_rate': 0.001, 'max_depth': 7, 'n_estimators': 50, 'num_leaves': 10}\n",
      "2.960986 (0.086151) with: {'learning_rate': 0.001, 'max_depth': 7, 'n_estimators': 50, 'num_leaves': 20}\n",
      "2.960674 (0.085978) with: {'learning_rate': 0.001, 'max_depth': 7, 'n_estimators': 50, 'num_leaves': 30}\n",
      "2.961145 (0.085290) with: {'learning_rate': 0.001, 'max_depth': 7, 'n_estimators': 50, 'num_leaves': 40}\n",
      "2.960824 (0.085033) with: {'learning_rate': 0.001, 'max_depth': 7, 'n_estimators': 50, 'num_leaves': 50}\n",
      "2.889023 (0.086794) with: {'learning_rate': 0.001, 'max_depth': 7, 'n_estimators': 100, 'num_leaves': 10}\n",
      "2.888141 (0.085865) with: {'learning_rate': 0.001, 'max_depth': 7, 'n_estimators': 100, 'num_leaves': 20}\n",
      "2.887715 (0.085614) with: {'learning_rate': 0.001, 'max_depth': 7, 'n_estimators': 100, 'num_leaves': 30}\n",
      "2.888351 (0.084270) with: {'learning_rate': 0.001, 'max_depth': 7, 'n_estimators': 100, 'num_leaves': 40}\n",
      "2.887653 (0.083665) with: {'learning_rate': 0.001, 'max_depth': 7, 'n_estimators': 100, 'num_leaves': 50}\n",
      "2.760576 (0.086120) with: {'learning_rate': 0.001, 'max_depth': 7, 'n_estimators': 200, 'num_leaves': 10}\n",
      "2.758917 (0.085430) with: {'learning_rate': 0.001, 'max_depth': 7, 'n_estimators': 200, 'num_leaves': 20}\n",
      "2.758344 (0.085442) with: {'learning_rate': 0.001, 'max_depth': 7, 'n_estimators': 200, 'num_leaves': 30}\n",
      "2.759170 (0.084395) with: {'learning_rate': 0.001, 'max_depth': 7, 'n_estimators': 200, 'num_leaves': 40}\n",
      "2.757295 (0.083728) with: {'learning_rate': 0.001, 'max_depth': 7, 'n_estimators': 200, 'num_leaves': 50}\n",
      "2.999326 (0.086504) with: {'learning_rate': 0.001, 'max_depth': 10, 'n_estimators': 25, 'num_leaves': 10}\n",
      "2.999435 (0.086048) with: {'learning_rate': 0.001, 'max_depth': 10, 'n_estimators': 25, 'num_leaves': 20}\n",
      "2.999188 (0.086066) with: {'learning_rate': 0.001, 'max_depth': 10, 'n_estimators': 25, 'num_leaves': 30}\n",
      "2.999597 (0.085741) with: {'learning_rate': 0.001, 'max_depth': 10, 'n_estimators': 25, 'num_leaves': 40}\n",
      "2.999588 (0.085491) with: {'learning_rate': 0.001, 'max_depth': 10, 'n_estimators': 25, 'num_leaves': 50}\n",
      "2.961242 (0.086754) with: {'learning_rate': 0.001, 'max_depth': 10, 'n_estimators': 50, 'num_leaves': 10}\n",
      "2.961231 (0.085964) with: {'learning_rate': 0.001, 'max_depth': 10, 'n_estimators': 50, 'num_leaves': 20}\n",
      "2.960862 (0.085738) with: {'learning_rate': 0.001, 'max_depth': 10, 'n_estimators': 50, 'num_leaves': 30}\n",
      "2.961409 (0.085097) with: {'learning_rate': 0.001, 'max_depth': 10, 'n_estimators': 50, 'num_leaves': 40}\n",
      "2.961549 (0.084804) with: {'learning_rate': 0.001, 'max_depth': 10, 'n_estimators': 50, 'num_leaves': 50}\n",
      "2.889023 (0.086794) with: {'learning_rate': 0.001, 'max_depth': 10, 'n_estimators': 100, 'num_leaves': 10}\n",
      "2.888438 (0.085663) with: {'learning_rate': 0.001, 'max_depth': 10, 'n_estimators': 100, 'num_leaves': 20}\n",
      "2.888258 (0.085293) with: {'learning_rate': 0.001, 'max_depth': 10, 'n_estimators': 100, 'num_leaves': 30}\n",
      "2.889175 (0.084376) with: {'learning_rate': 0.001, 'max_depth': 10, 'n_estimators': 100, 'num_leaves': 40}\n",
      "2.889286 (0.083780) with: {'learning_rate': 0.001, 'max_depth': 10, 'n_estimators': 100, 'num_leaves': 50}\n",
      "2.760576 (0.086120) with: {'learning_rate': 0.001, 'max_depth': 10, 'n_estimators': 200, 'num_leaves': 10}\n",
      "2.759275 (0.084807) with: {'learning_rate': 0.001, 'max_depth': 10, 'n_estimators': 200, 'num_leaves': 20}\n",
      "2.759410 (0.084119) with: {'learning_rate': 0.001, 'max_depth': 10, 'n_estimators': 200, 'num_leaves': 30}\n",
      "2.760762 (0.083378) with: {'learning_rate': 0.001, 'max_depth': 10, 'n_estimators': 200, 'num_leaves': 40}\n",
      "2.760594 (0.083003) with: {'learning_rate': 0.001, 'max_depth': 10, 'n_estimators': 200, 'num_leaves': 50}\n",
      "2.773086 (0.080802) with: {'learning_rate': 0.01, 'max_depth': 1, 'n_estimators': 25, 'num_leaves': 10}\n",
      "2.773086 (0.080802) with: {'learning_rate': 0.01, 'max_depth': 1, 'n_estimators': 25, 'num_leaves': 20}\n",
      "2.773086 (0.080802) with: {'learning_rate': 0.01, 'max_depth': 1, 'n_estimators': 25, 'num_leaves': 30}\n",
      "2.773086 (0.080802) with: {'learning_rate': 0.01, 'max_depth': 1, 'n_estimators': 25, 'num_leaves': 40}\n",
      "2.773086 (0.080802) with: {'learning_rate': 0.01, 'max_depth': 1, 'n_estimators': 25, 'num_leaves': 50}\n",
      "2.591055 (0.076280) with: {'learning_rate': 0.01, 'max_depth': 1, 'n_estimators': 50, 'num_leaves': 10}\n",
      "2.591055 (0.076280) with: {'learning_rate': 0.01, 'max_depth': 1, 'n_estimators': 50, 'num_leaves': 20}\n",
      "2.591055 (0.076280) with: {'learning_rate': 0.01, 'max_depth': 1, 'n_estimators': 50, 'num_leaves': 30}\n",
      "2.591055 (0.076280) with: {'learning_rate': 0.01, 'max_depth': 1, 'n_estimators': 50, 'num_leaves': 40}\n",
      "2.591055 (0.076280) with: {'learning_rate': 0.01, 'max_depth': 1, 'n_estimators': 50, 'num_leaves': 50}\n",
      "2.368961 (0.072999) with: {'learning_rate': 0.01, 'max_depth': 1, 'n_estimators': 100, 'num_leaves': 10}\n",
      "2.368961 (0.072999) with: {'learning_rate': 0.01, 'max_depth': 1, 'n_estimators': 100, 'num_leaves': 20}\n",
      "2.368961 (0.072999) with: {'learning_rate': 0.01, 'max_depth': 1, 'n_estimators': 100, 'num_leaves': 30}\n",
      "2.368961 (0.072999) with: {'learning_rate': 0.01, 'max_depth': 1, 'n_estimators': 100, 'num_leaves': 40}\n",
      "2.368961 (0.072999) with: {'learning_rate': 0.01, 'max_depth': 1, 'n_estimators': 100, 'num_leaves': 50}\n",
      "2.195776 (0.053892) with: {'learning_rate': 0.01, 'max_depth': 1, 'n_estimators': 200, 'num_leaves': 10}\n",
      "2.195776 (0.053892) with: {'learning_rate': 0.01, 'max_depth': 1, 'n_estimators': 200, 'num_leaves': 20}\n",
      "2.195776 (0.053892) with: {'learning_rate': 0.01, 'max_depth': 1, 'n_estimators': 200, 'num_leaves': 30}\n",
      "2.195776 (0.053892) with: {'learning_rate': 0.01, 'max_depth': 1, 'n_estimators': 200, 'num_leaves': 40}\n",
      "2.195776 (0.053892) with: {'learning_rate': 0.01, 'max_depth': 1, 'n_estimators': 200, 'num_leaves': 50}\n",
      "2.718041 (0.085257) with: {'learning_rate': 0.01, 'max_depth': 2, 'n_estimators': 25, 'num_leaves': 10}\n",
      "2.718041 (0.085257) with: {'learning_rate': 0.01, 'max_depth': 2, 'n_estimators': 25, 'num_leaves': 20}\n",
      "2.718041 (0.085257) with: {'learning_rate': 0.01, 'max_depth': 2, 'n_estimators': 25, 'num_leaves': 30}\n",
      "2.718041 (0.085257) with: {'learning_rate': 0.01, 'max_depth': 2, 'n_estimators': 25, 'num_leaves': 40}\n",
      "2.718041 (0.085257) with: {'learning_rate': 0.01, 'max_depth': 2, 'n_estimators': 25, 'num_leaves': 50}\n",
      "2.502940 (0.084181) with: {'learning_rate': 0.01, 'max_depth': 2, 'n_estimators': 50, 'num_leaves': 10}\n",
      "2.502940 (0.084181) with: {'learning_rate': 0.01, 'max_depth': 2, 'n_estimators': 50, 'num_leaves': 20}\n",
      "2.502940 (0.084181) with: {'learning_rate': 0.01, 'max_depth': 2, 'n_estimators': 50, 'num_leaves': 30}\n",
      "2.502940 (0.084181) with: {'learning_rate': 0.01, 'max_depth': 2, 'n_estimators': 50, 'num_leaves': 40}\n",
      "2.502940 (0.084181) with: {'learning_rate': 0.01, 'max_depth': 2, 'n_estimators': 50, 'num_leaves': 50}\n",
      "2.265821 (0.069024) with: {'learning_rate': 0.01, 'max_depth': 2, 'n_estimators': 100, 'num_leaves': 10}\n",
      "2.265821 (0.069024) with: {'learning_rate': 0.01, 'max_depth': 2, 'n_estimators': 100, 'num_leaves': 20}\n",
      "2.265821 (0.069024) with: {'learning_rate': 0.01, 'max_depth': 2, 'n_estimators': 100, 'num_leaves': 30}\n",
      "2.265821 (0.069024) with: {'learning_rate': 0.01, 'max_depth': 2, 'n_estimators': 100, 'num_leaves': 40}\n",
      "2.265821 (0.069024) with: {'learning_rate': 0.01, 'max_depth': 2, 'n_estimators': 100, 'num_leaves': 50}\n",
      "2.125129 (0.043235) with: {'learning_rate': 0.01, 'max_depth': 2, 'n_estimators': 200, 'num_leaves': 10}\n",
      "2.125129 (0.043235) with: {'learning_rate': 0.01, 'max_depth': 2, 'n_estimators': 200, 'num_leaves': 20}\n",
      "2.125129 (0.043235) with: {'learning_rate': 0.01, 'max_depth': 2, 'n_estimators': 200, 'num_leaves': 30}\n",
      "2.125129 (0.043235) with: {'learning_rate': 0.01, 'max_depth': 2, 'n_estimators': 200, 'num_leaves': 40}\n",
      "2.125129 (0.043235) with: {'learning_rate': 0.01, 'max_depth': 2, 'n_estimators': 200, 'num_leaves': 50}\n",
      "2.702508 (0.086398) with: {'learning_rate': 0.01, 'max_depth': 5, 'n_estimators': 25, 'num_leaves': 10}\n",
      "2.698949 (0.085588) with: {'learning_rate': 0.01, 'max_depth': 5, 'n_estimators': 25, 'num_leaves': 20}\n",
      "2.699748 (0.085600) with: {'learning_rate': 0.01, 'max_depth': 5, 'n_estimators': 25, 'num_leaves': 30}\n",
      "2.699770 (0.085567) with: {'learning_rate': 0.01, 'max_depth': 5, 'n_estimators': 25, 'num_leaves': 40}\n",
      "2.699770 (0.085567) with: {'learning_rate': 0.01, 'max_depth': 5, 'n_estimators': 25, 'num_leaves': 50}\n",
      "2.479820 (0.085787) with: {'learning_rate': 0.01, 'max_depth': 5, 'n_estimators': 50, 'num_leaves': 10}\n",
      "2.477766 (0.084576) with: {'learning_rate': 0.01, 'max_depth': 5, 'n_estimators': 50, 'num_leaves': 20}\n",
      "2.479997 (0.083603) with: {'learning_rate': 0.01, 'max_depth': 5, 'n_estimators': 50, 'num_leaves': 30}\n",
      "2.479898 (0.083821) with: {'learning_rate': 0.01, 'max_depth': 5, 'n_estimators': 50, 'num_leaves': 40}\n",
      "2.479898 (0.083821) with: {'learning_rate': 0.01, 'max_depth': 5, 'n_estimators': 50, 'num_leaves': 50}\n",
      "2.249140 (0.066915) with: {'learning_rate': 0.01, 'max_depth': 5, 'n_estimators': 100, 'num_leaves': 10}\n",
      "2.244295 (0.065061) with: {'learning_rate': 0.01, 'max_depth': 5, 'n_estimators': 100, 'num_leaves': 20}\n",
      "2.249156 (0.065535) with: {'learning_rate': 0.01, 'max_depth': 5, 'n_estimators': 100, 'num_leaves': 30}\n",
      "2.249059 (0.065651) with: {'learning_rate': 0.01, 'max_depth': 5, 'n_estimators': 100, 'num_leaves': 40}\n",
      "2.249059 (0.065651) with: {'learning_rate': 0.01, 'max_depth': 5, 'n_estimators': 100, 'num_leaves': 50}\n",
      "2.121319 (0.039184) with: {'learning_rate': 0.01, 'max_depth': 5, 'n_estimators': 200, 'num_leaves': 10}\n",
      "2.121253 (0.043024) with: {'learning_rate': 0.01, 'max_depth': 5, 'n_estimators': 200, 'num_leaves': 20}\n",
      "2.127250 (0.042410) with: {'learning_rate': 0.01, 'max_depth': 5, 'n_estimators': 200, 'num_leaves': 30}\n",
      "2.126913 (0.041980) with: {'learning_rate': 0.01, 'max_depth': 5, 'n_estimators': 200, 'num_leaves': 40}\n",
      "2.126913 (0.041980) with: {'learning_rate': 0.01, 'max_depth': 5, 'n_estimators': 200, 'num_leaves': 50}\n",
      "2.702827 (0.086213) with: {'learning_rate': 0.01, 'max_depth': 7, 'n_estimators': 25, 'num_leaves': 10}\n",
      "2.700808 (0.084953) with: {'learning_rate': 0.01, 'max_depth': 7, 'n_estimators': 25, 'num_leaves': 20}\n",
      "2.700005 (0.084994) with: {'learning_rate': 0.01, 'max_depth': 7, 'n_estimators': 25, 'num_leaves': 30}\n",
      "2.700828 (0.084907) with: {'learning_rate': 0.01, 'max_depth': 7, 'n_estimators': 25, 'num_leaves': 40}\n",
      "2.699902 (0.084127) with: {'learning_rate': 0.01, 'max_depth': 7, 'n_estimators': 25, 'num_leaves': 50}\n",
      "2.480036 (0.084775) with: {'learning_rate': 0.01, 'max_depth': 7, 'n_estimators': 50, 'num_leaves': 10}\n",
      "2.478817 (0.085914) with: {'learning_rate': 0.01, 'max_depth': 7, 'n_estimators': 50, 'num_leaves': 20}\n",
      "2.480074 (0.086030) with: {'learning_rate': 0.01, 'max_depth': 7, 'n_estimators': 50, 'num_leaves': 30}\n",
      "2.481515 (0.086882) with: {'learning_rate': 0.01, 'max_depth': 7, 'n_estimators': 50, 'num_leaves': 40}\n",
      "2.479378 (0.083460) with: {'learning_rate': 0.01, 'max_depth': 7, 'n_estimators': 50, 'num_leaves': 50}\n",
      "2.250050 (0.066981) with: {'learning_rate': 0.01, 'max_depth': 7, 'n_estimators': 100, 'num_leaves': 10}\n",
      "2.250493 (0.067813) with: {'learning_rate': 0.01, 'max_depth': 7, 'n_estimators': 100, 'num_leaves': 20}\n",
      "2.252606 (0.067118) with: {'learning_rate': 0.01, 'max_depth': 7, 'n_estimators': 100, 'num_leaves': 30}\n",
      "2.256277 (0.064480) with: {'learning_rate': 0.01, 'max_depth': 7, 'n_estimators': 100, 'num_leaves': 40}\n",
      "2.257614 (0.065281) with: {'learning_rate': 0.01, 'max_depth': 7, 'n_estimators': 100, 'num_leaves': 50}\n",
      "2.123319 (0.041361) with: {'learning_rate': 0.01, 'max_depth': 7, 'n_estimators': 200, 'num_leaves': 10}\n",
      "2.121748 (0.040178) with: {'learning_rate': 0.01, 'max_depth': 7, 'n_estimators': 200, 'num_leaves': 20}\n",
      "2.131484 (0.042494) with: {'learning_rate': 0.01, 'max_depth': 7, 'n_estimators': 200, 'num_leaves': 30}\n",
      "2.138349 (0.045034) with: {'learning_rate': 0.01, 'max_depth': 7, 'n_estimators': 200, 'num_leaves': 40}\n",
      "2.140128 (0.050767) with: {'learning_rate': 0.01, 'max_depth': 7, 'n_estimators': 200, 'num_leaves': 50}\n",
      "2.702827 (0.086213) with: {'learning_rate': 0.01, 'max_depth': 10, 'n_estimators': 25, 'num_leaves': 10}\n",
      "2.700865 (0.084550) with: {'learning_rate': 0.01, 'max_depth': 10, 'n_estimators': 25, 'num_leaves': 20}\n",
      "2.700408 (0.083824) with: {'learning_rate': 0.01, 'max_depth': 10, 'n_estimators': 25, 'num_leaves': 30}\n",
      "2.702370 (0.083521) with: {'learning_rate': 0.01, 'max_depth': 10, 'n_estimators': 25, 'num_leaves': 40}\n",
      "2.701447 (0.082655) with: {'learning_rate': 0.01, 'max_depth': 10, 'n_estimators': 25, 'num_leaves': 50}\n",
      "2.480008 (0.084762) with: {'learning_rate': 0.01, 'max_depth': 10, 'n_estimators': 50, 'num_leaves': 10}\n",
      "2.480442 (0.086831) with: {'learning_rate': 0.01, 'max_depth': 10, 'n_estimators': 50, 'num_leaves': 20}\n",
      "2.481499 (0.086447) with: {'learning_rate': 0.01, 'max_depth': 10, 'n_estimators': 50, 'num_leaves': 30}\n",
      "2.482463 (0.084386) with: {'learning_rate': 0.01, 'max_depth': 10, 'n_estimators': 50, 'num_leaves': 40}\n",
      "2.482120 (0.083335) with: {'learning_rate': 0.01, 'max_depth': 10, 'n_estimators': 50, 'num_leaves': 50}\n",
      "2.250214 (0.067039) with: {'learning_rate': 0.01, 'max_depth': 10, 'n_estimators': 100, 'num_leaves': 10}\n",
      "2.249922 (0.068246) with: {'learning_rate': 0.01, 'max_depth': 10, 'n_estimators': 100, 'num_leaves': 20}\n",
      "2.253810 (0.066576) with: {'learning_rate': 0.01, 'max_depth': 10, 'n_estimators': 100, 'num_leaves': 30}\n",
      "2.257133 (0.064805) with: {'learning_rate': 0.01, 'max_depth': 10, 'n_estimators': 100, 'num_leaves': 40}\n",
      "2.256669 (0.063864) with: {'learning_rate': 0.01, 'max_depth': 10, 'n_estimators': 100, 'num_leaves': 50}\n",
      "2.123131 (0.040752) with: {'learning_rate': 0.01, 'max_depth': 10, 'n_estimators': 200, 'num_leaves': 10}\n",
      "2.120942 (0.043517) with: {'learning_rate': 0.01, 'max_depth': 10, 'n_estimators': 200, 'num_leaves': 20}\n",
      "2.127772 (0.041190) with: {'learning_rate': 0.01, 'max_depth': 10, 'n_estimators': 200, 'num_leaves': 30}\n",
      "2.134946 (0.045871) with: {'learning_rate': 0.01, 'max_depth': 10, 'n_estimators': 200, 'num_leaves': 40}\n",
      "2.138945 (0.048012) with: {'learning_rate': 0.01, 'max_depth': 10, 'n_estimators': 200, 'num_leaves': 50}\n",
      "2.152016 (0.046258) with: {'learning_rate': 0.1, 'max_depth': 1, 'n_estimators': 25, 'num_leaves': 10}\n",
      "2.152016 (0.046258) with: {'learning_rate': 0.1, 'max_depth': 1, 'n_estimators': 25, 'num_leaves': 20}\n",
      "2.152016 (0.046258) with: {'learning_rate': 0.1, 'max_depth': 1, 'n_estimators': 25, 'num_leaves': 30}\n",
      "2.152016 (0.046258) with: {'learning_rate': 0.1, 'max_depth': 1, 'n_estimators': 25, 'num_leaves': 40}\n",
      "2.152016 (0.046258) with: {'learning_rate': 0.1, 'max_depth': 1, 'n_estimators': 25, 'num_leaves': 50}\n",
      "2.106268 (0.041813) with: {'learning_rate': 0.1, 'max_depth': 1, 'n_estimators': 50, 'num_leaves': 10}\n",
      "2.106268 (0.041813) with: {'learning_rate': 0.1, 'max_depth': 1, 'n_estimators': 50, 'num_leaves': 20}\n",
      "2.106268 (0.041813) with: {'learning_rate': 0.1, 'max_depth': 1, 'n_estimators': 50, 'num_leaves': 30}\n",
      "2.106268 (0.041813) with: {'learning_rate': 0.1, 'max_depth': 1, 'n_estimators': 50, 'num_leaves': 40}\n",
      "2.106268 (0.041813) with: {'learning_rate': 0.1, 'max_depth': 1, 'n_estimators': 50, 'num_leaves': 50}\n",
      "2.097680 (0.041848) with: {'learning_rate': 0.1, 'max_depth': 1, 'n_estimators': 100, 'num_leaves': 10}\n",
      "2.097680 (0.041848) with: {'learning_rate': 0.1, 'max_depth': 1, 'n_estimators': 100, 'num_leaves': 20}\n",
      "2.097680 (0.041848) with: {'learning_rate': 0.1, 'max_depth': 1, 'n_estimators': 100, 'num_leaves': 30}\n",
      "2.097680 (0.041848) with: {'learning_rate': 0.1, 'max_depth': 1, 'n_estimators': 100, 'num_leaves': 40}\n",
      "2.097680 (0.041848) with: {'learning_rate': 0.1, 'max_depth': 1, 'n_estimators': 100, 'num_leaves': 50}\n",
      "2.096217 (0.039276) with: {'learning_rate': 0.1, 'max_depth': 1, 'n_estimators': 200, 'num_leaves': 10}\n",
      "2.096217 (0.039276) with: {'learning_rate': 0.1, 'max_depth': 1, 'n_estimators': 200, 'num_leaves': 20}\n",
      "2.096217 (0.039276) with: {'learning_rate': 0.1, 'max_depth': 1, 'n_estimators': 200, 'num_leaves': 30}\n",
      "2.096217 (0.039276) with: {'learning_rate': 0.1, 'max_depth': 1, 'n_estimators': 200, 'num_leaves': 40}\n",
      "2.096217 (0.039276) with: {'learning_rate': 0.1, 'max_depth': 1, 'n_estimators': 200, 'num_leaves': 50}\n",
      "2.103968 (0.039006) with: {'learning_rate': 0.1, 'max_depth': 2, 'n_estimators': 25, 'num_leaves': 10}\n",
      "2.103968 (0.039006) with: {'learning_rate': 0.1, 'max_depth': 2, 'n_estimators': 25, 'num_leaves': 20}\n",
      "2.103968 (0.039006) with: {'learning_rate': 0.1, 'max_depth': 2, 'n_estimators': 25, 'num_leaves': 30}\n",
      "2.103968 (0.039006) with: {'learning_rate': 0.1, 'max_depth': 2, 'n_estimators': 25, 'num_leaves': 40}\n",
      "2.103968 (0.039006) with: {'learning_rate': 0.1, 'max_depth': 2, 'n_estimators': 25, 'num_leaves': 50}\n",
      "2.087225 (0.040405) with: {'learning_rate': 0.1, 'max_depth': 2, 'n_estimators': 50, 'num_leaves': 10}\n",
      "2.087225 (0.040405) with: {'learning_rate': 0.1, 'max_depth': 2, 'n_estimators': 50, 'num_leaves': 20}\n",
      "2.087225 (0.040405) with: {'learning_rate': 0.1, 'max_depth': 2, 'n_estimators': 50, 'num_leaves': 30}\n",
      "2.087225 (0.040405) with: {'learning_rate': 0.1, 'max_depth': 2, 'n_estimators': 50, 'num_leaves': 40}\n",
      "2.087225 (0.040405) with: {'learning_rate': 0.1, 'max_depth': 2, 'n_estimators': 50, 'num_leaves': 50}\n",
      "2.086718 (0.045107) with: {'learning_rate': 0.1, 'max_depth': 2, 'n_estimators': 100, 'num_leaves': 10}\n",
      "2.086718 (0.045107) with: {'learning_rate': 0.1, 'max_depth': 2, 'n_estimators': 100, 'num_leaves': 20}\n",
      "2.086718 (0.045107) with: {'learning_rate': 0.1, 'max_depth': 2, 'n_estimators': 100, 'num_leaves': 30}\n",
      "2.086718 (0.045107) with: {'learning_rate': 0.1, 'max_depth': 2, 'n_estimators': 100, 'num_leaves': 40}\n",
      "2.086718 (0.045107) with: {'learning_rate': 0.1, 'max_depth': 2, 'n_estimators': 100, 'num_leaves': 50}\n",
      "2.101657 (0.038796) with: {'learning_rate': 0.1, 'max_depth': 2, 'n_estimators': 200, 'num_leaves': 10}\n",
      "2.101657 (0.038796) with: {'learning_rate': 0.1, 'max_depth': 2, 'n_estimators': 200, 'num_leaves': 20}\n",
      "2.101657 (0.038796) with: {'learning_rate': 0.1, 'max_depth': 2, 'n_estimators': 200, 'num_leaves': 30}\n",
      "2.101657 (0.038796) with: {'learning_rate': 0.1, 'max_depth': 2, 'n_estimators': 200, 'num_leaves': 40}\n",
      "2.101657 (0.038796) with: {'learning_rate': 0.1, 'max_depth': 2, 'n_estimators': 200, 'num_leaves': 50}\n",
      "2.097513 (0.041848) with: {'learning_rate': 0.1, 'max_depth': 5, 'n_estimators': 25, 'num_leaves': 10}\n",
      "2.107506 (0.046331) with: {'learning_rate': 0.1, 'max_depth': 5, 'n_estimators': 25, 'num_leaves': 20}\n",
      "2.108587 (0.051547) with: {'learning_rate': 0.1, 'max_depth': 5, 'n_estimators': 25, 'num_leaves': 30}\n",
      "2.110115 (0.053029) with: {'learning_rate': 0.1, 'max_depth': 5, 'n_estimators': 25, 'num_leaves': 40}\n",
      "2.110115 (0.053029) with: {'learning_rate': 0.1, 'max_depth': 5, 'n_estimators': 25, 'num_leaves': 50}\n",
      "2.095246 (0.047786) with: {'learning_rate': 0.1, 'max_depth': 5, 'n_estimators': 50, 'num_leaves': 10}\n",
      "2.112386 (0.049603) with: {'learning_rate': 0.1, 'max_depth': 5, 'n_estimators': 50, 'num_leaves': 20}\n",
      "2.109599 (0.054663) with: {'learning_rate': 0.1, 'max_depth': 5, 'n_estimators': 50, 'num_leaves': 30}\n",
      "2.111090 (0.057022) with: {'learning_rate': 0.1, 'max_depth': 5, 'n_estimators': 50, 'num_leaves': 40}\n",
      "2.111090 (0.057022) with: {'learning_rate': 0.1, 'max_depth': 5, 'n_estimators': 50, 'num_leaves': 50}\n",
      "2.105095 (0.041294) with: {'learning_rate': 0.1, 'max_depth': 5, 'n_estimators': 100, 'num_leaves': 10}\n",
      "2.127432 (0.051291) with: {'learning_rate': 0.1, 'max_depth': 5, 'n_estimators': 100, 'num_leaves': 20}\n",
      "2.123173 (0.044790) with: {'learning_rate': 0.1, 'max_depth': 5, 'n_estimators': 100, 'num_leaves': 30}\n",
      "2.127216 (0.050160) with: {'learning_rate': 0.1, 'max_depth': 5, 'n_estimators': 100, 'num_leaves': 40}\n",
      "2.127216 (0.050160) with: {'learning_rate': 0.1, 'max_depth': 5, 'n_estimators': 100, 'num_leaves': 50}\n",
      "2.126775 (0.043288) with: {'learning_rate': 0.1, 'max_depth': 5, 'n_estimators': 200, 'num_leaves': 10}\n",
      "2.148359 (0.056303) with: {'learning_rate': 0.1, 'max_depth': 5, 'n_estimators': 200, 'num_leaves': 20}\n",
      "2.147496 (0.044841) with: {'learning_rate': 0.1, 'max_depth': 5, 'n_estimators': 200, 'num_leaves': 30}\n",
      "2.151697 (0.049788) with: {'learning_rate': 0.1, 'max_depth': 5, 'n_estimators': 200, 'num_leaves': 40}\n",
      "2.151697 (0.049788) with: {'learning_rate': 0.1, 'max_depth': 5, 'n_estimators': 200, 'num_leaves': 50}\n",
      "2.107510 (0.041764) with: {'learning_rate': 0.1, 'max_depth': 7, 'n_estimators': 25, 'num_leaves': 10}\n",
      "2.098314 (0.041780) with: {'learning_rate': 0.1, 'max_depth': 7, 'n_estimators': 25, 'num_leaves': 20}\n",
      "2.119717 (0.047906) with: {'learning_rate': 0.1, 'max_depth': 7, 'n_estimators': 25, 'num_leaves': 30}\n",
      "2.118981 (0.061045) with: {'learning_rate': 0.1, 'max_depth': 7, 'n_estimators': 25, 'num_leaves': 40}\n",
      "2.127749 (0.059403) with: {'learning_rate': 0.1, 'max_depth': 7, 'n_estimators': 25, 'num_leaves': 50}\n",
      "2.097719 (0.044153) with: {'learning_rate': 0.1, 'max_depth': 7, 'n_estimators': 50, 'num_leaves': 10}\n",
      "2.094444 (0.047638) with: {'learning_rate': 0.1, 'max_depth': 7, 'n_estimators': 50, 'num_leaves': 20}\n",
      "2.112490 (0.043940) with: {'learning_rate': 0.1, 'max_depth': 7, 'n_estimators': 50, 'num_leaves': 30}\n",
      "2.119980 (0.058879) with: {'learning_rate': 0.1, 'max_depth': 7, 'n_estimators': 50, 'num_leaves': 40}\n",
      "2.137363 (0.051852) with: {'learning_rate': 0.1, 'max_depth': 7, 'n_estimators': 50, 'num_leaves': 50}\n",
      "2.107957 (0.033583) with: {'learning_rate': 0.1, 'max_depth': 7, 'n_estimators': 100, 'num_leaves': 10}\n",
      "2.104040 (0.058426) with: {'learning_rate': 0.1, 'max_depth': 7, 'n_estimators': 100, 'num_leaves': 20}\n",
      "2.121357 (0.040237) with: {'learning_rate': 0.1, 'max_depth': 7, 'n_estimators': 100, 'num_leaves': 30}\n",
      "2.132312 (0.066007) with: {'learning_rate': 0.1, 'max_depth': 7, 'n_estimators': 100, 'num_leaves': 40}\n",
      "2.149955 (0.053409) with: {'learning_rate': 0.1, 'max_depth': 7, 'n_estimators': 100, 'num_leaves': 50}\n",
      "2.128732 (0.034958) with: {'learning_rate': 0.1, 'max_depth': 7, 'n_estimators': 200, 'num_leaves': 10}\n",
      "2.124789 (0.046269) with: {'learning_rate': 0.1, 'max_depth': 7, 'n_estimators': 200, 'num_leaves': 20}\n",
      "2.132339 (0.045967) with: {'learning_rate': 0.1, 'max_depth': 7, 'n_estimators': 200, 'num_leaves': 30}\n",
      "2.143319 (0.065905) with: {'learning_rate': 0.1, 'max_depth': 7, 'n_estimators': 200, 'num_leaves': 40}\n",
      "2.159197 (0.050831) with: {'learning_rate': 0.1, 'max_depth': 7, 'n_estimators': 200, 'num_leaves': 50}\n",
      "2.108664 (0.043530) with: {'learning_rate': 0.1, 'max_depth': 10, 'n_estimators': 25, 'num_leaves': 10}\n",
      "2.106813 (0.040041) with: {'learning_rate': 0.1, 'max_depth': 10, 'n_estimators': 25, 'num_leaves': 20}\n",
      "2.117567 (0.049455) with: {'learning_rate': 0.1, 'max_depth': 10, 'n_estimators': 25, 'num_leaves': 30}\n",
      "2.121874 (0.057071) with: {'learning_rate': 0.1, 'max_depth': 10, 'n_estimators': 25, 'num_leaves': 40}\n",
      "2.134113 (0.061699) with: {'learning_rate': 0.1, 'max_depth': 10, 'n_estimators': 25, 'num_leaves': 50}\n",
      "2.106082 (0.050312) with: {'learning_rate': 0.1, 'max_depth': 10, 'n_estimators': 50, 'num_leaves': 10}\n",
      "2.102225 (0.041701) with: {'learning_rate': 0.1, 'max_depth': 10, 'n_estimators': 50, 'num_leaves': 20}\n",
      "2.123246 (0.044883) with: {'learning_rate': 0.1, 'max_depth': 10, 'n_estimators': 50, 'num_leaves': 30}\n",
      "2.122409 (0.060232) with: {'learning_rate': 0.1, 'max_depth': 10, 'n_estimators': 50, 'num_leaves': 40}\n",
      "2.140577 (0.053353) with: {'learning_rate': 0.1, 'max_depth': 10, 'n_estimators': 50, 'num_leaves': 50}\n",
      "2.116402 (0.045494) with: {'learning_rate': 0.1, 'max_depth': 10, 'n_estimators': 100, 'num_leaves': 10}\n",
      "2.124222 (0.035849) with: {'learning_rate': 0.1, 'max_depth': 10, 'n_estimators': 100, 'num_leaves': 20}\n",
      "2.147958 (0.043049) with: {'learning_rate': 0.1, 'max_depth': 10, 'n_estimators': 100, 'num_leaves': 30}\n",
      "2.139848 (0.057752) with: {'learning_rate': 0.1, 'max_depth': 10, 'n_estimators': 100, 'num_leaves': 40}\n",
      "2.154645 (0.051211) with: {'learning_rate': 0.1, 'max_depth': 10, 'n_estimators': 100, 'num_leaves': 50}\n",
      "2.126496 (0.049336) with: {'learning_rate': 0.1, 'max_depth': 10, 'n_estimators': 200, 'num_leaves': 10}\n",
      "2.144507 (0.034693) with: {'learning_rate': 0.1, 'max_depth': 10, 'n_estimators': 200, 'num_leaves': 20}\n",
      "2.161992 (0.040788) with: {'learning_rate': 0.1, 'max_depth': 10, 'n_estimators': 200, 'num_leaves': 30}\n",
      "2.150401 (0.057721) with: {'learning_rate': 0.1, 'max_depth': 10, 'n_estimators': 200, 'num_leaves': 40}\n",
      "2.165195 (0.050424) with: {'learning_rate': 0.1, 'max_depth': 10, 'n_estimators': 200, 'num_leaves': 50}\n"
     ]
    }
   ],
   "source": [
    "# Use grid search for https://lightgbm.readthedocs.io/en/latest/_modules/lightgbm/sklearn.html\n",
    "# Params useful for grid search in LGB: num_leaves, max_depth, n_estimators and learning rate\n",
    "\n",
    "from sklearn.model_selection import GridSearchCV\n",
    "from sklearn.metrics import mean_absolute_error\n",
    "from sklearn.metrics import make_scorer\n",
    "\n",
    "start_time = datetime.now() \n",
    "\n",
    "train_data = lgb.Dataset(train_variables, label=train_targets)\n",
    "\n",
    "lgb_simple = lgb.LGBMRegressor(boosting_type='gbdt')\n",
    "\n",
    "mae_scorer = make_scorer(mean_absolute_error, greater_is_better=False)\n",
    "\n",
    "num_leaves = [10, 20, 30, 40, 50]\n",
    "\n",
    "max_depth = [1, 2, 5, 7, 10]\n",
    "\n",
    "n_estimators = [25, 50, 100, 200]\n",
    "\n",
    "learning_rate = [0.001, 0.01, 0.1]\n",
    "\n",
    "param_grid = dict(num_leaves= num_leaves, max_depth=max_depth, learning_rate=learning_rate, n_estimators=n_estimators)\n",
    "\n",
    "grid_search = GridSearchCV(lgb_simple, param_grid, scoring=mae_scorer, n_jobs=-1, cv=5, return_train_score=True)\n",
    "grid_result = grid_search.fit(train_variables, train_targets)\n",
    "\n",
    "# Summarize results\n",
    "print(\"Best: %f using %s\" % (grid_result.best_score_, grid_result.best_params_))\n",
    "means = grid_result.cv_results_['mean_test_score']\n",
    "stds = grid_result.cv_results_['std_test_score']\n",
    "params = grid_result.cv_results_['params']\n",
    "for mean, stdev, param in zip(means, stds, params):\n",
    "    print(\"%f (%f) with: %r\" % (mean, stdev, param))\n",
    "    \n",
    "time_elapsed = datetime.now() - start_time \n",
    "\n",
    "print('Time elapsed (hh:mm:ss.ms) {}'.format(time_elapsed))"
   ]
  },
  {
   "cell_type": "markdown",
   "metadata": {},
   "source": [
    "##### Grid search Random Forest"
   ]
  },
  {
   "cell_type": "code",
   "execution_count": 119,
   "metadata": {},
   "outputs": [
    {
     "name": "stdout",
     "output_type": "stream",
     "text": [
      "Best: -2.096747 using {'criterion': 'mse', 'n_estimators': 500}\n",
      "-2.126929 (0.028756) with: {'criterion': 'mse', 'n_estimators': 25}\n",
      "-2.116978 (0.037893) with: {'criterion': 'mse', 'n_estimators': 50}\n",
      "-2.103385 (0.037614) with: {'criterion': 'mse', 'n_estimators': 100}\n",
      "-2.103086 (0.029806) with: {'criterion': 'mse', 'n_estimators': 250}\n",
      "-2.096747 (0.039855) with: {'criterion': 'mse', 'n_estimators': 500}\n",
      "-2.133949 (0.027706) with: {'criterion': 'mae', 'n_estimators': 25}\n",
      "-2.124240 (0.032810) with: {'criterion': 'mae', 'n_estimators': 50}\n",
      "-2.126735 (0.034393) with: {'criterion': 'mae', 'n_estimators': 100}\n",
      "-2.109362 (0.034916) with: {'criterion': 'mae', 'n_estimators': 250}\n",
      "-2.107988 (0.032639) with: {'criterion': 'mae', 'n_estimators': 500}\n"
     ]
    },
    {
     "ename": "NameError",
     "evalue": "name 'n_estimates' is not defined",
     "output_type": "error",
     "traceback": [
      "\u001b[0;31m---------------------------------------------------------------------------\u001b[0m",
      "\u001b[0;31mNameError\u001b[0m                                 Traceback (most recent call last)",
      "\u001b[0;32m<ipython-input-119-a0c2a1424dc2>\u001b[0m in \u001b[0;36m<module>\u001b[0;34m()\u001b[0m\n\u001b[1;32m     32\u001b[0m \u001b[0mresults\u001b[0m \u001b[0;34m=\u001b[0m \u001b[0mnp\u001b[0m\u001b[0;34m.\u001b[0m\u001b[0marray\u001b[0m\u001b[0;34m(\u001b[0m\u001b[0mmeans\u001b[0m\u001b[0;34m)\u001b[0m\u001b[0;34m.\u001b[0m\u001b[0mreshape\u001b[0m\u001b[0;34m(\u001b[0m\u001b[0mlen\u001b[0m\u001b[0;34m(\u001b[0m\u001b[0mcriterion\u001b[0m\u001b[0;34m)\u001b[0m\u001b[0;34m,\u001b[0m \u001b[0mlen\u001b[0m\u001b[0;34m(\u001b[0m\u001b[0mn_estimators\u001b[0m\u001b[0;34m)\u001b[0m\u001b[0;34m)\u001b[0m\u001b[0;34m\u001b[0m\u001b[0;34m\u001b[0m\u001b[0m\n\u001b[1;32m     33\u001b[0m \u001b[0;32mfor\u001b[0m \u001b[0mi\u001b[0m\u001b[0;34m,\u001b[0m \u001b[0mvalue\u001b[0m \u001b[0;32min\u001b[0m \u001b[0menumerate\u001b[0m\u001b[0;34m(\u001b[0m\u001b[0mcriterion\u001b[0m\u001b[0;34m)\u001b[0m\u001b[0;34m:\u001b[0m\u001b[0;34m\u001b[0m\u001b[0;34m\u001b[0m\u001b[0m\n\u001b[0;32m---> 34\u001b[0;31m     \u001b[0mplt\u001b[0m\u001b[0;34m.\u001b[0m\u001b[0mplot\u001b[0m\u001b[0;34m(\u001b[0m\u001b[0mn_estimates\u001b[0m\u001b[0;34m,\u001b[0m \u001b[0mresults\u001b[0m\u001b[0;34m[\u001b[0m\u001b[0mi\u001b[0m\u001b[0;34m]\u001b[0m\u001b[0;34m,\u001b[0m \u001b[0mlabel\u001b[0m\u001b[0;34m=\u001b[0m\u001b[0;34m'Criterion: '\u001b[0m \u001b[0;34m+\u001b[0m \u001b[0mstr\u001b[0m\u001b[0;34m(\u001b[0m\u001b[0mvalue\u001b[0m\u001b[0;34m)\u001b[0m\u001b[0;34m)\u001b[0m\u001b[0;34m\u001b[0m\u001b[0;34m\u001b[0m\u001b[0m\n\u001b[0m\u001b[1;32m     35\u001b[0m \u001b[0mplt\u001b[0m\u001b[0;34m.\u001b[0m\u001b[0mlegend\u001b[0m\u001b[0;34m(\u001b[0m\u001b[0;34m)\u001b[0m\u001b[0;34m\u001b[0m\u001b[0;34m\u001b[0m\u001b[0m\n\u001b[1;32m     36\u001b[0m \u001b[0mplt\u001b[0m\u001b[0;34m.\u001b[0m\u001b[0mtitle\u001b[0m\u001b[0;34m(\u001b[0m\u001b[0;34m\"RndmForest n_estimators / criterion / MAE\"\u001b[0m\u001b[0;34m)\u001b[0m\u001b[0;34m\u001b[0m\u001b[0;34m\u001b[0m\u001b[0m\n",
      "\u001b[0;31mNameError\u001b[0m: name 'n_estimates' is not defined"
     ]
    }
   ],
   "source": [
    "# Using grid search for https://scikit-learn.org/stable/modules/generated/sklearn.ensemble.RandomForestRegressor.html\n",
    "# Params useful for grid search in random forest: n_estimators, criterion\n",
    "\n",
    "from sklearn.model_selection import GridSearchCV\n",
    "from sklearn.metrics import mean_absolute_error\n",
    "from sklearn.metrics import make_scorer\n",
    "\n",
    "start_time = datetime.now() \n",
    "\n",
    "RndmForest_simple = RandomForestRegressor()\n",
    "\n",
    "mae_scorer = make_scorer(mean_absolute_error, greater_is_better=False)\n",
    "\n",
    "n_estimators = [25, 50, 100, 250, 500]\n",
    "\n",
    "criterion = ['mse', 'mae']\n",
    "\n",
    "param_grid = dict(n_estimators=n_estimators, criterion=criterion)\n",
    "\n",
    "grid_search = GridSearchCV(RndmForest_simple, param_grid, scoring=mae_scorer, n_jobs=-1, cv=5, return_train_score=True)\n",
    "grid_result = grid_search.fit(train_variables, train_targets)\n",
    "\n",
    "# Summarize results\n",
    "print(\"Best: %f using %s\" % (grid_result.best_score_, grid_result.best_params_))\n",
    "means = grid_result.cv_results_['mean_test_score']\n",
    "stds = grid_result.cv_results_['std_test_score']\n",
    "params = grid_result.cv_results_['params']\n",
    "for mean, stdev, param in zip(means, stds, params):\n",
    "    print(\"%f (%f) with: %r\" % (mean, stdev, param))\n",
    "\n",
    "# Plot\n",
    "results = np.array(means).reshape(len(criterion), len(n_estimators))\n",
    "for i, value in enumerate(criterion):\n",
    "    plt.plot(n_estimates, results[i], label='Criterion: ' + str(value))\n",
    "plt.legend()\n",
    "plt.title(\"RndmForest n_estimators / criterion / MAE\")\n",
    "plt.xlabel('n_estimators')\n",
    "plt.ylabel(\"Mean Absolute Error\")\n",
    "plt.savefig('Earthquake_rforest_grid.png')\n",
    "\n",
    "time_elapsed = datetime.now() - start_time \n",
    "\n",
    "print('Time elapsed (hh:mm:ss.ms) {}'.format(time_elapsed))"
   ]
  },
  {
   "cell_type": "code",
   "execution_count": 120,
   "metadata": {},
   "outputs": [
    {
     "name": "stdout",
     "output_type": "stream",
     "text": [
      "Time elapsed (hh:mm:ss.ms) 1:46:21.309054\n"
     ]
    },
    {
     "data": {
      "image/png": "[encoded data removed]",
      "text/plain": [
       "<Figure size 432x288 with 1 Axes>"
      ]
     },
     "metadata": {},
     "output_type": "display_data"
    }
   ],
   "source": [
    "# Plot\n",
    "results = np.array(means).reshape(len(criterion), len(n_estimators))\n",
    "for i, value in enumerate(criterion):\n",
    "    plt.plot(n_estimators, results[i], label='Criterion: ' + str(value))\n",
    "plt.legend()\n",
    "plt.title(\"RndmForest n_estimators / criterion / MAE\")\n",
    "plt.xlabel('n_estimators')\n",
    "plt.ylabel(\"Mean Absolute Error\")\n",
    "plt.savefig('Earthquake_rforest_grid.png')\n",
    "\n",
    "time_elapsed = datetime.now() - start_time \n",
    "\n",
    "print('Time elapsed (hh:mm:ss.ms) {}'.format(time_elapsed))"
   ]
  },
  {
   "cell_type": "markdown",
   "metadata": {},
   "source": [
    "##### Grid search Bagging"
   ]
  },
  {
   "cell_type": "code",
   "execution_count": 66,
   "metadata": {},
   "outputs": [
    {
     "name": "stdout",
     "output_type": "stream",
     "text": [
      "Best: -2.099723 using {'n_estimators': 250}\n",
      "-2.133212 (0.066879) with: {'n_estimators': 25}\n",
      "-2.122850 (0.049349) with: {'n_estimators': 50}\n",
      "-2.103075 (0.042039) with: {'n_estimators': 100}\n",
      "-2.099723 (0.045947) with: {'n_estimators': 250}\n",
      "Time elapsed (hh:mm:ss.ms) 0:03:25.175046\n"
     ]
    },
    {
     "data": {
      "image/png": "[encoded data removed]",
      "text/plain": [
       "<Figure size 432x288 with 1 Axes>"
      ]
     },
     "metadata": {},
     "output_type": "display_data"
    }
   ],
   "source": [
    "# Using grid search for https://scikit-learn.org/stable/modules/generated/sklearn.ensemble.BaggingRegressor.html\n",
    "# Params useful for grid search in bagging: n_estimators\n",
    "\n",
    "from sklearn.model_selection import GridSearchCV\n",
    "from sklearn.metrics import mean_absolute_error\n",
    "from sklearn.metrics import make_scorer\n",
    "\n",
    "start_time = datetime.now()\n",
    "\n",
    "Bagging_simple = BaggingRegressor()\n",
    "\n",
    "mae_scorer = make_scorer(mean_absolute_error, greater_is_better=False)\n",
    "\n",
    "n_estimators = [25, 50, 100, 250]\n",
    "\n",
    "param_grid = dict(n_estimators=n_estimators)\n",
    "\n",
    "grid_search = GridSearchCV(Bagging_simple, param_grid, scoring=mae_scorer, n_jobs=-1, cv=5, return_train_score=True)\n",
    "grid_result = grid_search.fit(train_variables, train_targets)\n",
    "\n",
    "# Summarize results\n",
    "print(\"Best: %f using %s\" % (grid_result.best_score_, grid_result.best_params_))\n",
    "means = grid_result.cv_results_['mean_test_score']\n",
    "stds = grid_result.cv_results_['std_test_score']\n",
    "params = grid_result.cv_results_['params']\n",
    "for mean, stdev, param in zip(means, stds, params):\n",
    "    print(\"%f (%f) with: %r\" % (mean, stdev, param))\n",
    "\n",
    "# Plot\n",
    "plt.errorbar(n_estimators, means, yerr=stds)\n",
    "plt.title(\"Bagging n_estimators vs MAE\")\n",
    "plt.xlabel('n_estimators')\n",
    "plt.ylabel(\"Mean Absolute Error\")\n",
    "plt.savefig('Earthquake_bagging_grid.png')\n",
    "\n",
    "time_elapsed = datetime.now() - start_time \n",
    "\n",
    "print('Time elapsed (hh:mm:ss.ms) {}'.format(time_elapsed))"
   ]
  },
  {
   "cell_type": "markdown",
   "metadata": {},
   "source": [
    "##### Grid search Gradient Boosting"
   ]
  },
  {
   "cell_type": "code",
   "execution_count": 68,
   "metadata": {},
   "outputs": [
    {
     "name": "stdout",
     "output_type": "stream",
     "text": [
      "Best: -2.099464 using {'learning_rate': 0.1, 'n_estimators': 50}\n",
      "-3.000246 (0.086359) with: {'learning_rate': 0.001, 'n_estimators': 25}\n",
      "-2.962913 (0.086561) with: {'learning_rate': 0.001, 'n_estimators': 50}\n",
      "-2.891856 (0.086781) with: {'learning_rate': 0.001, 'n_estimators': 100}\n",
      "-2.708398 (0.087124) with: {'learning_rate': 0.001, 'n_estimators': 250}\n",
      "-2.707170 (0.087274) with: {'learning_rate': 0.01, 'n_estimators': 25}\n",
      "-2.486532 (0.088170) with: {'learning_rate': 0.01, 'n_estimators': 50}\n",
      "-2.254908 (0.070022) with: {'learning_rate': 0.01, 'n_estimators': 100}\n",
      "-2.114707 (0.033966) with: {'learning_rate': 0.01, 'n_estimators': 250}\n",
      "-2.109414 (0.036071) with: {'learning_rate': 0.1, 'n_estimators': 25}\n",
      "-2.099464 (0.035319) with: {'learning_rate': 0.1, 'n_estimators': 50}\n",
      "-2.125033 (0.037821) with: {'learning_rate': 0.1, 'n_estimators': 100}\n",
      "-2.153037 (0.044392) with: {'learning_rate': 0.1, 'n_estimators': 250}\n",
      "Time elapsed (hh:mm:ss.ms) 0:01:01.786869\n"
     ]
    },
    {
     "data": {
      "image/png": "[encoded data removed]",
      "text/plain": [
       "<Figure size 432x288 with 1 Axes>"
      ]
     },
     "metadata": {},
     "output_type": "display_data"
    }
   ],
   "source": [
    "# Using grid search for https://scikit-learn.org/stable/modules/generated/sklearn.ensemble.GradientBoostingRegressor.html\n",
    "# Params useful for grid search in gradient boosting: n_estimators and learning rate\n",
    "\n",
    "from sklearn.model_selection import GridSearchCV\n",
    "from sklearn.metrics import mean_absolute_error\n",
    "from sklearn.metrics import make_scorer\n",
    "\n",
    "start_time = datetime.now()\n",
    "\n",
    "GradBoost_simple = GradientBoostingRegressor()\n",
    "\n",
    "mae_scorer = make_scorer(mean_absolute_error, greater_is_better=False)\n",
    "\n",
    "n_estimators = [25, 50, 100, 250]\n",
    "\n",
    "learning_rate = [0.001, 0.01, 0.1]\n",
    "\n",
    "param_grid = dict(learning_rate=learning_rate, n_estimators=n_estimators)\n",
    "\n",
    "grid_search = GridSearchCV(GradBoost_simple, param_grid, scoring=mae_scorer, n_jobs=-1, cv=5, return_train_score=True)\n",
    "grid_result = grid_search.fit(train_variables, train_targets)\n",
    "\n",
    "# Summarize results\n",
    "print(\"Best: %f using %s\" % (grid_result.best_score_, grid_result.best_params_))\n",
    "means = grid_result.cv_results_['mean_test_score']\n",
    "stds = grid_result.cv_results_['std_test_score']\n",
    "params = grid_result.cv_results_['params']\n",
    "for mean, stdev, param in zip(means, stds, params):\n",
    "    print(\"%f (%f) with: %r\" % (mean, stdev, param))\n",
    "\n",
    "# Plot results\n",
    "results = np.array(means).reshape(len(learning_rate), len(n_estimators))\n",
    "for i, value in enumerate(learning_rate):\n",
    "    plt.plot(n_estimators, results[i], label='Learning rate: ' + str(value))\n",
    "plt.legend()\n",
    "plt.title(\"Gradient boosting learning rate / n_estimators / MAE\")\n",
    "plt.xlabel('n_estimators')\n",
    "plt.ylabel(\"Mean Absolute Error\")\n",
    "plt.savefig('Earthquake_gradboost_grid.png')\n",
    "\n",
    "time_elapsed = datetime.now() - start_time \n",
    "\n",
    "print('Time elapsed (hh:mm:ss.ms) {}'.format(time_elapsed))"
   ]
  },
  {
   "cell_type": "markdown",
   "metadata": {},
   "source": [
    "##### Grid search AdaBoost"
   ]
  },
  {
   "cell_type": "code",
   "execution_count": 69,
   "metadata": {},
   "outputs": [
    {
     "name": "stdout",
     "output_type": "stream",
     "text": [
      "Best: -2.102515 using {'learning_rate': 0.01, 'n_estimators': 50}\n",
      "-2.117021 (0.055356) with: {'learning_rate': 0.001, 'n_estimators': 25}\n",
      "-2.107210 (0.051038) with: {'learning_rate': 0.001, 'n_estimators': 50}\n",
      "-2.106537 (0.057307) with: {'learning_rate': 0.001, 'n_estimators': 100}\n",
      "-2.105409 (0.051133) with: {'learning_rate': 0.001, 'n_estimators': 250}\n",
      "-2.105684 (0.054196) with: {'learning_rate': 0.01, 'n_estimators': 25}\n",
      "-2.102515 (0.042745) with: {'learning_rate': 0.01, 'n_estimators': 50}\n",
      "-2.108077 (0.052218) with: {'learning_rate': 0.01, 'n_estimators': 100}\n",
      "-2.118039 (0.044381) with: {'learning_rate': 0.01, 'n_estimators': 250}\n",
      "-2.119845 (0.046299) with: {'learning_rate': 0.1, 'n_estimators': 25}\n",
      "-2.137768 (0.041249) with: {'learning_rate': 0.1, 'n_estimators': 50}\n",
      "-2.168843 (0.055070) with: {'learning_rate': 0.1, 'n_estimators': 100}\n",
      "-2.315236 (0.101530) with: {'learning_rate': 0.1, 'n_estimators': 250}\n",
      "Time elapsed (hh:mm:ss.ms) 0:02:23.910861\n"
     ]
    },
    {
     "data": {
      "image/png": "[encoded data removed]",
      "text/plain": [
       "<Figure size 432x288 with 1 Axes>"
      ]
     },
     "metadata": {},
     "output_type": "display_data"
    }
   ],
   "source": [
    "# Use grid search http://scikit-learn.org/stable/modules/generated/sklearn.ensemble.AdaBoostRegressor.html\n",
    "# Params useful for grid search in adaboost: learning rate and n_estimators\n",
    "\n",
    "from sklearn.model_selection import GridSearchCV\n",
    "from sklearn.metrics import mean_absolute_error\n",
    "from sklearn.metrics import make_scorer\n",
    "\n",
    "start_time = datetime.now()\n",
    "\n",
    "AdaBoost_simple = AdaBoostRegressor()\n",
    "\n",
    "mae_scorer = make_scorer(mean_absolute_error, greater_is_better=False)\n",
    "\n",
    "n_estimators = [25, 50, 100, 250]\n",
    "\n",
    "learning_rate = [0.001, 0.01, 0.1]\n",
    "\n",
    "param_grid = dict(learning_rate=learning_rate, n_estimators=n_estimators)\n",
    "\n",
    "grid_search = GridSearchCV(AdaBoost_simple, param_grid, scoring=mae_scorer, n_jobs=-1, cv=5, return_train_score=True)\n",
    "grid_result = grid_search.fit(train_variables, train_targets)\n",
    "\n",
    "# Summarize results\n",
    "print(\"Best: %f using %s\" % (grid_result.best_score_, grid_result.best_params_))\n",
    "means = grid_result.cv_results_['mean_test_score']\n",
    "stds = grid_result.cv_results_['std_test_score']\n",
    "params = grid_result.cv_results_['params']\n",
    "for mean, stdev, param in zip(means, stds, params):\n",
    "    print(\"%f (%f) with: %r\" % (mean, stdev, param))\n",
    "\n",
    "# Plot results\n",
    "results = np.array(means).reshape(len(learning_rate), len(n_estimators))\n",
    "for i, value in enumerate(learning_rate):\n",
    "    plt.plot(n_estimators, results[i], label='Learning rate: ' + str(value))\n",
    "plt.legend()\n",
    "plt.title(\"AdaBoost learning rate / n_estimators / MAE\")\n",
    "plt.xlabel('n_estimators')\n",
    "plt.ylabel(\"Mean Absolute Error\")\n",
    "plt.savefig('Earthquake_adaboost_gridsearch.png')\n",
    "\n",
    "time_elapsed = datetime.now() - start_time \n",
    "\n",
    "print('Time elapsed (hh:mm:ss.ms) {}'.format(time_elapsed))"
   ]
  },
  {
   "cell_type": "markdown",
   "metadata": {},
   "source": [
    "##### Grid search XGBoost"
   ]
  },
  {
   "cell_type": "code",
   "execution_count": 74,
   "metadata": {},
   "outputs": [
    {
     "name": "stdout",
     "output_type": "stream",
     "text": [
      "Best: -2.103335 using {'learning_rate': 0.1, 'max_depth': 1}\n",
      "-4.734449 (0.151479) with: {'learning_rate': 0.001, 'max_depth': 1}\n",
      "-4.748664 (0.150347) with: {'learning_rate': 0.001, 'max_depth': 10}\n",
      "-4.769540 (0.151130) with: {'learning_rate': 0.001, 'max_depth': 20}\n",
      "-2.643893 (0.070845) with: {'learning_rate': 0.01, 'max_depth': 1}\n",
      "-2.621711 (0.057737) with: {'learning_rate': 0.01, 'max_depth': 10}\n",
      "-2.716350 (0.066042) with: {'learning_rate': 0.01, 'max_depth': 20}\n",
      "-2.103335 (0.038150) with: {'learning_rate': 0.1, 'max_depth': 1}\n",
      "-2.164977 (0.034764) with: {'learning_rate': 0.1, 'max_depth': 10}\n",
      "-2.207600 (0.053834) with: {'learning_rate': 0.1, 'max_depth': 20}\n",
      "Time elapsed (hh:mm:ss.ms) 0:01:40.370038\n"
     ]
    },
    {
     "data": {
      "image/png": "[encoded data removed]",
      "text/plain": [
       "<Figure size 432x288 with 1 Axes>"
      ]
     },
     "metadata": {},
     "output_type": "display_data"
    }
   ],
   "source": [
    "# Using grid search for https://xgboost.readthedocs.io/en/latest/parameter.html\n",
    "# Params useful for grid search in XGBoost: eta (learning rate), max_depth, alpha L1 regularization, tree_method\n",
    "\n",
    "from sklearn.model_selection import GridSearchCV\n",
    "from sklearn.metrics import mean_absolute_error\n",
    "from sklearn.metrics import make_scorer\n",
    "\n",
    "start_time = datetime.now()\n",
    "\n",
    "XGBoost_simple = XGBRegressor()\n",
    "\n",
    "mae_scorer = make_scorer(mean_absolute_error, greater_is_better=False)\n",
    "\n",
    "eta = [0.001, 0.01, 0.1]\n",
    "\n",
    "max_depth = [1, 10, 20]\n",
    "\n",
    "alpha = [0, 0.33, 0.66]\n",
    "\n",
    "tree_method = ['approx', 'hist']\n",
    "\n",
    "#param_grid = dict(learning_rate=eta, max_depth=max_depth, alpha=alpha, tree_method=tree_method)\n",
    "param_grid = dict(learning_rate=eta, max_depth=max_depth)\n",
    "\n",
    "grid_search = GridSearchCV(XGBoost_simple, param_grid, scoring=mae_scorer, n_jobs=-1, cv=5, return_train_score=True)\n",
    "grid_result = grid_search.fit(train_variables, train_targets)\n",
    "\n",
    "# Summarize results\n",
    "print(\"Best: %f using %s\" % (grid_result.best_score_, grid_result.best_params_))\n",
    "means = grid_result.cv_results_['mean_test_score']\n",
    "stds = grid_result.cv_results_['std_test_score']\n",
    "params = grid_result.cv_results_['params']\n",
    "for mean, stdev, param in zip(means, stds, params):\n",
    "    print(\"%f (%f) with: %r\" % (mean, stdev, param))\n",
    "\n",
    "# Plot results\n",
    "results = np.array(means).reshape(len(eta), len(max_depth))\n",
    "for i, value in enumerate(eta):\n",
    "    plt.plot(max_depth, results[i], label='Learning rate: ' + str(value))\n",
    "plt.legend()\n",
    "plt.title(\"XGBoost learning rate / max_depth / MAE\")\n",
    "plt.xlabel('max_depth')\n",
    "plt.ylabel(\"Mean Absolute Error\")\n",
    "plt.savefig('Earthquake_xgboost_gridsearch.png')    \n",
    "\n",
    "time_elapsed = datetime.now() - start_time \n",
    "\n",
    "print('Time elapsed (hh:mm:ss.ms) {}'.format(time_elapsed))"
   ]
  },
  {
   "cell_type": "markdown",
   "metadata": {},
   "source": [
    "##### Fine-tuned LGBM"
   ]
  },
  {
   "cell_type": "code",
   "execution_count": 99,
   "metadata": {},
   "outputs": [
    {
     "name": "stdout",
     "output_type": "stream",
     "text": [
      "Mean absolute error: 2.06\n"
     ]
    }
   ],
   "source": [
    "# https://lightgbm.readthedocs.io/en/latest/_modules/lightgbm/sklearn.html\n",
    "# Grid search results: 2.096217 (0.039276) with: {'learning_rate': 0.1, 'max_depth': 1, 'n_estimators': 200, 'num_leaves': 10}\n",
    "\n",
    "train_data = lgb.Dataset(train_variables, label=train_targets)\n",
    "\n",
    "lgb_tuned = lgb.LGBMRegressor(boosting_type='gbdt', \n",
    "                              learning_rate=0.1, \n",
    "                              max_depth=1, \n",
    "                              n_estimators=200, \n",
    "                              num_leaves=10)\n",
    "\n",
    "lgb_tuned.fit(train_variables, train_targets)\n",
    "\n",
    "lgb_preds = lgb_tuned.predict(valid_variables)\n",
    "\n",
    "regressor = 'LGBM (along grid search)'\n",
    "\n",
    "MAE = mean_absolute_error(valid_targets, lgb_preds)\n",
    "\n",
    "scores = scores.append(pd.Series([regressor, MAE], index=scores.columns), ignore_index=True)\n",
    "\n",
    "# MAE\n",
    "print('Mean absolute error: %.2f' % MAE)"
   ]
  },
  {
   "cell_type": "markdown",
   "metadata": {},
   "source": [
    "##### Fine-tuned Random Forest"
   ]
  },
  {
   "cell_type": "code",
   "execution_count": 100,
   "metadata": {},
   "outputs": [
    {
     "name": "stdout",
     "output_type": "stream",
     "text": [
      "Mean absolute error: 2.06\n"
     ]
    }
   ],
   "source": [
    "# Random Forest https://scikit-learn.org/stable/modules/generated/sklearn.ensemble.RandomForestRegressor.html\n",
    "# Grid search results: -2.096747 using {'criterion': 'mse', 'n_estimators': 500}\n",
    "# Try bootstrap=True and bootstrap=False\n",
    "# Try max_depth=1, max_depth=10, max_depth=20\n",
    "\n",
    "RndmForest = RandomForestRegressor(criterion='mse', \n",
    "                                   n_estimators=500, \n",
    "                                   bootstrap=True,\n",
    "                                   max_depth=None,\n",
    "                                   random_state=25)\n",
    "\n",
    "RndmForest.fit(train_variables, train_targets)\n",
    "\n",
    "RndmForest_preds = RndmForest.predict(valid_variables)\n",
    "\n",
    "regressor = 'RndmForest (mse, n_estimators=500, bootstrap=True, max_depth=None)'\n",
    "\n",
    "MAE = mean_absolute_error(valid_targets, RndmForest_preds)\n",
    "\n",
    "scores = scores.append(pd.Series([regressor, MAE], index=scores.columns), ignore_index=True)\n",
    "\n",
    "# MAE\n",
    "print('Mean absolute error: %.2f' % MAE)"
   ]
  },
  {
   "cell_type": "code",
   "execution_count": 101,
   "metadata": {},
   "outputs": [
    {
     "name": "stdout",
     "output_type": "stream",
     "text": [
      "Mean absolute error: 2.79\n"
     ]
    }
   ],
   "source": [
    "# Random Forest https://scikit-learn.org/stable/modules/generated/sklearn.ensemble.RandomForestRegressor.html\n",
    "# Grid search results: -2.096747 using {'criterion': 'mse', 'n_estimators': 500}\n",
    "# Try bootstrap=True and bootstrap=False\n",
    "# Try max_depth=1, max_depth=10, max_depth=20\n",
    "\n",
    "RndmForest = RandomForestRegressor(criterion='mse', \n",
    "                                   n_estimators=500, \n",
    "                                   bootstrap=False,\n",
    "                                   max_depth=None,\n",
    "                                   random_state=25)\n",
    "\n",
    "RndmForest.fit(train_variables, train_targets)\n",
    "\n",
    "RndmForest_preds = RndmForest.predict(valid_variables)\n",
    "\n",
    "regressor = 'RndmForest (mse, n_estimators=500, bootstrap=False, max_depth=None)'\n",
    "\n",
    "MAE = mean_absolute_error(valid_targets, RndmForest_preds)\n",
    "\n",
    "scores = scores.append(pd.Series([regressor, MAE], index=scores.columns), ignore_index=True)\n",
    "\n",
    "# MAE\n",
    "print('Mean absolute error: %.2f' % MAE)"
   ]
  },
  {
   "cell_type": "code",
   "execution_count": 102,
   "metadata": {},
   "outputs": [
    {
     "name": "stdout",
     "output_type": "stream",
     "text": [
      "Mean absolute error: 2.19\n"
     ]
    }
   ],
   "source": [
    "# Random Forest https://scikit-learn.org/stable/modules/generated/sklearn.ensemble.RandomForestRegressor.html\n",
    "# Grid search results: -2.096747 using {'criterion': 'mse', 'n_estimators': 500}\n",
    "# Try bootstrap=True and bootstrap=False\n",
    "# Try max_depth=1, max_depth=10, max_depth=20\n",
    "\n",
    "from sklearn.ensemble import RandomForestRegressor\n",
    "\n",
    "RndmForest = RandomForestRegressor(criterion='mse', \n",
    "                                   n_estimators=500, \n",
    "                                   bootstrap=True, \n",
    "                                   max_depth=1, \n",
    "                                   random_state=25)\n",
    "\n",
    "RndmForest.fit(train_variables, train_targets)\n",
    "\n",
    "RndmForest_preds = RndmForest.predict(valid_variables)\n",
    "\n",
    "regressor = 'RndmForest (mse, n_estimators=500, bootstrap=True, max_depth=1)'\n",
    "\n",
    "MAE = mean_absolute_error(valid_targets, RndmForest_preds)\n",
    "\n",
    "scores = scores.append(pd.Series([regressor, MAE], index=scores.columns), ignore_index=True)\n",
    "\n",
    "# MAE\n",
    "print('Mean absolute error: %.2f' % MAE)"
   ]
  },
  {
   "cell_type": "code",
   "execution_count": 103,
   "metadata": {},
   "outputs": [
    {
     "name": "stdout",
     "output_type": "stream",
     "text": [
      "Mean absolute error: 2.05\n"
     ]
    }
   ],
   "source": [
    "# Random Forest https://scikit-learn.org/stable/modules/generated/sklearn.ensemble.RandomForestRegressor.html\n",
    "# Grid search results: -2.096747 using {'criterion': 'mse', 'n_estimators': 500}\n",
    "# Try bootstrap=True and bootstrap=False\n",
    "# Try max_depth=1, max_depth=10, max_depth=20\n",
    "\n",
    "from sklearn.ensemble import RandomForestRegressor\n",
    "\n",
    "RndmForest = RandomForestRegressor(criterion='mse', \n",
    "                                   n_estimators=500, \n",
    "                                   bootstrap=True, \n",
    "                                   max_depth=7, \n",
    "                                   random_state=25)\n",
    "\n",
    "RndmForest.fit(train_variables, train_targets)\n",
    "\n",
    "RndmForest_preds = RndmForest.predict(valid_variables)\n",
    "\n",
    "regressor = 'RndmForest (mse, n_estimators=500, bootstrap=True, max_depth=7)'\n",
    "\n",
    "MAE = mean_absolute_error(valid_targets, RndmForest_preds)\n",
    "\n",
    "scores = scores.append(pd.Series([regressor, MAE], index=scores.columns), ignore_index=True)\n",
    "\n",
    "# MAE\n",
    "print('Mean absolute error: %.2f' % MAE)"
   ]
  },
  {
   "cell_type": "code",
   "execution_count": 104,
   "metadata": {},
   "outputs": [
    {
     "name": "stdout",
     "output_type": "stream",
     "text": [
      "Mean absolute error: 2.05\n"
     ]
    }
   ],
   "source": [
    "# Random Forest https://scikit-learn.org/stable/modules/generated/sklearn.ensemble.RandomForestRegressor.html\n",
    "# Grid search results: -2.096747 using {'criterion': 'mse', 'n_estimators': 500}\n",
    "# Try bootstrap=True and bootstrap=False\n",
    "# Try max_depth=1, max_depth=10, max_depth=20\n",
    "\n",
    "RndmForest = RandomForestRegressor(criterion='mse', \n",
    "                                   n_estimators=500, \n",
    "                                   bootstrap=True, \n",
    "                                   max_depth=10, \n",
    "                                   random_state=25)\n",
    "\n",
    "RndmForest.fit(train_variables, train_targets)\n",
    "\n",
    "RndmForest_preds = RndmForest.predict(valid_variables)\n",
    "\n",
    "regressor = 'RndmForest (mse, n_estimators=500, bootstrap=True, max_depth=10)'\n",
    "\n",
    "MAE = mean_absolute_error(valid_targets, RndmForest_preds)\n",
    "\n",
    "scores = scores.append(pd.Series([regressor, MAE], index=scores.columns), ignore_index=True)\n",
    "\n",
    "# MAE\n",
    "print('Mean absolute error: %.2f' % MAE)"
   ]
  },
  {
   "cell_type": "code",
   "execution_count": 105,
   "metadata": {},
   "outputs": [
    {
     "name": "stdout",
     "output_type": "stream",
     "text": [
      "Mean absolute error: 2.06\n"
     ]
    }
   ],
   "source": [
    "# Random Forest https://scikit-learn.org/stable/modules/generated/sklearn.ensemble.RandomForestRegressor.html\n",
    "# Grid search results: -2.096747 using {'criterion': 'mse', 'n_estimators': 500}\n",
    "# Try bootstrap=True and bootstrap=False\n",
    "# Try max_depth=1, max_depth=10, max_depth=20\n",
    "\n",
    "from sklearn.ensemble import RandomForestRegressor\n",
    "\n",
    "RndmForest = RandomForestRegressor(criterion='mse', \n",
    "                                   n_estimators=500, \n",
    "                                   bootstrap=True, \n",
    "                                   max_depth=15, \n",
    "                                   random_state=25)\n",
    "\n",
    "RndmForest.fit(train_variables, train_targets)\n",
    "\n",
    "RndmForest_preds = RndmForest.predict(valid_variables)\n",
    "\n",
    "regressor = 'RndmForest (mse, n_estimators=500, bootstrap=True, max_depth=15)'\n",
    "\n",
    "MAE = mean_absolute_error(valid_targets, RndmForest_preds)\n",
    "\n",
    "scores = scores.append(pd.Series([regressor, MAE], index=scores.columns), ignore_index=True)\n",
    "\n",
    "# MAE\n",
    "print('Mean absolute error: %.2f' % MAE)"
   ]
  },
  {
   "cell_type": "code",
   "execution_count": 106,
   "metadata": {},
   "outputs": [
    {
     "name": "stdout",
     "output_type": "stream",
     "text": [
      "Mean absolute error: 2.06\n"
     ]
    }
   ],
   "source": [
    "# Random Forest https://scikit-learn.org/stable/modules/generated/sklearn.ensemble.RandomForestRegressor.html\n",
    "# Grid search results: -2.096747 using {'criterion': 'mse', 'n_estimators': 500}\n",
    "# Try bootstrap=True and bootstrap=False\n",
    "# Try max_depth=1, max_depth=10, max_depth=20\n",
    "\n",
    "RndmForest = RandomForestRegressor(criterion='mse', \n",
    "                                   n_estimators=500, \n",
    "                                   bootstrap=True, \n",
    "                                   max_depth=20, \n",
    "                                   random_state=25)\n",
    "\n",
    "RndmForest.fit(train_variables, train_targets)\n",
    "\n",
    "RndmForest_preds = RndmForest.predict(valid_variables)\n",
    "\n",
    "regressor = 'RndmForest (mse, n_estimators=500, bootstrap=True, max_depth=20)'\n",
    "\n",
    "MAE = mean_absolute_error(valid_targets, RndmForest_preds)\n",
    "\n",
    "scores = scores.append(pd.Series([regressor, MAE], index=scores.columns), ignore_index=True)\n",
    "\n",
    "# MAE\n",
    "print('Mean absolute error: %.2f' % MAE)"
   ]
  },
  {
   "cell_type": "markdown",
   "metadata": {},
   "source": [
    "##### Fine-tuned Gradient Boosting"
   ]
  },
  {
   "cell_type": "code",
   "execution_count": 107,
   "metadata": {},
   "outputs": [
    {
     "name": "stdout",
     "output_type": "stream",
     "text": [
      "Mean absolute error: 2.05\n"
     ]
    }
   ],
   "source": [
    "# GradBoost https://scikit-learn.org/stable/modules/generated/sklearn.ensemble.GradientBoostingRegressor.html\n",
    "# Grid search results: -2.099464 using {'learning_rate': 0.1, 'n_estimators': 50}\n",
    "\n",
    "from sklearn.ensemble import GradientBoostingRegressor\n",
    "\n",
    "GradBoost = GradientBoostingRegressor(loss='ls',\n",
    "                                      learning_rate=0.1,\n",
    "                                      n_estimators=50,\n",
    "                                      criterion='friedman_mse',\n",
    "                                      max_depth=3,\n",
    "                                      #alpha=0.9,\n",
    "                                      #validation_fraction=0.1,\n",
    "                                      #n_iter_no_change=200,\n",
    "                                      random_state=25)\n",
    "\n",
    "GradBoost.fit(train_variables, train_targets)\n",
    "\n",
    "GradBoost_preds = GradBoost.predict(valid_variables)\n",
    "\n",
    "regressor = 'GradBoost (loss ls, learning_rate=0.1, n_estimators=50, criterion=friedman_mse, max_depth=3)'\n",
    "\n",
    "MAE = mean_absolute_error(valid_targets, GradBoost_preds)\n",
    "\n",
    "scores = scores.append(pd.Series([regressor, MAE], index=scores.columns), ignore_index=True)\n",
    "\n",
    "# MAE\n",
    "print('Mean absolute error: %.2f' % MAE)"
   ]
  },
  {
   "cell_type": "code",
   "execution_count": 108,
   "metadata": {},
   "outputs": [
    {
     "name": "stdout",
     "output_type": "stream",
     "text": [
      "Mean absolute error: 2.05\n"
     ]
    }
   ],
   "source": [
    "# GradBoost https://scikit-learn.org/stable/modules/generated/sklearn.ensemble.GradientBoostingRegressor.html\n",
    "# Grid search results: -2.099464 using {'learning_rate': 0.1, 'n_estimators': 50}\n",
    "\n",
    "from sklearn.ensemble import GradientBoostingRegressor\n",
    "\n",
    "GradBoost = GradientBoostingRegressor(loss='ls',\n",
    "                                      learning_rate=0.1,\n",
    "                                      n_estimators=50,\n",
    "                                      criterion='mae',\n",
    "                                      max_depth=3,\n",
    "                                      #alpha=0.9,\n",
    "                                      #validation_fraction=0.1,\n",
    "                                      #n_iter_no_change=200,\n",
    "                                      random_state=25)\n",
    "\n",
    "GradBoost.fit(train_variables, train_targets)\n",
    "\n",
    "GradBoost_preds = GradBoost.predict(valid_variables)\n",
    "\n",
    "regressor = 'GradBoost (loss ls, learning_rate=0.1, n_estimators=50, criterion=mae, max_depth=3)'\n",
    "\n",
    "MAE = mean_absolute_error(valid_targets, GradBoost_preds)\n",
    "\n",
    "scores = scores.append(pd.Series([regressor, MAE], index=scores.columns), ignore_index=True)\n",
    "\n",
    "# MAE\n",
    "print('Mean absolute error: %.2f' % MAE)"
   ]
  },
  {
   "cell_type": "code",
   "execution_count": 109,
   "metadata": {},
   "outputs": [
    {
     "name": "stdout",
     "output_type": "stream",
     "text": [
      "Mean absolute error: 2.13\n"
     ]
    }
   ],
   "source": [
    "# GradBoost https://scikit-learn.org/stable/modules/generated/sklearn.ensemble.GradientBoostingRegressor.html\n",
    "# Grid search results: -2.099464 using {'learning_rate': 0.1, 'n_estimators': 50}\n",
    "\n",
    "from sklearn.ensemble import GradientBoostingRegressor\n",
    "\n",
    "GradBoost = GradientBoostingRegressor(loss='ls',\n",
    "                                      learning_rate=0.1,\n",
    "                                      n_estimators=50,\n",
    "                                      criterion='friedman_mse',\n",
    "                                      max_depth=10,\n",
    "                                      #alpha=0.9,\n",
    "                                      #validation_fraction=0.1,\n",
    "                                      #n_iter_no_change=200,\n",
    "                                      random_state=25)\n",
    "\n",
    "GradBoost.fit(train_variables, train_targets)\n",
    "\n",
    "GradBoost_preds = GradBoost.predict(valid_variables)\n",
    "\n",
    "regressor = 'GradBoost (loss ls, learning_rate=0.1, n_estimators=50, criterion=friedman_mse, max_depth=10)'\n",
    "\n",
    "MAE = mean_absolute_error(valid_targets, GradBoost_preds)\n",
    "\n",
    "scores = scores.append(pd.Series([regressor, MAE], index=scores.columns), ignore_index=True)\n",
    "\n",
    "# MAE\n",
    "print('Mean absolute error: %.2f' % MAE)"
   ]
  },
  {
   "cell_type": "code",
   "execution_count": 110,
   "metadata": {},
   "outputs": [
    {
     "name": "stdout",
     "output_type": "stream",
     "text": [
      "Mean absolute error: 2.50\n"
     ]
    }
   ],
   "source": [
    "# GradBoost https://scikit-learn.org/stable/modules/generated/sklearn.ensemble.GradientBoostingRegressor.html\n",
    "# Grid search results: -2.099464 using {'learning_rate': 0.1, 'n_estimators': 50}\n",
    "\n",
    "from sklearn.ensemble import GradientBoostingRegressor\n",
    "\n",
    "GradBoost = GradientBoostingRegressor(loss='ls',\n",
    "                                      learning_rate=0.1,\n",
    "                                      n_estimators=50,\n",
    "                                      criterion='friedman_mse',\n",
    "                                      max_depth=20,\n",
    "                                      #alpha=0.9,\n",
    "                                      #validation_fraction=0.1,\n",
    "                                      #n_iter_no_change=200,\n",
    "                                      random_state=25)\n",
    "\n",
    "GradBoost.fit(train_variables, train_targets)\n",
    "\n",
    "GradBoost_preds = GradBoost.predict(valid_variables)\n",
    "\n",
    "regressor = 'GradBoost (loss ls, learning_rate=0.1, n_estimators=50, criterion=friedman_mse, max_depth=20)'\n",
    "\n",
    "MAE = mean_absolute_error(valid_targets, GradBoost_preds)\n",
    "\n",
    "scores = scores.append(pd.Series([regressor, MAE], index=scores.columns), ignore_index=True)\n",
    "\n",
    "# MAE\n",
    "print('Mean absolute error: %.2f' % MAE)"
   ]
  },
  {
   "cell_type": "code",
   "execution_count": 111,
   "metadata": {},
   "outputs": [
    {
     "name": "stdout",
     "output_type": "stream",
     "text": [
      "Mean absolute error: 2.05\n"
     ]
    }
   ],
   "source": [
    "# GradBoost https://scikit-learn.org/stable/modules/generated/sklearn.ensemble.GradientBoostingRegressor.html\n",
    "# Grid search results: -2.099464 using {'learning_rate': 0.1, 'n_estimators': 50}\n",
    "\n",
    "from sklearn.ensemble import GradientBoostingRegressor\n",
    "\n",
    "GradBoost = GradientBoostingRegressor(loss='lad',\n",
    "                                      learning_rate=0.1,\n",
    "                                      n_estimators=50,\n",
    "                                      criterion='friedman_mse',\n",
    "                                      max_depth=3,\n",
    "                                      #alpha=0.9,\n",
    "                                      #validation_fraction=0.1,\n",
    "                                      #n_iter_no_change=200,\n",
    "                                      random_state=25)\n",
    "\n",
    "GradBoost.fit(train_variables, train_targets)\n",
    "\n",
    "GradBoost_preds = GradBoost.predict(valid_variables)\n",
    "\n",
    "regressor = 'GradBoost (loss lad, learning_rate=0.1, n_estimators=50, criterion=friedman_mse, max_depth=3)'\n",
    "\n",
    "MAE = mean_absolute_error(valid_targets, GradBoost_preds)\n",
    "\n",
    "scores = scores.append(pd.Series([regressor, MAE], index=scores.columns), ignore_index=True)\n",
    "\n",
    "# MAE\n",
    "print('Mean absolute error: %.2f' % MAE)"
   ]
  },
  {
   "cell_type": "code",
   "execution_count": 56,
   "metadata": {},
   "outputs": [
    {
     "name": "stdout",
     "output_type": "stream",
     "text": [
      "Mean absolute error: 2.03\n"
     ]
    }
   ],
   "source": [
    "# GradBoost https://scikit-learn.org/stable/modules/generated/sklearn.ensemble.GradientBoostingRegressor.html\n",
    "# Grid search results: -2.099464 using {'learning_rate': 0.1, 'n_estimators': 50}\n",
    "\n",
    "from sklearn.ensemble import GradientBoostingRegressor\n",
    "\n",
    "GradBoost = GradientBoostingRegressor(loss='lad',\n",
    "                                      learning_rate=0.1,\n",
    "                                      n_estimators=50,\n",
    "                                      criterion='mae',\n",
    "                                      max_depth=3,\n",
    "                                      #alpha=0.9,\n",
    "                                      #validation_fraction=0.1,\n",
    "                                      #n_iter_no_change=200,\n",
    "                                      random_state=25)\n",
    "\n",
    "GradBoost.fit(train_variables, train_targets)\n",
    "\n",
    "GradBoost_preds = GradBoost.predict(valid_variables)\n",
    "\n",
    "regressor = 'GradBoost (loss lad, learning_rate=0.1, n_estimators=50, criterion=mae, max_depth=3)'\n",
    "\n",
    "MAE = mean_absolute_error(valid_targets, GradBoost_preds)\n",
    "\n",
    "scores = scores.append(pd.Series([regressor, MAE], index=scores.columns), ignore_index=True)\n",
    "\n",
    "# MAE\n",
    "print('Mean absolute error: %.2f' % MAE)"
   ]
  },
  {
   "cell_type": "code",
   "execution_count": 113,
   "metadata": {},
   "outputs": [
    {
     "name": "stdout",
     "output_type": "stream",
     "text": [
      "Mean absolute error: 2.06\n"
     ]
    }
   ],
   "source": [
    "# GradBoost https://scikit-learn.org/stable/modules/generated/sklearn.ensemble.GradientBoostingRegressor.html\n",
    "# Grid search results: -2.099464 using {'learning_rate': 0.1, 'n_estimators': 50}\n",
    "\n",
    "from sklearn.ensemble import GradientBoostingRegressor\n",
    "\n",
    "GradBoost = GradientBoostingRegressor(loss='huber',\n",
    "                                      learning_rate=0.1,\n",
    "                                      n_estimators=50,\n",
    "                                      criterion='friedman_mse',\n",
    "                                      max_depth=3,\n",
    "                                      #alpha=0.9,\n",
    "                                      random_state=25)\n",
    "\n",
    "GradBoost.fit(train_variables, train_targets)\n",
    "\n",
    "GradBoost_preds = GradBoost.predict(valid_variables)\n",
    "\n",
    "regressor = 'GradBoost (loss huber, learning_rate=0.1, n_estimators=50, criterion=friedman_mse, max_depth=3)'\n",
    "\n",
    "MAE = mean_absolute_error(valid_targets, GradBoost_preds)\n",
    "\n",
    "scores = scores.append(pd.Series([regressor, MAE], index=scores.columns), ignore_index=True)\n",
    "\n",
    "# MAE\n",
    "print('Mean absolute error: %.2f' % MAE)"
   ]
  },
  {
   "cell_type": "code",
   "execution_count": 114,
   "metadata": {},
   "outputs": [
    {
     "name": "stdout",
     "output_type": "stream",
     "text": [
      "Mean absolute error: 3.82\n"
     ]
    }
   ],
   "source": [
    "# GradBoost https://scikit-learn.org/stable/modules/generated/sklearn.ensemble.GradientBoostingRegressor.html\n",
    "# Grid search results: -2.099464 using {'learning_rate': 0.1, 'n_estimators': 50}\n",
    "\n",
    "from sklearn.ensemble import GradientBoostingRegressor\n",
    "\n",
    "GradBoost = GradientBoostingRegressor(loss='quantile',\n",
    "                                      learning_rate=0.1,\n",
    "                                      n_estimators=50,\n",
    "                                      criterion='friedman_mse',\n",
    "                                      max_depth=3,\n",
    "                                      alpha=0.9,\n",
    "                                      #validation_fraction=0.1,\n",
    "                                      #n_iter_no_change=200,\n",
    "                                      random_state=25)\n",
    "\n",
    "GradBoost.fit(train_variables, train_targets)\n",
    "\n",
    "GradBoost_preds = GradBoost.predict(valid_variables)\n",
    "\n",
    "regressor = 'GradBoost (loss quantile, learning_rate=0.1, n_estimators=50, criterion=friedman_mse, max_depth=3, alpha=0.9)'\n",
    "\n",
    "MAE = mean_absolute_error(valid_targets, GradBoost_preds)\n",
    "\n",
    "scores = scores.append(pd.Series([regressor, MAE], index=scores.columns), ignore_index=True)\n",
    "\n",
    "# MAE\n",
    "print('Mean absolute error: %.2f' % MAE)"
   ]
  },
  {
   "cell_type": "code",
   "execution_count": 115,
   "metadata": {},
   "outputs": [
    {
     "name": "stdout",
     "output_type": "stream",
     "text": [
      "Mean absolute error: 2.28\n"
     ]
    }
   ],
   "source": [
    "# GradBoost https://scikit-learn.org/stable/modules/generated/sklearn.ensemble.GradientBoostingRegressor.html\n",
    "# Grid search results: -2.099464 using {'learning_rate': 0.1, 'n_estimators': 50}\n",
    "\n",
    "from sklearn.ensemble import GradientBoostingRegressor\n",
    "\n",
    "GradBoost = GradientBoostingRegressor(loss='quantile',\n",
    "                                      learning_rate=0.1,\n",
    "                                      n_estimators=50,\n",
    "                                      criterion='friedman_mse',\n",
    "                                      max_depth=3,\n",
    "                                      alpha=0.7,\n",
    "                                      random_state=25)\n",
    "\n",
    "GradBoost.fit(train_variables, train_targets)\n",
    "\n",
    "GradBoost_preds = GradBoost.predict(valid_variables)\n",
    "\n",
    "regressor = 'GradBoost (loss quantile, learning_rate=0.1, n_estimators=50, criterion=friedman_mse, max_depth=3, alpha=0.7)'\n",
    "\n",
    "MAE = mean_absolute_error(valid_targets, GradBoost_preds)\n",
    "\n",
    "scores = scores.append(pd.Series([regressor, MAE], index=scores.columns), ignore_index=True)\n",
    "\n",
    "# MAE\n",
    "print('Mean absolute error: %.2f' % MAE)"
   ]
  },
  {
   "cell_type": "code",
   "execution_count": 116,
   "metadata": {},
   "outputs": [
    {
     "name": "stdout",
     "output_type": "stream",
     "text": [
      "Mean absolute error: 2.05\n"
     ]
    }
   ],
   "source": [
    "# GradBoost https://scikit-learn.org/stable/modules/generated/sklearn.ensemble.GradientBoostingRegressor.html\n",
    "# Grid search results: -2.099464 using {'learning_rate': 0.1, 'n_estimators': 50}\n",
    "\n",
    "from sklearn.ensemble import GradientBoostingRegressor\n",
    "\n",
    "GradBoost = GradientBoostingRegressor(loss='lad',\n",
    "                                      learning_rate=0.1,\n",
    "                                      n_estimators=150,\n",
    "                                      criterion='friedman_mse',\n",
    "                                      max_depth=3,\n",
    "                                      #alpha=0.9,\n",
    "                                      #validation_fraction=0.1,\n",
    "                                      #n_iter_no_change=200,\n",
    "                                      random_state=25)\n",
    "\n",
    "GradBoost.fit(train_variables, train_targets)\n",
    "\n",
    "GradBoost_preds = GradBoost.predict(valid_variables)\n",
    "\n",
    "regressor = 'GradBoost (loss lad, learning_rate=0.1, n_estimators=150, criterion=friedman_mse, max_depth=3)'\n",
    "\n",
    "MAE = mean_absolute_error(valid_targets, GradBoost_preds)\n",
    "\n",
    "scores = scores.append(pd.Series([regressor, MAE], index=scores.columns), ignore_index=True)\n",
    "\n",
    "# MAE\n",
    "print('Mean absolute error: %.2f' % MAE)"
   ]
  },
  {
   "cell_type": "code",
   "execution_count": 117,
   "metadata": {},
   "outputs": [
    {
     "name": "stdout",
     "output_type": "stream",
     "text": [
      "Mean absolute error: 2.05\n"
     ]
    }
   ],
   "source": [
    "# GradBoost https://scikit-learn.org/stable/modules/generated/sklearn.ensemble.GradientBoostingRegressor.html\n",
    "# Grid search results: -2.099464 using {'learning_rate': 0.1, 'n_estimators': 50}\n",
    "\n",
    "from sklearn.ensemble import GradientBoostingRegressor\n",
    "\n",
    "GradBoost = GradientBoostingRegressor(loss='lad',\n",
    "                                      learning_rate=0.1,\n",
    "                                      n_estimators=250,\n",
    "                                      criterion='friedman_mse',\n",
    "                                      max_depth=3,\n",
    "                                      #alpha=0.9,\n",
    "                                      #validation_fraction=0.1,\n",
    "                                      #n_iter_no_change=200,\n",
    "                                      random_state=25)\n",
    "\n",
    "GradBoost.fit(train_variables, train_targets)\n",
    "\n",
    "GradBoost_preds = GradBoost.predict(valid_variables)\n",
    "\n",
    "regressor = 'GradBoost (loss lad, learning_rate=0.1, n_estimators=250, criterion=friedman_mse, max_depth=3)'\n",
    "\n",
    "MAE = mean_absolute_error(valid_targets, GradBoost_preds)\n",
    "\n",
    "scores = scores.append(pd.Series([regressor, MAE], index=scores.columns), ignore_index=True)\n",
    "\n",
    "# MAE\n",
    "print('Mean absolute error: %.2f' % MAE)"
   ]
  },
  {
   "cell_type": "code",
   "execution_count": 118,
   "metadata": {},
   "outputs": [
    {
     "name": "stdout",
     "output_type": "stream",
     "text": [
      "Mean absolute error: 2.48\n"
     ]
    }
   ],
   "source": [
    "# GradBoost https://scikit-learn.org/stable/modules/generated/sklearn.ensemble.GradientBoostingRegressor.html\n",
    "# Grid search results: -2.099464 using {'learning_rate': 0.1, 'n_estimators': 50}\n",
    "\n",
    "from sklearn.ensemble import GradientBoostingRegressor\n",
    "\n",
    "GradBoost = GradientBoostingRegressor(loss='lad',\n",
    "                                      learning_rate=0.01,\n",
    "                                      n_estimators=50,\n",
    "                                      criterion='friedman_mse',\n",
    "                                      max_depth=3,\n",
    "                                      #alpha=0.9,\n",
    "                                      #validation_fraction=0.1,\n",
    "                                      #n_iter_no_change=200,\n",
    "                                      random_state=25)\n",
    "\n",
    "GradBoost.fit(train_variables, train_targets)\n",
    "\n",
    "GradBoost_preds = GradBoost.predict(valid_variables)\n",
    "\n",
    "regressor = 'GradBoost (loss lad, learning_rate=0.01, n_estimators=50, criterion=friedman_mse, max_depth=3)'\n",
    "\n",
    "MAE = mean_absolute_error(valid_targets, GradBoost_preds)\n",
    "\n",
    "scores = scores.append(pd.Series([regressor, MAE], index=scores.columns), ignore_index=True)\n",
    "\n",
    "# MAE\n",
    "print('Mean absolute error: %.2f' % MAE)"
   ]
  },
  {
   "cell_type": "code",
   "execution_count": 42,
   "metadata": {},
   "outputs": [
    {
     "name": "stdout",
     "output_type": "stream",
     "text": [
      "Mean absolute error: 2.04\n"
     ]
    }
   ],
   "source": [
    "# GradBoost https://scikit-learn.org/stable/modules/generated/sklearn.ensemble.GradientBoostingRegressor.html\n",
    "# Grid search results: -2.099464 using {'learning_rate': 0.1, 'n_estimators': 50}\n",
    "\n",
    "from sklearn.ensemble import GradientBoostingRegressor\n",
    "\n",
    "GradBoost = GradientBoostingRegressor(loss='lad',\n",
    "                                      learning_rate=0.01,\n",
    "                                      n_estimators=1000,\n",
    "                                      criterion='friedman_mse',\n",
    "                                      max_depth=3,\n",
    "                                      #alpha=0.9,\n",
    "                                      #validation_fraction=0.1,\n",
    "                                      #n_iter_no_change=200,\n",
    "                                      random_state=25)\n",
    "\n",
    "GradBoost.fit(train_variables, train_targets)\n",
    "\n",
    "GradBoost_preds = GradBoost.predict(valid_variables)\n",
    "\n",
    "regressor = 'GradBoost (loss lad, learning_rate=0.01, n_estimators=1000, criterion=friedman_mse, max_depth=3)'\n",
    "\n",
    "MAE = mean_absolute_error(valid_targets, GradBoost_preds)\n",
    "\n",
    "scores = scores.append(pd.Series([regressor, MAE], index=scores.columns), ignore_index=True)\n",
    "\n",
    "# MAE\n",
    "print('Mean absolute error: %.2f' % MAE)"
   ]
  },
  {
   "cell_type": "markdown",
   "metadata": {},
   "source": [
    "##### Fine-tuned Bagging"
   ]
  },
  {
   "cell_type": "code",
   "execution_count": 120,
   "metadata": {},
   "outputs": [
    {
     "name": "stdout",
     "output_type": "stream",
     "text": [
      "Mean absolute error: 2.05\n"
     ]
    }
   ],
   "source": [
    "# Bagging https://scikit-learn.org/stable/modules/generated/sklearn.ensemble.BaggingRegressor.html\n",
    "# Grid search results: -2.099723 using {'n_estimators': 250}\n",
    "# TAKES FOUR HOURS TO COMPUTE\n",
    "\n",
    "base_estimator = RandomForestRegressor(criterion='mse', \n",
    "                                       n_estimators=500, \n",
    "                                       bootstrap=True, \n",
    "                                       max_depth=7, \n",
    "                                       random_state=25)\n",
    "\n",
    "Bagging = BaggingRegressor(base_estimator=base_estimator, \n",
    "                           bootstrap=False,\n",
    "                           n_estimators=250, \n",
    "                           random_state=25)\n",
    "\n",
    "Bagging.fit(train_variables, train_targets)\n",
    "\n",
    "Bagging_preds = Bagging.predict(valid_variables)\n",
    "\n",
    "regressor = 'Bagging (base_estimator=RandomForestOptimum, bootstrap=False, n_estimators=250)'\n",
    "\n",
    "MAE = mean_absolute_error(valid_targets, Bagging_preds)\n",
    "\n",
    "scores = scores.append(pd.Series([regressor, MAE], index=scores.columns), ignore_index=True)\n",
    "\n",
    "# MAE\n",
    "print('Mean absolute error: %.2f' % MAE)"
   ]
  },
  {
   "cell_type": "code",
   "execution_count": 121,
   "metadata": {},
   "outputs": [
    {
     "name": "stdout",
     "output_type": "stream",
     "text": [
      "Mean absolute error: 2.06\n"
     ]
    }
   ],
   "source": [
    "# Bagging https://scikit-learn.org/stable/modules/generated/sklearn.ensemble.BaggingRegressor.html\n",
    "# Grid search results: -2.099723 using {'n_estimators': 250}\n",
    "\n",
    "from sklearn.ensemble import BaggingRegressor\n",
    "\n",
    "base_estimator = lgb.LGBMRegressor(boosting_type='gbdt', \n",
    "                                   learning_rate=0.1, \n",
    "                                   max_depth=1, \n",
    "                                   n_estimators=200, \n",
    "                                   num_leaves=10)\n",
    "\n",
    "Bagging = BaggingRegressor(base_estimator=base_estimator, \n",
    "                           bootstrap=False,\n",
    "                           n_estimators=250, \n",
    "                           random_state=25)\n",
    "\n",
    "Bagging.fit(train_variables, train_targets)\n",
    "\n",
    "Bagging_preds = Bagging.predict(valid_variables)\n",
    "\n",
    "regressor = 'Bagging (base_estimator=LGBM, bootstrap=False, n_estimators=250)'\n",
    "\n",
    "MAE = mean_absolute_error(valid_targets, Bagging_preds)\n",
    "\n",
    "scores = scores.append(pd.Series([regressor, MAE], index=scores.columns), ignore_index=True)\n",
    "\n",
    "# MAE\n",
    "print('Mean absolute error: %.2f' % MAE)"
   ]
  },
  {
   "cell_type": "code",
   "execution_count": 44,
   "metadata": {},
   "outputs": [
    {
     "name": "stdout",
     "output_type": "stream",
     "text": [
      "Mean absolute error: 2.03\n"
     ]
    }
   ],
   "source": [
    "# Bagging https://scikit-learn.org/stable/modules/generated/sklearn.ensemble.BaggingRegressor.html\n",
    "# Grid search results: -2.099723 using {'n_estimators': 250}\n",
    "# TAKES 20 HOURS TO COMPUTE\n",
    "\n",
    "from sklearn.ensemble import BaggingRegressor\n",
    "\n",
    "base_estimator = GradientBoostingRegressor(loss='lad',\n",
    "                                           learning_rate=0.1,\n",
    "                                           n_estimators=50,\n",
    "                                           criterion='mae',\n",
    "                                           max_depth=3,\n",
    "                                           random_state=25)\n",
    "\n",
    "Bagging = BaggingRegressor(base_estimator=base_estimator, \n",
    "                           bootstrap=False,\n",
    "                           n_estimators=250, \n",
    "                           random_state=25)\n",
    "\n",
    "Bagging.fit(train_variables, train_targets)\n",
    "\n",
    "Bagging_preds = Bagging.predict(valid_variables)\n",
    "\n",
    "regressor = 'Bagging (base_estimator=GradBoost, bootstrap=False, n_estimators=250)'\n",
    "\n",
    "MAE = mean_absolute_error(valid_targets, Bagging_preds)\n",
    "\n",
    "scores = scores.append(pd.Series([regressor, MAE], index=scores.columns), ignore_index=True)\n",
    "\n",
    "# MAE\n",
    "print('Mean absolute error: %.2f' % MAE)"
   ]
  },
  {
   "cell_type": "markdown",
   "metadata": {},
   "source": [
    "##### Fine-tuned AdaBoost"
   ]
  },
  {
   "cell_type": "code",
   "execution_count": 123,
   "metadata": {},
   "outputs": [
    {
     "name": "stdout",
     "output_type": "stream",
     "text": [
      "Mean absolute error: 2.05\n"
     ]
    }
   ],
   "source": [
    "# AdaBoost http://scikit-learn.org/stable/modules/generated/sklearn.ensemble.AdaBoostRegressor.html\n",
    "# Grid search results: -2.102515 using {'learning_rate': 0.01, 'n_estimators': 50}\n",
    "\n",
    "from sklearn.ensemble import AdaBoostRegressor\n",
    "\n",
    "base_estimator = RandomForestRegressor(criterion='mse', \n",
    "                                       n_estimators=500, \n",
    "                                       bootstrap=True, \n",
    "                                       max_depth=7, \n",
    "                                       random_state=25)\n",
    "\n",
    "AdaBoost = AdaBoostRegressor(base_estimator=base_estimator, \n",
    "                             learning_rate=0.01, \n",
    "                             n_estimators=50, \n",
    "                             random_state=25)\n",
    "\n",
    "AdaBoost.fit(train_variables, train_targets)\n",
    "\n",
    "AdaBoost_preds = AdaBoost.predict(valid_variables)\n",
    "\n",
    "regressor = 'AdaBoost (base_estimator=RandomForestOptimized, learning_rate=0.01, n_estimators=50)'\n",
    "\n",
    "MAE = mean_absolute_error(valid_targets, AdaBoost_preds)\n",
    "\n",
    "scores = scores.append(pd.Series([regressor, MAE], index=scores.columns), ignore_index=True)\n",
    "\n",
    "# MAE\n",
    "print('Mean absolute error: %.2f' % MAE)"
   ]
  },
  {
   "cell_type": "code",
   "execution_count": 124,
   "metadata": {},
   "outputs": [
    {
     "name": "stdout",
     "output_type": "stream",
     "text": [
      "Mean absolute error: 2.07\n"
     ]
    }
   ],
   "source": [
    "# AdaBoost http://scikit-learn.org/stable/modules/generated/sklearn.ensemble.AdaBoostRegressor.html\n",
    "# Grid search results: -2.102515 using {'learning_rate': 0.01, 'n_estimators': 50}\n",
    "\n",
    "from sklearn.ensemble import AdaBoostRegressor\n",
    "\n",
    "base_estimator = lgb.LGBMRegressor(boosting_type='gbdt', \n",
    "                                   learning_rate=0.1, \n",
    "                                   max_depth=1, \n",
    "                                   n_estimators=200, \n",
    "                                   num_leaves=10)\n",
    "\n",
    "AdaBoost = AdaBoostRegressor(base_estimator=base_estimator, \n",
    "                             learning_rate=0.01, \n",
    "                             n_estimators=50, \n",
    "                             random_state=25)\n",
    "\n",
    "AdaBoost.fit(train_variables, train_targets)\n",
    "\n",
    "AdaBoost_preds = AdaBoost.predict(valid_variables)\n",
    "\n",
    "regressor = 'AdaBoost (base_estimator=LGBM, learning_rate=0.01, n_estimators=50)'\n",
    "\n",
    "MAE = mean_absolute_error(valid_targets, AdaBoost_preds)\n",
    "\n",
    "scores = scores.append(pd.Series([regressor, MAE], index=scores.columns), ignore_index=True)\n",
    "\n",
    "# MAE\n",
    "print('Mean absolute error: %.2f' % MAE)"
   ]
  },
  {
   "cell_type": "code",
   "execution_count": 43,
   "metadata": {},
   "outputs": [
    {
     "name": "stdout",
     "output_type": "stream",
     "text": [
      "Mean absolute error: 2.03\n"
     ]
    }
   ],
   "source": [
    "# AdaBoost http://scikit-learn.org/stable/modules/generated/sklearn.ensemble.AdaBoostRegressor.html\n",
    "# Grid search results: -2.102515 using {'learning_rate': 0.01, 'n_estimators': 50}\n",
    "# TAKES 4 HOURS TO COMPUTE\n",
    "\n",
    "from sklearn.ensemble import AdaBoostRegressor\n",
    "\n",
    "base_estimator = GradientBoostingRegressor(loss='lad',\n",
    "                                           learning_rate=0.1,\n",
    "                                           n_estimators=50,\n",
    "                                           criterion='mae',\n",
    "                                           max_depth=3,\n",
    "                                           random_state=25)\n",
    "                        \n",
    "AdaBoost = AdaBoostRegressor(base_estimator=base_estimator, \n",
    "                             learning_rate=0.01, \n",
    "                             n_estimators=50, \n",
    "                             random_state=25)\n",
    "\n",
    "AdaBoost.fit(train_variables, train_targets)\n",
    "\n",
    "AdaBoost_preds = AdaBoost.predict(valid_variables)\n",
    "\n",
    "regressor = 'AdaBoost (base_estimator=GradBoost, learning_rate=0.01, n_estimators=50)'\n",
    "\n",
    "MAE = mean_absolute_error(valid_targets, AdaBoost_preds)\n",
    "\n",
    "scores = scores.append(pd.Series([regressor, MAE], index=scores.columns), ignore_index=True)\n",
    "\n",
    "# MAE\n",
    "print('Mean absolute error: %.2f' % MAE)"
   ]
  },
  {
   "cell_type": "markdown",
   "metadata": {},
   "source": [
    "##### Fine-tuned XGBoost"
   ]
  },
  {
   "cell_type": "code",
   "execution_count": 126,
   "metadata": {},
   "outputs": [
    {
     "name": "stdout",
     "output_type": "stream",
     "text": [
      "Mean absolute error: 2.07\n"
     ]
    }
   ],
   "source": [
    "# https://machinelearningmastery.com/develop-first-xgboost-model-python-scikit-learn/\n",
    "# Grid search result: -2.103335 using {'learning_rate': 0.1, 'max_depth': 1}\n",
    "\n",
    "from xgboost import XGBRegressor\n",
    "\n",
    "XGBoost = XGBRegressor(learning_rate=0.1, \n",
    "                       max_depth=1,\n",
    "                       gamma=0, \n",
    "                       random_state=25)\n",
    "\n",
    "XGBoost.fit(train_variables, train_targets)\n",
    "\n",
    "XGBoost_preds = XGBoost.predict(valid_variables)\n",
    "\n",
    "regressor = 'XGBoost (learning_rate=0.1, max_depth=1, gamma=0)'\n",
    "\n",
    "MAE = mean_absolute_error(valid_targets, XGBoost_preds)\n",
    "\n",
    "scores = scores.append(pd.Series([regressor, MAE], index=scores.columns), ignore_index=True)\n",
    "\n",
    "# MAE\n",
    "print('Mean absolute error: %.2f' % MAE)"
   ]
  },
  {
   "cell_type": "code",
   "execution_count": 127,
   "metadata": {},
   "outputs": [
    {
     "name": "stdout",
     "output_type": "stream",
     "text": [
      "Mean absolute error: 2.07\n"
     ]
    }
   ],
   "source": [
    "# https://machinelearningmastery.com/develop-first-xgboost-model-python-scikit-learn/\n",
    "# Grid search result: -2.103335 using {'learning_rate': 0.1, 'max_depth': 1}\n",
    "\n",
    "from xgboost import XGBRegressor\n",
    "\n",
    "XGBoost = XGBRegressor(learning_rate=0.1, \n",
    "                       max_depth=1,\n",
    "                       gamma=0.5,\n",
    "                       random_state=25)\n",
    "\n",
    "XGBoost.fit(train_variables, train_targets)\n",
    "\n",
    "XGBoost_preds = XGBoost.predict(valid_variables)\n",
    "\n",
    "regressor = 'XGBoost (learning_rate=0.1, max_depth=1, gamma=0.5)'\n",
    "\n",
    "MAE = mean_absolute_error(valid_targets, XGBoost_preds)\n",
    "\n",
    "scores = scores.append(pd.Series([regressor, MAE], index=scores.columns), ignore_index=True)\n",
    "\n",
    "# MAE\n",
    "print('Mean absolute error: %.2f' % MAE)"
   ]
  },
  {
   "cell_type": "code",
   "execution_count": 128,
   "metadata": {},
   "outputs": [
    {
     "name": "stdout",
     "output_type": "stream",
     "text": [
      "Mean absolute error: 2.07\n"
     ]
    }
   ],
   "source": [
    "# https://machinelearningmastery.com/develop-first-xgboost-model-python-scikit-learn/\n",
    "# Grid search result: -2.103335 using {'learning_rate': 0.1, 'max_depth': 1}\n",
    "\n",
    "from xgboost import XGBRegressor\n",
    "\n",
    "XGBoost = XGBRegressor(learning_rate=0.1, \n",
    "                       max_depth=1,\n",
    "                       gamma=0.5,\n",
    "                       reg_alpha=0.2, \n",
    "                       reg_lambda=1,\n",
    "                       random_state=25)\n",
    "\n",
    "XGBoost.fit(train_variables, train_targets)\n",
    "\n",
    "XGBoost_preds = XGBoost.predict(valid_variables)\n",
    "\n",
    "regressor = 'XGBoost (learning_rate=0.1, max_depth=1, gamma=0.5, reg_alpha=0.2, reg_lambda=1)'\n",
    "\n",
    "MAE = mean_absolute_error(valid_targets, XGBoost_preds)\n",
    "\n",
    "scores = scores.append(pd.Series([regressor, MAE], index=scores.columns), ignore_index=True)\n",
    "\n",
    "# MAE\n",
    "print('Mean absolute error: %.2f' % MAE)"
   ]
  },
  {
   "cell_type": "code",
   "execution_count": 129,
   "metadata": {},
   "outputs": [
    {
     "name": "stdout",
     "output_type": "stream",
     "text": [
      "Mean absolute error: 2.07\n"
     ]
    }
   ],
   "source": [
    "# https://machinelearningmastery.com/develop-first-xgboost-model-python-scikit-learn/\n",
    "# Grid search result: -2.103335 using {'learning_rate': 0.1, 'max_depth': 1}\n",
    "\n",
    "from xgboost import XGBRegressor\n",
    "\n",
    "XGBoost = XGBRegressor(learning_rate=0.1, \n",
    "                       max_depth=1,\n",
    "                       gamma=0.5,\n",
    "                       reg_alpha=0, \n",
    "                       reg_lambda=0.8,\n",
    "                       random_state=25)\n",
    "\n",
    "XGBoost.fit(train_variables, train_targets)\n",
    "\n",
    "XGBoost_preds = XGBoost.predict(valid_variables)\n",
    "\n",
    "regressor = 'XGBoost (learning_rate=0.1, max_depth=1, gamma=0.5, reg_alpha=0, reg_lambda=0.8)'\n",
    "\n",
    "MAE = mean_absolute_error(valid_targets, XGBoost_preds)\n",
    "\n",
    "scores = scores.append(pd.Series([regressor, MAE], index=scores.columns), ignore_index=True)\n",
    "\n",
    "# MAE\n",
    "print('Mean absolute error: %.2f' % MAE)"
   ]
  },
  {
   "cell_type": "code",
   "execution_count": 130,
   "metadata": {},
   "outputs": [
    {
     "name": "stdout",
     "output_type": "stream",
     "text": [
      "Mean absolute error: 2.07\n"
     ]
    }
   ],
   "source": [
    "# https://machinelearningmastery.com/develop-first-xgboost-model-python-scikit-learn/\n",
    "# Grid search result: -2.103335 using {'learning_rate': 0.1, 'max_depth': 1}\n",
    "\n",
    "from xgboost import XGBRegressor\n",
    "\n",
    "XGBoost = XGBRegressor(learning_rate=0.1, \n",
    "                       max_depth=1,\n",
    "                       gamma=0.5,\n",
    "                       reg_alpha=0.2, \n",
    "                       reg_lambda=0.8,\n",
    "                       random_state=25)\n",
    "\n",
    "XGBoost.fit(train_variables, train_targets)\n",
    "\n",
    "XGBoost_preds = XGBoost.predict(valid_variables)\n",
    "\n",
    "regressor = 'XGBoost (learning_rate=0.1, max_depth=1, gamma=0.5, reg_alpha=0.2, reg_lambda=0.8)'\n",
    "\n",
    "MAE = mean_absolute_error(valid_targets, XGBoost_preds)\n",
    "\n",
    "scores = scores.append(pd.Series([regressor, MAE], index=scores.columns), ignore_index=True)\n",
    "\n",
    "# MAE\n",
    "print('Mean absolute error: %.2f' % MAE)"
   ]
  },
  {
   "cell_type": "code",
   "execution_count": 57,
   "metadata": {},
   "outputs": [
    {
     "data": {
      "text/html": [
       "<div>\n",
       "<style scoped>\n",
       "    .dataframe tbody tr th:only-of-type {\n",
       "        vertical-align: middle;\n",
       "    }\n",
       "\n",
       "    .dataframe tbody tr th {\n",
       "        vertical-align: top;\n",
       "    }\n",
       "\n",
       "    .dataframe thead th {\n",
       "        text-align: right;\n",
       "    }\n",
       "</style>\n",
       "<table border=\"1\" class=\"dataframe\">\n",
       "  <thead>\n",
       "    <tr style=\"text-align: right;\">\n",
       "      <th></th>\n",
       "      <th>Regressor</th>\n",
       "      <th>MAE</th>\n",
       "    </tr>\n",
       "  </thead>\n",
       "  <tbody>\n",
       "    <tr>\n",
       "      <th>0</th>\n",
       "      <td>LightGBM</td>\n",
       "      <td>2.074296161912692</td>\n",
       "    </tr>\n",
       "    <tr>\n",
       "      <th>1</th>\n",
       "      <td>SVR</td>\n",
       "      <td>2.046054044218325</td>\n",
       "    </tr>\n",
       "    <tr>\n",
       "      <th>2</th>\n",
       "      <td>LinSVR</td>\n",
       "      <td>2.141308130470632</td>\n",
       "    </tr>\n",
       "    <tr>\n",
       "      <th>3</th>\n",
       "      <td>Elastic</td>\n",
       "      <td>2.279288416970476</td>\n",
       "    </tr>\n",
       "    <tr>\n",
       "      <th>4</th>\n",
       "      <td>Lasso</td>\n",
       "      <td>2.373345046765726</td>\n",
       "    </tr>\n",
       "    <tr>\n",
       "      <th>5</th>\n",
       "      <td>DecTree</td>\n",
       "      <td>2.947543543994625</td>\n",
       "    </tr>\n",
       "    <tr>\n",
       "      <th>6</th>\n",
       "      <td>RndmForest</td>\n",
       "      <td>2.133414621897705</td>\n",
       "    </tr>\n",
       "    <tr>\n",
       "      <th>7</th>\n",
       "      <td>Bagging</td>\n",
       "      <td>2.058486877265501</td>\n",
       "    </tr>\n",
       "    <tr>\n",
       "      <th>8</th>\n",
       "      <td>GradBoost</td>\n",
       "      <td>2.055248444688900</td>\n",
       "    </tr>\n",
       "    <tr>\n",
       "      <th>9</th>\n",
       "      <td>AdaBoost</td>\n",
       "      <td>2.093689973025512</td>\n",
       "    </tr>\n",
       "    <tr>\n",
       "      <th>10</th>\n",
       "      <td>XGBoost</td>\n",
       "      <td>2.054474358164319</td>\n",
       "    </tr>\n",
       "    <tr>\n",
       "      <th>11</th>\n",
       "      <td>GradBoost (loss lad, learning_rate=0.01, n_estimators=1000, criterion=friedman_mse, max_depth=3)</td>\n",
       "      <td>2.044693495121336</td>\n",
       "    </tr>\n",
       "    <tr>\n",
       "      <th>12</th>\n",
       "      <td>AdaBoost (base_estimator=GradBoost, learning_rate=0.01, n_estimators=50)</td>\n",
       "      <td>2.028283973557017</td>\n",
       "    </tr>\n",
       "    <tr>\n",
       "      <th>13</th>\n",
       "      <td>Bagging (base_estimator=GradBoost, bootstrap=False, n_estimators=250)</td>\n",
       "      <td>2.031219686315360</td>\n",
       "    </tr>\n",
       "    <tr>\n",
       "      <th>14</th>\n",
       "      <td>Stacked Bagging/GradBoost/AdaBoost with LR</td>\n",
       "      <td>2.034071506802301</td>\n",
       "    </tr>\n",
       "    <tr>\n",
       "      <th>15</th>\n",
       "      <td>GradBoost (loss lad, learning_rate=0.1, n_estimators=50, criterion=mae, max_depth=3)</td>\n",
       "      <td>2.030604731593559</td>\n",
       "    </tr>\n",
       "  </tbody>\n",
       "</table>\n",
       "</div>"
      ],
      "text/plain": [
       "                                                                                           Regressor  \\\n",
       "0                                                                                           LightGBM   \n",
       "1                                                                                                SVR   \n",
       "2                                                                                             LinSVR   \n",
       "3                                                                                            Elastic   \n",
       "4                                                                                              Lasso   \n",
       "5                                                                                            DecTree   \n",
       "6                                                                                         RndmForest   \n",
       "7                                                                                            Bagging   \n",
       "8                                                                                          GradBoost   \n",
       "9                                                                                           AdaBoost   \n",
       "10                                                                                           XGBoost   \n",
       "11  GradBoost (loss lad, learning_rate=0.01, n_estimators=1000, criterion=friedman_mse, max_depth=3)   \n",
       "12                          AdaBoost (base_estimator=GradBoost, learning_rate=0.01, n_estimators=50)   \n",
       "13                             Bagging (base_estimator=GradBoost, bootstrap=False, n_estimators=250)   \n",
       "14                                                        Stacked Bagging/GradBoost/AdaBoost with LR   \n",
       "15              GradBoost (loss lad, learning_rate=0.1, n_estimators=50, criterion=mae, max_depth=3)   \n",
       "\n",
       "                  MAE  \n",
       "0   2.074296161912692  \n",
       "1   2.046054044218325  \n",
       "2   2.141308130470632  \n",
       "3   2.279288416970476  \n",
       "4   2.373345046765726  \n",
       "5   2.947543543994625  \n",
       "6   2.133414621897705  \n",
       "7   2.058486877265501  \n",
       "8   2.055248444688900  \n",
       "9   2.093689973025512  \n",
       "10  2.054474358164319  \n",
       "11  2.044693495121336  \n",
       "12  2.028283973557017  \n",
       "13  2.031219686315360  \n",
       "14  2.034071506802301  \n",
       "15  2.030604731593559  "
      ]
     },
     "execution_count": 57,
     "metadata": {},
     "output_type": "execute_result"
    }
   ],
   "source": [
    "pd.options.display.max_colwidth = 200\n",
    "\n",
    "scores"
   ]
  },
  {
   "cell_type": "markdown",
   "metadata": {},
   "source": [
    "### Predicton and submission"
   ]
  },
  {
   "cell_type": "code",
   "execution_count": 133,
   "metadata": {},
   "outputs": [],
   "source": [
    "# LGB predictions\n",
    "\n",
    "LGB_preds = lgb_tuned.predict(scaled_test_X)"
   ]
  },
  {
   "cell_type": "code",
   "execution_count": 134,
   "metadata": {},
   "outputs": [],
   "source": [
    "# LGB submission\n",
    "\n",
    "submission = pd.read_csv('LANL-Earthquake-Prediction/sample_submission.csv', index_col='seg_id')\n",
    "submission.time_to_failure = LGB_preds\n",
    "submission.to_csv('lgb_submission.csv',index=True)"
   ]
  },
  {
   "cell_type": "code",
   "execution_count": 136,
   "metadata": {},
   "outputs": [],
   "source": [
    "# Random Forest predictions\n",
    "\n",
    "RndmForest_preds = RndmForest.predict(scaled_test_X)"
   ]
  },
  {
   "cell_type": "code",
   "execution_count": 137,
   "metadata": {},
   "outputs": [],
   "source": [
    "# Random Forest submission\n",
    "\n",
    "submission = pd.read_csv('LANL-Earthquake-Prediction/sample_submission.csv', index_col='seg_id')\n",
    "submission.time_to_failure = RndmForest_preds\n",
    "submission.to_csv('forest_submission.csv',index=True)"
   ]
  },
  {
   "cell_type": "code",
   "execution_count": 46,
   "metadata": {},
   "outputs": [],
   "source": [
    "# Bagging predictions\n",
    "\n",
    "Bagging_preds = Bagging.predict(scaled_test_X)"
   ]
  },
  {
   "cell_type": "code",
   "execution_count": 47,
   "metadata": {},
   "outputs": [],
   "source": [
    "# Bagging submission\n",
    "\n",
    "submission = pd.read_csv('LANL-Earthquake-Prediction/sample_submission.csv', index_col='seg_id')\n",
    "submission.time_to_failure = Bagging_preds\n",
    "submission.to_csv('bagging_submission.csv',index=True)"
   ]
  },
  {
   "cell_type": "code",
   "execution_count": 48,
   "metadata": {},
   "outputs": [],
   "source": [
    "# AdaBoost predictions\n",
    "\n",
    "AdaBoost_preds = AdaBoost.predict(scaled_test_X)"
   ]
  },
  {
   "cell_type": "code",
   "execution_count": 49,
   "metadata": {},
   "outputs": [],
   "source": [
    "# AdaBoost submission\n",
    "\n",
    "submission = pd.read_csv('LANL-Earthquake-Prediction/sample_submission.csv', index_col='seg_id')\n",
    "submission.time_to_failure = AdaBoost_preds\n",
    "submission.to_csv('ada_submission.csv',index=True)"
   ]
  },
  {
   "cell_type": "code",
   "execution_count": 144,
   "metadata": {},
   "outputs": [],
   "source": [
    "# XGBoost predictions\n",
    "\n",
    "XGBoost_preds = XGBoost.predict(scaled_test_X)"
   ]
  },
  {
   "cell_type": "code",
   "execution_count": 145,
   "metadata": {},
   "outputs": [],
   "source": [
    "# XGBoost submission\n",
    "\n",
    "submission = pd.read_csv('LANL-Earthquake-Prediction/sample_submission.csv', index_col='seg_id')\n",
    "submission.time_to_failure = XGBoost_preds\n",
    "submission.to_csv('xgb_submission.csv',index=True)"
   ]
  },
  {
   "cell_type": "code",
   "execution_count": 58,
   "metadata": {},
   "outputs": [],
   "source": [
    "# GradBoost predictions\n",
    "\n",
    "GradBoost_preds = GradBoost.predict(scaled_test_X)"
   ]
  },
  {
   "cell_type": "code",
   "execution_count": 59,
   "metadata": {},
   "outputs": [],
   "source": [
    "# GradBoost submission\n",
    "\n",
    "submission = pd.read_csv('LANL-Earthquake-Prediction/sample_submission.csv', index_col='seg_id')\n",
    "submission.time_to_failure = GradBoost_preds\n",
    "submission.to_csv('gradboost_submission.csv',index=True)"
   ]
  },
  {
   "cell_type": "markdown",
   "metadata": {},
   "source": [
    "### Stacking models"
   ]
  },
  {
   "cell_type": "markdown",
   "metadata": {},
   "source": [
    "#### Stacking bagging, AdaBoost, GradBoost"
   ]
  },
  {
   "cell_type": "code",
   "execution_count": 109,
   "metadata": {},
   "outputs": [
    {
     "name": "stdout",
     "output_type": "stream",
     "text": [
      "2935\n",
      "2935\n",
      "1259\n",
      "1259\n",
      "2624\n"
     ]
    }
   ],
   "source": [
    "# Making train and test predictions with three performers and concatenating into stacked dataframe\n",
    "\n",
    "Bagging_pred_train = Bagging.predict(train_variables)\n",
    "Bagging_pred_test = Bagging.predict(scaled_test_X)\n",
    "Bagging_pred_valid = Bagging.predict(valid_variables)\n",
    "AdaBoost_pred_train = AdaBoost.predict(train_variables)\n",
    "AdaBoost_pred_test = AdaBoost.predict(scaled_test_X)\n",
    "AdaBoost_pred_valid = AdaBoost.predict(valid_variables)\n",
    "GradBoost_pred_train = GradBoost.predict(train_variables)\n",
    "GradBoost_pred_test = GradBoost.predict(scaled_test_X)\n",
    "GradBoost_pred_valid = GradBoost.predict(valid_variables)\n",
    "\n",
    "Bagging_pred_train = pd.DataFrame(Bagging_pred_train)\n",
    "Bagging_pred_test = pd.DataFrame(Bagging_pred_test)\n",
    "Bagging_pred_valid = pd.DataFrame(Bagging_pred_valid)\n",
    "AdaBoost_pred_train = pd.DataFrame(AdaBoost_pred_train)\n",
    "AdaBoost_pred_test = pd.DataFrame(AdaBoost_pred_test)\n",
    "AdaBoost_pred_valid = pd.DataFrame(AdaBoost_pred_valid)\n",
    "GradBoost_pred_train = pd.DataFrame(GradBoost_pred_train)\n",
    "GradBoost_pred_test = pd.DataFrame(GradBoost_pred_test)\n",
    "GradBoost_pred_valid = pd.DataFrame(GradBoost_pred_valid)\n",
    "\n",
    "df_train = pd.concat([Bagging_pred_train, AdaBoost_pred_train, GradBoost_pred_train], axis=1)\n",
    "df_test = pd.concat([Bagging_pred_test, AdaBoost_pred_test, GradBoost_pred_test], axis=1)\n",
    "df_valid = pd.concat([Bagging_pred_valid, AdaBoost_pred_valid, GradBoost_pred_valid], axis=1)\n",
    "\n",
    "print(len(df_train))\n",
    "print(len(train_targets))\n",
    "print(len(df_valid))\n",
    "print(len(valid_targets))\n",
    "print(len(df_test))"
   ]
  },
  {
   "cell_type": "code",
   "execution_count": 65,
   "metadata": {},
   "outputs": [
    {
     "name": "stdout",
     "output_type": "stream",
     "text": [
      "Mean absolute error: 2.03\n"
     ]
    }
   ],
   "source": [
    "# Stacking check along validation dataset\n",
    "\n",
    "from sklearn.linear_model import LinearRegression\n",
    "\n",
    "stacked_lr_reg = linear_model.LinearRegression()\n",
    "stacked_lr_reg.fit(df_train, train_targets)\n",
    "stacked_lr_pred = stacked_lr_reg.predict(df_valid)\n",
    "\n",
    "regressor = 'Stacked Bagging/GradBoost/AdaBoost with LR'\n",
    "\n",
    "MAE = mean_absolute_error(valid_targets, stacked_lr_pred)\n",
    "\n",
    "scores = scores.append(pd.Series([regressor, MAE], index=scores.columns), ignore_index=True)\n",
    "\n",
    "# MAE\n",
    "print('Mean absolute error: %.2f' % MAE)"
   ]
  },
  {
   "cell_type": "code",
   "execution_count": 62,
   "metadata": {},
   "outputs": [
    {
     "data": {
      "text/html": [
       "<div>\n",
       "<style scoped>\n",
       "    .dataframe tbody tr th:only-of-type {\n",
       "        vertical-align: middle;\n",
       "    }\n",
       "\n",
       "    .dataframe tbody tr th {\n",
       "        vertical-align: top;\n",
       "    }\n",
       "\n",
       "    .dataframe thead th {\n",
       "        text-align: right;\n",
       "    }\n",
       "</style>\n",
       "<table border=\"1\" class=\"dataframe\">\n",
       "  <thead>\n",
       "    <tr style=\"text-align: right;\">\n",
       "      <th></th>\n",
       "      <th>Regressor</th>\n",
       "      <th>MAE</th>\n",
       "    </tr>\n",
       "  </thead>\n",
       "  <tbody>\n",
       "    <tr>\n",
       "      <th>0</th>\n",
       "      <td>LightGBM</td>\n",
       "      <td>2.074296161912692</td>\n",
       "    </tr>\n",
       "    <tr>\n",
       "      <th>1</th>\n",
       "      <td>SVR</td>\n",
       "      <td>2.046054044218325</td>\n",
       "    </tr>\n",
       "    <tr>\n",
       "      <th>2</th>\n",
       "      <td>LinSVR</td>\n",
       "      <td>2.141308130470632</td>\n",
       "    </tr>\n",
       "    <tr>\n",
       "      <th>3</th>\n",
       "      <td>Elastic</td>\n",
       "      <td>2.279288416970476</td>\n",
       "    </tr>\n",
       "    <tr>\n",
       "      <th>4</th>\n",
       "      <td>Lasso</td>\n",
       "      <td>2.373345046765726</td>\n",
       "    </tr>\n",
       "    <tr>\n",
       "      <th>5</th>\n",
       "      <td>DecTree</td>\n",
       "      <td>2.947543543994625</td>\n",
       "    </tr>\n",
       "    <tr>\n",
       "      <th>6</th>\n",
       "      <td>RndmForest</td>\n",
       "      <td>2.133414621897705</td>\n",
       "    </tr>\n",
       "    <tr>\n",
       "      <th>7</th>\n",
       "      <td>Bagging</td>\n",
       "      <td>2.058486877265501</td>\n",
       "    </tr>\n",
       "    <tr>\n",
       "      <th>8</th>\n",
       "      <td>GradBoost</td>\n",
       "      <td>2.055248444688900</td>\n",
       "    </tr>\n",
       "    <tr>\n",
       "      <th>9</th>\n",
       "      <td>AdaBoost</td>\n",
       "      <td>2.093689973025512</td>\n",
       "    </tr>\n",
       "    <tr>\n",
       "      <th>10</th>\n",
       "      <td>XGBoost</td>\n",
       "      <td>2.054474358164319</td>\n",
       "    </tr>\n",
       "    <tr>\n",
       "      <th>11</th>\n",
       "      <td>GradBoost (loss lad, learning_rate=0.01, n_estimators=1000, criterion=friedman_mse, max_depth=3)</td>\n",
       "      <td>2.044693495121336</td>\n",
       "    </tr>\n",
       "    <tr>\n",
       "      <th>12</th>\n",
       "      <td>AdaBoost (base_estimator=GradBoost, learning_rate=0.01, n_estimators=50)</td>\n",
       "      <td>2.028283973557017</td>\n",
       "    </tr>\n",
       "    <tr>\n",
       "      <th>13</th>\n",
       "      <td>Bagging (base_estimator=GradBoost, bootstrap=False, n_estimators=250)</td>\n",
       "      <td>2.031219686315360</td>\n",
       "    </tr>\n",
       "    <tr>\n",
       "      <th>14</th>\n",
       "      <td>Stacked Bagging/GradBoost/AdaBoost with LR</td>\n",
       "      <td>2.034071506802301</td>\n",
       "    </tr>\n",
       "    <tr>\n",
       "      <th>15</th>\n",
       "      <td>GradBoost (loss lad, learning_rate=0.1, n_estimators=50, criterion=mae, max_depth=3)</td>\n",
       "      <td>2.030604731593559</td>\n",
       "    </tr>\n",
       "    <tr>\n",
       "      <th>16</th>\n",
       "      <td>Stacked Bagging/GradBoost/AdaBoost with LR</td>\n",
       "      <td>2.029453288343167</td>\n",
       "    </tr>\n",
       "  </tbody>\n",
       "</table>\n",
       "</div>"
      ],
      "text/plain": [
       "                                                                                           Regressor  \\\n",
       "0                                                                                           LightGBM   \n",
       "1                                                                                                SVR   \n",
       "2                                                                                             LinSVR   \n",
       "3                                                                                            Elastic   \n",
       "4                                                                                              Lasso   \n",
       "5                                                                                            DecTree   \n",
       "6                                                                                         RndmForest   \n",
       "7                                                                                            Bagging   \n",
       "8                                                                                          GradBoost   \n",
       "9                                                                                           AdaBoost   \n",
       "10                                                                                           XGBoost   \n",
       "11  GradBoost (loss lad, learning_rate=0.01, n_estimators=1000, criterion=friedman_mse, max_depth=3)   \n",
       "12                          AdaBoost (base_estimator=GradBoost, learning_rate=0.01, n_estimators=50)   \n",
       "13                             Bagging (base_estimator=GradBoost, bootstrap=False, n_estimators=250)   \n",
       "14                                                        Stacked Bagging/GradBoost/AdaBoost with LR   \n",
       "15              GradBoost (loss lad, learning_rate=0.1, n_estimators=50, criterion=mae, max_depth=3)   \n",
       "16                                                        Stacked Bagging/GradBoost/AdaBoost with LR   \n",
       "\n",
       "                  MAE  \n",
       "0   2.074296161912692  \n",
       "1   2.046054044218325  \n",
       "2   2.141308130470632  \n",
       "3   2.279288416970476  \n",
       "4   2.373345046765726  \n",
       "5   2.947543543994625  \n",
       "6   2.133414621897705  \n",
       "7   2.058486877265501  \n",
       "8   2.055248444688900  \n",
       "9   2.093689973025512  \n",
       "10  2.054474358164319  \n",
       "11  2.044693495121336  \n",
       "12  2.028283973557017  \n",
       "13  2.031219686315360  \n",
       "14  2.034071506802301  \n",
       "15  2.030604731593559  \n",
       "16  2.029453288343167  "
      ]
     },
     "execution_count": 62,
     "metadata": {},
     "output_type": "execute_result"
    }
   ],
   "source": [
    "pd.options.display.max_colwidth = 200\n",
    "\n",
    "scores"
   ]
  },
  {
   "cell_type": "code",
   "execution_count": 69,
   "metadata": {},
   "outputs": [],
   "source": [
    "# Stacked predictions for submission\n",
    "\n",
    "from sklearn.linear_model import LinearRegression\n",
    "\n",
    "stacked_lr_reg = linear_model.LinearRegression()\n",
    "stacked_lr_reg.fit(df_train, train_targets)\n",
    "stacked_lr_pred = stacked_lr_reg.predict(df_test)\n",
    "\n",
    "submission = pd.read_csv('LANL-Earthquake-Prediction/sample_submission.csv', index_col='seg_id')\n",
    "submission.time_to_failure = stacked_lr_pred\n",
    "submission.to_csv('stacked_submission.csv',index=True)"
   ]
  },
  {
   "cell_type": "markdown",
   "metadata": {},
   "source": [
    "#### Stacking bagging, AdaBoost, SVR"
   ]
  },
  {
   "cell_type": "code",
   "execution_count": 117,
   "metadata": {},
   "outputs": [
    {
     "name": "stdout",
     "output_type": "stream",
     "text": [
      "Mean absolute error: 2.02895\n"
     ]
    }
   ],
   "source": [
    "# https://scikit-learn.org/stable/modules/generated/sklearn.svm.SVR.html\n",
    "\n",
    "from sklearn.svm import SVR\n",
    "\n",
    "SVR = SVR(C=1.5, epsilon=0.8)\n",
    "\n",
    "SVR.fit(train_variables, train_targets)\n",
    "\n",
    "SVR_preds = SVR.predict(valid_variables)\n",
    "\n",
    "regressor = 'SVR (C=1.5, epsilon=0.8)'\n",
    "\n",
    "MAE = mean_absolute_error(valid_targets, SVR_preds)\n",
    "\n",
    "scores = scores.append(pd.Series([regressor, MAE], index=scores.columns), ignore_index=True)\n",
    "\n",
    "# MAE\n",
    "print('Mean absolute error: %.5f' % MAE)"
   ]
  },
  {
   "cell_type": "code",
   "execution_count": 111,
   "metadata": {},
   "outputs": [
    {
     "name": "stdout",
     "output_type": "stream",
     "text": [
      "2935\n",
      "2935\n",
      "1259\n",
      "1259\n",
      "2624\n"
     ]
    }
   ],
   "source": [
    "# Making train and test predictions with three performers and concatenating into stacked dataframe\n",
    "\n",
    "Bagging_pred_train = Bagging.predict(train_variables)\n",
    "Bagging_pred_test = Bagging.predict(scaled_test_X)\n",
    "Bagging_pred_valid = Bagging.predict(valid_variables)\n",
    "AdaBoost_pred_train = AdaBoost.predict(train_variables)\n",
    "AdaBoost_pred_test = AdaBoost.predict(scaled_test_X)\n",
    "AdaBoost_pred_valid = AdaBoost.predict(valid_variables)\n",
    "SVR_pred_train = SVR.predict(train_variables)\n",
    "SVR_pred_test = SVR.predict(scaled_test_X)\n",
    "SVR_pred_valid = SVR.predict(valid_variables)\n",
    "\n",
    "Bagging_pred_train = pd.DataFrame(Bagging_pred_train)\n",
    "Bagging_pred_test = pd.DataFrame(Bagging_pred_test)\n",
    "Bagging_pred_valid = pd.DataFrame(Bagging_pred_valid)\n",
    "AdaBoost_pred_train = pd.DataFrame(AdaBoost_pred_train)\n",
    "AdaBoost_pred_test = pd.DataFrame(AdaBoost_pred_test)\n",
    "AdaBoost_pred_valid = pd.DataFrame(AdaBoost_pred_valid)\n",
    "SVR_pred_train = pd.DataFrame(SVR_pred_train)\n",
    "SVR_pred_test = pd.DataFrame(SVR_pred_test)\n",
    "SVR_pred_valid = pd.DataFrame(SVR_pred_valid)\n",
    "\n",
    "df_train = pd.concat([Bagging_pred_train, AdaBoost_pred_train, SVR_pred_train], axis=1)\n",
    "df_test = pd.concat([Bagging_pred_test, AdaBoost_pred_test, SVR_pred_test], axis=1)\n",
    "df_valid = pd.concat([Bagging_pred_valid, AdaBoost_pred_valid, SVR_pred_valid], axis=1)\n",
    "\n",
    "print(len(df_train))\n",
    "print(len(train_targets))\n",
    "print(len(df_valid))\n",
    "print(len(valid_targets))\n",
    "print(len(df_test))"
   ]
  },
  {
   "cell_type": "code",
   "execution_count": 124,
   "metadata": {},
   "outputs": [
    {
     "name": "stdout",
     "output_type": "stream",
     "text": [
      "Mean absolute error: 2.03\n"
     ]
    }
   ],
   "source": [
    "# Stacking check along validation dataset\n",
    "# Replacing Gradboost with SVR: Gradboost has better score here, but loses to bagging at kaggle submission\n",
    "\n",
    "from sklearn.linear_model import LinearRegression\n",
    "\n",
    "stacked_lr_reg = linear_model.LinearRegression()\n",
    "stacked_lr_reg.fit(df_train, train_targets)\n",
    "stacked_lr_pred = stacked_lr_reg.predict(df_valid)\n",
    "\n",
    "regressor = 'Stacked Bagging/SVR/AdaBoost with LR'\n",
    "\n",
    "MAE = mean_absolute_error(valid_targets, stacked_lr_pred)\n",
    "\n",
    "scores = scores.append(pd.Series([regressor, MAE], index=scores.columns), ignore_index=True)\n",
    "\n",
    "# MAE\n",
    "print('Mean absolute error: %.2f' % MAE)"
   ]
  },
  {
   "cell_type": "code",
   "execution_count": 125,
   "metadata": {},
   "outputs": [
    {
     "data": {
      "text/html": [
       "<div>\n",
       "<style scoped>\n",
       "    .dataframe tbody tr th:only-of-type {\n",
       "        vertical-align: middle;\n",
       "    }\n",
       "\n",
       "    .dataframe tbody tr th {\n",
       "        vertical-align: top;\n",
       "    }\n",
       "\n",
       "    .dataframe thead th {\n",
       "        text-align: right;\n",
       "    }\n",
       "</style>\n",
       "<table border=\"1\" class=\"dataframe\">\n",
       "  <thead>\n",
       "    <tr style=\"text-align: right;\">\n",
       "      <th></th>\n",
       "      <th>Regressor</th>\n",
       "      <th>MAE</th>\n",
       "    </tr>\n",
       "  </thead>\n",
       "  <tbody>\n",
       "    <tr>\n",
       "      <th>0</th>\n",
       "      <td>LightGBM</td>\n",
       "      <td>2.074296161912692</td>\n",
       "    </tr>\n",
       "    <tr>\n",
       "      <th>1</th>\n",
       "      <td>SVR</td>\n",
       "      <td>2.046054044218325</td>\n",
       "    </tr>\n",
       "    <tr>\n",
       "      <th>2</th>\n",
       "      <td>LinSVR</td>\n",
       "      <td>2.141308130470632</td>\n",
       "    </tr>\n",
       "    <tr>\n",
       "      <th>3</th>\n",
       "      <td>Elastic</td>\n",
       "      <td>2.279288416970476</td>\n",
       "    </tr>\n",
       "    <tr>\n",
       "      <th>4</th>\n",
       "      <td>Lasso</td>\n",
       "      <td>2.373345046765726</td>\n",
       "    </tr>\n",
       "    <tr>\n",
       "      <th>5</th>\n",
       "      <td>DecTree</td>\n",
       "      <td>2.947543543994625</td>\n",
       "    </tr>\n",
       "    <tr>\n",
       "      <th>6</th>\n",
       "      <td>RndmForest</td>\n",
       "      <td>2.133414621897705</td>\n",
       "    </tr>\n",
       "    <tr>\n",
       "      <th>7</th>\n",
       "      <td>Bagging</td>\n",
       "      <td>2.058486877265501</td>\n",
       "    </tr>\n",
       "    <tr>\n",
       "      <th>8</th>\n",
       "      <td>GradBoost</td>\n",
       "      <td>2.055248444688900</td>\n",
       "    </tr>\n",
       "    <tr>\n",
       "      <th>9</th>\n",
       "      <td>AdaBoost</td>\n",
       "      <td>2.093689973025512</td>\n",
       "    </tr>\n",
       "    <tr>\n",
       "      <th>10</th>\n",
       "      <td>XGBoost</td>\n",
       "      <td>2.054474358164319</td>\n",
       "    </tr>\n",
       "    <tr>\n",
       "      <th>11</th>\n",
       "      <td>GradBoost (loss lad, learning_rate=0.01, n_estimators=1000, criterion=friedman_mse, max_depth=3)</td>\n",
       "      <td>2.044693495121336</td>\n",
       "    </tr>\n",
       "    <tr>\n",
       "      <th>12</th>\n",
       "      <td>AdaBoost (base_estimator=GradBoost, learning_rate=0.01, n_estimators=50)</td>\n",
       "      <td>2.028283973557017</td>\n",
       "    </tr>\n",
       "    <tr>\n",
       "      <th>13</th>\n",
       "      <td>Bagging (base_estimator=GradBoost, bootstrap=False, n_estimators=250)</td>\n",
       "      <td>2.031219686315360</td>\n",
       "    </tr>\n",
       "    <tr>\n",
       "      <th>14</th>\n",
       "      <td>Stacked Bagging/GradBoost/AdaBoost with LR</td>\n",
       "      <td>2.034071506802301</td>\n",
       "    </tr>\n",
       "    <tr>\n",
       "      <th>15</th>\n",
       "      <td>GradBoost (loss lad, learning_rate=0.1, n_estimators=50, criterion=mae, max_depth=3)</td>\n",
       "      <td>2.030604731593559</td>\n",
       "    </tr>\n",
       "    <tr>\n",
       "      <th>16</th>\n",
       "      <td>Stacked Bagging/GradBoost/AdaBoost with LR</td>\n",
       "      <td>2.029453288343167</td>\n",
       "    </tr>\n",
       "    <tr>\n",
       "      <th>17</th>\n",
       "      <td>SVR (C=1.5, epsilon=0.8)</td>\n",
       "      <td>2.028952425632668</td>\n",
       "    </tr>\n",
       "    <tr>\n",
       "      <th>18</th>\n",
       "      <td>Stacked Bagging/SVR/AdaBoost with LR</td>\n",
       "      <td>2.032351016412158</td>\n",
       "    </tr>\n",
       "  </tbody>\n",
       "</table>\n",
       "</div>"
      ],
      "text/plain": [
       "                                                                                           Regressor  \\\n",
       "0                                                                                           LightGBM   \n",
       "1                                                                                                SVR   \n",
       "2                                                                                             LinSVR   \n",
       "3                                                                                            Elastic   \n",
       "4                                                                                              Lasso   \n",
       "5                                                                                            DecTree   \n",
       "6                                                                                         RndmForest   \n",
       "7                                                                                            Bagging   \n",
       "8                                                                                          GradBoost   \n",
       "9                                                                                           AdaBoost   \n",
       "10                                                                                           XGBoost   \n",
       "11  GradBoost (loss lad, learning_rate=0.01, n_estimators=1000, criterion=friedman_mse, max_depth=3)   \n",
       "12                          AdaBoost (base_estimator=GradBoost, learning_rate=0.01, n_estimators=50)   \n",
       "13                             Bagging (base_estimator=GradBoost, bootstrap=False, n_estimators=250)   \n",
       "14                                                        Stacked Bagging/GradBoost/AdaBoost with LR   \n",
       "15              GradBoost (loss lad, learning_rate=0.1, n_estimators=50, criterion=mae, max_depth=3)   \n",
       "16                                                        Stacked Bagging/GradBoost/AdaBoost with LR   \n",
       "17                                                                          SVR (C=1.5, epsilon=0.8)   \n",
       "18                                                              Stacked Bagging/SVR/AdaBoost with LR   \n",
       "\n",
       "                  MAE  \n",
       "0   2.074296161912692  \n",
       "1   2.046054044218325  \n",
       "2   2.141308130470632  \n",
       "3   2.279288416970476  \n",
       "4   2.373345046765726  \n",
       "5   2.947543543994625  \n",
       "6   2.133414621897705  \n",
       "7   2.058486877265501  \n",
       "8   2.055248444688900  \n",
       "9   2.093689973025512  \n",
       "10  2.054474358164319  \n",
       "11  2.044693495121336  \n",
       "12  2.028283973557017  \n",
       "13  2.031219686315360  \n",
       "14  2.034071506802301  \n",
       "15  2.030604731593559  \n",
       "16  2.029453288343167  \n",
       "17  2.028952425632668  \n",
       "18  2.032351016412158  "
      ]
     },
     "execution_count": 125,
     "metadata": {},
     "output_type": "execute_result"
    }
   ],
   "source": [
    "pd.options.display.max_colwidth = 200\n",
    "\n",
    "scores"
   ]
  },
  {
   "cell_type": "code",
   "execution_count": 114,
   "metadata": {},
   "outputs": [],
   "source": [
    "# SVR predictions\n",
    "\n",
    "SVR_preds = SVR.predict(scaled_test_X)"
   ]
  },
  {
   "cell_type": "code",
   "execution_count": 115,
   "metadata": {},
   "outputs": [],
   "source": [
    "# SVR submission\n",
    "\n",
    "submission = pd.read_csv('LANL-Earthquake-Prediction/sample_submission.csv', index_col='seg_id')\n",
    "submission.time_to_failure = SVR_preds\n",
    "submission.to_csv('SVR_submission.csv',index=True)"
   ]
  },
  {
   "cell_type": "code",
   "execution_count": 116,
   "metadata": {},
   "outputs": [],
   "source": [
    "# Stacked predictions for submission\n",
    "\n",
    "from sklearn.linear_model import LinearRegression\n",
    "\n",
    "stacked_lr_reg = linear_model.LinearRegression()\n",
    "stacked_lr_reg.fit(df_train, train_targets)\n",
    "stacked_lr_pred = stacked_lr_reg.predict(df_test)\n",
    "\n",
    "submission = pd.read_csv('LANL-Earthquake-Prediction/sample_submission.csv', index_col='seg_id')\n",
    "submission.time_to_failure = stacked_lr_pred\n",
    "submission.to_csv('stacked_submission(SVR).csv',index=True)"
   ]
  },
  {
   "cell_type": "markdown",
   "metadata": {},
   "source": [
    "### Outlook: hyperparameter optimization with Bayesian probabilities\n",
    "\n",
    "Further hyperparameter optimization can be tried with e.g. hyperopt or h2o on distributed systems, which are not available for this notebook.\n",
    "\n",
    "Hyperopt was not successful due to kernel dying, h2o not as there are no distributed systems in use for this code.\n",
    "\n",
    "Sources:\n",
    "- https://towardsdatascience.com/a-conceptual-explanation-of-bayesian-model-based-hyperparameter-optimization-for-machine-learning-b8172278050f\n",
    "- https://towardsdatascience.com/automated-machine-learning-hyperparameter-tuning-in-python-dfda59b72f8a\n",
    "- http://h2o-release.s3.amazonaws.com/h2o/master/3574/docs-website/h2o-py/docs/intro.html"
   ]
  }
 ],
 "metadata": {
  "kernelspec": {
   "display_name": "Python 3",
   "language": "python",
   "name": "python3"
  },
  "language_info": {
   "codemirror_mode": {
    "name": "ipython",
    "version": 3
   },
   "file_extension": ".py",
   "mimetype": "text/x-python",
   "name": "python",
   "nbconvert_exporter": "python",
   "pygments_lexer": "ipython3",
   "version": "3.6.8"
  }
 },
 "nbformat": 4,
 "nbformat_minor": 2
}
